{
 "cells": [
  {
   "cell_type": "markdown",
   "metadata": {},
   "source": [
    "### Problem Statement\n",
    "\n",
    "    Identify products at risk of backorder before the event occurs so that business has time to react."
   ]
  },
  {
   "cell_type": "markdown",
   "metadata": {},
   "source": [
    "### What is a Backorder?\n",
    "    Backorders are products that are temporarily out of stock, but a customer is permitted to place an order against future inventory. A backorder generally indicates that customer demand for a product or service exceeds a company’s capacity to supply it. Back orders are both good and bad. Strong demand can drive back orders, but so can suboptimal planning."
   ]
  },
  {
   "cell_type": "markdown",
   "metadata": {},
   "source": [
    "### Data\n",
    "\n",
    "Data file contains the historical data for the 8 weeks prior to the week we are trying to predict. The data was taken as weekly snapshots at the start of each week. Columns are defined as follows:\n",
    "\n",
    "    sku - Random ID for the product\n",
    "\n",
    "    national_inv - Current inventory level for the part\n",
    "\n",
    "    lead_time - Transit time for product (if available)\n",
    "\n",
    "    in_transit_qty - Amount of product in transit from source\n",
    "\n",
    "    forecast_3_month - Forecast sales for the next 3 months\n",
    "\n",
    "    forecast_6_month - Forecast sales for the next 6 months\n",
    "\n",
    "    forecast_9_month - Forecast sales for the next 9 months\n",
    "\n",
    "    sales_1_month - Sales quantity for the prior 1 month time period\n",
    "\n",
    "    sales_3_month - Sales quantity for the prior 3 month time period\n",
    "\n",
    "    sales_6_month - Sales quantity for the prior 6 month time period\n",
    "\n",
    "    sales_9_month - Sales quantity for the prior 9 month time period\n",
    "\n",
    "    min_bank - Minimum recommend amount to stock\n",
    "\n",
    "    potential_issue - Source issue for part identified\n",
    "\n",
    "    pieces_past_due - Parts overdue from source\n",
    "\n",
    "    perf_6_month_avg - Source performance for prior 6 month period\n",
    "\n",
    "    perf_12_month_avg - Source performance for prior 12 month period\n",
    "\n",
    "    local_bo_qty - Amount of stock orders overdue\n",
    "\n",
    "    deck_risk - Part risk flag\n",
    "\n",
    "    oe_constraint - Part risk flag\n",
    "\n",
    "    ppap_risk - Part risk flag\n",
    "\n",
    "    stop_auto_buy - Part risk flag\n",
    "\n",
    "    rev_stop - Part risk flag\n",
    "\n",
    "    went_on_backorder - Product actually went on backorder. This is the target value."
   ]
  },
  {
   "cell_type": "markdown",
   "metadata": {},
   "source": [
    "#### Identify Right Error Metrics\n",
    "\n",
    "    Based on the businees, identify right error metrics."
   ]
  },
  {
   "cell_type": "raw",
   "metadata": {},
   "source": [
    "Recall/TPR"
   ]
  },
  {
   "cell_type": "markdown",
   "metadata": {},
   "source": [
    "### Data Pre-processing\n",
    "#### Loading the required libraries"
   ]
  },
  {
   "cell_type": "code",
   "execution_count": 1,
   "metadata": {},
   "outputs": [],
   "source": [
    "import warnings\n",
    "warnings.filterwarnings(\"ignore\")"
   ]
  },
  {
   "cell_type": "code",
   "execution_count": 2,
   "metadata": {},
   "outputs": [],
   "source": [
    "import numpy as np\n",
    "import pandas as pd\n",
    "\n",
    "from sklearn.impute import SimpleImputer\n",
    "from sklearn.preprocessing import StandardScaler, OneHotEncoder\n",
    "from sklearn.model_selection import train_test_split\n",
    "\n",
    "from sklearn.metrics import accuracy_score,recall_score,precision_score,f1_score \n",
    "from sklearn.metrics import classification_report, confusion_matrix\n",
    "\n",
    "import tensorflow as tf\n",
    "\n",
    "import matplotlib.pyplot as plt\n",
    "%matplotlib inline  "
   ]
  },
  {
   "cell_type": "code",
   "execution_count": 3,
   "metadata": {},
   "outputs": [],
   "source": [
    "from tensorflow.keras import Sequential\n",
    "from tensorflow.keras.layers import Dense, Input\n",
    "from tensorflow.keras.callbacks import EarlyStopping, ModelCheckpoint\n",
    "\n",
    "from tensorflow.keras import backend as K"
   ]
  },
  {
   "cell_type": "code",
   "execution_count": 4,
   "metadata": {},
   "outputs": [
    {
     "data": {
      "text/plain": [
       "'2.1.0'"
      ]
     },
     "execution_count": 4,
     "metadata": {},
     "output_type": "execute_result"
    }
   ],
   "source": [
    "tf.__version__"
   ]
  },
  {
   "cell_type": "markdown",
   "metadata": {},
   "source": [
    "###### fix random seed for reproducibility\n",
    "\n",
    "    Generally, Keras gets its source of randomness from the NumPy random number generator.\n",
    "    \n",
    "    In addition, TensorFlow has its own random number generator that must also be seeded by calling the set_random_seed() function immediately after the NumPy random number generator, as follows:"
   ]
  },
  {
   "cell_type": "code",
   "execution_count": 5,
   "metadata": {},
   "outputs": [],
   "source": [
    "np.random.seed(123)\n",
    "\n",
    "tf.random.set_seed(123)"
   ]
  },
  {
   "cell_type": "markdown",
   "metadata": {},
   "source": [
    "#### Loading the data"
   ]
  },
  {
   "cell_type": "code",
   "execution_count": 6,
   "metadata": {
    "scrolled": true
   },
   "outputs": [],
   "source": [
    "data = pd.read_csv(\"/home/datasets/lab/Batch85/DeepLearning/MLP/BackOrders.csv\",header=0)"
   ]
  },
  {
   "cell_type": "markdown",
   "metadata": {},
   "source": [
    "#### Understand the Data"
   ]
  },
  {
   "cell_type": "markdown",
   "metadata": {},
   "source": [
    "See the number row and columns"
   ]
  },
  {
   "cell_type": "code",
   "execution_count": 7,
   "metadata": {},
   "outputs": [
    {
     "data": {
      "text/plain": [
       "(61589, 23)"
      ]
     },
     "execution_count": 7,
     "metadata": {},
     "output_type": "execute_result"
    }
   ],
   "source": [
    "data.shape"
   ]
  },
  {
   "cell_type": "markdown",
   "metadata": {},
   "source": [
    "Display the columns"
   ]
  },
  {
   "cell_type": "code",
   "execution_count": 8,
   "metadata": {},
   "outputs": [
    {
     "data": {
      "text/plain": [
       "Index(['sku', 'national_inv', 'lead_time', 'in_transit_qty',\n",
       "       'forecast_3_month', 'forecast_6_month', 'forecast_9_month',\n",
       "       'sales_1_month', 'sales_3_month', 'sales_6_month', 'sales_9_month',\n",
       "       'min_bank', 'potential_issue', 'pieces_past_due', 'perf_6_month_avg',\n",
       "       'perf_12_month_avg', 'local_bo_qty', 'deck_risk', 'oe_constraint',\n",
       "       'ppap_risk', 'stop_auto_buy', 'rev_stop', 'went_on_backorder'],\n",
       "      dtype='object')"
      ]
     },
     "execution_count": 8,
     "metadata": {},
     "output_type": "execute_result"
    }
   ],
   "source": [
    "data.columns"
   ]
  },
  {
   "cell_type": "markdown",
   "metadata": {},
   "source": [
    "__See the top rows of the data__"
   ]
  },
  {
   "cell_type": "code",
   "execution_count": 9,
   "metadata": {},
   "outputs": [
    {
     "data": {
      "text/html": [
       "<div>\n",
       "<style scoped>\n",
       "    .dataframe tbody tr th:only-of-type {\n",
       "        vertical-align: middle;\n",
       "    }\n",
       "\n",
       "    .dataframe tbody tr th {\n",
       "        vertical-align: top;\n",
       "    }\n",
       "\n",
       "    .dataframe thead th {\n",
       "        text-align: right;\n",
       "    }\n",
       "</style>\n",
       "<table border=\"1\" class=\"dataframe\">\n",
       "  <thead>\n",
       "    <tr style=\"text-align: right;\">\n",
       "      <th></th>\n",
       "      <th>sku</th>\n",
       "      <th>national_inv</th>\n",
       "      <th>lead_time</th>\n",
       "      <th>in_transit_qty</th>\n",
       "      <th>forecast_3_month</th>\n",
       "      <th>forecast_6_month</th>\n",
       "      <th>forecast_9_month</th>\n",
       "      <th>sales_1_month</th>\n",
       "      <th>sales_3_month</th>\n",
       "      <th>sales_6_month</th>\n",
       "      <th>...</th>\n",
       "      <th>pieces_past_due</th>\n",
       "      <th>perf_6_month_avg</th>\n",
       "      <th>perf_12_month_avg</th>\n",
       "      <th>local_bo_qty</th>\n",
       "      <th>deck_risk</th>\n",
       "      <th>oe_constraint</th>\n",
       "      <th>ppap_risk</th>\n",
       "      <th>stop_auto_buy</th>\n",
       "      <th>rev_stop</th>\n",
       "      <th>went_on_backorder</th>\n",
       "    </tr>\n",
       "  </thead>\n",
       "  <tbody>\n",
       "    <tr>\n",
       "      <th>0</th>\n",
       "      <td>1888279</td>\n",
       "      <td>117</td>\n",
       "      <td>NaN</td>\n",
       "      <td>0</td>\n",
       "      <td>0</td>\n",
       "      <td>0</td>\n",
       "      <td>0</td>\n",
       "      <td>0</td>\n",
       "      <td>0</td>\n",
       "      <td>15</td>\n",
       "      <td>...</td>\n",
       "      <td>0</td>\n",
       "      <td>-99.00</td>\n",
       "      <td>-99.00</td>\n",
       "      <td>0</td>\n",
       "      <td>No</td>\n",
       "      <td>No</td>\n",
       "      <td>Yes</td>\n",
       "      <td>Yes</td>\n",
       "      <td>No</td>\n",
       "      <td>No</td>\n",
       "    </tr>\n",
       "    <tr>\n",
       "      <th>1</th>\n",
       "      <td>1870557</td>\n",
       "      <td>7</td>\n",
       "      <td>2.0</td>\n",
       "      <td>0</td>\n",
       "      <td>0</td>\n",
       "      <td>0</td>\n",
       "      <td>0</td>\n",
       "      <td>0</td>\n",
       "      <td>0</td>\n",
       "      <td>0</td>\n",
       "      <td>...</td>\n",
       "      <td>0</td>\n",
       "      <td>0.50</td>\n",
       "      <td>0.28</td>\n",
       "      <td>0</td>\n",
       "      <td>Yes</td>\n",
       "      <td>No</td>\n",
       "      <td>No</td>\n",
       "      <td>Yes</td>\n",
       "      <td>No</td>\n",
       "      <td>No</td>\n",
       "    </tr>\n",
       "    <tr>\n",
       "      <th>2</th>\n",
       "      <td>1475481</td>\n",
       "      <td>258</td>\n",
       "      <td>15.0</td>\n",
       "      <td>10</td>\n",
       "      <td>10</td>\n",
       "      <td>77</td>\n",
       "      <td>184</td>\n",
       "      <td>46</td>\n",
       "      <td>132</td>\n",
       "      <td>256</td>\n",
       "      <td>...</td>\n",
       "      <td>0</td>\n",
       "      <td>0.54</td>\n",
       "      <td>0.70</td>\n",
       "      <td>0</td>\n",
       "      <td>No</td>\n",
       "      <td>No</td>\n",
       "      <td>No</td>\n",
       "      <td>Yes</td>\n",
       "      <td>No</td>\n",
       "      <td>No</td>\n",
       "    </tr>\n",
       "    <tr>\n",
       "      <th>3</th>\n",
       "      <td>1758220</td>\n",
       "      <td>46</td>\n",
       "      <td>2.0</td>\n",
       "      <td>0</td>\n",
       "      <td>0</td>\n",
       "      <td>0</td>\n",
       "      <td>0</td>\n",
       "      <td>1</td>\n",
       "      <td>2</td>\n",
       "      <td>6</td>\n",
       "      <td>...</td>\n",
       "      <td>0</td>\n",
       "      <td>0.75</td>\n",
       "      <td>0.90</td>\n",
       "      <td>0</td>\n",
       "      <td>Yes</td>\n",
       "      <td>No</td>\n",
       "      <td>No</td>\n",
       "      <td>Yes</td>\n",
       "      <td>No</td>\n",
       "      <td>No</td>\n",
       "    </tr>\n",
       "    <tr>\n",
       "      <th>4</th>\n",
       "      <td>1360312</td>\n",
       "      <td>2</td>\n",
       "      <td>2.0</td>\n",
       "      <td>0</td>\n",
       "      <td>4</td>\n",
       "      <td>6</td>\n",
       "      <td>10</td>\n",
       "      <td>2</td>\n",
       "      <td>2</td>\n",
       "      <td>5</td>\n",
       "      <td>...</td>\n",
       "      <td>0</td>\n",
       "      <td>0.97</td>\n",
       "      <td>0.92</td>\n",
       "      <td>0</td>\n",
       "      <td>No</td>\n",
       "      <td>No</td>\n",
       "      <td>No</td>\n",
       "      <td>Yes</td>\n",
       "      <td>No</td>\n",
       "      <td>No</td>\n",
       "    </tr>\n",
       "  </tbody>\n",
       "</table>\n",
       "<p>5 rows × 23 columns</p>\n",
       "</div>"
      ],
      "text/plain": [
       "       sku  national_inv  lead_time  in_transit_qty  forecast_3_month  \\\n",
       "0  1888279           117        NaN               0                 0   \n",
       "1  1870557             7        2.0               0                 0   \n",
       "2  1475481           258       15.0              10                10   \n",
       "3  1758220            46        2.0               0                 0   \n",
       "4  1360312             2        2.0               0                 4   \n",
       "\n",
       "   forecast_6_month  forecast_9_month  sales_1_month  sales_3_month  \\\n",
       "0                 0                 0              0              0   \n",
       "1                 0                 0              0              0   \n",
       "2                77               184             46            132   \n",
       "3                 0                 0              1              2   \n",
       "4                 6                10              2              2   \n",
       "\n",
       "   sales_6_month  ...  pieces_past_due  perf_6_month_avg perf_12_month_avg  \\\n",
       "0             15  ...                0            -99.00            -99.00   \n",
       "1              0  ...                0              0.50              0.28   \n",
       "2            256  ...                0              0.54              0.70   \n",
       "3              6  ...                0              0.75              0.90   \n",
       "4              5  ...                0              0.97              0.92   \n",
       "\n",
       "   local_bo_qty  deck_risk  oe_constraint  ppap_risk stop_auto_buy rev_stop  \\\n",
       "0             0         No             No        Yes           Yes       No   \n",
       "1             0        Yes             No         No           Yes       No   \n",
       "2             0         No             No         No           Yes       No   \n",
       "3             0        Yes             No         No           Yes       No   \n",
       "4             0         No             No         No           Yes       No   \n",
       "\n",
       "  went_on_backorder  \n",
       "0                No  \n",
       "1                No  \n",
       "2                No  \n",
       "3                No  \n",
       "4                No  \n",
       "\n",
       "[5 rows x 23 columns]"
      ]
     },
     "execution_count": 9,
     "metadata": {},
     "output_type": "execute_result"
    }
   ],
   "source": [
    "data.head()"
   ]
  },
  {
   "cell_type": "markdown",
   "metadata": {},
   "source": [
    "__Shows a quick statistic summary of your data using describe__"
   ]
  },
  {
   "cell_type": "code",
   "execution_count": 10,
   "metadata": {
    "scrolled": true
   },
   "outputs": [
    {
     "data": {
      "text/html": [
       "<div>\n",
       "<style scoped>\n",
       "    .dataframe tbody tr th:only-of-type {\n",
       "        vertical-align: middle;\n",
       "    }\n",
       "\n",
       "    .dataframe tbody tr th {\n",
       "        vertical-align: top;\n",
       "    }\n",
       "\n",
       "    .dataframe thead th {\n",
       "        text-align: right;\n",
       "    }\n",
       "</style>\n",
       "<table border=\"1\" class=\"dataframe\">\n",
       "  <thead>\n",
       "    <tr style=\"text-align: right;\">\n",
       "      <th></th>\n",
       "      <th>sku</th>\n",
       "      <th>national_inv</th>\n",
       "      <th>lead_time</th>\n",
       "      <th>in_transit_qty</th>\n",
       "      <th>forecast_3_month</th>\n",
       "      <th>forecast_6_month</th>\n",
       "      <th>forecast_9_month</th>\n",
       "      <th>sales_1_month</th>\n",
       "      <th>sales_3_month</th>\n",
       "      <th>sales_6_month</th>\n",
       "      <th>...</th>\n",
       "      <th>pieces_past_due</th>\n",
       "      <th>perf_6_month_avg</th>\n",
       "      <th>perf_12_month_avg</th>\n",
       "      <th>local_bo_qty</th>\n",
       "      <th>deck_risk</th>\n",
       "      <th>oe_constraint</th>\n",
       "      <th>ppap_risk</th>\n",
       "      <th>stop_auto_buy</th>\n",
       "      <th>rev_stop</th>\n",
       "      <th>went_on_backorder</th>\n",
       "    </tr>\n",
       "  </thead>\n",
       "  <tbody>\n",
       "    <tr>\n",
       "      <th>count</th>\n",
       "      <td>6.158900e+04</td>\n",
       "      <td>61589.000000</td>\n",
       "      <td>58186.000000</td>\n",
       "      <td>61589.000000</td>\n",
       "      <td>6.158900e+04</td>\n",
       "      <td>6.158900e+04</td>\n",
       "      <td>6.158900e+04</td>\n",
       "      <td>61589.000000</td>\n",
       "      <td>61589.000000</td>\n",
       "      <td>6.158900e+04</td>\n",
       "      <td>...</td>\n",
       "      <td>61589.000000</td>\n",
       "      <td>61589.000000</td>\n",
       "      <td>61589.000000</td>\n",
       "      <td>61589.000000</td>\n",
       "      <td>61589</td>\n",
       "      <td>61589</td>\n",
       "      <td>61589</td>\n",
       "      <td>61589</td>\n",
       "      <td>61589</td>\n",
       "      <td>61589</td>\n",
       "    </tr>\n",
       "    <tr>\n",
       "      <th>unique</th>\n",
       "      <td>NaN</td>\n",
       "      <td>NaN</td>\n",
       "      <td>NaN</td>\n",
       "      <td>NaN</td>\n",
       "      <td>NaN</td>\n",
       "      <td>NaN</td>\n",
       "      <td>NaN</td>\n",
       "      <td>NaN</td>\n",
       "      <td>NaN</td>\n",
       "      <td>NaN</td>\n",
       "      <td>...</td>\n",
       "      <td>NaN</td>\n",
       "      <td>NaN</td>\n",
       "      <td>NaN</td>\n",
       "      <td>NaN</td>\n",
       "      <td>2</td>\n",
       "      <td>2</td>\n",
       "      <td>2</td>\n",
       "      <td>2</td>\n",
       "      <td>2</td>\n",
       "      <td>2</td>\n",
       "    </tr>\n",
       "    <tr>\n",
       "      <th>top</th>\n",
       "      <td>NaN</td>\n",
       "      <td>NaN</td>\n",
       "      <td>NaN</td>\n",
       "      <td>NaN</td>\n",
       "      <td>NaN</td>\n",
       "      <td>NaN</td>\n",
       "      <td>NaN</td>\n",
       "      <td>NaN</td>\n",
       "      <td>NaN</td>\n",
       "      <td>NaN</td>\n",
       "      <td>...</td>\n",
       "      <td>NaN</td>\n",
       "      <td>NaN</td>\n",
       "      <td>NaN</td>\n",
       "      <td>NaN</td>\n",
       "      <td>No</td>\n",
       "      <td>No</td>\n",
       "      <td>No</td>\n",
       "      <td>Yes</td>\n",
       "      <td>No</td>\n",
       "      <td>No</td>\n",
       "    </tr>\n",
       "    <tr>\n",
       "      <th>freq</th>\n",
       "      <td>NaN</td>\n",
       "      <td>NaN</td>\n",
       "      <td>NaN</td>\n",
       "      <td>NaN</td>\n",
       "      <td>NaN</td>\n",
       "      <td>NaN</td>\n",
       "      <td>NaN</td>\n",
       "      <td>NaN</td>\n",
       "      <td>NaN</td>\n",
       "      <td>NaN</td>\n",
       "      <td>...</td>\n",
       "      <td>NaN</td>\n",
       "      <td>NaN</td>\n",
       "      <td>NaN</td>\n",
       "      <td>NaN</td>\n",
       "      <td>48145</td>\n",
       "      <td>61577</td>\n",
       "      <td>53792</td>\n",
       "      <td>59303</td>\n",
       "      <td>61569</td>\n",
       "      <td>50296</td>\n",
       "    </tr>\n",
       "    <tr>\n",
       "      <th>mean</th>\n",
       "      <td>2.037188e+06</td>\n",
       "      <td>287.721882</td>\n",
       "      <td>7.559619</td>\n",
       "      <td>30.192843</td>\n",
       "      <td>1.692728e+02</td>\n",
       "      <td>3.150413e+02</td>\n",
       "      <td>4.535760e+02</td>\n",
       "      <td>44.742957</td>\n",
       "      <td>150.732631</td>\n",
       "      <td>2.835465e+02</td>\n",
       "      <td>...</td>\n",
       "      <td>1.605400</td>\n",
       "      <td>-6.264182</td>\n",
       "      <td>-5.863664</td>\n",
       "      <td>1.205361</td>\n",
       "      <td>NaN</td>\n",
       "      <td>NaN</td>\n",
       "      <td>NaN</td>\n",
       "      <td>NaN</td>\n",
       "      <td>NaN</td>\n",
       "      <td>NaN</td>\n",
       "    </tr>\n",
       "    <tr>\n",
       "      <th>std</th>\n",
       "      <td>6.564178e+05</td>\n",
       "      <td>4233.906931</td>\n",
       "      <td>6.498952</td>\n",
       "      <td>792.869253</td>\n",
       "      <td>5.286742e+03</td>\n",
       "      <td>9.774362e+03</td>\n",
       "      <td>1.420201e+04</td>\n",
       "      <td>1373.805831</td>\n",
       "      <td>5224.959649</td>\n",
       "      <td>8.872270e+03</td>\n",
       "      <td>...</td>\n",
       "      <td>42.309229</td>\n",
       "      <td>25.537906</td>\n",
       "      <td>24.844514</td>\n",
       "      <td>29.981155</td>\n",
       "      <td>NaN</td>\n",
       "      <td>NaN</td>\n",
       "      <td>NaN</td>\n",
       "      <td>NaN</td>\n",
       "      <td>NaN</td>\n",
       "      <td>NaN</td>\n",
       "    </tr>\n",
       "    <tr>\n",
       "      <th>min</th>\n",
       "      <td>1.068628e+06</td>\n",
       "      <td>-2999.000000</td>\n",
       "      <td>0.000000</td>\n",
       "      <td>0.000000</td>\n",
       "      <td>0.000000e+00</td>\n",
       "      <td>0.000000e+00</td>\n",
       "      <td>0.000000e+00</td>\n",
       "      <td>0.000000</td>\n",
       "      <td>0.000000</td>\n",
       "      <td>0.000000e+00</td>\n",
       "      <td>...</td>\n",
       "      <td>0.000000</td>\n",
       "      <td>-99.000000</td>\n",
       "      <td>-99.000000</td>\n",
       "      <td>0.000000</td>\n",
       "      <td>NaN</td>\n",
       "      <td>NaN</td>\n",
       "      <td>NaN</td>\n",
       "      <td>NaN</td>\n",
       "      <td>NaN</td>\n",
       "      <td>NaN</td>\n",
       "    </tr>\n",
       "    <tr>\n",
       "      <th>25%</th>\n",
       "      <td>1.498574e+06</td>\n",
       "      <td>3.000000</td>\n",
       "      <td>4.000000</td>\n",
       "      <td>0.000000</td>\n",
       "      <td>0.000000e+00</td>\n",
       "      <td>0.000000e+00</td>\n",
       "      <td>0.000000e+00</td>\n",
       "      <td>0.000000</td>\n",
       "      <td>0.000000</td>\n",
       "      <td>0.000000e+00</td>\n",
       "      <td>...</td>\n",
       "      <td>0.000000</td>\n",
       "      <td>0.620000</td>\n",
       "      <td>0.640000</td>\n",
       "      <td>0.000000</td>\n",
       "      <td>NaN</td>\n",
       "      <td>NaN</td>\n",
       "      <td>NaN</td>\n",
       "      <td>NaN</td>\n",
       "      <td>NaN</td>\n",
       "      <td>NaN</td>\n",
       "    </tr>\n",
       "    <tr>\n",
       "      <th>50%</th>\n",
       "      <td>1.898033e+06</td>\n",
       "      <td>10.000000</td>\n",
       "      <td>8.000000</td>\n",
       "      <td>0.000000</td>\n",
       "      <td>0.000000e+00</td>\n",
       "      <td>0.000000e+00</td>\n",
       "      <td>0.000000e+00</td>\n",
       "      <td>0.000000</td>\n",
       "      <td>2.000000</td>\n",
       "      <td>4.000000e+00</td>\n",
       "      <td>...</td>\n",
       "      <td>0.000000</td>\n",
       "      <td>0.820000</td>\n",
       "      <td>0.800000</td>\n",
       "      <td>0.000000</td>\n",
       "      <td>NaN</td>\n",
       "      <td>NaN</td>\n",
       "      <td>NaN</td>\n",
       "      <td>NaN</td>\n",
       "      <td>NaN</td>\n",
       "      <td>NaN</td>\n",
       "    </tr>\n",
       "    <tr>\n",
       "      <th>75%</th>\n",
       "      <td>2.314826e+06</td>\n",
       "      <td>57.000000</td>\n",
       "      <td>8.000000</td>\n",
       "      <td>0.000000</td>\n",
       "      <td>1.200000e+01</td>\n",
       "      <td>2.500000e+01</td>\n",
       "      <td>3.600000e+01</td>\n",
       "      <td>6.000000</td>\n",
       "      <td>17.000000</td>\n",
       "      <td>3.400000e+01</td>\n",
       "      <td>...</td>\n",
       "      <td>0.000000</td>\n",
       "      <td>0.960000</td>\n",
       "      <td>0.950000</td>\n",
       "      <td>0.000000</td>\n",
       "      <td>NaN</td>\n",
       "      <td>NaN</td>\n",
       "      <td>NaN</td>\n",
       "      <td>NaN</td>\n",
       "      <td>NaN</td>\n",
       "      <td>NaN</td>\n",
       "    </tr>\n",
       "    <tr>\n",
       "      <th>max</th>\n",
       "      <td>3.284895e+06</td>\n",
       "      <td>673445.000000</td>\n",
       "      <td>52.000000</td>\n",
       "      <td>170976.000000</td>\n",
       "      <td>1.126656e+06</td>\n",
       "      <td>2.094336e+06</td>\n",
       "      <td>3.062016e+06</td>\n",
       "      <td>295197.000000</td>\n",
       "      <td>934593.000000</td>\n",
       "      <td>1.799099e+06</td>\n",
       "      <td>...</td>\n",
       "      <td>7392.000000</td>\n",
       "      <td>1.000000</td>\n",
       "      <td>1.000000</td>\n",
       "      <td>2999.000000</td>\n",
       "      <td>NaN</td>\n",
       "      <td>NaN</td>\n",
       "      <td>NaN</td>\n",
       "      <td>NaN</td>\n",
       "      <td>NaN</td>\n",
       "      <td>NaN</td>\n",
       "    </tr>\n",
       "  </tbody>\n",
       "</table>\n",
       "<p>11 rows × 23 columns</p>\n",
       "</div>"
      ],
      "text/plain": [
       "                 sku   national_inv     lead_time  in_transit_qty  \\\n",
       "count   6.158900e+04   61589.000000  58186.000000    61589.000000   \n",
       "unique           NaN            NaN           NaN             NaN   \n",
       "top              NaN            NaN           NaN             NaN   \n",
       "freq             NaN            NaN           NaN             NaN   \n",
       "mean    2.037188e+06     287.721882      7.559619       30.192843   \n",
       "std     6.564178e+05    4233.906931      6.498952      792.869253   \n",
       "min     1.068628e+06   -2999.000000      0.000000        0.000000   \n",
       "25%     1.498574e+06       3.000000      4.000000        0.000000   \n",
       "50%     1.898033e+06      10.000000      8.000000        0.000000   \n",
       "75%     2.314826e+06      57.000000      8.000000        0.000000   \n",
       "max     3.284895e+06  673445.000000     52.000000   170976.000000   \n",
       "\n",
       "        forecast_3_month  forecast_6_month  forecast_9_month  sales_1_month  \\\n",
       "count       6.158900e+04      6.158900e+04      6.158900e+04   61589.000000   \n",
       "unique               NaN               NaN               NaN            NaN   \n",
       "top                  NaN               NaN               NaN            NaN   \n",
       "freq                 NaN               NaN               NaN            NaN   \n",
       "mean        1.692728e+02      3.150413e+02      4.535760e+02      44.742957   \n",
       "std         5.286742e+03      9.774362e+03      1.420201e+04    1373.805831   \n",
       "min         0.000000e+00      0.000000e+00      0.000000e+00       0.000000   \n",
       "25%         0.000000e+00      0.000000e+00      0.000000e+00       0.000000   \n",
       "50%         0.000000e+00      0.000000e+00      0.000000e+00       0.000000   \n",
       "75%         1.200000e+01      2.500000e+01      3.600000e+01       6.000000   \n",
       "max         1.126656e+06      2.094336e+06      3.062016e+06  295197.000000   \n",
       "\n",
       "        sales_3_month  sales_6_month  ...  pieces_past_due  perf_6_month_avg  \\\n",
       "count    61589.000000   6.158900e+04  ...     61589.000000      61589.000000   \n",
       "unique            NaN            NaN  ...              NaN               NaN   \n",
       "top               NaN            NaN  ...              NaN               NaN   \n",
       "freq              NaN            NaN  ...              NaN               NaN   \n",
       "mean       150.732631   2.835465e+02  ...         1.605400         -6.264182   \n",
       "std       5224.959649   8.872270e+03  ...        42.309229         25.537906   \n",
       "min          0.000000   0.000000e+00  ...         0.000000        -99.000000   \n",
       "25%          0.000000   0.000000e+00  ...         0.000000          0.620000   \n",
       "50%          2.000000   4.000000e+00  ...         0.000000          0.820000   \n",
       "75%         17.000000   3.400000e+01  ...         0.000000          0.960000   \n",
       "max     934593.000000   1.799099e+06  ...      7392.000000          1.000000   \n",
       "\n",
       "       perf_12_month_avg  local_bo_qty  deck_risk  oe_constraint  ppap_risk  \\\n",
       "count       61589.000000  61589.000000      61589          61589      61589   \n",
       "unique               NaN           NaN          2              2          2   \n",
       "top                  NaN           NaN         No             No         No   \n",
       "freq                 NaN           NaN      48145          61577      53792   \n",
       "mean           -5.863664      1.205361        NaN            NaN        NaN   \n",
       "std            24.844514     29.981155        NaN            NaN        NaN   \n",
       "min           -99.000000      0.000000        NaN            NaN        NaN   \n",
       "25%             0.640000      0.000000        NaN            NaN        NaN   \n",
       "50%             0.800000      0.000000        NaN            NaN        NaN   \n",
       "75%             0.950000      0.000000        NaN            NaN        NaN   \n",
       "max             1.000000   2999.000000        NaN            NaN        NaN   \n",
       "\n",
       "       stop_auto_buy rev_stop went_on_backorder  \n",
       "count          61589    61589             61589  \n",
       "unique             2        2                 2  \n",
       "top              Yes       No                No  \n",
       "freq           59303    61569             50296  \n",
       "mean             NaN      NaN               NaN  \n",
       "std              NaN      NaN               NaN  \n",
       "min              NaN      NaN               NaN  \n",
       "25%              NaN      NaN               NaN  \n",
       "50%              NaN      NaN               NaN  \n",
       "75%              NaN      NaN               NaN  \n",
       "max              NaN      NaN               NaN  \n",
       "\n",
       "[11 rows x 23 columns]"
      ]
     },
     "execution_count": 10,
     "metadata": {},
     "output_type": "execute_result"
    }
   ],
   "source": [
    "data.describe(include='all')"
   ]
  },
  {
   "cell_type": "markdown",
   "metadata": {},
   "source": [
    "__Display data type of each variable__"
   ]
  },
  {
   "cell_type": "code",
   "execution_count": 11,
   "metadata": {},
   "outputs": [
    {
     "data": {
      "text/plain": [
       "sku                    int64\n",
       "national_inv           int64\n",
       "lead_time            float64\n",
       "in_transit_qty         int64\n",
       "forecast_3_month       int64\n",
       "forecast_6_month       int64\n",
       "forecast_9_month       int64\n",
       "sales_1_month          int64\n",
       "sales_3_month          int64\n",
       "sales_6_month          int64\n",
       "sales_9_month          int64\n",
       "min_bank               int64\n",
       "potential_issue       object\n",
       "pieces_past_due        int64\n",
       "perf_6_month_avg     float64\n",
       "perf_12_month_avg    float64\n",
       "local_bo_qty           int64\n",
       "deck_risk             object\n",
       "oe_constraint         object\n",
       "ppap_risk             object\n",
       "stop_auto_buy         object\n",
       "rev_stop              object\n",
       "went_on_backorder     object\n",
       "dtype: object"
      ]
     },
     "execution_count": 11,
     "metadata": {},
     "output_type": "execute_result"
    }
   ],
   "source": [
    "data.dtypes"
   ]
  },
  {
   "cell_type": "markdown",
   "metadata": {},
   "source": [
    "#### Observations\n",
    "\n",
    "    sku is Categorical but is interpreted as int64 \n",
    "\n",
    "    potential_issue, deck_risk, oe_constraint, ppap_risk, stop_auto_buy, rev_stop, and went_on_backorder are categorical but is interpreted as object. "
   ]
  },
  {
   "cell_type": "markdown",
   "metadata": {},
   "source": [
    "#### Convert all the attributes to appropriate type"
   ]
  },
  {
   "cell_type": "markdown",
   "metadata": {},
   "source": [
    "Data type conversion\n",
    "\n",
    "    Using astype('category') to convert potential_issue, deck_risk, oe_constraint, ppap_risk, stop_auto_buy, rev_stop, and went_on_backorder attributes to categorical attributes.\n"
   ]
  },
  {
   "cell_type": "code",
   "execution_count": 12,
   "metadata": {},
   "outputs": [],
   "source": [
    "for col in ['sku', 'potential_issue', 'deck_risk', 'oe_constraint', 'ppap_risk', 'stop_auto_buy', 'rev_stop', 'went_on_backorder']:\n",
    "    data[col] = data[col].astype('category')"
   ]
  },
  {
   "cell_type": "markdown",
   "metadata": {},
   "source": [
    "Display data type of each variable"
   ]
  },
  {
   "cell_type": "code",
   "execution_count": 13,
   "metadata": {},
   "outputs": [
    {
     "data": {
      "text/plain": [
       "sku                  category\n",
       "national_inv            int64\n",
       "lead_time             float64\n",
       "in_transit_qty          int64\n",
       "forecast_3_month        int64\n",
       "forecast_6_month        int64\n",
       "forecast_9_month        int64\n",
       "sales_1_month           int64\n",
       "sales_3_month           int64\n",
       "sales_6_month           int64\n",
       "sales_9_month           int64\n",
       "min_bank                int64\n",
       "potential_issue      category\n",
       "pieces_past_due         int64\n",
       "perf_6_month_avg      float64\n",
       "perf_12_month_avg     float64\n",
       "local_bo_qty            int64\n",
       "deck_risk            category\n",
       "oe_constraint        category\n",
       "ppap_risk            category\n",
       "stop_auto_buy        category\n",
       "rev_stop             category\n",
       "went_on_backorder    category\n",
       "dtype: object"
      ]
     },
     "execution_count": 13,
     "metadata": {},
     "output_type": "execute_result"
    }
   ],
   "source": [
    "data.dtypes"
   ]
  },
  {
   "cell_type": "markdown",
   "metadata": {},
   "source": [
    "##### Delete sku attribute"
   ]
  },
  {
   "cell_type": "code",
   "execution_count": 14,
   "metadata": {},
   "outputs": [
    {
     "data": {
      "text/plain": [
       "61589"
      ]
     },
     "execution_count": 14,
     "metadata": {},
     "output_type": "execute_result"
    }
   ],
   "source": [
    "np.size(np.unique(data.sku))"
   ]
  },
  {
   "cell_type": "code",
   "execution_count": 15,
   "metadata": {},
   "outputs": [],
   "source": [
    "data.drop('sku', axis=1, inplace=True)"
   ]
  },
  {
   "cell_type": "markdown",
   "metadata": {},
   "source": [
    "#### Missing Data"
   ]
  },
  {
   "cell_type": "code",
   "execution_count": 16,
   "metadata": {},
   "outputs": [
    {
     "data": {
      "text/plain": [
       "national_inv            0\n",
       "lead_time            3403\n",
       "in_transit_qty          0\n",
       "forecast_3_month        0\n",
       "forecast_6_month        0\n",
       "forecast_9_month        0\n",
       "sales_1_month           0\n",
       "sales_3_month           0\n",
       "sales_6_month           0\n",
       "sales_9_month           0\n",
       "min_bank                0\n",
       "potential_issue         0\n",
       "pieces_past_due         0\n",
       "perf_6_month_avg        0\n",
       "perf_12_month_avg       0\n",
       "local_bo_qty            0\n",
       "deck_risk               0\n",
       "oe_constraint           0\n",
       "ppap_risk               0\n",
       "stop_auto_buy           0\n",
       "rev_stop                0\n",
       "went_on_backorder       0\n",
       "dtype: int64"
      ]
     },
     "execution_count": 16,
     "metadata": {},
     "output_type": "execute_result"
    }
   ],
   "source": [
    "data.isnull().sum()"
   ]
  },
  {
   "cell_type": "markdown",
   "metadata": {},
   "source": [
    "### Preparing Data for Model building"
   ]
  },
  {
   "cell_type": "code",
   "execution_count": 17,
   "metadata": {},
   "outputs": [
    {
     "data": {
      "text/plain": [
       "0    50296\n",
       "1    11293\n",
       "Name: went_on_backorder, dtype: int64"
      ]
     },
     "execution_count": 17,
     "metadata": {},
     "output_type": "execute_result"
    }
   ],
   "source": [
    "data['went_on_backorder'] = data['went_on_backorder'].replace(to_replace=['No', 'Yes'], value=[0, 1])\n",
    "data['went_on_backorder'].value_counts()"
   ]
  },
  {
   "cell_type": "code",
   "execution_count": 18,
   "metadata": {},
   "outputs": [],
   "source": [
    "X, y = data.loc[:,data.columns!='went_on_backorder'], data.loc[:,'went_on_backorder']\n",
    "\n",
    "X_train, X_val, y_train, y_val = train_test_split(X, y, test_size=0.3, random_state=123, stratify = y)"
   ]
  },
  {
   "cell_type": "code",
   "execution_count": 19,
   "metadata": {},
   "outputs": [
    {
     "name": "stdout",
     "output_type": "stream",
     "text": [
      "(43112, 21)\n",
      "(43112,)\n",
      "(18477, 21)\n",
      "(18477,)\n"
     ]
    }
   ],
   "source": [
    "print(X_train.shape)\n",
    "print(y_train.shape)\n",
    "print(X_val.shape)\n",
    "print(y_val.shape)"
   ]
  },
  {
   "cell_type": "code",
   "execution_count": 20,
   "metadata": {},
   "outputs": [
    {
     "data": {
      "text/plain": [
       "national_inv            int64\n",
       "lead_time             float64\n",
       "in_transit_qty          int64\n",
       "forecast_3_month        int64\n",
       "forecast_6_month        int64\n",
       "forecast_9_month        int64\n",
       "sales_1_month           int64\n",
       "sales_3_month           int64\n",
       "sales_6_month           int64\n",
       "sales_9_month           int64\n",
       "min_bank                int64\n",
       "potential_issue      category\n",
       "pieces_past_due         int64\n",
       "perf_6_month_avg      float64\n",
       "perf_12_month_avg     float64\n",
       "local_bo_qty            int64\n",
       "deck_risk            category\n",
       "oe_constraint        category\n",
       "ppap_risk            category\n",
       "stop_auto_buy        category\n",
       "rev_stop             category\n",
       "dtype: object"
      ]
     },
     "execution_count": 20,
     "metadata": {},
     "output_type": "execute_result"
    }
   ],
   "source": [
    "X_train.dtypes"
   ]
  },
  {
   "cell_type": "code",
   "execution_count": 21,
   "metadata": {},
   "outputs": [],
   "source": [
    "cat_attr = list(X_train.select_dtypes(include=['category']).columns)\n",
    "num_attr = list(X_train.select_dtypes(include=['number']).columns)"
   ]
  },
  {
   "cell_type": "code",
   "execution_count": 22,
   "metadata": {},
   "outputs": [
    {
     "name": "stdout",
     "output_type": "stream",
     "text": [
      "['potential_issue', 'deck_risk', 'oe_constraint', 'ppap_risk', 'stop_auto_buy', 'rev_stop']\n",
      "['national_inv', 'lead_time', 'in_transit_qty', 'forecast_3_month', 'forecast_6_month', 'forecast_9_month', 'sales_1_month', 'sales_3_month', 'sales_6_month', 'sales_9_month', 'min_bank', 'pieces_past_due', 'perf_6_month_avg', 'perf_12_month_avg', 'local_bo_qty']\n"
     ]
    }
   ],
   "source": [
    "print(cat_attr)\n",
    "print(num_attr)"
   ]
  },
  {
   "cell_type": "markdown",
   "metadata": {},
   "source": [
    "#### Handling Numerical Columns\n",
    "\n",
    "##### Imputation"
   ]
  },
  {
   "cell_type": "code",
   "execution_count": 23,
   "metadata": {},
   "outputs": [],
   "source": [
    "imputer = SimpleImputer(strategy='median')\n",
    "imputer = imputer.fit(X_train[num_attr])\n",
    "\n",
    "X_train[num_attr] = imputer.transform(X_train[num_attr])\n",
    "X_val[num_attr] = imputer.transform(X_val[num_attr])"
   ]
  },
  {
   "cell_type": "code",
   "execution_count": 24,
   "metadata": {},
   "outputs": [
    {
     "data": {
      "text/plain": [
       "national_inv         0\n",
       "lead_time            0\n",
       "in_transit_qty       0\n",
       "forecast_3_month     0\n",
       "forecast_6_month     0\n",
       "forecast_9_month     0\n",
       "sales_1_month        0\n",
       "sales_3_month        0\n",
       "sales_6_month        0\n",
       "sales_9_month        0\n",
       "min_bank             0\n",
       "potential_issue      0\n",
       "pieces_past_due      0\n",
       "perf_6_month_avg     0\n",
       "perf_12_month_avg    0\n",
       "local_bo_qty         0\n",
       "deck_risk            0\n",
       "oe_constraint        0\n",
       "ppap_risk            0\n",
       "stop_auto_buy        0\n",
       "rev_stop             0\n",
       "dtype: int64"
      ]
     },
     "execution_count": 24,
     "metadata": {},
     "output_type": "execute_result"
    }
   ],
   "source": [
    "X_train.isnull().sum()"
   ]
  },
  {
   "cell_type": "code",
   "execution_count": 25,
   "metadata": {},
   "outputs": [
    {
     "data": {
      "text/plain": [
       "national_inv         0\n",
       "lead_time            0\n",
       "in_transit_qty       0\n",
       "forecast_3_month     0\n",
       "forecast_6_month     0\n",
       "forecast_9_month     0\n",
       "sales_1_month        0\n",
       "sales_3_month        0\n",
       "sales_6_month        0\n",
       "sales_9_month        0\n",
       "min_bank             0\n",
       "potential_issue      0\n",
       "pieces_past_due      0\n",
       "perf_6_month_avg     0\n",
       "perf_12_month_avg    0\n",
       "local_bo_qty         0\n",
       "deck_risk            0\n",
       "oe_constraint        0\n",
       "ppap_risk            0\n",
       "stop_auto_buy        0\n",
       "rev_stop             0\n",
       "dtype: int64"
      ]
     },
     "execution_count": 25,
     "metadata": {},
     "output_type": "execute_result"
    }
   ],
   "source": [
    "X_val.isnull().sum()"
   ]
  },
  {
   "cell_type": "markdown",
   "metadata": {
    "collapsed": true
   },
   "source": [
    "##### Standardize the data \n"
   ]
  },
  {
   "cell_type": "code",
   "execution_count": 26,
   "metadata": {},
   "outputs": [
    {
     "data": {
      "text/plain": [
       "StandardScaler()"
      ]
     },
     "execution_count": 26,
     "metadata": {},
     "output_type": "execute_result"
    }
   ],
   "source": [
    "scaler = StandardScaler()\n",
    "scaler.fit(X_train[num_attr])"
   ]
  },
  {
   "cell_type": "code",
   "execution_count": 27,
   "metadata": {},
   "outputs": [
    {
     "data": {
      "text/plain": [
       "array([280.39807942,   7.58475598,  31.7570746 , 180.32192893,\n",
       "       333.50714418, 478.5932223 ,  48.70351642, 168.15587307,\n",
       "       311.69379755, 459.47599276,  45.86509557,   1.33239005,\n",
       "        -6.23209338,  -5.79506425,   1.13017257])"
      ]
     },
     "execution_count": 27,
     "metadata": {},
     "output_type": "execute_result"
    }
   ],
   "source": [
    "scaler.mean_"
   ]
  },
  {
   "cell_type": "code",
   "execution_count": 28,
   "metadata": {},
   "outputs": [
    {
     "data": {
      "text/plain": [
       "array([1.65743285e+07, 3.96771734e+01, 8.41446996e+05, 3.84987183e+07,\n",
       "       1.30909776e+08, 2.76547320e+08, 2.64594279e+06, 3.85766961e+07,\n",
       "       1.10699939e+08, 2.26680875e+08, 1.26537112e+06, 7.44504380e+02,\n",
       "       6.49465857e+02, 6.11292307e+02, 8.74380578e+02])"
      ]
     },
     "execution_count": 28,
     "metadata": {},
     "output_type": "execute_result"
    }
   ],
   "source": [
    "scaler.var_"
   ]
  },
  {
   "cell_type": "code",
   "execution_count": 29,
   "metadata": {},
   "outputs": [],
   "source": [
    "X_train_num = pd.DataFrame(scaler.transform(X_train[num_attr]), columns=num_attr)\n",
    "X_val_num = pd.DataFrame(scaler.transform(X_val[num_attr]), columns=num_attr)"
   ]
  },
  {
   "cell_type": "code",
   "execution_count": 30,
   "metadata": {},
   "outputs": [
    {
     "name": "stdout",
     "output_type": "stream",
     "text": [
      "(43112, 15)\n",
      "(18477, 15)\n",
      "<class 'pandas.core.frame.DataFrame'>\n",
      "<class 'pandas.core.frame.DataFrame'>\n"
     ]
    }
   ],
   "source": [
    "print(X_train_num.shape)\n",
    "print(X_val_num.shape)\n",
    "\n",
    "print(type(X_train_num))\n",
    "print(type(X_val_num))"
   ]
  },
  {
   "cell_type": "markdown",
   "metadata": {},
   "source": [
    "#### Handling Categorical Columns\n",
    "##### Imputation"
   ]
  },
  {
   "cell_type": "code",
   "execution_count": 31,
   "metadata": {},
   "outputs": [],
   "source": [
    "imputer = SimpleImputer(strategy='most_frequent')\n",
    "\n",
    "imputer = imputer.fit(X_train[cat_attr])\n",
    "\n",
    "X_train[cat_attr] = imputer.transform(X_train[cat_attr])\n",
    "X_val[cat_attr] = imputer.transform(X_val[cat_attr])"
   ]
  },
  {
   "cell_type": "markdown",
   "metadata": {},
   "source": [
    "##### One Hot Encoding"
   ]
  },
  {
   "cell_type": "code",
   "execution_count": 32,
   "metadata": {},
   "outputs": [],
   "source": [
    "ohe = OneHotEncoder(handle_unknown='error')"
   ]
  },
  {
   "cell_type": "code",
   "execution_count": 33,
   "metadata": {},
   "outputs": [
    {
     "name": "stdout",
     "output_type": "stream",
     "text": [
      "['potential_issue_No', 'potential_issue_Yes', 'deck_risk_No', 'deck_risk_Yes', 'oe_constraint_No', 'oe_constraint_Yes', 'ppap_risk_No', 'ppap_risk_Yes', 'stop_auto_buy_No', 'stop_auto_buy_Yes', 'rev_stop_No', 'rev_stop_Yes']\n"
     ]
    }
   ],
   "source": [
    "ohe.fit(X_train[cat_attr])\n",
    "\n",
    "columns_ohe = list(ohe.get_feature_names(cat_attr))\n",
    "print(columns_ohe)\n",
    "\n",
    "X_train_cat = ohe.transform(X_train[cat_attr])\n",
    "X_val_cat = ohe.transform(X_val[cat_attr])\n",
    "\n",
    "X_train_cat = pd.DataFrame(X_train_cat.todense(), columns=columns_ohe)\n",
    "X_val_cat = pd.DataFrame(X_val_cat.todense(), columns=columns_ohe)"
   ]
  },
  {
   "cell_type": "code",
   "execution_count": 34,
   "metadata": {},
   "outputs": [
    {
     "name": "stdout",
     "output_type": "stream",
     "text": [
      "(43112, 12)\n",
      "(18477, 12)\n",
      "<class 'pandas.core.frame.DataFrame'>\n",
      "<class 'pandas.core.frame.DataFrame'>\n"
     ]
    }
   ],
   "source": [
    "print(X_train_cat.shape)\n",
    "print(X_val_cat.shape)\n",
    "\n",
    "print(type(X_train_cat))\n",
    "print(type(X_val_cat))"
   ]
  },
  {
   "cell_type": "markdown",
   "metadata": {},
   "source": [
    "### Merging of Numerical and Categorical Dataframes"
   ]
  },
  {
   "cell_type": "code",
   "execution_count": 35,
   "metadata": {},
   "outputs": [],
   "source": [
    "X_train_proc = pd.concat([X_train_num, X_train_cat], axis=1)\n",
    "X_val_proc = pd.concat([X_val_num, X_val_cat], axis=1)"
   ]
  },
  {
   "cell_type": "code",
   "execution_count": 36,
   "metadata": {},
   "outputs": [
    {
     "name": "stdout",
     "output_type": "stream",
     "text": [
      "(43112, 27)\n",
      "(43112,)\n",
      "(18477, 27)\n",
      "(18477,)\n"
     ]
    }
   ],
   "source": [
    "print(X_train_proc.shape)\n",
    "print(y_train.shape)\n",
    "print(X_val_proc.shape)\n",
    "print(y_val.shape)"
   ]
  },
  {
   "cell_type": "code",
   "execution_count": 37,
   "metadata": {},
   "outputs": [
    {
     "data": {
      "text/plain": [
       "32557    0\n",
       "35028    0\n",
       "18       1\n",
       "24527    0\n",
       "54999    0\n",
       "        ..\n",
       "27190    0\n",
       "55221    0\n",
       "2605     1\n",
       "35193    1\n",
       "15355    0\n",
       "Name: went_on_backorder, Length: 43112, dtype: int64"
      ]
     },
     "execution_count": 37,
     "metadata": {},
     "output_type": "execute_result"
    }
   ],
   "source": [
    "y_train"
   ]
  },
  {
   "cell_type": "markdown",
   "metadata": {},
   "source": [
    "### Convert dataframe to numpy array to feed into Neural Networks"
   ]
  },
  {
   "cell_type": "code",
   "execution_count": 38,
   "metadata": {},
   "outputs": [
    {
     "name": "stdout",
     "output_type": "stream",
     "text": [
      "<class 'pandas.core.frame.DataFrame'>\n",
      "<class 'pandas.core.frame.DataFrame'>\n",
      "<class 'numpy.ndarray'>\n",
      "<class 'numpy.ndarray'>\n"
     ]
    }
   ],
   "source": [
    "print(type(X_train_proc))\n",
    "print(type(X_val_proc))\n",
    "\n",
    "X_train_proc_arr = X_train_proc.values\n",
    "X_val_proc_arr = X_val_proc.values\n",
    "\n",
    "print(type(X_train_proc_arr))\n",
    "print(type(X_val_proc_arr))"
   ]
  },
  {
   "cell_type": "markdown",
   "metadata": {},
   "source": [
    "### Perceptron Model"
   ]
  },
  {
   "cell_type": "code",
   "execution_count": 39,
   "metadata": {},
   "outputs": [],
   "source": [
    "perceptron_model = Sequential()\n",
    "perceptron_model.add(Dense(1, activation='sigmoid', input_shape=(27,)))"
   ]
  },
  {
   "cell_type": "code",
   "execution_count": 40,
   "metadata": {},
   "outputs": [],
   "source": [
    "perceptron_model.compile(loss='binary_crossentropy', optimizer='sgd', metrics=[tf.keras.metrics.Recall()])"
   ]
  },
  {
   "cell_type": "code",
   "execution_count": 41,
   "metadata": {},
   "outputs": [
    {
     "name": "stdout",
     "output_type": "stream",
     "text": [
      "Model: \"sequential\"\n",
      "_________________________________________________________________\n",
      "Layer (type)                 Output Shape              Param #   \n",
      "=================================================================\n",
      "dense (Dense)                (None, 1)                 28        \n",
      "=================================================================\n",
      "Total params: 28\n",
      "Trainable params: 28\n",
      "Non-trainable params: 0\n",
      "_________________________________________________________________\n"
     ]
    }
   ],
   "source": [
    "perceptron_model.summary()"
   ]
  },
  {
   "cell_type": "code",
   "execution_count": 42,
   "metadata": {},
   "outputs": [
    {
     "name": "stdout",
     "output_type": "stream",
     "text": [
      "Train on 34489 samples, validate on 8623 samples\n",
      "Epoch 1/100\n",
      "34489/34489 [==============================] - 2s 57us/sample - loss: 0.4987 - recall: 0.0444 - val_loss: 0.4729 - val_recall: 0.0025\n",
      "Epoch 2/100\n",
      "34489/34489 [==============================] - 1s 37us/sample - loss: 0.4646 - recall: 0.0065 - val_loss: 0.4680 - val_recall: 0.0025\n",
      "Epoch 3/100\n",
      "34489/34489 [==============================] - 1s 36us/sample - loss: 0.4617 - recall: 0.0068 - val_loss: 0.4656 - val_recall: 0.0037\n",
      "Epoch 4/100\n",
      "34489/34489 [==============================] - 1s 41us/sample - loss: 0.4603 - recall: 0.0076 - val_loss: 0.4649 - val_recall: 0.0050\n",
      "Epoch 5/100\n",
      "34489/34489 [==============================] - 1s 37us/sample - loss: 0.4595 - recall: 0.0082 - val_loss: 0.4646 - val_recall: 0.0056\n",
      "Epoch 6/100\n",
      "34489/34489 [==============================] - 1s 40us/sample - loss: 0.4590 - recall: 0.0086 - val_loss: 0.4645 - val_recall: 0.0056\n",
      "Epoch 7/100\n",
      "34489/34489 [==============================] - 1s 36us/sample - loss: 0.4586 - recall: 0.0089 - val_loss: 0.4645 - val_recall: 0.0056\n",
      "Epoch 8/100\n",
      "34489/34489 [==============================] - 1s 33us/sample - loss: 0.4583 - recall: 0.0090 - val_loss: 0.4644 - val_recall: 0.0056\n",
      "Epoch 9/100\n",
      "34489/34489 [==============================] - 1s 28us/sample - loss: 0.4581 - recall: 0.0089 - val_loss: 0.4643 - val_recall: 0.0056\n",
      "Epoch 10/100\n",
      "34489/34489 [==============================] - 1s 29us/sample - loss: 0.4579 - recall: 0.0094 - val_loss: 0.4645 - val_recall: 0.0056\n",
      "Epoch 11/100\n",
      "34489/34489 [==============================] - 1s 36us/sample - loss: 0.4577 - recall: 0.0095 - val_loss: 0.4643 - val_recall: 0.0063\n",
      "Epoch 12/100\n",
      "34489/34489 [==============================] - 1s 35us/sample - loss: 0.4576 - recall: 0.0094 - val_loss: 0.4642 - val_recall: 0.0063\n",
      "Epoch 13/100\n",
      "34489/34489 [==============================] - 1s 36us/sample - loss: 0.4574 - recall: 0.0097 - val_loss: 0.4641 - val_recall: 0.0063\n",
      "Epoch 14/100\n",
      "34489/34489 [==============================] - 1s 31us/sample - loss: 0.4573 - recall: 0.0090 - val_loss: 0.4641 - val_recall: 0.0063\n",
      "Epoch 15/100\n",
      "34489/34489 [==============================] - 1s 36us/sample - loss: 0.4572 - recall: 0.0094 - val_loss: 0.4642 - val_recall: 0.0063\n",
      "Epoch 16/100\n",
      "34489/34489 [==============================] - 1s 31us/sample - loss: 0.4571 - recall: 0.0095 - val_loss: 0.4640 - val_recall: 0.0075\n",
      "Epoch 17/100\n",
      "34489/34489 [==============================] - 1s 36us/sample - loss: 0.4570 - recall: 0.0097 - val_loss: 0.4641 - val_recall: 0.0075\n",
      "Epoch 18/100\n",
      "34489/34489 [==============================] - 1s 37us/sample - loss: 0.4568 - recall: 0.0089 - val_loss: 0.4639 - val_recall: 0.0075\n",
      "Epoch 19/100\n",
      "34489/34489 [==============================] - 1s 41us/sample - loss: 0.4567 - recall: 0.0098 - val_loss: 0.4640 - val_recall: 0.0075\n",
      "Epoch 20/100\n",
      "34489/34489 [==============================] - 1s 42us/sample - loss: 0.4567 - recall: 0.0092 - val_loss: 0.4638 - val_recall: 0.0075\n",
      "Epoch 21/100\n",
      "34489/34489 [==============================] - 1s 38us/sample - loss: 0.4565 - recall: 0.0097 - val_loss: 0.4637 - val_recall: 0.00814546 - recall\n",
      "Epoch 22/100\n",
      "34489/34489 [==============================] - 1s 37us/sample - loss: 0.4565 - recall: 0.0095 - val_loss: 0.4637 - val_recall: 0.0081\n",
      "Epoch 23/100\n",
      "34489/34489 [==============================] - 1s 36us/sample - loss: 0.4564 - recall: 0.0097 - val_loss: 0.4637 - val_recall: 0.0081\n",
      "Epoch 24/100\n",
      "34489/34489 [==============================] - 1s 36us/sample - loss: 0.4563 - recall: 0.0095 - val_loss: 0.4637 - val_recall: 0.0081\n",
      "Epoch 25/100\n",
      "34489/34489 [==============================] - 1s 33us/sample - loss: 0.4562 - recall: 0.0097 - val_loss: 0.4637 - val_recall: 0.0081\n",
      "Epoch 26/100\n",
      "34489/34489 [==============================] - 1s 31us/sample - loss: 0.4561 - recall: 0.0095 - val_loss: 0.4636 - val_recall: 0.0081\n",
      "Epoch 27/100\n",
      "34489/34489 [==============================] - 1s 41us/sample - loss: 0.4560 - recall: 0.0097 - val_loss: 0.4636 - val_recall: 0.0081\n",
      "Epoch 28/100\n",
      "34489/34489 [==============================] - 1s 40us/sample - loss: 0.4559 - recall: 0.0095 - val_loss: 0.4635 - val_recall: 0.0081\n",
      "Epoch 29/100\n",
      "34489/34489 [==============================] - 1s 37us/sample - loss: 0.4558 - recall: 0.0097 - val_loss: 0.4635 - val_recall: 0.0088\n",
      "Epoch 30/100\n",
      "34489/34489 [==============================] - 1s 36us/sample - loss: 0.4558 - recall: 0.0095 - val_loss: 0.4635 - val_recall: 0.0088\n",
      "Epoch 31/100\n",
      "34489/34489 [==============================] - 1s 36us/sample - loss: 0.4557 - recall: 0.0098 - val_loss: 0.4634 - val_recall: 0.0081\n",
      "Epoch 32/100\n",
      "34489/34489 [==============================] - 1s 32us/sample - loss: 0.4556 - recall: 0.0100 - val_loss: 0.4634 - val_recall: 0.0081\n",
      "Epoch 33/100\n",
      "34489/34489 [==============================] - 1s 36us/sample - loss: 0.4555 - recall: 0.0097 - val_loss: 0.4633 - val_recall: 0.0081\n",
      "Epoch 34/100\n",
      "34489/34489 [==============================] - 1s 40us/sample - loss: 0.4554 - recall: 0.0095 - val_loss: 0.4632 - val_recall: 0.0081\n",
      "Epoch 35/100\n",
      "34489/34489 [==============================] - 1s 36us/sample - loss: 0.4554 - recall: 0.0100 - val_loss: 0.4632 - val_recall: 0.0081\n",
      "Epoch 36/100\n",
      "34489/34489 [==============================] - 1s 36us/sample - loss: 0.4553 - recall: 0.0098 - val_loss: 0.4632 - val_recall: 0.0081\n",
      "Epoch 37/100\n",
      "34489/34489 [==============================] - 1s 38us/sample - loss: 0.4552 - recall: 0.0098 - val_loss: 0.4632 - val_recall: 0.0081\n",
      "Epoch 38/100\n",
      "34489/34489 [==============================] - 1s 37us/sample - loss: 0.4552 - recall: 0.0094 - val_loss: 0.4631 - val_recall: 0.0088\n",
      "Epoch 39/100\n",
      "34489/34489 [==============================] - 1s 40us/sample - loss: 0.4551 - recall: 0.0098 - val_loss: 0.4631 - val_recall: 0.0081\n",
      "Epoch 40/100\n",
      "34489/34489 [==============================] - 1s 42us/sample - loss: 0.4550 - recall: 0.0102 - val_loss: 0.4630 - val_recall: 0.0081\n",
      "Epoch 41/100\n",
      "34489/34489 [==============================] - 1s 35us/sample - loss: 0.4550 - recall: 0.0098 - val_loss: 0.4630 - val_recall: 0.0088\n",
      "Epoch 42/100\n",
      "34489/34489 [==============================] - 1s 38us/sample - loss: 0.4549 - recall: 0.0098 - val_loss: 0.4631 - val_recall: 0.0094\n",
      "Epoch 43/100\n",
      "34489/34489 [==============================] - 1s 42us/sample - loss: 0.4549 - recall: 0.0098 - val_loss: 0.4629 - val_recall: 0.0094\n",
      "Epoch 44/100\n",
      "34489/34489 [==============================] - 1s 37us/sample - loss: 0.4548 - recall: 0.0100 - val_loss: 0.4630 - val_recall: 0.0081\n",
      "Epoch 45/100\n",
      "34489/34489 [==============================] - 1s 31us/sample - loss: 0.4547 - recall: 0.0098 - val_loss: 0.4629 - val_recall: 0.0094\n",
      "Epoch 46/100\n",
      "34489/34489 [==============================] - 1s 24us/sample - loss: 0.4547 - recall: 0.0100 - val_loss: 0.4628 - val_recall: 0.0088\n",
      "Epoch 47/100\n",
      "34489/34489 [==============================] - 1s 24us/sample - loss: 0.4546 - recall: 0.0102 - val_loss: 0.4628 - val_recall: 0.0088\n",
      "Epoch 48/100\n",
      "34489/34489 [==============================] - 1s 23us/sample - loss: 0.4546 - recall: 0.0100 - val_loss: 0.4628 - val_recall: 0.0094\n",
      "Epoch 49/100\n",
      "34489/34489 [==============================] - 1s 23us/sample - loss: 0.4545 - recall: 0.0102 - val_loss: 0.4628 - val_recall: 0.0094\n",
      "Epoch 50/100\n",
      "34489/34489 [==============================] - 1s 24us/sample - loss: 0.4544 - recall: 0.0105 - val_loss: 0.4627 - val_recall: 0.0094\n",
      "Epoch 51/100\n",
      "34489/34489 [==============================] - 1s 26us/sample - loss: 0.4544 - recall: 0.0106 - val_loss: 0.4627 - val_recall: 0.0094\n",
      "Epoch 52/100\n",
      "34489/34489 [==============================] - 1s 26us/sample - loss: 0.4543 - recall: 0.0106 - val_loss: 0.4626 - val_recall: 0.0094\n",
      "Epoch 53/100\n",
      "34489/34489 [==============================] - 1s 32us/sample - loss: 0.4542 - recall: 0.0105 - val_loss: 0.4626 - val_recall: 0.0081\n",
      "Epoch 54/100\n",
      "34489/34489 [==============================] - 1s 39us/sample - loss: 0.4542 - recall: 0.0106 - val_loss: 0.4626 - val_recall: 0.0094\n",
      "Epoch 55/100\n",
      "34489/34489 [==============================] - 1s 34us/sample - loss: 0.4542 - recall: 0.0105 - val_loss: 0.4626 - val_recall: 0.0088\n",
      "Epoch 56/100\n",
      "34489/34489 [==============================] - 1s 43us/sample - loss: 0.4541 - recall: 0.0103 - val_loss: 0.4627 - val_recall: 0.0081\n",
      "Epoch 57/100\n",
      "34489/34489 [==============================] - 1s 41us/sample - loss: 0.4540 - recall: 0.0105 - val_loss: 0.4626 - val_recall: 0.0088\n",
      "Epoch 58/100\n",
      "34489/34489 [==============================] - 1s 39us/sample - loss: 0.4540 - recall: 0.0105 - val_loss: 0.4625 - val_recall: 0.0094\n",
      "Epoch 59/100\n",
      "34489/34489 [==============================] - 1s 36us/sample - loss: 0.4539 - recall: 0.0102 - val_loss: 0.4625 - val_recall: 0.0094\n",
      "Epoch 60/100\n",
      "34489/34489 [==============================] - 1s 38us/sample - loss: 0.4539 - recall: 0.0109 - val_loss: 0.4625 - val_recall: 0.0094\n",
      "Epoch 61/100\n",
      "34489/34489 [==============================] - 1s 38us/sample - loss: 0.4538 - recall: 0.0105 - val_loss: 0.4624 - val_recall: 0.0094\n",
      "Epoch 62/100\n",
      "34489/34489 [==============================] - 1s 36us/sample - loss: 0.4538 - recall: 0.0108 - val_loss: 0.4624 - val_recall: 0.0094\n",
      "Epoch 63/100\n",
      "34489/34489 [==============================] - 1s 29us/sample - loss: 0.4537 - recall: 0.0108 - val_loss: 0.4624 - val_recall: 0.0094\n",
      "Epoch 64/100\n",
      "34489/34489 [==============================] - 1s 31us/sample - loss: 0.4537 - recall: 0.0103 - val_loss: 0.4624 - val_recall: 0.0094\n",
      "Epoch 65/100\n",
      "34489/34489 [==============================] - 1s 32us/sample - loss: 0.4536 - recall: 0.0106 - val_loss: 0.4624 - val_recall: 0.0094\n",
      "Epoch 66/100\n",
      "34489/34489 [==============================] - 1s 34us/sample - loss: 0.4536 - recall: 0.0106 - val_loss: 0.4624 - val_recall: 0.0094\n",
      "Epoch 67/100\n",
      "34489/34489 [==============================] - 1s 40us/sample - loss: 0.4536 - recall: 0.0111 - val_loss: 0.4623 - val_recall: 0.0094\n",
      "Epoch 68/100\n",
      "34489/34489 [==============================] - 1s 41us/sample - loss: 0.4535 - recall: 0.0109 - val_loss: 0.4623 - val_recall: 0.0094\n",
      "Epoch 69/100\n",
      "34489/34489 [==============================] - 1s 34us/sample - loss: 0.4535 - recall: 0.0109 - val_loss: 0.4623 - val_recall: 0.0094\n",
      "Epoch 70/100\n",
      "34489/34489 [==============================] - 1s 33us/sample - loss: 0.4534 - recall: 0.0111 - val_loss: 0.4623 - val_recall: 0.0094\n",
      "Epoch 71/100\n",
      "34489/34489 [==============================] - 1s 38us/sample - loss: 0.4533 - recall: 0.0105 - val_loss: 0.4623 - val_recall: 0.0094\n",
      "Epoch 72/100\n",
      "34489/34489 [==============================] - 1s 39us/sample - loss: 0.4533 - recall: 0.0109 - val_loss: 0.4623 - val_recall: 0.0094\n",
      "Epoch 73/100\n",
      "34489/34489 [==============================] - 1s 37us/sample - loss: 0.4533 - recall: 0.0108 - val_loss: 0.4622 - val_recall: 0.0094\n",
      "Epoch 74/100\n",
      "34489/34489 [==============================] - 1s 36us/sample - loss: 0.4532 - recall: 0.0108 - val_loss: 0.4622 - val_recall: 0.0094\n",
      "Epoch 75/100\n",
      "34489/34489 [==============================] - 1s 36us/sample - loss: 0.4531 - recall: 0.0109 - val_loss: 0.4621 - val_recall: 0.0094\n",
      "Epoch 76/100\n",
      "34489/34489 [==============================] - 1s 27us/sample - loss: 0.4531 - recall: 0.0109 - val_loss: 0.4621 - val_recall: 0.0094\n",
      "Epoch 77/100\n",
      "34489/34489 [==============================] - 1s 33us/sample - loss: 0.4531 - recall: 0.0109 - val_loss: 0.4622 - val_recall: 0.0094\n",
      "Epoch 78/100\n",
      "34489/34489 [==============================] - 1s 36us/sample - loss: 0.4531 - recall: 0.0108 - val_loss: 0.4621 - val_recall: 0.0094\n",
      "Epoch 79/100\n",
      "34489/34489 [==============================] - 1s 30us/sample - loss: 0.4530 - recall: 0.0113 - val_loss: 0.4620 - val_recall: 0.0094\n",
      "Epoch 80/100\n",
      "34489/34489 [==============================] - 1s 33us/sample - loss: 0.4530 - recall: 0.0111 - val_loss: 0.4620 - val_recall: 0.0094\n",
      "Epoch 81/100\n",
      "34489/34489 [==============================] - 1s 33us/sample - loss: 0.4529 - recall: 0.0108 - val_loss: 0.4620 - val_recall: 0.0094\n",
      "Epoch 82/100\n",
      "34489/34489 [==============================] - 1s 26us/sample - loss: 0.4529 - recall: 0.0106 - val_loss: 0.4620 - val_recall: 0.0094\n",
      "Epoch 83/100\n",
      "34489/34489 [==============================] - 1s 31us/sample - loss: 0.4528 - recall: 0.0108 - val_loss: 0.4620 - val_recall: 0.0094\n",
      "Epoch 84/100\n",
      "34489/34489 [==============================] - 1s 39us/sample - loss: 0.4528 - recall: 0.0111 - val_loss: 0.4619 - val_recall: 0.0094\n",
      "Epoch 85/100\n",
      "34489/34489 [==============================] - 1s 38us/sample - loss: 0.4528 - recall: 0.0109 - val_loss: 0.4620 - val_recall: 0.0094\n",
      "Epoch 86/100\n",
      "34489/34489 [==============================] - 1s 39us/sample - loss: 0.4527 - recall: 0.0109 - val_loss: 0.4619 - val_recall: 0.0094\n",
      "Epoch 87/100\n",
      "34489/34489 [==============================] - 1s 41us/sample - loss: 0.4527 - recall: 0.0109 - val_loss: 0.4619 - val_recall: 0.0094\n",
      "Epoch 88/100\n",
      "34489/34489 [==============================] - 1s 35us/sample - loss: 0.4526 - recall: 0.0109 - val_loss: 0.4618 - val_recall: 0.0094\n",
      "Epoch 89/100\n",
      "34489/34489 [==============================] - 1s 37us/sample - loss: 0.4526 - recall: 0.0108 - val_loss: 0.4619 - val_recall: 0.0094\n",
      "Epoch 90/100\n",
      "34489/34489 [==============================] - 1s 37us/sample - loss: 0.4526 - recall: 0.0106 - val_loss: 0.4618 - val_recall: 0.0094\n",
      "Epoch 91/100\n",
      "34489/34489 [==============================] - 1s 37us/sample - loss: 0.4525 - recall: 0.0111 - val_loss: 0.4619 - val_recall: 0.0094\n",
      "Epoch 92/100\n",
      "34489/34489 [==============================] - 1s 35us/sample - loss: 0.4525 - recall: 0.0109 - val_loss: 0.4618 - val_recall: 0.0094\n",
      "Epoch 93/100\n",
      "34489/34489 [==============================] - 1s 37us/sample - loss: 0.4525 - recall: 0.0109 - val_loss: 0.4618 - val_recall: 0.0094\n",
      "Epoch 94/100\n",
      "34489/34489 [==============================] - 1s 38us/sample - loss: 0.4524 - recall: 0.0113 - val_loss: 0.4618 - val_recall: 0.0094\n",
      "Epoch 95/100\n",
      "34489/34489 [==============================] - 1s 38us/sample - loss: 0.4524 - recall: 0.0111 - val_loss: 0.4617 - val_recall: 0.0094\n",
      "Epoch 96/100\n",
      "34489/34489 [==============================] - 1s 39us/sample - loss: 0.4523 - recall: 0.0113 - val_loss: 0.4616 - val_recall: 0.0094\n",
      "Epoch 97/100\n",
      "34489/34489 [==============================] - 1s 38us/sample - loss: 0.4523 - recall: 0.0111 - val_loss: 0.4616 - val_recall: 0.0094\n",
      "Epoch 98/100\n",
      "34489/34489 [==============================] - 1s 40us/sample - loss: 0.4523 - recall: 0.0111 - val_loss: 0.4618 - val_recall: 0.0094\n",
      "Epoch 99/100\n",
      "34489/34489 [==============================] - 1s 40us/sample - loss: 0.4522 - recall: 0.0109 - val_loss: 0.4618 - val_recall: 0.0094\n",
      "Epoch 100/100\n",
      "34489/34489 [==============================] - 2s 44us/sample - loss: 0.4522 - recall: 0.0114 - val_loss: 0.4616 - val_recall: 0.0094\n"
     ]
    }
   ],
   "source": [
    "perceptron_model_history = perceptron_model.fit(X_train_proc_arr, y_train, epochs=100, batch_size=64, validation_split=0.2)\n"
   ]
  },
  {
   "cell_type": "markdown",
   "metadata": {},
   "source": [
    "##### Plot"
   ]
  },
  {
   "cell_type": "code",
   "execution_count": 43,
   "metadata": {},
   "outputs": [
    {
     "name": "stdout",
     "output_type": "stream",
     "text": [
      "dict_keys(['loss', 'recall', 'val_loss', 'val_recall'])\n"
     ]
    }
   ],
   "source": [
    "print(perceptron_model_history.history.keys())"
   ]
  },
  {
   "cell_type": "code",
   "execution_count": 44,
   "metadata": {},
   "outputs": [
    {
     "data": {
      "image/png": "[encoded data removed]",
      "text/plain": [
       "<Figure size 432x288 with 1 Axes>"
      ]
     },
     "metadata": {
      "needs_background": "light"
     },
     "output_type": "display_data"
    }
   ],
   "source": [
    "plt.plot(perceptron_model_history.history['recall'])\n",
    "plt.plot(perceptron_model_history.history['val_recall'])\n",
    "plt.title('Recall Plot')\n",
    "plt.ylabel('Recall')\n",
    "plt.xlabel('Epoch')\n",
    "plt.legend(['Train', 'Validation'])\n",
    "plt.show()"
   ]
  },
  {
   "cell_type": "code",
   "execution_count": 45,
   "metadata": {},
   "outputs": [
    {
     "data": {
      "image/png": "[encoded data removed]",
      "text/plain": [
       "<Figure size 432x288 with 1 Axes>"
      ]
     },
     "metadata": {
      "needs_background": "light"
     },
     "output_type": "display_data"
    }
   ],
   "source": [
    "plt.plot(perceptron_model_history.history['loss'])\n",
    "plt.plot(perceptron_model_history.history['val_loss'])\n",
    "plt.title('Loss Function Plot')\n",
    "plt.ylabel('Loss')\n",
    "plt.xlabel('Epoch')\n",
    "plt.legend(['Train', 'Validation'])\n",
    "plt.show()"
   ]
  },
  {
   "cell_type": "markdown",
   "metadata": {},
   "source": [
    "##### Predictions"
   ]
  },
  {
   "cell_type": "code",
   "execution_count": 46,
   "metadata": {},
   "outputs": [
    {
     "name": "stdout",
     "output_type": "stream",
     "text": [
      "[[35162    45]\n",
      " [ 7820    85]]\n",
      "[[15060    29]\n",
      " [ 3346    42]]\n"
     ]
    }
   ],
   "source": [
    "val_pred = perceptron_model.predict_classes(X_val_proc_arr)\n",
    "train_pred = perceptron_model.predict_classes(X_train_proc_arr)\n",
    "\n",
    "confusion_matrix_val = confusion_matrix(y_val, val_pred)\n",
    "confusion_matrix_train = confusion_matrix(y_train, train_pred)\n",
    "\n",
    "print(confusion_matrix_train)\n",
    "print(confusion_matrix_val)"
   ]
  },
  {
   "cell_type": "markdown",
   "metadata": {},
   "source": [
    "##### Train Test Accuracy, True Negative Rate and True Positive Rate"
   ]
  },
  {
   "cell_type": "code",
   "execution_count": 47,
   "metadata": {},
   "outputs": [
    {
     "name": "stdout",
     "output_type": "stream",
     "text": [
      "Train Accuracy:  0.8175681944702171\n",
      "Train Recall:  0.010752688172043012\n",
      "Train Precision:  0.6538461538461539\n",
      "-----------------------\n",
      "Val Accuracy:  0.8173404773502192\n",
      "Val Recall:  0.012396694214876033\n",
      "Val Precision:  0.5915492957746479\n"
     ]
    }
   ],
   "source": [
    "accuracy_score_train = accuracy_score(y_train, train_pred)\n",
    "accuracy_score_val = accuracy_score(y_val, val_pred)\n",
    "\n",
    "recall_score_train = recall_score(y_train, train_pred)\n",
    "recall_score_val = recall_score(y_val, val_pred)\n",
    "\n",
    "precision_score_train = precision_score(y_train, train_pred)\n",
    "precision_score_val = precision_score(y_val, val_pred)\n",
    "\n",
    "print(\"Train Accuracy: \",accuracy_score_train)\n",
    "print(\"Train Recall: \",recall_score_train)\n",
    "print(\"Train Precision: \",precision_score_train)\n",
    "\n",
    "print(\"-----------------------\")\n",
    "\n",
    "print(\"Val Accuracy: \",accuracy_score_val)\n",
    "print(\"Val Recall: \",recall_score_val)\n",
    "print(\"Val Precision: \",precision_score_val)"
   ]
  },
  {
   "cell_type": "markdown",
   "metadata": {},
   "source": [
    "### MLP with 2 layers\n",
    "\n",
    "    1 hidden layer with 15 neurons"
   ]
  },
  {
   "cell_type": "code",
   "execution_count": 48,
   "metadata": {},
   "outputs": [],
   "source": [
    "mlp_model1 = Sequential()\n",
    "\n",
    "mlp_model1.add(Dense(15, activation='tanh', kernel_initializer='normal', input_shape=(27,)))\n",
    "mlp_model1.add(Dense(1, activation='sigmoid', kernel_initializer='normal'))"
   ]
  },
  {
   "cell_type": "code",
   "execution_count": 49,
   "metadata": {},
   "outputs": [
    {
     "name": "stdout",
     "output_type": "stream",
     "text": [
      "Model: \"sequential_1\"\n",
      "_________________________________________________________________\n",
      "Layer (type)                 Output Shape              Param #   \n",
      "=================================================================\n",
      "dense_1 (Dense)              (None, 15)                420       \n",
      "_________________________________________________________________\n",
      "dense_2 (Dense)              (None, 1)                 16        \n",
      "=================================================================\n",
      "Total params: 436\n",
      "Trainable params: 436\n",
      "Non-trainable params: 0\n",
      "_________________________________________________________________\n"
     ]
    }
   ],
   "source": [
    "mlp_model1.summary()"
   ]
  },
  {
   "cell_type": "code",
   "execution_count": 50,
   "metadata": {},
   "outputs": [],
   "source": [
    "mlp_model1.compile(loss='binary_crossentropy', optimizer='sgd', metrics=[tf.keras.metrics.Recall(name='recall')])\n"
   ]
  },
  {
   "cell_type": "code",
   "execution_count": 51,
   "metadata": {},
   "outputs": [
    {
     "name": "stdout",
     "output_type": "stream",
     "text": [
      "Train on 34489 samples, validate on 8623 samples\n",
      "Epoch 1/100\n",
      "34489/34489 [==============================] - 1s 37us/sample - loss: 0.5304 - recall: 1.5860e-04 - val_loss: 0.4787 - val_recall: 0.0000e+00\n",
      "Epoch 2/100\n",
      "34489/34489 [==============================] - 1s 25us/sample - loss: 0.4727 - recall: 1.5860e-04 - val_loss: 0.4751 - val_recall: 6.2500e-04\n",
      "Epoch 3/100\n",
      "34489/34489 [==============================] - 1s 27us/sample - loss: 0.4702 - recall: 0.0016 - val_loss: 0.4734 - val_recall: 0.0019\n",
      "Epoch 4/100\n",
      "34489/34489 [==============================] - 1s 27us/sample - loss: 0.4682 - recall: 0.0027 - val_loss: 0.4717 - val_recall: 0.0025\n",
      "Epoch 5/100\n",
      "34489/34489 [==============================] - 1s 38us/sample - loss: 0.4666 - recall: 0.0035 - val_loss: 0.4703 - val_recall: 0.0031\n",
      "Epoch 6/100\n",
      "34489/34489 [==============================] - 1s 40us/sample - loss: 0.4651 - recall: 0.0040 - val_loss: 0.4691 - val_recall: 0.0031\n",
      "Epoch 7/100\n",
      "34489/34489 [==============================] - 1s 40us/sample - loss: 0.4637 - recall: 0.0044 - val_loss: 0.4680 - val_recall: 0.0044\n",
      "Epoch 8/100\n",
      "34489/34489 [==============================] - 1s 42us/sample - loss: 0.4626 - recall: 0.0059 - val_loss: 0.4671 - val_recall: 0.0063\n",
      "Epoch 9/100\n",
      "34489/34489 [==============================] - 1s 39us/sample - loss: 0.4616 - recall: 0.0068 - val_loss: 0.4662 - val_recall: 0.0063\n",
      "Epoch 10/100\n",
      "34489/34489 [==============================] - 1s 39us/sample - loss: 0.4607 - recall: 0.0081 - val_loss: 0.4655 - val_recall: 0.0075\n",
      "Epoch 11/100\n",
      "34489/34489 [==============================] - 1s 32us/sample - loss: 0.4599 - recall: 0.0095 - val_loss: 0.4647 - val_recall: 0.0088\n",
      "Epoch 12/100\n",
      "34489/34489 [==============================] - 1s 39us/sample - loss: 0.4592 - recall: 0.0105 - val_loss: 0.4640 - val_recall: 0.0088\n",
      "Epoch 13/100\n",
      "34489/34489 [==============================] - 1s 38us/sample - loss: 0.4585 - recall: 0.0117 - val_loss: 0.4634 - val_recall: 0.0094\n",
      "Epoch 14/100\n",
      "34489/34489 [==============================] - 1s 41us/sample - loss: 0.4579 - recall: 0.0132 - val_loss: 0.4627 - val_recall: 0.0113\n",
      "Epoch 15/100\n",
      "34489/34489 [==============================] - 1s 40us/sample - loss: 0.4573 - recall: 0.0141 - val_loss: 0.4624 - val_recall: 0.0131\n",
      "Epoch 16/100\n",
      "34489/34489 [==============================] - 1s 36us/sample - loss: 0.4568 - recall: 0.0155 - val_loss: 0.4616 - val_recall: 0.0144\n",
      "Epoch 17/100\n",
      "34489/34489 [==============================] - 1s 41us/sample - loss: 0.4563 - recall: 0.0181 - val_loss: 0.4613 - val_recall: 0.0162\n",
      "Epoch 18/100\n",
      "34489/34489 [==============================] - 1s 40us/sample - loss: 0.4558 - recall: 0.0190 - val_loss: 0.4607 - val_recall: 0.0188\n",
      "Epoch 19/100\n",
      "34489/34489 [==============================] - 1s 43us/sample - loss: 0.4553 - recall: 0.0205 - val_loss: 0.4605 - val_recall: 0.0188\n",
      "Epoch 20/100\n",
      "34489/34489 [==============================] - 1s 38us/sample - loss: 0.4548 - recall: 0.0209 - val_loss: 0.4598 - val_recall: 0.0213\n",
      "Epoch 21/100\n",
      "34489/34489 [==============================] - 1s 41us/sample - loss: 0.4544 - recall: 0.0222 - val_loss: 0.4594 - val_recall: 0.0213\n",
      "Epoch 22/100\n",
      "34489/34489 [==============================] - 1s 40us/sample - loss: 0.4540 - recall: 0.0230 - val_loss: 0.4590 - val_recall: 0.0219\n",
      "Epoch 23/100\n",
      "34489/34489 [==============================] - 1s 40us/sample - loss: 0.4535 - recall: 0.0247 - val_loss: 0.4587 - val_recall: 0.0225\n",
      "Epoch 24/100\n",
      "34489/34489 [==============================] - 1s 41us/sample - loss: 0.4531 - recall: 0.0254 - val_loss: 0.4584 - val_recall: 0.0237\n",
      "Epoch 25/100\n",
      "34489/34489 [==============================] - 1s 39us/sample - loss: 0.4527 - recall: 0.0276 - val_loss: 0.4581 - val_recall: 0.0244\n",
      "Epoch 26/100\n",
      "34489/34489 [==============================] - 1s 36us/sample - loss: 0.4523 - recall: 0.0285 - val_loss: 0.4577 - val_recall: 0.0256\n",
      "Epoch 27/100\n",
      "34489/34489 [==============================] - 1s 39us/sample - loss: 0.4518 - recall: 0.0303 - val_loss: 0.4574 - val_recall: 0.0262\n",
      "Epoch 28/100\n",
      "34489/34489 [==============================] - 1s 41us/sample - loss: 0.4515 - recall: 0.0311 - val_loss: 0.4570 - val_recall: 0.0288\n",
      "Epoch 29/100\n",
      "34489/34489 [==============================] - 1s 42us/sample - loss: 0.4511 - recall: 0.0319 - val_loss: 0.4567 - val_recall: 0.0306\n",
      "Epoch 30/100\n",
      "34489/34489 [==============================] - 1s 41us/sample - loss: 0.4507 - recall: 0.0325 - val_loss: 0.4563 - val_recall: 0.0306\n",
      "Epoch 31/100\n",
      "34489/34489 [==============================] - 1s 40us/sample - loss: 0.4504 - recall: 0.0331 - val_loss: 0.4559 - val_recall: 0.0306\n",
      "Epoch 32/100\n",
      "34489/34489 [==============================] - 1s 41us/sample - loss: 0.4500 - recall: 0.0338 - val_loss: 0.4556 - val_recall: 0.0306\n",
      "Epoch 33/100\n",
      "34489/34489 [==============================] - 1s 38us/sample - loss: 0.4496 - recall: 0.0341 - val_loss: 0.4553 - val_recall: 0.0319\n",
      "Epoch 34/100\n",
      "34489/34489 [==============================] - 1s 37us/sample - loss: 0.4493 - recall: 0.0346 - val_loss: 0.4548 - val_recall: 0.0331\n",
      "Epoch 35/100\n",
      "34489/34489 [==============================] - 1s 36us/sample - loss: 0.4489 - recall: 0.0349 - val_loss: 0.4546 - val_recall: 0.0325\n",
      "Epoch 36/100\n",
      "34489/34489 [==============================] - 1s 40us/sample - loss: 0.4486 - recall: 0.0354 - val_loss: 0.4545 - val_recall: 0.0325\n",
      "Epoch 37/100\n",
      "34489/34489 [==============================] - 1s 38us/sample - loss: 0.4482 - recall: 0.0357 - val_loss: 0.4541 - val_recall: 0.0338\n",
      "Epoch 38/100\n",
      "34489/34489 [==============================] - 1s 35us/sample - loss: 0.4478 - recall: 0.0368 - val_loss: 0.4537 - val_recall: 0.0338\n",
      "Epoch 39/100\n",
      "34489/34489 [==============================] - 1s 39us/sample - loss: 0.4475 - recall: 0.0373 - val_loss: 0.4535 - val_recall: 0.0338\n",
      "Epoch 40/100\n",
      "34489/34489 [==============================] - 1s 39us/sample - loss: 0.4472 - recall: 0.0379 - val_loss: 0.4531 - val_recall: 0.0338\n",
      "Epoch 41/100\n",
      "34489/34489 [==============================] - 1s 34us/sample - loss: 0.4469 - recall: 0.0382 - val_loss: 0.4528 - val_recall: 0.0344\n",
      "Epoch 42/100\n",
      "34489/34489 [==============================] - 1s 39us/sample - loss: 0.4464 - recall: 0.0390 - val_loss: 0.4534 - val_recall: 0.0413\n",
      "Epoch 43/100\n",
      "34489/34489 [==============================] - 1s 42us/sample - loss: 0.4462 - recall: 0.0395 - val_loss: 0.4522 - val_recall: 0.0356\n",
      "Epoch 44/100\n",
      "34489/34489 [==============================] - 1s 41us/sample - loss: 0.4459 - recall: 0.0403 - val_loss: 0.4521 - val_recall: 0.0356\n",
      "Epoch 45/100\n",
      "34489/34489 [==============================] - 1s 38us/sample - loss: 0.4455 - recall: 0.0404 - val_loss: 0.4517 - val_recall: 0.0375\n",
      "Epoch 46/100\n",
      "34489/34489 [==============================] - 1s 40us/sample - loss: 0.4452 - recall: 0.0414 - val_loss: 0.4512 - val_recall: 0.0381\n",
      "Epoch 47/100\n",
      "34489/34489 [==============================] - 1s 39us/sample - loss: 0.4449 - recall: 0.0430 - val_loss: 0.4510 - val_recall: 0.0381\n",
      "Epoch 48/100\n",
      "34489/34489 [==============================] - 1s 36us/sample - loss: 0.4446 - recall: 0.0428 - val_loss: 0.4509 - val_recall: 0.0394\n",
      "Epoch 49/100\n",
      "34489/34489 [==============================] - 1s 35us/sample - loss: 0.4443 - recall: 0.0443 - val_loss: 0.4506 - val_recall: 0.0400\n",
      "Epoch 50/100\n",
      "34489/34489 [==============================] - 1s 37us/sample - loss: 0.4440 - recall: 0.0443 - val_loss: 0.4504 - val_recall: 0.0431\n",
      "Epoch 51/100\n",
      "34489/34489 [==============================] - 1s 41us/sample - loss: 0.4437 - recall: 0.0447 - val_loss: 0.4501 - val_recall: 0.0400\n",
      "Epoch 52/100\n",
      "34489/34489 [==============================] - 1s 39us/sample - loss: 0.4434 - recall: 0.0462 - val_loss: 0.4499 - val_recall: 0.0444\n",
      "Epoch 53/100\n",
      "34489/34489 [==============================] - 1s 39us/sample - loss: 0.4431 - recall: 0.0463 - val_loss: 0.4496 - val_recall: 0.0400\n",
      "Epoch 54/100\n",
      "34489/34489 [==============================] - 1s 40us/sample - loss: 0.4428 - recall: 0.0462 - val_loss: 0.4494 - val_recall: 0.0469\n",
      "Epoch 55/100\n",
      "34489/34489 [==============================] - 1s 38us/sample - loss: 0.4426 - recall: 0.0473 - val_loss: 0.4493 - val_recall: 0.0413\n",
      "Epoch 56/100\n",
      "34489/34489 [==============================] - 1s 35us/sample - loss: 0.4422 - recall: 0.0489 - val_loss: 0.4490 - val_recall: 0.0413\n",
      "Epoch 57/100\n",
      "34489/34489 [==============================] - 1s 36us/sample - loss: 0.4419 - recall: 0.0492 - val_loss: 0.4486 - val_recall: 0.0425\n",
      "Epoch 58/100\n",
      "34489/34489 [==============================] - 1s 40us/sample - loss: 0.4416 - recall: 0.0490 - val_loss: 0.4484 - val_recall: 0.0475\n",
      "Epoch 59/100\n",
      "34489/34489 [==============================] - 1s 39us/sample - loss: 0.4414 - recall: 0.0500 - val_loss: 0.4481 - val_recall: 0.0444\n",
      "Epoch 60/100\n",
      "34489/34489 [==============================] - 1s 43us/sample - loss: 0.4411 - recall: 0.0500 - val_loss: 0.4477 - val_recall: 0.0450\n",
      "Epoch 61/100\n",
      "34489/34489 [==============================] - 1s 38us/sample - loss: 0.4407 - recall: 0.0512 - val_loss: 0.4475 - val_recall: 0.0475\n",
      "Epoch 62/100\n",
      "34489/34489 [==============================] - 1s 32us/sample - loss: 0.4405 - recall: 0.0523 - val_loss: 0.4475 - val_recall: 0.0444\n",
      "Epoch 63/100\n",
      "34489/34489 [==============================] - 1s 35us/sample - loss: 0.4402 - recall: 0.0523 - val_loss: 0.4470 - val_recall: 0.0444\n",
      "Epoch 64/100\n",
      "34489/34489 [==============================] - 1s 39us/sample - loss: 0.4398 - recall: 0.0530 - val_loss: 0.4471 - val_recall: 0.0494\n",
      "Epoch 65/100\n",
      "34489/34489 [==============================] - 1s 35us/sample - loss: 0.4396 - recall: 0.0533 - val_loss: 0.4465 - val_recall: 0.0444\n",
      "Epoch 66/100\n",
      "34489/34489 [==============================] - 1s 42us/sample - loss: 0.4393 - recall: 0.0541 - val_loss: 0.4462 - val_recall: 0.0500\n",
      "Epoch 67/100\n",
      "34489/34489 [==============================] - 1s 39us/sample - loss: 0.4389 - recall: 0.0536 - val_loss: 0.4460 - val_recall: 0.0450\n",
      "Epoch 68/100\n",
      "34489/34489 [==============================] - 1s 39us/sample - loss: 0.4386 - recall: 0.0550 - val_loss: 0.4458 - val_recall: 0.0450\n",
      "Epoch 69/100\n",
      "34489/34489 [==============================] - 1s 36us/sample - loss: 0.4384 - recall: 0.0549 - val_loss: 0.4456 - val_recall: 0.0463\n",
      "Epoch 70/100\n",
      "34489/34489 [==============================] - 1s 41us/sample - loss: 0.4379 - recall: 0.0549 - val_loss: 0.4450 - val_recall: 0.0475\n",
      "Epoch 71/100\n",
      "34489/34489 [==============================] - 1s 39us/sample - loss: 0.4377 - recall: 0.0560 - val_loss: 0.4449 - val_recall: 0.0506\n",
      "Epoch 72/100\n",
      "34489/34489 [==============================] - 1s 34us/sample - loss: 0.4373 - recall: 0.0563 - val_loss: 0.4445 - val_recall: 0.0481\n",
      "Epoch 73/100\n",
      "34489/34489 [==============================] - 1s 40us/sample - loss: 0.4371 - recall: 0.0576 - val_loss: 0.4448 - val_recall: 0.0463\n",
      "Epoch 74/100\n",
      "34489/34489 [==============================] - 1s 34us/sample - loss: 0.4368 - recall: 0.0568 - val_loss: 0.4440 - val_recall: 0.0512\n",
      "Epoch 75/100\n",
      "34489/34489 [==============================] - 1s 36us/sample - loss: 0.4365 - recall: 0.0590 - val_loss: 0.4436 - val_recall: 0.0525\n",
      "Epoch 76/100\n",
      "34489/34489 [==============================] - 1s 37us/sample - loss: 0.4362 - recall: 0.0588 - val_loss: 0.4433 - val_recall: 0.0481\n",
      "Epoch 77/100\n",
      "34489/34489 [==============================] - 1s 39us/sample - loss: 0.4359 - recall: 0.0604 - val_loss: 0.4437 - val_recall: 0.0481\n",
      "Epoch 78/100\n",
      "34489/34489 [==============================] - 1s 39us/sample - loss: 0.4356 - recall: 0.0611 - val_loss: 0.4432 - val_recall: 0.0494\n",
      "Epoch 79/100\n",
      "34489/34489 [==============================] - 1s 32us/sample - loss: 0.4353 - recall: 0.0600 - val_loss: 0.4424 - val_recall: 0.0531\n",
      "Epoch 80/100\n",
      "34489/34489 [==============================] - 1s 32us/sample - loss: 0.4350 - recall: 0.0607 - val_loss: 0.4427 - val_recall: 0.0569\n",
      "Epoch 81/100\n",
      "34489/34489 [==============================] - 1s 29us/sample - loss: 0.4348 - recall: 0.0622 - val_loss: 0.4419 - val_recall: 0.0538\n",
      "Epoch 82/100\n",
      "34489/34489 [==============================] - 1s 31us/sample - loss: 0.4345 - recall: 0.0623 - val_loss: 0.4419 - val_recall: 0.0494\n",
      "Epoch 83/100\n",
      "34489/34489 [==============================] - 1s 39us/sample - loss: 0.4341 - recall: 0.0636 - val_loss: 0.4414 - val_recall: 0.0525\n",
      "Epoch 84/100\n",
      "34489/34489 [==============================] - 1s 38us/sample - loss: 0.4338 - recall: 0.0626 - val_loss: 0.4411 - val_recall: 0.0562\n",
      "Epoch 85/100\n",
      "34489/34489 [==============================] - 1s 40us/sample - loss: 0.4335 - recall: 0.0631 - val_loss: 0.4412 - val_recall: 0.0512\n",
      "Epoch 86/100\n",
      "34489/34489 [==============================] - 1s 36us/sample - loss: 0.4333 - recall: 0.0626 - val_loss: 0.4411 - val_recall: 0.0506\n",
      "Epoch 87/100\n",
      "34489/34489 [==============================] - 1s 38us/sample - loss: 0.4329 - recall: 0.0649 - val_loss: 0.4405 - val_recall: 0.0556\n",
      "Epoch 88/100\n",
      "34489/34489 [==============================] - 1s 40us/sample - loss: 0.4326 - recall: 0.0647 - val_loss: 0.4400 - val_recall: 0.0594\n",
      "Epoch 89/100\n",
      "34489/34489 [==============================] - 1s 38us/sample - loss: 0.4324 - recall: 0.0655 - val_loss: 0.4400 - val_recall: 0.0525\n",
      "Epoch 90/100\n",
      "34489/34489 [==============================] - 1s 37us/sample - loss: 0.4321 - recall: 0.0655 - val_loss: 0.4394 - val_recall: 0.0581\n",
      "Epoch 91/100\n",
      "34489/34489 [==============================] - 1s 39us/sample - loss: 0.4318 - recall: 0.0671 - val_loss: 0.4390 - val_recall: 0.0594\n",
      "Epoch 92/100\n",
      "34489/34489 [==============================] - 1s 39us/sample - loss: 0.4316 - recall: 0.0680 - val_loss: 0.4394 - val_recall: 0.0544\n",
      "Epoch 93/100\n",
      "34489/34489 [==============================] - 1s 40us/sample - loss: 0.4314 - recall: 0.0671 - val_loss: 0.4395 - val_recall: 0.0550\n",
      "Epoch 94/100\n",
      "34489/34489 [==============================] - 1s 41us/sample - loss: 0.4311 - recall: 0.0679 - val_loss: 0.4386 - val_recall: 0.0562\n",
      "Epoch 95/100\n",
      "34489/34489 [==============================] - 1s 33us/sample - loss: 0.4307 - recall: 0.0687 - val_loss: 0.4385 - val_recall: 0.0569\n",
      "Epoch 96/100\n",
      "34489/34489 [==============================] - 1s 40us/sample - loss: 0.4305 - recall: 0.0692 - val_loss: 0.4378 - val_recall: 0.0637\n",
      "Epoch 97/100\n",
      "34489/34489 [==============================] - 1s 43us/sample - loss: 0.4303 - recall: 0.0692 - val_loss: 0.4374 - val_recall: 0.0625\n",
      "Epoch 98/100\n",
      "34489/34489 [==============================] - 1s 40us/sample - loss: 0.4298 - recall: 0.0701 - val_loss: 0.4378 - val_recall: 0.0569\n",
      "Epoch 99/100\n",
      "34489/34489 [==============================] - 1s 38us/sample - loss: 0.4296 - recall: 0.0703 - val_loss: 0.4374 - val_recall: 0.0587\n",
      "Epoch 100/100\n",
      "34489/34489 [==============================] - 1s 33us/sample - loss: 0.4295 - recall: 0.0706 - val_loss: 0.4371 - val_recall: 0.0656\n"
     ]
    }
   ],
   "source": [
    "model1_history = mlp_model1.fit(X_train_proc_arr, y_train, epochs=100, batch_size=64, validation_split=0.2)"
   ]
  },
  {
   "cell_type": "markdown",
   "metadata": {},
   "source": [
    "##### Plot"
   ]
  },
  {
   "cell_type": "code",
   "execution_count": 52,
   "metadata": {},
   "outputs": [
    {
     "name": "stdout",
     "output_type": "stream",
     "text": [
      "dict_keys(['loss', 'recall', 'val_loss', 'val_recall'])\n"
     ]
    }
   ],
   "source": [
    "print(model1_history.history.keys())"
   ]
  },
  {
   "cell_type": "code",
   "execution_count": 53,
   "metadata": {},
   "outputs": [
    {
     "data": {
      "image/png": "[encoded data removed]",
      "text/plain": [
       "<Figure size 432x288 with 1 Axes>"
      ]
     },
     "metadata": {
      "needs_background": "light"
     },
     "output_type": "display_data"
    }
   ],
   "source": [
    "plt.plot(model1_history.history['recall'])\n",
    "plt.plot(model1_history.history['val_recall'])\n",
    "plt.title('Recall Plot')\n",
    "plt.ylabel('Recall')\n",
    "plt.xlabel('Epoch')\n",
    "plt.legend(['Train', 'Validation'])\n",
    "plt.show()"
   ]
  },
  {
   "cell_type": "code",
   "execution_count": 54,
   "metadata": {},
   "outputs": [
    {
     "data": {
      "image/png": "[encoded data removed]",
      "text/plain": [
       "<Figure size 432x288 with 1 Axes>"
      ]
     },
     "metadata": {
      "needs_background": "light"
     },
     "output_type": "display_data"
    }
   ],
   "source": [
    "plt.plot(model1_history.history['loss'])\n",
    "plt.plot(model1_history.history['val_loss'])\n",
    "plt.title('Loss Function Plot')\n",
    "plt.ylabel('Loss')\n",
    "plt.xlabel('Epoch')\n",
    "plt.legend(['Train', 'Validation'])\n",
    "plt.show()"
   ]
  },
  {
   "cell_type": "markdown",
   "metadata": {},
   "source": [
    "#### Predictions"
   ]
  },
  {
   "cell_type": "code",
   "execution_count": 55,
   "metadata": {},
   "outputs": [],
   "source": [
    "train_model1_pred = mlp_model1.predict_classes(X_train_proc_arr)\n",
    "val_model1_pred = mlp_model1.predict_classes(X_val_proc_arr)"
   ]
  },
  {
   "cell_type": "markdown",
   "metadata": {},
   "source": [
    "#### Getting evaluation metrics and evaluating model performance"
   ]
  },
  {
   "cell_type": "code",
   "execution_count": 56,
   "metadata": {},
   "outputs": [
    {
     "name": "stdout",
     "output_type": "stream",
     "text": [
      "[[34963   244]\n",
      " [ 7335   570]]\n",
      "[[14965   124]\n",
      " [ 3131   257]]\n"
     ]
    }
   ],
   "source": [
    "confusion_matrix_train = confusion_matrix(y_train, train_model1_pred)\n",
    "confusion_matrix_val = confusion_matrix(y_val, val_model1_pred)\n",
    "\n",
    "print(confusion_matrix_train)\n",
    "print(confusion_matrix_val)"
   ]
  },
  {
   "cell_type": "markdown",
   "metadata": {},
   "source": [
    "#### Calculate Accuracy, True Positive Rate and True Negative Rates"
   ]
  },
  {
   "cell_type": "code",
   "execution_count": 57,
   "metadata": {},
   "outputs": [
    {
     "name": "stdout",
     "output_type": "stream",
     "text": [
      "Train Accuracy:  0.8242020783076638\n",
      "Train Recall:  0.07210626185958255\n",
      "Train Precision:  0.7002457002457002\n",
      "-----------------------\n",
      "Val Accuracy:  0.8238350381555447\n",
      "Val Recall:  0.07585596221959859\n",
      "Val Precision:  0.6745406824146981\n"
     ]
    }
   ],
   "source": [
    "accuracy_score_train = accuracy_score(y_train, train_model1_pred)\n",
    "accuracy_score_val = accuracy_score(y_val, val_model1_pred)\n",
    "\n",
    "recall_score_train = recall_score(y_train, train_model1_pred)\n",
    "recall_score_val = recall_score(y_val, val_model1_pred)\n",
    "\n",
    "precision_score_train = precision_score(y_train, train_model1_pred)\n",
    "precision_score_val = precision_score(y_val, val_model1_pred)\n",
    "\n",
    "\n",
    "print(\"Train Accuracy: \",accuracy_score_train)\n",
    "print(\"Train Recall: \",recall_score_train)\n",
    "print(\"Train Precision: \",precision_score_train)\n",
    "\n",
    "print(\"-----------------------\")\n",
    "\n",
    "print(\"Val Accuracy: \",accuracy_score_val)\n",
    "print(\"Val Recall: \",recall_score_val)\n",
    "print(\"Val Precision: \",precision_score_val)"
   ]
  },
  {
   "cell_type": "markdown",
   "metadata": {},
   "source": [
    "### MLP with 2 layers\n",
    "\n",
    "    1 hidden layer with 20 neurons"
   ]
  },
  {
   "cell_type": "code",
   "execution_count": 58,
   "metadata": {},
   "outputs": [],
   "source": [
    "mlp_model2 = Sequential()\n",
    "\n",
    "mlp_model2.add(Dense(20, input_shape=(27,), activation='sigmoid', kernel_initializer='normal'))\n",
    "mlp_model2.add(Dense(1, activation='sigmoid', kernel_initializer='normal'))"
   ]
  },
  {
   "cell_type": "code",
   "execution_count": 59,
   "metadata": {},
   "outputs": [
    {
     "name": "stdout",
     "output_type": "stream",
     "text": [
      "Model: \"sequential_2\"\n",
      "_________________________________________________________________\n",
      "Layer (type)                 Output Shape              Param #   \n",
      "=================================================================\n",
      "dense_3 (Dense)              (None, 20)                560       \n",
      "_________________________________________________________________\n",
      "dense_4 (Dense)              (None, 1)                 21        \n",
      "=================================================================\n",
      "Total params: 581\n",
      "Trainable params: 581\n",
      "Non-trainable params: 0\n",
      "_________________________________________________________________\n"
     ]
    }
   ],
   "source": [
    "mlp_model2.summary()"
   ]
  },
  {
   "cell_type": "markdown",
   "metadata": {},
   "source": [
    "#### Callbacks - Early Stopping & ModelCheckpoint"
   ]
  },
  {
   "cell_type": "code",
   "execution_count": 60,
   "metadata": {},
   "outputs": [
    {
     "data": {
      "text/plain": [
       "'/home/seemab/AI_and_DecisionSciences/DeepLearning'"
      ]
     },
     "execution_count": 60,
     "metadata": {},
     "output_type": "execute_result"
    }
   ],
   "source": [
    "import os\n",
    "cwd = os.getcwd()\n",
    "cwd"
   ]
  },
  {
   "cell_type": "code",
   "execution_count": 61,
   "metadata": {},
   "outputs": [],
   "source": [
    "early_stopping = EarlyStopping(monitor='val_loss', patience=5, mode='min', verbose=1, min_delta=0.001)\n",
    "    \n",
    "model_checkpoint = ModelCheckpoint(\n",
    "        os.path.join(cwd, 'mlp_backorders.h5'),\n",
    "        save_weights_only=True,\n",
    "        save_best_only=True,\n",
    "        verbose=1)"
   ]
  },
  {
   "cell_type": "code",
   "execution_count": 62,
   "metadata": {},
   "outputs": [],
   "source": [
    "callbacks = [early_stopping, model_checkpoint]"
   ]
  },
  {
   "cell_type": "code",
   "execution_count": 63,
   "metadata": {},
   "outputs": [],
   "source": [
    "mlp_model2.compile(loss='binary_crossentropy', optimizer='sgd', metrics=[tf.keras.metrics.Recall(name='recall')])"
   ]
  },
  {
   "cell_type": "code",
   "execution_count": 64,
   "metadata": {},
   "outputs": [
    {
     "name": "stdout",
     "output_type": "stream",
     "text": [
      "Train on 34489 samples, validate on 8623 samples\n",
      "Epoch 1/100\n",
      "33024/34489 [===========================>..] - ETA: 0s - loss: 0.4941 - recall: 0.0134\n",
      "Epoch 00001: val_loss improved from inf to 0.47943, saving model to /home/seemab/AI_and_DecisionSciences/DeepLearning/mlp_backorders.h5\n",
      "34489/34489 [==============================] - 2s 54us/sample - loss: 0.4935 - recall: 0.0128 - val_loss: 0.4794 - val_recall: 0.0000e+00\n",
      "Epoch 2/100\n",
      "32256/34489 [===========================>..] - ETA: 0s - loss: 0.4759 - recall: 0.0000e+00\n",
      "Epoch 00002: val_loss improved from 0.47943 to 0.47913, saving model to /home/seemab/AI_and_DecisionSciences/DeepLearning/mlp_backorders.h5\n",
      "34489/34489 [==============================] - 1s 34us/sample - loss: 0.4750 - recall: 0.0000e+00 - val_loss: 0.4791 - val_recall: 0.0000e+00\n",
      "Epoch 3/100\n",
      "32320/34489 [===========================>..] - ETA: 0s - loss: 0.4755 - recall: 0.0000e+00\n",
      "Epoch 00003: val_loss improved from 0.47913 to 0.47886, saving model to /home/seemab/AI_and_DecisionSciences/DeepLearning/mlp_backorders.h5\n",
      "34489/34489 [==============================] - 1s 24us/sample - loss: 0.4747 - recall: 0.0000e+00 - val_loss: 0.4789 - val_recall: 0.0000e+00\n",
      "Epoch 4/100\n",
      "32640/34489 [===========================>..] - ETA: 0s - loss: 0.4729 - recall: 0.0000e+00\n",
      "Epoch 00004: val_loss improved from 0.47886 to 0.47849, saving model to /home/seemab/AI_and_DecisionSciences/DeepLearning/mlp_backorders.h5\n",
      "34489/34489 [==============================] - 1s 32us/sample - loss: 0.4743 - recall: 0.0000e+00 - val_loss: 0.4785 - val_recall: 0.0000e+00\n",
      "Epoch 5/100\n",
      "33856/34489 [============================>.] - ETA: 0s - loss: 0.4740 - recall: 0.0000e+00 ETA: 0s - loss: 0.4732 - recall: 0.0000\n",
      "Epoch 00005: val_loss improved from 0.47849 to 0.47816, saving model to /home/seemab/AI_and_DecisionSciences/DeepLearning/mlp_backorders.h5\n",
      "34489/34489 [==============================] - 1s 38us/sample - loss: 0.4740 - recall: 0.0000e+00 - val_loss: 0.4782 - val_recall: 0.0000e+00\n",
      "Epoch 6/100\n",
      "34432/34489 [============================>.] - ETA: 0s - loss: 0.4737 - recall: 0.0000e+00\n",
      "Epoch 00006: val_loss improved from 0.47816 to 0.47787, saving model to /home/seemab/AI_and_DecisionSciences/DeepLearning/mlp_backorders.h5\n",
      "34489/34489 [==============================] - 1s 31us/sample - loss: 0.4737 - recall: 0.0000e+00 - val_loss: 0.4779 - val_recall: 0.0000e+00\n",
      "Epoch 7/100\n",
      "32192/34489 [===========================>..] - ETA: 0s - loss: 0.4734 - recall: 0.0000e+00\n",
      "Epoch 00007: val_loss improved from 0.47787 to 0.47757, saving model to /home/seemab/AI_and_DecisionSciences/DeepLearning/mlp_backorders.h5\n",
      "34489/34489 [==============================] - 1s 27us/sample - loss: 0.4734 - recall: 0.0000e+00 - val_loss: 0.4776 - val_recall: 0.0000e+00\n",
      "Epoch 8/100\n",
      "34368/34489 [============================>.] - ETA: 0s - loss: 0.4733 - recall: 0.0000e+00\n",
      "Epoch 00008: val_loss improved from 0.47757 to 0.47734, saving model to /home/seemab/AI_and_DecisionSciences/DeepLearning/mlp_backorders.h5\n",
      "34489/34489 [==============================] - 1s 26us/sample - loss: 0.4731 - recall: 0.0000e+00 - val_loss: 0.4773 - val_recall: 0.0000e+00\n",
      "Epoch 9/100\n",
      "33984/34489 [============================>.] - ETA: 0s - loss: 0.4730 - recall: 0.0000e+00 ETA: 0s - loss: 0.4720 - recall: 0.0000e+\n",
      "Epoch 00009: val_loss improved from 0.47734 to 0.47700, saving model to /home/seemab/AI_and_DecisionSciences/DeepLearning/mlp_backorders.h5\n",
      "34489/34489 [==============================] - 1s 26us/sample - loss: 0.4728 - recall: 0.0000e+00 - val_loss: 0.4770 - val_recall: 0.0000e+00\n",
      "Epoch 10/100\n",
      "33664/34489 [============================>.] - ETA: 0s - loss: 0.4733 - recall: 0.0000e+00\n",
      "Epoch 00010: val_loss improved from 0.47700 to 0.47694, saving model to /home/seemab/AI_and_DecisionSciences/DeepLearning/mlp_backorders.h5\n",
      "34489/34489 [==============================] - 1s 40us/sample - loss: 0.4724 - recall: 0.0000e+00 - val_loss: 0.4769 - val_recall: 0.0000e+00\n",
      "Epoch 11/100\n",
      "33280/34489 [===========================>..] - ETA: 0s - loss: 0.4728 - recall: 0.0000e+00\n",
      "Epoch 00011: val_loss improved from 0.47694 to 0.47657, saving model to /home/seemab/AI_and_DecisionSciences/DeepLearning/mlp_backorders.h5\n",
      "34489/34489 [==============================] - 1s 40us/sample - loss: 0.4722 - recall: 0.0000e+00 - val_loss: 0.4766 - val_recall: 0.0000e+00\n",
      "Epoch 12/100\n",
      "33472/34489 [============================>.] - ETA: 0s - loss: 0.4716 - recall: 0.0000e+00\n",
      "Epoch 00012: val_loss improved from 0.47657 to 0.47623, saving model to /home/seemab/AI_and_DecisionSciences/DeepLearning/mlp_backorders.h5\n",
      "34489/34489 [==============================] - 1s 36us/sample - loss: 0.4719 - recall: 0.0000e+00 - val_loss: 0.4762 - val_recall: 0.0000e+00\n",
      "Epoch 13/100\n",
      "34304/34489 [============================>.] - ETA: 0s - loss: 0.4712 - recall: 0.0000e+00\n",
      "Epoch 00013: val_loss improved from 0.47623 to 0.47598, saving model to /home/seemab/AI_and_DecisionSciences/DeepLearning/mlp_backorders.h5\n",
      "34489/34489 [==============================] - 1s 41us/sample - loss: 0.4715 - recall: 0.0000e+00 - val_loss: 0.4760 - val_recall: 0.0000e+00\n",
      "Epoch 14/100\n",
      "33920/34489 [============================>.] - ETA: 0s - loss: 0.4715 - recall: 0.0000e+00 ETA: 0s - loss: 0.4703 \n",
      "Epoch 00014: val_loss improved from 0.47598 to 0.47568, saving model to /home/seemab/AI_and_DecisionSciences/DeepLearning/mlp_backorders.h5\n",
      "34489/34489 [==============================] - 1s 41us/sample - loss: 0.4713 - recall: 0.0000e+00 - val_loss: 0.4757 - val_recall: 0.0000e+00\n",
      "Epoch 15/100\n",
      "33536/34489 [============================>.] - ETA: 0s - loss: 0.4723 - recall: 0.0000e+00\n",
      "Epoch 00015: val_loss improved from 0.47568 to 0.47559, saving model to /home/seemab/AI_and_DecisionSciences/DeepLearning/mlp_backorders.h5\n",
      "34489/34489 [==============================] - 1s 43us/sample - loss: 0.4709 - recall: 0.0000e+00 - val_loss: 0.4756 - val_recall: 0.0000e+00\n",
      "Epoch 16/100\n",
      "32768/34489 [===========================>..] - ETA: 0s - loss: 0.4708 - recall: 0.0000e+00\n",
      "Epoch 00016: val_loss improved from 0.47559 to 0.47512, saving model to /home/seemab/AI_and_DecisionSciences/DeepLearning/mlp_backorders.h5\n",
      "34489/34489 [==============================] - 1s 38us/sample - loss: 0.4707 - recall: 0.0000e+00 - val_loss: 0.4751 - val_recall: 0.0000e+00\n",
      "Epoch 17/100\n",
      "34304/34489 [============================>.] - ETA: 0s - loss: 0.4703 - recall: 0.0000e+00\n",
      "Epoch 00017: val_loss improved from 0.47512 to 0.47502, saving model to /home/seemab/AI_and_DecisionSciences/DeepLearning/mlp_backorders.h5\n",
      "34489/34489 [==============================] - 1s 42us/sample - loss: 0.4704 - recall: 0.0000e+00 - val_loss: 0.4750 - val_recall: 0.0000e+00\n",
      "Epoch 18/100\n",
      "34368/34489 [============================>.] - ETA: 0s - loss: 0.4703 - recall: 0.0000e+00\n",
      "Epoch 00018: val_loss improved from 0.47502 to 0.47459, saving model to /home/seemab/AI_and_DecisionSciences/DeepLearning/mlp_backorders.h5\n",
      "34489/34489 [==============================] - 2s 45us/sample - loss: 0.4701 - recall: 0.0000e+00 - val_loss: 0.4746 - val_recall: 0.0000e+00\n",
      "Epoch 19/100\n",
      "33600/34489 [============================>.] - ETA: 0s - loss: 0.4703 - recall: 0.0000e+00\n",
      "Epoch 00019: val_loss improved from 0.47459 to 0.47450, saving model to /home/seemab/AI_and_DecisionSciences/DeepLearning/mlp_backorders.h5\n",
      "34489/34489 [==============================] - 1s 39us/sample - loss: 0.4698 - recall: 0.0000e+00 - val_loss: 0.4745 - val_recall: 0.0000e+00\n",
      "Epoch 20/100\n",
      "32256/34489 [===========================>..] - ETA: 0s - loss: 0.4704 - recall: 0.0000e+00\n",
      "Epoch 00020: val_loss improved from 0.47450 to 0.47411, saving model to /home/seemab/AI_and_DecisionSciences/DeepLearning/mlp_backorders.h5\n",
      "34489/34489 [==============================] - 1s 38us/sample - loss: 0.4695 - recall: 0.0000e+00 - val_loss: 0.4741 - val_recall: 0.0000e+00\n",
      "Epoch 21/100\n",
      "33856/34489 [============================>.] - ETA: 0s - loss: 0.4689 - recall: 0.0000e+00\n",
      "Epoch 00021: val_loss improved from 0.47411 to 0.47382, saving model to /home/seemab/AI_and_DecisionSciences/DeepLearning/mlp_backorders.h5\n",
      "34489/34489 [==============================] - 1s 34us/sample - loss: 0.4692 - recall: 0.0000e+00 - val_loss: 0.4738 - val_recall: 0.0000e+00\n",
      "Epoch 22/100\n",
      "33408/34489 [============================>.] - ETA: 0s - loss: 0.4691 - recall: 0.0000e+00\n",
      "Epoch 00022: val_loss improved from 0.47382 to 0.47360, saving model to /home/seemab/AI_and_DecisionSciences/DeepLearning/mlp_backorders.h5\n",
      "34489/34489 [==============================] - 1s 35us/sample - loss: 0.4690 - recall: 0.0000e+00 - val_loss: 0.4736 - val_recall: 0.0000e+00\n",
      "Epoch 23/100\n",
      "32704/34489 [===========================>..] - ETA: 0s - loss: 0.4691 - recall: 0.0000e+00\n",
      "Epoch 00023: val_loss improved from 0.47360 to 0.47337, saving model to /home/seemab/AI_and_DecisionSciences/DeepLearning/mlp_backorders.h5\n",
      "34489/34489 [==============================] - 1s 28us/sample - loss: 0.4687 - recall: 0.0000e+00 - val_loss: 0.4734 - val_recall: 0.0000e+00\n",
      "Epoch 24/100\n",
      "34432/34489 [============================>.] - ETA: 0s - loss: 0.4686 - recall: 0.0000e+00\n",
      "Epoch 00024: val_loss improved from 0.47337 to 0.47310, saving model to /home/seemab/AI_and_DecisionSciences/DeepLearning/mlp_backorders.h5\n",
      "34489/34489 [==============================] - 1s 35us/sample - loss: 0.4684 - recall: 0.0000e+00 - val_loss: 0.4731 - val_recall: 0.0000e+00\n",
      "Epoch 25/100\n",
      "34176/34489 [============================>.] - ETA: 0s - loss: 0.4682 - recall: 0.0000e+00\n",
      "Epoch 00025: val_loss improved from 0.47310 to 0.47291, saving model to /home/seemab/AI_and_DecisionSciences/DeepLearning/mlp_backorders.h5\n",
      "34489/34489 [==============================] - 1s 42us/sample - loss: 0.4682 - recall: 0.0000e+00 - val_loss: 0.4729 - val_recall: 0.0000e+00\n",
      "Epoch 26/100\n",
      "34048/34489 [============================>.] - ETA: 0s - loss: 0.4682 - recall: 0.0000e+00\n",
      "Epoch 00026: val_loss improved from 0.47291 to 0.47263, saving model to /home/seemab/AI_and_DecisionSciences/DeepLearning/mlp_backorders.h5\n",
      "34489/34489 [==============================] - 1s 34us/sample - loss: 0.4679 - recall: 0.0000e+00 - val_loss: 0.4726 - val_recall: 0.0000e+00\n",
      "Epoch 27/100\n",
      "33600/34489 [============================>.] - ETA: 0s - loss: 0.4684 - recall: 0.0000e+00\n",
      "Epoch 00027: val_loss improved from 0.47263 to 0.47237, saving model to /home/seemab/AI_and_DecisionSciences/DeepLearning/mlp_backorders.h5\n",
      "34489/34489 [==============================] - 1s 26us/sample - loss: 0.4676 - recall: 0.0000e+00 - val_loss: 0.4724 - val_recall: 0.0000e+00\n",
      "Epoch 28/100\n",
      "33728/34489 [============================>.] - ETA: 0s - loss: 0.4682 - recall: 0.0000e+00 ETA: 0s - loss: 0.4658 - recall: \n",
      "Epoch 00028: val_loss improved from 0.47237 to 0.47214, saving model to /home/seemab/AI_and_DecisionSciences/DeepLearning/mlp_backorders.h5\n",
      "34489/34489 [==============================] - 1s 26us/sample - loss: 0.4674 - recall: 0.0000e+00 - val_loss: 0.4721 - val_recall: 0.0000e+00\n",
      "Epoch 29/100\n",
      "33344/34489 [============================>.] - ETA: 0s - loss: 0.4665 - recall: 1.6445e-04\n",
      "Epoch 00029: val_loss improved from 0.47214 to 0.47186, saving model to /home/seemab/AI_and_DecisionSciences/DeepLearning/mlp_backorders.h5\n",
      "34489/34489 [==============================] - 1s 27us/sample - loss: 0.4671 - recall: 1.5860e-04 - val_loss: 0.4719 - val_recall: 0.0000e+00\n",
      "Epoch 30/100\n",
      "33152/34489 [===========================>..] - ETA: 0s - loss: 0.4666 - recall: 4.9554e-04\n",
      "Epoch 00030: val_loss improved from 0.47186 to 0.47163, saving model to /home/seemab/AI_and_DecisionSciences/DeepLearning/mlp_backorders.h5\n",
      "34489/34489 [==============================] - 1s 23us/sample - loss: 0.4668 - recall: 6.3442e-04 - val_loss: 0.4716 - val_recall: 0.0000e+00\n",
      "Epoch 31/100\n",
      "32896/34489 [===========================>..] - ETA: 0s - loss: 0.4667 - recall: 6.6489e-04\n",
      "Epoch 00031: val_loss improved from 0.47163 to 0.47140, saving model to /home/seemab/AI_and_DecisionSciences/DeepLearning/mlp_backorders.h5\n",
      "34489/34489 [==============================] - 1s 27us/sample - loss: 0.4666 - recall: 7.9302e-04 - val_loss: 0.4714 - val_recall: 0.0000e+00\n",
      "Epoch 32/100\n",
      "31936/34489 [==========================>...] - ETA: 0s - loss: 0.4665 - recall: 0.0012\n",
      "Epoch 00032: val_loss improved from 0.47140 to 0.47126, saving model to /home/seemab/AI_and_DecisionSciences/DeepLearning/mlp_backorders.h5\n",
      "34489/34489 [==============================] - 1s 25us/sample - loss: 0.4663 - recall: 0.0011 - val_loss: 0.4713 - val_recall: 0.0000e+00\n",
      "Epoch 33/100\n",
      "31872/34489 [==========================>...] - ETA: 0s - loss: 0.4663 - recall: 0.0012    \n",
      "Epoch 00033: val_loss improved from 0.47126 to 0.47102, saving model to /home/seemab/AI_and_DecisionSciences/DeepLearning/mlp_backorders.h5\n",
      "34489/34489 [==============================] - 1s 24us/sample - loss: 0.4661 - recall: 0.0011 - val_loss: 0.4710 - val_recall: 0.0000e+00\n",
      "Epoch 34/100\n",
      "33280/34489 [===========================>..] - ETA: 0s - loss: 0.4659 - recall: 0.0011\n",
      "Epoch 00034: val_loss improved from 0.47102 to 0.47071, saving model to /home/seemab/AI_and_DecisionSciences/DeepLearning/mlp_backorders.h5\n",
      "34489/34489 [==============================] - 1s 25us/sample - loss: 0.4658 - recall: 0.0011 - val_loss: 0.4707 - val_recall: 0.0000e+00\n",
      "Epoch 35/100\n",
      "33472/34489 [============================>.] - ETA: 0s - loss: 0.4656 - recall: 0.0011\n",
      "Epoch 00035: val_loss improved from 0.47071 to 0.47055, saving model to /home/seemab/AI_and_DecisionSciences/DeepLearning/mlp_backorders.h5\n",
      "34489/34489 [==============================] - 1s 26us/sample - loss: 0.4656 - recall: 0.0011 - val_loss: 0.4706 - val_recall: 0.0000e+00\n",
      "Epoch 36/100\n",
      "32640/34489 [===========================>..] - ETA: 0s - loss: 0.4664 - recall: 0.0013 ETA: 0s - loss: 0.465\n",
      "Epoch 00036: val_loss improved from 0.47055 to 0.47034, saving model to /home/seemab/AI_and_DecisionSciences/DeepLearning/mlp_backorders.h5\n",
      "34489/34489 [==============================] - 1s 32us/sample - loss: 0.4654 - recall: 0.0013 - val_loss: 0.4703 - val_recall: 0.0000e+00\n",
      "Epoch 37/100\n",
      "33600/34489 [============================>.] - ETA: 0s - loss: 0.4653 - recall: 0.0016\n",
      "Epoch 00037: val_loss improved from 0.47034 to 0.47009, saving model to /home/seemab/AI_and_DecisionSciences/DeepLearning/mlp_backorders.h5\n",
      "34489/34489 [==============================] - 1s 34us/sample - loss: 0.4651 - recall: 0.0016 - val_loss: 0.4701 - val_recall: 0.0000e+00\n",
      "Epoch 38/100\n",
      "31872/34489 [==========================>...] - ETA: 0s - loss: 0.4650 - recall: 0.0017\n",
      "Epoch 00038: val_loss improved from 0.47009 to 0.46984, saving model to /home/seemab/AI_and_DecisionSciences/DeepLearning/mlp_backorders.h5\n",
      "34489/34489 [==============================] - 1s 23us/sample - loss: 0.4649 - recall: 0.0016 - val_loss: 0.4698 - val_recall: 6.2500e-04\n",
      "Epoch 39/100\n",
      "33536/34489 [============================>.] - ETA: 0s - loss: 0.4644 - recall: 0.0016  \n",
      "Epoch 00039: val_loss improved from 0.46984 to 0.46970, saving model to /home/seemab/AI_and_DecisionSciences/DeepLearning/mlp_backorders.h5\n",
      "34489/34489 [==============================] - 1s 21us/sample - loss: 0.4647 - recall: 0.0016 - val_loss: 0.4697 - val_recall: 6.2500e-04\n",
      "Epoch 40/100\n",
      "34048/34489 [============================>.] - ETA: 0s - loss: 0.4640 - recall: 0.0016\n",
      "Epoch 00040: val_loss improved from 0.46970 to 0.46945, saving model to /home/seemab/AI_and_DecisionSciences/DeepLearning/mlp_backorders.h5\n",
      "34489/34489 [==============================] - 1s 22us/sample - loss: 0.4645 - recall: 0.0017 - val_loss: 0.4695 - val_recall: 0.0019\n",
      "Epoch 41/100\n",
      "33856/34489 [============================>.] - ETA: 0s - loss: 0.4646 - recall: 0.0019\n",
      "Epoch 00041: val_loss improved from 0.46945 to 0.46920, saving model to /home/seemab/AI_and_DecisionSciences/DeepLearning/mlp_backorders.h5\n",
      "34489/34489 [==============================] - 1s 25us/sample - loss: 0.4642 - recall: 0.0019 - val_loss: 0.4692 - val_recall: 0.0019\n",
      "Epoch 42/100\n",
      "32704/34489 [===========================>..] - ETA: 0s - loss: 0.4614 - recall: 0.0025\n",
      "Epoch 00042: val_loss improved from 0.46920 to 0.46903, saving model to /home/seemab/AI_and_DecisionSciences/DeepLearning/mlp_backorders.h5\n",
      "34489/34489 [==============================] - 1s 32us/sample - loss: 0.4640 - recall: 0.0027 - val_loss: 0.4690 - val_recall: 0.0019\n",
      "Epoch 43/100\n",
      "33664/34489 [============================>.] - ETA: 0s - loss: 0.4635 - recall: 0.0034\n",
      "Epoch 00043: val_loss improved from 0.46903 to 0.46877, saving model to /home/seemab/AI_and_DecisionSciences/DeepLearning/mlp_backorders.h5\n",
      "34489/34489 [==============================] - 1s 30us/sample - loss: 0.4638 - recall: 0.0033 - val_loss: 0.4688 - val_recall: 0.0019\n",
      "Epoch 44/100\n",
      "32128/34489 [==========================>...] - ETA: 0s - loss: 0.4643 - recall: 0.0036\n",
      "Epoch 00044: val_loss improved from 0.46877 to 0.46861, saving model to /home/seemab/AI_and_DecisionSciences/DeepLearning/mlp_backorders.h5\n",
      "34489/34489 [==============================] - 1s 28us/sample - loss: 0.4636 - recall: 0.0035 - val_loss: 0.4686 - val_recall: 0.0019\n",
      "Epoch 45/100\n",
      "34432/34489 [============================>.] - ETA: 0s - loss: 0.4635 - recall: 0.0035\n",
      "Epoch 00045: val_loss improved from 0.46861 to 0.46839, saving model to /home/seemab/AI_and_DecisionSciences/DeepLearning/mlp_backorders.h5\n",
      "34489/34489 [==============================] - 1s 30us/sample - loss: 0.4634 - recall: 0.0035 - val_loss: 0.4684 - val_recall: 0.0025\n",
      "Epoch 46/100\n",
      "34304/34489 [============================>.] - ETA: 0s - loss: 0.4631 - recall: 0.0035\n",
      "Epoch 00046: val_loss improved from 0.46839 to 0.46817, saving model to /home/seemab/AI_and_DecisionSciences/DeepLearning/mlp_backorders.h5\n",
      "34489/34489 [==============================] - 1s 27us/sample - loss: 0.4632 - recall: 0.0035 - val_loss: 0.4682 - val_recall: 0.0025\n",
      "Epoch 47/100\n",
      "34176/34489 [============================>.] - ETA: 0s - loss: 0.4630 - recall: 0.0035\n",
      "Epoch 00047: val_loss improved from 0.46817 to 0.46797, saving model to /home/seemab/AI_and_DecisionSciences/DeepLearning/mlp_backorders.h5\n",
      "34489/34489 [==============================] - 1s 28us/sample - loss: 0.4629 - recall: 0.0035 - val_loss: 0.4680 - val_recall: 0.0025\n",
      "Epoch 48/100\n",
      "34240/34489 [============================>.] - ETA: 0s - loss: 0.4632 - recall: 0.0034 ETA: 0s - loss: 0.4634 - recall\n",
      "Epoch 00048: val_loss improved from 0.46797 to 0.46775, saving model to /home/seemab/AI_and_DecisionSciences/DeepLearning/mlp_backorders.h5\n",
      "34489/34489 [==============================] - 1s 31us/sample - loss: 0.4628 - recall: 0.0035 - val_loss: 0.4678 - val_recall: 0.0025\n",
      "Epoch 49/100\n",
      "33856/34489 [============================>.] - ETA: 0s - loss: 0.4623 - recall: 0.0037\n",
      "Epoch 00049: val_loss improved from 0.46775 to 0.46754, saving model to /home/seemab/AI_and_DecisionSciences/DeepLearning/mlp_backorders.h5\n",
      "34489/34489 [==============================] - 1s 32us/sample - loss: 0.4625 - recall: 0.0036 - val_loss: 0.4675 - val_recall: 0.0025\n",
      "Epoch 50/100\n",
      "32896/34489 [===========================>..] - ETA: 0s - loss: 0.4615 - recall: 0.0038\n",
      "Epoch 00050: val_loss improved from 0.46754 to 0.46733, saving model to /home/seemab/AI_and_DecisionSciences/DeepLearning/mlp_backorders.h5\n",
      "34489/34489 [==============================] - 1s 32us/sample - loss: 0.4623 - recall: 0.0038 - val_loss: 0.4673 - val_recall: 0.0031\n",
      "Epoch 51/100\n",
      "33536/34489 [============================>.] - ETA: 0s - loss: 0.4617 - recall: 0.0039\n",
      "Epoch 00051: val_loss improved from 0.46733 to 0.46717, saving model to /home/seemab/AI_and_DecisionSciences/DeepLearning/mlp_backorders.h5\n",
      "34489/34489 [==============================] - 1s 28us/sample - loss: 0.4622 - recall: 0.0038 - val_loss: 0.4672 - val_recall: 0.0031\n",
      "Epoch 52/100\n",
      "33920/34489 [============================>.] - ETA: 0s - loss: 0.4620 - recall: 0.0039\n",
      "Epoch 00052: val_loss improved from 0.46717 to 0.46694, saving model to /home/seemab/AI_and_DecisionSciences/DeepLearning/mlp_backorders.h5\n",
      "34489/34489 [==============================] - 1s 25us/sample - loss: 0.4620 - recall: 0.0040 - val_loss: 0.4669 - val_recall: 0.0031\n",
      "Epoch 53/100\n",
      "31808/34489 [==========================>...] - ETA: 0s - loss: 0.4625 - recall: 0.0039 ETA: 0s - loss: 0.4614 - recall: 0.\n",
      "Epoch 00053: val_loss improved from 0.46694 to 0.46678, saving model to /home/seemab/AI_and_DecisionSciences/DeepLearning/mlp_backorders.h5\n",
      "34489/34489 [==============================] - 1s 24us/sample - loss: 0.4617 - recall: 0.0041 - val_loss: 0.4668 - val_recall: 0.0031\n",
      "Epoch 54/100\n",
      "34112/34489 [============================>.] - ETA: 0s - loss: 0.4613 - recall: 0.0040\n",
      "Epoch 00054: val_loss improved from 0.46678 to 0.46655, saving model to /home/seemab/AI_and_DecisionSciences/DeepLearning/mlp_backorders.h5\n",
      "34489/34489 [==============================] - 1s 24us/sample - loss: 0.4616 - recall: 0.0041 - val_loss: 0.4665 - val_recall: 0.0031\n",
      "Epoch 55/100\n",
      "33408/34489 [============================>.] - ETA: 0s - loss: 0.4624 - recall: 0.0042\n",
      "Epoch 00055: val_loss improved from 0.46655 to 0.46642, saving model to /home/seemab/AI_and_DecisionSciences/DeepLearning/mlp_backorders.h5\n",
      "34489/34489 [==============================] - 1s 23us/sample - loss: 0.4614 - recall: 0.0041 - val_loss: 0.4664 - val_recall: 0.0031\n",
      "Epoch 56/100\n",
      "33536/34489 [============================>.] - ETA: 0s - loss: 0.4612 - recall: 0.0042\n",
      "Epoch 00056: val_loss improved from 0.46642 to 0.46635, saving model to /home/seemab/AI_and_DecisionSciences/DeepLearning/mlp_backorders.h5\n",
      "34489/34489 [==============================] - 1s 31us/sample - loss: 0.4612 - recall: 0.0043 - val_loss: 0.4663 - val_recall: 0.0031\n",
      "Epoch 57/100\n",
      "33600/34489 [============================>.] - ETA: 0s - loss: 0.4621 - recall: 0.00 - ETA: 0s - loss: 0.4610 - recall: 0.0049\n",
      "Epoch 00057: val_loss improved from 0.46635 to 0.46606, saving model to /home/seemab/AI_and_DecisionSciences/DeepLearning/mlp_backorders.h5\n",
      "34489/34489 [==============================] - 1s 29us/sample - loss: 0.4610 - recall: 0.0048 - val_loss: 0.4661 - val_recall: 0.0037\n",
      "Epoch 00057: early stopping\n"
     ]
    }
   ],
   "source": [
    "model2_history = mlp_model2.fit(X_train_proc_arr, y_train, epochs=100, batch_size=64, validation_split=0.2, callbacks=callbacks)"
   ]
  },
  {
   "cell_type": "markdown",
   "metadata": {},
   "source": [
    "##### Plot"
   ]
  },
  {
   "cell_type": "code",
   "execution_count": 65,
   "metadata": {},
   "outputs": [
    {
     "name": "stdout",
     "output_type": "stream",
     "text": [
      "dict_keys(['loss', 'recall', 'val_loss', 'val_recall'])\n"
     ]
    }
   ],
   "source": [
    "print(model2_history.history.keys())"
   ]
  },
  {
   "cell_type": "code",
   "execution_count": 66,
   "metadata": {},
   "outputs": [
    {
     "data": {
      "image/png": "[encoded data removed]",
      "text/plain": [
       "<Figure size 432x288 with 1 Axes>"
      ]
     },
     "metadata": {
      "needs_background": "light"
     },
     "output_type": "display_data"
    }
   ],
   "source": [
    "plt.plot(model2_history.history['recall'])\n",
    "plt.plot(model2_history.history['val_recall'])\n",
    "plt.title('Recall Plot')\n",
    "plt.ylabel('Recall')\n",
    "plt.xlabel('Epoch')\n",
    "plt.legend(['Train', 'Validation'])\n",
    "plt.show()"
   ]
  },
  {
   "cell_type": "code",
   "execution_count": 67,
   "metadata": {},
   "outputs": [
    {
     "data": {
      "image/png": "[encoded data removed]",
      "text/plain": [
       "<Figure size 432x288 with 1 Axes>"
      ]
     },
     "metadata": {
      "needs_background": "light"
     },
     "output_type": "display_data"
    }
   ],
   "source": [
    "plt.plot(model2_history.history['loss'])\n",
    "plt.plot(model2_history.history['val_loss'])\n",
    "plt.title('Loss Function Plot')\n",
    "plt.ylabel('Loss')\n",
    "plt.xlabel('Epoch')\n",
    "plt.legend(['Train', 'Validation'])\n",
    "plt.show()"
   ]
  },
  {
   "cell_type": "markdown",
   "metadata": {},
   "source": [
    "#### Predictions"
   ]
  },
  {
   "cell_type": "code",
   "execution_count": 68,
   "metadata": {},
   "outputs": [],
   "source": [
    "train_model2_pred = mlp_model2.predict_classes(X_train_proc_arr)\n",
    "val_model2_pred = mlp_model2.predict_classes(X_val_proc_arr)"
   ]
  },
  {
   "cell_type": "markdown",
   "metadata": {},
   "source": [
    "#### Getting evaluation metrics and evaluating model performance"
   ]
  },
  {
   "cell_type": "code",
   "execution_count": 69,
   "metadata": {},
   "outputs": [
    {
     "name": "stdout",
     "output_type": "stream",
     "text": [
      "[[35174    33]\n",
      " [ 7869    36]]\n",
      "[[15060    29]\n",
      " [ 3370    18]]\n"
     ]
    }
   ],
   "source": [
    "confusion_matrix_train = confusion_matrix(y_train, train_model2_pred)\n",
    "confusion_matrix_val = confusion_matrix(y_val, val_model2_pred)\n",
    "\n",
    "print(confusion_matrix_train)\n",
    "print(confusion_matrix_val)"
   ]
  },
  {
   "cell_type": "markdown",
   "metadata": {},
   "source": [
    "#### Calculate Accuracy, True Positive Rate and True Negative Rates"
   ]
  },
  {
   "cell_type": "code",
   "execution_count": 70,
   "metadata": {},
   "outputs": [
    {
     "name": "stdout",
     "output_type": "stream",
     "text": [
      "Train Accuracy:  0.816709964742995\n",
      "Train Recall:  0.004554079696394687\n",
      "Train Precision:  0.5217391304347826\n",
      "-----------------------\n",
      "Val Accuracy:  0.816041565189154\n",
      "Val Recall:  0.005312868949232586\n",
      "Val Precision:  0.3829787234042553\n"
     ]
    }
   ],
   "source": [
    "accuracy_score_train = accuracy_score(y_train, train_model2_pred)\n",
    "accuracy_score_val = accuracy_score(y_val, val_model2_pred)\n",
    "\n",
    "recall_score_train = recall_score(y_train, train_model2_pred)\n",
    "recall_score_val = recall_score(y_val, val_model2_pred)\n",
    "\n",
    "precision_score_train = precision_score(y_train, train_model2_pred)\n",
    "precision_score_val = precision_score(y_val, val_model2_pred)\n",
    "\n",
    "\n",
    "print(\"Train Accuracy: \",accuracy_score_train)\n",
    "print(\"Train Recall: \",recall_score_train)\n",
    "print(\"Train Precision: \",precision_score_train)\n",
    "\n",
    "print(\"-----------------------\")\n",
    "\n",
    "print(\"Val Accuracy: \",accuracy_score_val)\n",
    "print(\"Val Recall: \",recall_score_val)\n",
    "print(\"Val Precision: \",precision_score_val)"
   ]
  },
  {
   "cell_type": "markdown",
   "metadata": {},
   "source": [
    "### MLP with 2 layers\n",
    "\n",
    "    1 hidden layer with 25 neurons. activation function - relu "
   ]
  },
  {
   "cell_type": "code",
   "execution_count": 71,
   "metadata": {},
   "outputs": [],
   "source": [
    "mlp_model3 = Sequential()\n",
    "\n",
    "mlp_model3.add(Dense(25, input_shape=(27,), activation='relu', kernel_initializer='normal'))\n",
    "mlp_model3.add(Dense(1, activation='sigmoid', kernel_initializer='normal'))"
   ]
  },
  {
   "cell_type": "code",
   "execution_count": 72,
   "metadata": {},
   "outputs": [
    {
     "name": "stdout",
     "output_type": "stream",
     "text": [
      "Model: \"sequential_3\"\n",
      "_________________________________________________________________\n",
      "Layer (type)                 Output Shape              Param #   \n",
      "=================================================================\n",
      "dense_5 (Dense)              (None, 25)                700       \n",
      "_________________________________________________________________\n",
      "dense_6 (Dense)              (None, 1)                 26        \n",
      "=================================================================\n",
      "Total params: 726\n",
      "Trainable params: 726\n",
      "Non-trainable params: 0\n",
      "_________________________________________________________________\n"
     ]
    }
   ],
   "source": [
    "mlp_model3.summary()"
   ]
  },
  {
   "cell_type": "code",
   "execution_count": 73,
   "metadata": {},
   "outputs": [],
   "source": [
    "mlp_model3.compile(loss='binary_crossentropy', optimizer='sgd', metrics=[tf.keras.metrics.Recall(name='recall')])"
   ]
  },
  {
   "cell_type": "code",
   "execution_count": 74,
   "metadata": {},
   "outputs": [
    {
     "name": "stdout",
     "output_type": "stream",
     "text": [
      "Train on 34489 samples, validate on 8623 samples\n",
      "Epoch 1/100\n",
      "34176/34489 [============================>.] - ETA: 0s - loss: 0.5283 - recall: 4.7985e-04\n",
      "Epoch 00001: val_loss did not improve from 0.46606\n",
      "34489/34489 [==============================] - 2s 48us/sample - loss: 0.5276 - recall: 4.7581e-04 - val_loss: 0.4761 - val_recall: 0.0000e+00\n",
      "Epoch 2/100\n",
      "32960/34489 [===========================>..] - ETA: 0s - loss: 0.4699 - recall: 0.0000e+00\n",
      "Epoch 00002: val_loss did not improve from 0.46606\n",
      "34489/34489 [==============================] - 1s 26us/sample - loss: 0.4698 - recall: 0.0000e+00 - val_loss: 0.4729 - val_recall: 0.0000e+00\n",
      "Epoch 3/100\n",
      "32448/34489 [===========================>..] - ETA: 0s - loss: 0.4680 - recall: 0.0000e+00\n",
      "Epoch 00003: val_loss did not improve from 0.46606\n",
      "34489/34489 [==============================] - 1s 27us/sample - loss: 0.4673 - recall: 0.0000e+00 - val_loss: 0.4711 - val_recall: 0.0000e+00\n",
      "Epoch 4/100\n",
      "33408/34489 [============================>.] - ETA: 0s - loss: 0.4645 - recall: 0.0000e+00\n",
      "Epoch 00004: val_loss did not improve from 0.46606\n",
      "34489/34489 [==============================] - 1s 25us/sample - loss: 0.4655 - recall: 0.0000e+00 - val_loss: 0.4695 - val_recall: 6.2500e-04\n",
      "Epoch 5/100\n",
      "33856/34489 [============================>.] - ETA: 0s - loss: 0.4638 - recall: 4.8481e-04\n",
      "Epoch 00005: val_loss did not improve from 0.46606\n",
      "34489/34489 [==============================] - 1s 31us/sample - loss: 0.4640 - recall: 4.7581e-04 - val_loss: 0.4682 - val_recall: 0.0012\n",
      "Epoch 6/100\n",
      "32384/34489 [===========================>..] - ETA: 0s - loss: 0.4625 - recall: 0.0010  \n",
      "Epoch 00006: val_loss did not improve from 0.46606\n",
      "34489/34489 [==============================] - 1s 33us/sample - loss: 0.4628 - recall: 0.0014 - val_loss: 0.4672 - val_recall: 0.0019\n",
      "Epoch 7/100\n",
      "34304/34489 [============================>.] - ETA: 0s - loss: 0.4616 - recall: 0.0024 ETA: 0s - loss: 0.4595 - reca\n",
      "Epoch 00007: val_loss did not improve from 0.46606\n",
      "34489/34489 [==============================] - 1s 30us/sample - loss: 0.4617 - recall: 0.0024 - val_loss: 0.4663 - val_recall: 0.0025\n",
      "Epoch 8/100\n",
      "33216/34489 [===========================>..] - ETA: 0s - loss: 0.4610 - recall: 0.0031 ETA: 0s - loss: 0.4610 - recall: 0.00\n",
      "Epoch 00008: val_loss improved from 0.46606 to 0.46550, saving model to /home/seemab/AI_and_DecisionSciences/DeepLearning/mlp_backorders.h5\n",
      "34489/34489 [==============================] - 1s 40us/sample - loss: 0.4608 - recall: 0.0030 - val_loss: 0.4655 - val_recall: 0.0025\n",
      "Epoch 9/100\n",
      "33024/34489 [===========================>..] - ETA: 0s - loss: 0.4590 - recall: 0.0032\n",
      "Epoch 00009: val_loss improved from 0.46550 to 0.46470, saving model to /home/seemab/AI_and_DecisionSciences/DeepLearning/mlp_backorders.h5\n",
      "34489/34489 [==============================] - 1s 40us/sample - loss: 0.4599 - recall: 0.0033 - val_loss: 0.4647 - val_recall: 0.0031\n",
      "Epoch 10/100\n",
      "32384/34489 [===========================>..] - ETA: 0s - loss: 0.4611 - recall: 0.0037\n",
      "Epoch 00010: val_loss improved from 0.46470 to 0.46424, saving model to /home/seemab/AI_and_DecisionSciences/DeepLearning/mlp_backorders.h5\n",
      "34489/34489 [==============================] - 1s 26us/sample - loss: 0.4592 - recall: 0.0036 - val_loss: 0.4642 - val_recall: 0.0031\n",
      "Epoch 11/100\n",
      "32576/34489 [===========================>..] - ETA: 0s - loss: 0.4590 - recall: 0.0042\n",
      "Epoch 00011: val_loss improved from 0.46424 to 0.46352, saving model to /home/seemab/AI_and_DecisionSciences/DeepLearning/mlp_backorders.h5\n",
      "34489/34489 [==============================] - 1s 28us/sample - loss: 0.4585 - recall: 0.0041 - val_loss: 0.4635 - val_recall: 0.0044\n",
      "Epoch 12/100\n",
      "34048/34489 [============================>.] - ETA: 0s - loss: 0.4574 - recall: 0.0047 ETA: 0s - loss: 0.4593 - recall\n",
      "Epoch 00012: val_loss improved from 0.46352 to 0.46293, saving model to /home/seemab/AI_and_DecisionSciences/DeepLearning/mlp_backorders.h5\n",
      "34489/34489 [==============================] - 1s 32us/sample - loss: 0.4579 - recall: 0.0048 - val_loss: 0.4629 - val_recall: 0.0056\n",
      "Epoch 13/100\n",
      "34176/34489 [============================>.] - ETA: 0s - loss: 0.4569 - recall: 0.0051\n",
      "Epoch 00013: val_loss improved from 0.46293 to 0.46247, saving model to /home/seemab/AI_and_DecisionSciences/DeepLearning/mlp_backorders.h5\n",
      "34489/34489 [==============================] - 1s 33us/sample - loss: 0.4572 - recall: 0.0052 - val_loss: 0.4625 - val_recall: 0.0056\n",
      "Epoch 14/100\n",
      "32384/34489 [===========================>..] - ETA: 0s - loss: 0.4585 - recall: 0.0064\n",
      "Epoch 00014: val_loss improved from 0.46247 to 0.46199, saving model to /home/seemab/AI_and_DecisionSciences/DeepLearning/mlp_backorders.h5\n",
      "34489/34489 [==============================] - 1s 28us/sample - loss: 0.4567 - recall: 0.0060 - val_loss: 0.4620 - val_recall: 0.0056\n",
      "Epoch 15/100\n",
      "33728/34489 [============================>.] - ETA: 0s - loss: 0.4574 - recall: 0.0066\n",
      "Epoch 00015: val_loss improved from 0.46199 to 0.46186, saving model to /home/seemab/AI_and_DecisionSciences/DeepLearning/mlp_backorders.h5\n",
      "34489/34489 [==============================] - 1s 24us/sample - loss: 0.4562 - recall: 0.0068 - val_loss: 0.4619 - val_recall: 0.0056\n",
      "Epoch 16/100\n",
      "34048/34489 [============================>.] - ETA: 0s - loss: 0.4561 - recall: 0.0074\n",
      "Epoch 00016: val_loss improved from 0.46186 to 0.46113, saving model to /home/seemab/AI_and_DecisionSciences/DeepLearning/mlp_backorders.h5\n",
      "34489/34489 [==============================] - 1s 25us/sample - loss: 0.4557 - recall: 0.0073 - val_loss: 0.4611 - val_recall: 0.0069\n",
      "Epoch 17/100\n",
      "33216/34489 [===========================>..] - ETA: 0s - loss: 0.4564 - recall: 0.0074 ETA: 0s - loss: 0.4566 - recall: 0.00\n",
      "Epoch 00017: val_loss improved from 0.46113 to 0.46090, saving model to /home/seemab/AI_and_DecisionSciences/DeepLearning/mlp_backorders.h5\n",
      "34489/34489 [==============================] - 1s 28us/sample - loss: 0.4552 - recall: 0.0076 - val_loss: 0.4609 - val_recall: 0.0069\n",
      "Epoch 18/100\n",
      "34112/34489 [============================>.] - ETA: 0s - loss: 0.4546 - recall: 0.0082\n",
      "Epoch 00018: val_loss improved from 0.46090 to 0.46028, saving model to /home/seemab/AI_and_DecisionSciences/DeepLearning/mlp_backorders.h5\n",
      "34489/34489 [==============================] - 1s 29us/sample - loss: 0.4547 - recall: 0.0082 - val_loss: 0.4603 - val_recall: 0.0088\n",
      "Epoch 19/100\n",
      "34432/34489 [============================>.] - ETA: 0s - loss: 0.4544 - recall: 0.0087 ETA: 0s - loss: 0.4555 \n",
      "Epoch 00019: val_loss improved from 0.46028 to 0.46024, saving model to /home/seemab/AI_and_DecisionSciences/DeepLearning/mlp_backorders.h5\n",
      "34489/34489 [==============================] - 1s 26us/sample - loss: 0.4543 - recall: 0.0087 - val_loss: 0.4602 - val_recall: 0.0088\n",
      "Epoch 20/100\n",
      "34240/34489 [============================>.] - ETA: 0s - loss: 0.4544 - recall: 0.0091\n",
      "Epoch 00020: val_loss improved from 0.46024 to 0.45951, saving model to /home/seemab/AI_and_DecisionSciences/DeepLearning/mlp_backorders.h5\n",
      "34489/34489 [==============================] - 1s 28us/sample - loss: 0.4539 - recall: 0.0092 - val_loss: 0.4595 - val_recall: 0.0088\n",
      "Epoch 21/100\n",
      "31872/34489 [==========================>...] - ETA: 0s - loss: 0.4517 - recall: 0.0107\n",
      "Epoch 00021: val_loss improved from 0.45951 to 0.45917, saving model to /home/seemab/AI_and_DecisionSciences/DeepLearning/mlp_backorders.h5\n",
      "34489/34489 [==============================] - 1s 23us/sample - loss: 0.4534 - recall: 0.0108 - val_loss: 0.4592 - val_recall: 0.0088\n",
      "Epoch 22/100\n",
      "33216/34489 [===========================>..] - ETA: 0s - loss: 0.4533 - recall: 0.0109\n",
      "Epoch 00022: val_loss improved from 0.45917 to 0.45878, saving model to /home/seemab/AI_and_DecisionSciences/DeepLearning/mlp_backorders.h5\n",
      "34489/34489 [==============================] - 1s 34us/sample - loss: 0.4530 - recall: 0.0114 - val_loss: 0.4588 - val_recall: 0.0100\n",
      "Epoch 23/100\n",
      "33728/34489 [============================>.] - ETA: 0s - loss: 0.4515 - recall: 0.0129\n",
      "Epoch 00023: val_loss improved from 0.45878 to 0.45840, saving model to /home/seemab/AI_and_DecisionSciences/DeepLearning/mlp_backorders.h5\n",
      "34489/34489 [==============================] - 1s 32us/sample - loss: 0.4525 - recall: 0.0127 - val_loss: 0.4584 - val_recall: 0.0106\n",
      "Epoch 24/100\n",
      "33536/34489 [============================>.] - ETA: 0s - loss: 0.4520 - recall: 0.0127\n",
      "Epoch 00024: val_loss improved from 0.45840 to 0.45806, saving model to /home/seemab/AI_and_DecisionSciences/DeepLearning/mlp_backorders.h5\n",
      "34489/34489 [==============================] - 1s 28us/sample - loss: 0.4521 - recall: 0.0135 - val_loss: 0.4581 - val_recall: 0.0106\n",
      "Epoch 25/100\n",
      "33152/34489 [===========================>..] - ETA: 0s - loss: 0.4522 - recall: 0.0147\n",
      "Epoch 00025: val_loss improved from 0.45806 to 0.45780, saving model to /home/seemab/AI_and_DecisionSciences/DeepLearning/mlp_backorders.h5\n",
      "34489/34489 [==============================] - 1s 28us/sample - loss: 0.4516 - recall: 0.0149 - val_loss: 0.4578 - val_recall: 0.0106\n",
      "Epoch 26/100\n",
      "32896/34489 [===========================>..] - ETA: 0s - loss: 0.4520 - recall: 0.0166\n",
      "Epoch 00026: val_loss improved from 0.45780 to 0.45730, saving model to /home/seemab/AI_and_DecisionSciences/DeepLearning/mlp_backorders.h5\n",
      "34489/34489 [==============================] - 1s 27us/sample - loss: 0.4512 - recall: 0.0162 - val_loss: 0.4573 - val_recall: 0.0113\n",
      "Epoch 27/100\n",
      "32512/34489 [===========================>..] - ETA: 0s - loss: 0.4511 - recall: 0.0169\n",
      "Epoch 00027: val_loss improved from 0.45730 to 0.45698, saving model to /home/seemab/AI_and_DecisionSciences/DeepLearning/mlp_backorders.h5\n",
      "34489/34489 [==============================] - 1s 27us/sample - loss: 0.4507 - recall: 0.0167 - val_loss: 0.4570 - val_recall: 0.0137\n",
      "Epoch 28/100\n",
      "33664/34489 [============================>.] - ETA: 0s - loss: 0.4512 - recall: 0.0180\n",
      "Epoch 00028: val_loss improved from 0.45698 to 0.45651, saving model to /home/seemab/AI_and_DecisionSciences/DeepLearning/mlp_backorders.h5\n",
      "34489/34489 [==============================] - 1s 30us/sample - loss: 0.4503 - recall: 0.0179 - val_loss: 0.4565 - val_recall: 0.0144\n",
      "Epoch 29/100\n",
      "34304/34489 [============================>.] - ETA: 0s - loss: 0.4494 - recall: 0.0195\n",
      "Epoch 00029: val_loss improved from 0.45651 to 0.45618, saving model to /home/seemab/AI_and_DecisionSciences/DeepLearning/mlp_backorders.h5\n",
      "34489/34489 [==============================] - 1s 30us/sample - loss: 0.4499 - recall: 0.0195 - val_loss: 0.4562 - val_recall: 0.0169\n",
      "Epoch 30/100\n",
      "34176/34489 [============================>.] - ETA: 0s - loss: 0.4492 - recall: 0.0199\n",
      "Epoch 00030: val_loss improved from 0.45618 to 0.45567, saving model to /home/seemab/AI_and_DecisionSciences/DeepLearning/mlp_backorders.h5\n",
      "34489/34489 [==============================] - 1s 27us/sample - loss: 0.4494 - recall: 0.0200 - val_loss: 0.4557 - val_recall: 0.0169\n",
      "Epoch 31/100\n",
      "33600/34489 [============================>.] - ETA: 0s - loss: 0.4493 - recall: 0.0218 ETA: 0s - loss: 0.4486 - recall: 0.\n",
      "Epoch 00031: val_loss improved from 0.45567 to 0.45528, saving model to /home/seemab/AI_and_DecisionSciences/DeepLearning/mlp_backorders.h5\n",
      "34489/34489 [==============================] - 1s 27us/sample - loss: 0.4490 - recall: 0.0220 - val_loss: 0.4553 - val_recall: 0.0194\n",
      "Epoch 32/100\n",
      "34304/34489 [============================>.] - ETA: 0s - loss: 0.4485 - recall: 0.0228\n",
      "Epoch 00032: val_loss improved from 0.45528 to 0.45485, saving model to /home/seemab/AI_and_DecisionSciences/DeepLearning/mlp_backorders.h5\n",
      "34489/34489 [==============================] - 1s 32us/sample - loss: 0.4486 - recall: 0.0232 - val_loss: 0.4548 - val_recall: 0.0206\n",
      "Epoch 33/100\n",
      "34240/34489 [============================>.] - ETA: 0s - loss: 0.4483 - recall: 0.0244\n",
      "Epoch 00033: val_loss improved from 0.45485 to 0.45451, saving model to /home/seemab/AI_and_DecisionSciences/DeepLearning/mlp_backorders.h5\n",
      "34489/34489 [==============================] - 1s 42us/sample - loss: 0.4481 - recall: 0.0243 - val_loss: 0.4545 - val_recall: 0.0219\n",
      "Epoch 34/100\n",
      "34432/34489 [============================>.] - ETA: 0s - loss: 0.4478 - recall: 0.0257\n",
      "Epoch 00034: val_loss improved from 0.45451 to 0.45396, saving model to /home/seemab/AI_and_DecisionSciences/DeepLearning/mlp_backorders.h5\n",
      "34489/34489 [==============================] - 1s 39us/sample - loss: 0.4477 - recall: 0.0257 - val_loss: 0.4540 - val_recall: 0.0250\n",
      "Epoch 35/100\n",
      "33408/34489 [============================>.] - ETA: 0s - loss: 0.4472 - recall: 0.0283\n",
      "Epoch 00035: val_loss improved from 0.45396 to 0.45369, saving model to /home/seemab/AI_and_DecisionSciences/DeepLearning/mlp_backorders.h5\n",
      "34489/34489 [==============================] - 1s 38us/sample - loss: 0.4473 - recall: 0.0282 - val_loss: 0.4537 - val_recall: 0.0256\n",
      "Epoch 36/100\n",
      "33408/34489 [============================>.] - ETA: 0s - loss: 0.4478 - recall: 0.0291\n",
      "Epoch 00036: val_loss improved from 0.45369 to 0.45350, saving model to /home/seemab/AI_and_DecisionSciences/DeepLearning/mlp_backorders.h5\n",
      "34489/34489 [==============================] - 1s 41us/sample - loss: 0.4469 - recall: 0.0293 - val_loss: 0.4535 - val_recall: 0.0262\n",
      "Epoch 37/100\n",
      "34048/34489 [============================>.] - ETA: 0s - loss: 0.4464 - recall: 0.0325\n",
      "Epoch 00037: val_loss improved from 0.45350 to 0.45303, saving model to /home/seemab/AI_and_DecisionSciences/DeepLearning/mlp_backorders.h5\n",
      "34489/34489 [==============================] - 1s 37us/sample - loss: 0.4464 - recall: 0.0325 - val_loss: 0.4530 - val_recall: 0.0275\n",
      "Epoch 38/100\n",
      "33920/34489 [============================>.] - ETA: 0s - loss: 0.4464 - recall: 0.0346\n",
      "Epoch 00038: val_loss improved from 0.45303 to 0.45257, saving model to /home/seemab/AI_and_DecisionSciences/DeepLearning/mlp_backorders.h5\n",
      "34489/34489 [==============================] - 1s 37us/sample - loss: 0.4460 - recall: 0.0346 - val_loss: 0.4526 - val_recall: 0.0300\n",
      "Epoch 39/100\n",
      "32832/34489 [===========================>..] - ETA: 0s - loss: 0.4455 - recall: 0.0360 ETA: 0s - loss: 0.4480 - re\n",
      "Epoch 00039: val_loss improved from 0.45257 to 0.45233, saving model to /home/seemab/AI_and_DecisionSciences/DeepLearning/mlp_backorders.h5\n",
      "34489/34489 [==============================] - 1s 29us/sample - loss: 0.4456 - recall: 0.0358 - val_loss: 0.4523 - val_recall: 0.0331\n",
      "Epoch 40/100\n",
      "34176/34489 [============================>.] - ETA: 0s - loss: 0.4448 - recall: 0.0383\n",
      "Epoch 00040: val_loss improved from 0.45233 to 0.45186, saving model to /home/seemab/AI_and_DecisionSciences/DeepLearning/mlp_backorders.h5\n",
      "34489/34489 [==============================] - 1s 32us/sample - loss: 0.4453 - recall: 0.0382 - val_loss: 0.4519 - val_recall: 0.0356\n",
      "Epoch 41/100\n",
      "34240/34489 [============================>.] - ETA: 0s - loss: 0.4451 - recall: 0.0405\n",
      "Epoch 00041: val_loss improved from 0.45186 to 0.45156, saving model to /home/seemab/AI_and_DecisionSciences/DeepLearning/mlp_backorders.h5\n",
      "34489/34489 [==============================] - 1s 28us/sample - loss: 0.4448 - recall: 0.0411 - val_loss: 0.4516 - val_recall: 0.0362\n",
      "Epoch 42/100\n",
      "32704/34489 [===========================>..] - ETA: 0s - loss: 0.4419 - recall: 0.0432 ETA: 0s - loss: 0.4439 \n",
      "Epoch 00042: val_loss did not improve from 0.45156\n",
      "34489/34489 [==============================] - 1s 25us/sample - loss: 0.4443 - recall: 0.0435 - val_loss: 0.4521 - val_recall: 0.0406\n",
      "Epoch 43/100\n",
      "33664/34489 [============================>.] - ETA: 0s - loss: 0.4438 - recall: 0.0459\n",
      "Epoch 00043: val_loss improved from 0.45156 to 0.45075, saving model to /home/seemab/AI_and_DecisionSciences/DeepLearning/mlp_backorders.h5\n",
      "34489/34489 [==============================] - 1s 26us/sample - loss: 0.4440 - recall: 0.0454 - val_loss: 0.4507 - val_recall: 0.0406\n",
      "Epoch 44/100\n",
      "32448/34489 [===========================>..] - ETA: 0s - loss: 0.4443 - recall: 0.0469\n",
      "Epoch 00044: val_loss improved from 0.45075 to 0.45064, saving model to /home/seemab/AI_and_DecisionSciences/DeepLearning/mlp_backorders.h5\n",
      "34489/34489 [==============================] - 1s 22us/sample - loss: 0.4436 - recall: 0.0474 - val_loss: 0.4506 - val_recall: 0.0406\n",
      "Epoch 45/100\n",
      "33920/34489 [============================>.] - ETA: 0s - loss: 0.4430 - recall: 0.0479 ETA: 0s - loss: 0.4430 - recall: 0.\n",
      "Epoch 00045: val_loss improved from 0.45064 to 0.45023, saving model to /home/seemab/AI_and_DecisionSciences/DeepLearning/mlp_backorders.h5\n",
      "34489/34489 [==============================] - 1s 31us/sample - loss: 0.4432 - recall: 0.0479 - val_loss: 0.4502 - val_recall: 0.0419\n",
      "Epoch 46/100\n",
      "34304/34489 [============================>.] - ETA: 0s - loss: 0.4428 - recall: 0.0512\n",
      "Epoch 00046: val_loss improved from 0.45023 to 0.44964, saving model to /home/seemab/AI_and_DecisionSciences/DeepLearning/mlp_backorders.h5\n",
      "34489/34489 [==============================] - 1s 25us/sample - loss: 0.4428 - recall: 0.0509 - val_loss: 0.4496 - val_recall: 0.0431\n",
      "Epoch 47/100\n",
      "32128/34489 [==========================>...] - ETA: 0s - loss: 0.4417 - recall: 0.0522\n",
      "Epoch 00047: val_loss improved from 0.44964 to 0.44938, saving model to /home/seemab/AI_and_DecisionSciences/DeepLearning/mlp_backorders.h5\n",
      "34489/34489 [==============================] - 1s 21us/sample - loss: 0.4424 - recall: 0.0520 - val_loss: 0.4494 - val_recall: 0.0431\n",
      "Epoch 48/100\n",
      "32768/34489 [===========================>..] - ETA: 0s - loss: 0.4421 - recall: 0.0522\n",
      "Epoch 00048: val_loss improved from 0.44938 to 0.44922, saving model to /home/seemab/AI_and_DecisionSciences/DeepLearning/mlp_backorders.h5\n",
      "34489/34489 [==============================] - 1s 21us/sample - loss: 0.4421 - recall: 0.0525 - val_loss: 0.4492 - val_recall: 0.0456\n",
      "Epoch 49/100\n",
      "33280/34489 [===========================>..] - ETA: 0s - loss: 0.4410 - recall: 0.0555\n",
      "Epoch 00049: val_loss improved from 0.44922 to 0.44891, saving model to /home/seemab/AI_and_DecisionSciences/DeepLearning/mlp_backorders.h5\n",
      "34489/34489 [==============================] - 1s 22us/sample - loss: 0.4417 - recall: 0.0549 - val_loss: 0.4489 - val_recall: 0.0450\n",
      "Epoch 50/100\n",
      "34240/34489 [============================>.] - ETA: 0s - loss: 0.4411 - recall: 0.0545\n",
      "Epoch 00050: val_loss improved from 0.44891 to 0.44862, saving model to /home/seemab/AI_and_DecisionSciences/DeepLearning/mlp_backorders.h5\n",
      "34489/34489 [==============================] - 1s 20us/sample - loss: 0.4412 - recall: 0.0544 - val_loss: 0.4486 - val_recall: 0.0487\n",
      "Epoch 51/100\n",
      "32576/34489 [===========================>..] - ETA: 0s - loss: 0.4409 - recall: 0.0548\n",
      "Epoch 00051: val_loss improved from 0.44862 to 0.44823, saving model to /home/seemab/AI_and_DecisionSciences/DeepLearning/mlp_backorders.h5\n",
      "34489/34489 [==============================] - 1s 19us/sample - loss: 0.4409 - recall: 0.0557 - val_loss: 0.4482 - val_recall: 0.0456\n",
      "Epoch 52/100\n",
      "32640/34489 [===========================>..] - ETA: 0s - loss: 0.4400 - recall: 0.0561\n",
      "Epoch 00052: val_loss improved from 0.44823 to 0.44793, saving model to /home/seemab/AI_and_DecisionSciences/DeepLearning/mlp_backorders.h5\n",
      "34489/34489 [==============================] - 1s 22us/sample - loss: 0.4405 - recall: 0.0558 - val_loss: 0.4479 - val_recall: 0.0500\n",
      "Epoch 53/100\n",
      "32448/34489 [===========================>..] - ETA: 0s - loss: 0.4407 - recall: 0.0563\n",
      "Epoch 00053: val_loss improved from 0.44793 to 0.44765, saving model to /home/seemab/AI_and_DecisionSciences/DeepLearning/mlp_backorders.h5\n",
      "34489/34489 [==============================] - 1s 23us/sample - loss: 0.4401 - recall: 0.0565 - val_loss: 0.4476 - val_recall: 0.0463\n",
      "Epoch 54/100\n",
      "32320/34489 [===========================>..] - ETA: 0s - loss: 0.4390 - recall: 0.0590 ETA: 0s - loss: 0.4412 - \n",
      "Epoch 00054: val_loss improved from 0.44765 to 0.44746, saving model to /home/seemab/AI_and_DecisionSciences/DeepLearning/mlp_backorders.h5\n",
      "34489/34489 [==============================] - 1s 23us/sample - loss: 0.4397 - recall: 0.0579 - val_loss: 0.4475 - val_recall: 0.0519\n",
      "Epoch 55/100\n",
      "34432/34489 [============================>.] - ETA: 0s - loss: 0.4396 - recall: 0.0587\n",
      "Epoch 00055: val_loss improved from 0.44746 to 0.44729, saving model to /home/seemab/AI_and_DecisionSciences/DeepLearning/mlp_backorders.h5\n",
      "34489/34489 [==============================] - 1s 32us/sample - loss: 0.4394 - recall: 0.0587 - val_loss: 0.4473 - val_recall: 0.0475\n",
      "Epoch 56/100\n",
      "33216/34489 [===========================>..] - ETA: 0s - loss: 0.4395 - recall: 0.0592\n",
      "Epoch 00056: val_loss improved from 0.44729 to 0.44699, saving model to /home/seemab/AI_and_DecisionSciences/DeepLearning/mlp_backorders.h5\n",
      "34489/34489 [==============================] - 1s 26us/sample - loss: 0.4390 - recall: 0.0596 - val_loss: 0.4470 - val_recall: 0.0481\n",
      "Epoch 57/100\n",
      "33728/34489 [============================>.] - ETA: 0s - loss: 0.4386 - recall: 0.0605\n",
      "Epoch 00057: val_loss improved from 0.44699 to 0.44639, saving model to /home/seemab/AI_and_DecisionSciences/DeepLearning/mlp_backorders.h5\n",
      "34489/34489 [==============================] - 1s 24us/sample - loss: 0.4385 - recall: 0.0601 - val_loss: 0.4464 - val_recall: 0.0500\n",
      "Epoch 58/100\n",
      "32128/34489 [==========================>...] - ETA: 0s - loss: 0.4370 - recall: 0.0623\n",
      "Epoch 00058: val_loss improved from 0.44639 to 0.44627, saving model to /home/seemab/AI_and_DecisionSciences/DeepLearning/mlp_backorders.h5\n",
      "34489/34489 [==============================] - 1s 23us/sample - loss: 0.4382 - recall: 0.0609 - val_loss: 0.4463 - val_recall: 0.0544\n",
      "Epoch 59/100\n",
      "34176/34489 [============================>.] - ETA: 0s - loss: 0.4380 - recall: 0.0622\n",
      "Epoch 00059: val_loss improved from 0.44627 to 0.44599, saving model to /home/seemab/AI_and_DecisionSciences/DeepLearning/mlp_backorders.h5\n",
      "34489/34489 [==============================] - 1s 23us/sample - loss: 0.4379 - recall: 0.0622 - val_loss: 0.4460 - val_recall: 0.0525\n",
      "Epoch 60/100\n",
      "33152/34489 [===========================>..] - ETA: 0s - loss: 0.4376 - recall: 0.0623\n",
      "Epoch 00060: val_loss improved from 0.44599 to 0.44546, saving model to /home/seemab/AI_and_DecisionSciences/DeepLearning/mlp_backorders.h5\n",
      "34489/34489 [==============================] - 1s 25us/sample - loss: 0.4376 - recall: 0.0628 - val_loss: 0.4455 - val_recall: 0.0550\n",
      "Epoch 61/100\n",
      "34432/34489 [============================>.] - ETA: 0s - loss: 0.4370 - recall: 0.0633\n",
      "Epoch 00061: val_loss improved from 0.44546 to 0.44530, saving model to /home/seemab/AI_and_DecisionSciences/DeepLearning/mlp_backorders.h5\n",
      "34489/34489 [==============================] - 1s 25us/sample - loss: 0.4372 - recall: 0.0633 - val_loss: 0.4453 - val_recall: 0.0562\n",
      "Epoch 62/100\n",
      "32704/34489 [===========================>..] - ETA: 0s - loss: 0.4373 - recall: 0.0643\n",
      "Epoch 00062: val_loss did not improve from 0.44530\n",
      "34489/34489 [==============================] - 1s 33us/sample - loss: 0.4368 - recall: 0.0649 - val_loss: 0.4455 - val_recall: 0.0544\n",
      "Epoch 63/100\n",
      "33024/34489 [===========================>..] - ETA: 0s - loss: 0.4368 - recall: 0.0665\n",
      "Epoch 00063: val_loss improved from 0.44530 to 0.44477, saving model to /home/seemab/AI_and_DecisionSciences/DeepLearning/mlp_backorders.h5\n",
      "34489/34489 [==============================] - 1s 34us/sample - loss: 0.4365 - recall: 0.0658 - val_loss: 0.4448 - val_recall: 0.0544\n",
      "Epoch 64/100\n",
      "33152/34489 [===========================>..] - ETA: 0s - loss: 0.4356 - recall: 0.0666 ETA: 0s - loss: 0.4365 - recall\n",
      "Epoch 00064: val_loss did not improve from 0.44477\n",
      "34489/34489 [==============================] - 1s 30us/sample - loss: 0.4361 - recall: 0.0660 - val_loss: 0.4451 - val_recall: 0.0581\n",
      "Epoch 65/100\n",
      "33152/34489 [===========================>..] - ETA: 0s - loss: 0.4359 - recall: 0.0661\n",
      "Epoch 00065: val_loss improved from 0.44477 to 0.44429, saving model to /home/seemab/AI_and_DecisionSciences/DeepLearning/mlp_backorders.h5\n",
      "34489/34489 [==============================] - 1s 30us/sample - loss: 0.4358 - recall: 0.0666 - val_loss: 0.4443 - val_recall: 0.0569\n",
      "Epoch 66/100\n",
      "33856/34489 [============================>.] - ETA: 0s - loss: 0.4355 - recall: 0.0676 ETA: 0s - loss: 0.4358 - recall\n",
      "Epoch 00066: val_loss improved from 0.44429 to 0.44402, saving model to /home/seemab/AI_and_DecisionSciences/DeepLearning/mlp_backorders.h5\n",
      "34489/34489 [==============================] - 1s 40us/sample - loss: 0.4355 - recall: 0.0679 - val_loss: 0.4440 - val_recall: 0.0581\n",
      "Epoch 67/100\n",
      "34432/34489 [============================>.] - ETA: 0s - loss: 0.4351 - recall: 0.0693\n",
      "Epoch 00067: val_loss improved from 0.44402 to 0.44397, saving model to /home/seemab/AI_and_DecisionSciences/DeepLearning/mlp_backorders.h5\n",
      "34489/34489 [==============================] - 1s 42us/sample - loss: 0.4351 - recall: 0.0692 - val_loss: 0.4440 - val_recall: 0.0575\n",
      "Epoch 68/100\n",
      "34048/34489 [============================>.] - ETA: 0s - loss: 0.4352 - recall: 0.0702\n",
      "Epoch 00068: val_loss improved from 0.44397 to 0.44368, saving model to /home/seemab/AI_and_DecisionSciences/DeepLearning/mlp_backorders.h5\n",
      "34489/34489 [==============================] - 1s 42us/sample - loss: 0.4347 - recall: 0.0703 - val_loss: 0.4437 - val_recall: 0.0575\n",
      "Epoch 69/100\n",
      "33984/34489 [============================>.] - ETA: 0s - loss: 0.4348 - recall: 0.0701\n",
      "Epoch 00069: val_loss improved from 0.44368 to 0.44356, saving model to /home/seemab/AI_and_DecisionSciences/DeepLearning/mlp_backorders.h5\n",
      "34489/34489 [==============================] - 1s 40us/sample - loss: 0.4345 - recall: 0.0701 - val_loss: 0.4436 - val_recall: 0.0575\n",
      "Epoch 70/100\n",
      "33408/34489 [============================>.] - ETA: 0s - loss: 0.4342 - recall: 0.0709\n",
      "Epoch 00070: val_loss improved from 0.44356 to 0.44274, saving model to /home/seemab/AI_and_DecisionSciences/DeepLearning/mlp_backorders.h5\n",
      "34489/34489 [==============================] - 1s 40us/sample - loss: 0.4340 - recall: 0.0715 - val_loss: 0.4427 - val_recall: 0.0587\n",
      "Epoch 71/100\n",
      "33472/34489 [============================>.] - ETA: 0s - loss: 0.4344 - recall: 0.0710\n",
      "Epoch 00071: val_loss did not improve from 0.44274\n",
      "34489/34489 [==============================] - 1s 41us/sample - loss: 0.4338 - recall: 0.0718 - val_loss: 0.4428 - val_recall: 0.0606\n",
      "Epoch 72/100\n",
      "34176/34489 [============================>.] - ETA: 0s - loss: 0.4337 - recall: 0.0739\n",
      "Epoch 00072: val_loss improved from 0.44274 to 0.44240, saving model to /home/seemab/AI_and_DecisionSciences/DeepLearning/mlp_backorders.h5\n",
      "34489/34489 [==============================] - 1s 41us/sample - loss: 0.4334 - recall: 0.0742 - val_loss: 0.4424 - val_recall: 0.0606\n",
      "Epoch 73/100\n",
      "34432/34489 [============================>.] - ETA: 0s - loss: 0.4332 - recall: 0.0737\n",
      "Epoch 00073: val_loss did not improve from 0.44240\n",
      "34489/34489 [==============================] - 2s 44us/sample - loss: 0.4332 - recall: 0.0738 - val_loss: 0.4431 - val_recall: 0.0575\n",
      "Epoch 74/100\n",
      "33728/34489 [============================>.] - ETA: 0s - loss: 0.4331 - recall: 0.0737\n",
      "Epoch 00074: val_loss improved from 0.44240 to 0.44199, saving model to /home/seemab/AI_and_DecisionSciences/DeepLearning/mlp_backorders.h5\n",
      "34489/34489 [==============================] - 1s 43us/sample - loss: 0.4329 - recall: 0.0745 - val_loss: 0.4420 - val_recall: 0.0631\n",
      "Epoch 75/100\n",
      "33856/34489 [============================>.] - ETA: 0s - loss: 0.4320 - recall: 0.0747 ETA: 0s - loss: 0.4 - ETA: 0s - loss: 0.4326 - recall: 0.0751\n",
      "Epoch 00075: val_loss improved from 0.44199 to 0.44143, saving model to /home/seemab/AI_and_DecisionSciences/DeepLearning/mlp_backorders.h5\n",
      "34489/34489 [==============================] - 1s 43us/sample - loss: 0.4326 - recall: 0.0747 - val_loss: 0.4414 - val_recall: 0.0669\n",
      "Epoch 76/100\n",
      "33984/34489 [============================>.] - ETA: 0s - loss: 0.4327 - recall: 0.0767\n",
      "Epoch 00076: val_loss improved from 0.44143 to 0.44127, saving model to /home/seemab/AI_and_DecisionSciences/DeepLearning/mlp_backorders.h5\n",
      "34489/34489 [==============================] - 1s 38us/sample - loss: 0.4323 - recall: 0.0761 - val_loss: 0.4413 - val_recall: 0.0644\n",
      "Epoch 77/100\n",
      "34304/34489 [============================>.] - ETA: 0s - loss: 0.4320 - recall: 0.0768\n",
      "Epoch 00077: val_loss did not improve from 0.44127\n",
      "34489/34489 [==============================] - 2s 44us/sample - loss: 0.4320 - recall: 0.0769 - val_loss: 0.4418 - val_recall: 0.0644\n",
      "Epoch 78/100\n",
      "33280/34489 [===========================>..] - ETA: 0s - loss: 0.4320 - recall: 0.0757\n",
      "Epoch 00078: val_loss did not improve from 0.44127\n",
      "34489/34489 [==============================] - 1s 40us/sample - loss: 0.4317 - recall: 0.0768 - val_loss: 0.4414 - val_recall: 0.0644\n",
      "Epoch 79/100\n",
      "33792/34489 [============================>.] - ETA: 0s - loss: 0.4313 - recall: 0.0780 ETA: 0s - loss: 0.4324 - recall: 0.07\n",
      "Epoch 00079: val_loss improved from 0.44127 to 0.44034, saving model to /home/seemab/AI_and_DecisionSciences/DeepLearning/mlp_backorders.h5\n",
      "34489/34489 [==============================] - 1s 41us/sample - loss: 0.4314 - recall: 0.0780 - val_loss: 0.4403 - val_recall: 0.0681\n",
      "Epoch 80/100\n",
      "34240/34489 [============================>.] - ETA: 0s - loss: 0.4308 - recall: 0.0793\n",
      "Epoch 00080: val_loss did not improve from 0.44034\n",
      "34489/34489 [==============================] - 1s 41us/sample - loss: 0.4311 - recall: 0.0791 - val_loss: 0.4409 - val_recall: 0.0750\n",
      "Epoch 81/100\n",
      "33536/34489 [============================>.] - ETA: 0s - loss: 0.4311 - recall: 0.0777\n",
      "Epoch 00081: val_loss improved from 0.44034 to 0.44005, saving model to /home/seemab/AI_and_DecisionSciences/DeepLearning/mlp_backorders.h5\n",
      "34489/34489 [==============================] - 1s 40us/sample - loss: 0.4309 - recall: 0.0782 - val_loss: 0.4401 - val_recall: 0.0688\n",
      "Epoch 82/100\n",
      "33984/34489 [============================>.] - ETA: 0s - loss: 0.4309 - recall: 0.0777\n",
      "Epoch 00082: val_loss did not improve from 0.44005\n",
      "34489/34489 [==============================] - 1s 41us/sample - loss: 0.4306 - recall: 0.0782 - val_loss: 0.4402 - val_recall: 0.0675\n",
      "Epoch 83/100\n",
      "33216/34489 [===========================>..] - ETA: 0s - loss: 0.4300 - recall: 0.0816\n",
      "Epoch 00083: val_loss improved from 0.44005 to 0.43968, saving model to /home/seemab/AI_and_DecisionSciences/DeepLearning/mlp_backorders.h5\n",
      "34489/34489 [==============================] - 1s 42us/sample - loss: 0.4302 - recall: 0.0803 - val_loss: 0.4397 - val_recall: 0.0725\n",
      "Epoch 84/100\n",
      "34368/34489 [============================>.] - ETA: 0s - loss: 0.4299 - recall: 0.0801 ETA: 0s - loss: 0.4283 \n",
      "Epoch 00084: val_loss improved from 0.43968 to 0.43947, saving model to /home/seemab/AI_and_DecisionSciences/DeepLearning/mlp_backorders.h5\n",
      "34489/34489 [==============================] - 1s 39us/sample - loss: 0.4300 - recall: 0.0798 - val_loss: 0.4395 - val_recall: 0.0731\n",
      "Epoch 00084: early stopping\n"
     ]
    }
   ],
   "source": [
    "model3_history = mlp_model3.fit(X_train_proc_arr, y_train, epochs=100, batch_size=64, validation_split=0.2, callbacks=callbacks)"
   ]
  },
  {
   "cell_type": "markdown",
   "metadata": {},
   "source": [
    "##### Plot"
   ]
  },
  {
   "cell_type": "code",
   "execution_count": 75,
   "metadata": {},
   "outputs": [
    {
     "name": "stdout",
     "output_type": "stream",
     "text": [
      "dict_keys(['loss', 'recall', 'val_loss', 'val_recall'])\n"
     ]
    }
   ],
   "source": [
    "print(model3_history.history.keys())"
   ]
  },
  {
   "cell_type": "code",
   "execution_count": 76,
   "metadata": {},
   "outputs": [
    {
     "data": {
      "image/png": "[encoded data removed]",
      "text/plain": [
       "<Figure size 432x288 with 1 Axes>"
      ]
     },
     "metadata": {
      "needs_background": "light"
     },
     "output_type": "display_data"
    }
   ],
   "source": [
    "plt.plot(model3_history.history['recall'])\n",
    "plt.plot(model3_history.history['val_recall'])\n",
    "plt.title('Recall Plot')\n",
    "plt.ylabel('Recall')\n",
    "plt.xlabel('Epoch')\n",
    "plt.legend(['Train', 'Validation'])\n",
    "plt.show()"
   ]
  },
  {
   "cell_type": "code",
   "execution_count": 77,
   "metadata": {},
   "outputs": [
    {
     "data": {
      "image/png": "[encoded data removed]",
      "text/plain": [
       "<Figure size 432x288 with 1 Axes>"
      ]
     },
     "metadata": {
      "needs_background": "light"
     },
     "output_type": "display_data"
    }
   ],
   "source": [
    "plt.plot(model3_history.history['loss'])\n",
    "plt.plot(model3_history.history['val_loss'])\n",
    "plt.title('Loss Function Plot')\n",
    "plt.ylabel('Loss')\n",
    "plt.xlabel('Epoch')\n",
    "plt.legend(['Train', 'Validation'])\n",
    "plt.show()"
   ]
  },
  {
   "cell_type": "markdown",
   "metadata": {},
   "source": [
    "#### Predictions"
   ]
  },
  {
   "cell_type": "code",
   "execution_count": 78,
   "metadata": {},
   "outputs": [],
   "source": [
    "train_model3_pred = mlp_model3.predict_classes(X_train_proc_arr)\n",
    "val_model3_pred = mlp_model3.predict_classes(X_val_proc_arr)"
   ]
  },
  {
   "cell_type": "markdown",
   "metadata": {},
   "source": [
    "#### Getting evaluation metrics and evaluating model performance"
   ]
  },
  {
   "cell_type": "code",
   "execution_count": 79,
   "metadata": {},
   "outputs": [
    {
     "name": "stdout",
     "output_type": "stream",
     "text": [
      "[[34927   280]\n",
      " [ 7281   624]]\n",
      "[[14955   134]\n",
      " [ 3104   284]]\n"
     ]
    }
   ],
   "source": [
    "confusion_matrix_train = confusion_matrix(y_train, train_model3_pred)\n",
    "confusion_matrix_val = confusion_matrix(y_val, val_model3_pred)\n",
    "\n",
    "print(confusion_matrix_train)\n",
    "print(confusion_matrix_val)"
   ]
  },
  {
   "cell_type": "markdown",
   "metadata": {},
   "source": [
    "#### Calculate Accuracy, True Positive Rate and True Negative Rates"
   ]
  },
  {
   "cell_type": "code",
   "execution_count": 80,
   "metadata": {},
   "outputs": [
    {
     "name": "stdout",
     "output_type": "stream",
     "text": [
      "Train Accuracy:  0.8246195954722583\n",
      "Train Recall:  0.07893738140417457\n",
      "Train Precision:  0.6902654867256637\n",
      "-----------------------\n",
      "Val Accuracy:  0.8247551009362992\n",
      "Val Recall:  0.08382526564344746\n",
      "Val Precision:  0.6794258373205742\n"
     ]
    }
   ],
   "source": [
    "accuracy_score_train = accuracy_score(y_train, train_model3_pred)\n",
    "accuracy_score_val = accuracy_score(y_val, val_model3_pred)\n",
    "\n",
    "recall_score_train = recall_score(y_train, train_model3_pred)\n",
    "recall_score_val = recall_score(y_val, val_model3_pred)\n",
    "\n",
    "precision_score_train = precision_score(y_train, train_model3_pred)\n",
    "precision_score_val = precision_score(y_val, val_model3_pred)\n",
    "\n",
    "\n",
    "print(\"Train Accuracy: \",accuracy_score_train)\n",
    "print(\"Train Recall: \",recall_score_train)\n",
    "print(\"Train Precision: \",precision_score_train)\n",
    "\n",
    "print(\"-----------------------\")\n",
    "\n",
    "print(\"Val Accuracy: \",accuracy_score_val)\n",
    "print(\"Val Recall: \",recall_score_val)\n",
    "print(\"Val Precision: \",precision_score_val)"
   ]
  },
  {
   "cell_type": "markdown",
   "metadata": {},
   "source": [
    "### MLP with 3 layers\n",
    "\n",
    "    1st hidden layer with 25 neurons\n",
    "    2nd hidden layer with 15 neurons"
   ]
  },
  {
   "cell_type": "code",
   "execution_count": 81,
   "metadata": {},
   "outputs": [],
   "source": [
    "mlp_model4 = Sequential()\n",
    "\n",
    "mlp_model4.add(Dense(25, input_shape=(27,), activation='tanh', kernel_initializer='normal'))\n",
    "mlp_model4.add(Dense(15, activation='tanh', kernel_initializer='normal'))\n",
    "mlp_model4.add(Dense(1, activation='sigmoid', kernel_initializer='normal'))"
   ]
  },
  {
   "cell_type": "code",
   "execution_count": 82,
   "metadata": {},
   "outputs": [
    {
     "name": "stdout",
     "output_type": "stream",
     "text": [
      "Model: \"sequential_4\"\n",
      "_________________________________________________________________\n",
      "Layer (type)                 Output Shape              Param #   \n",
      "=================================================================\n",
      "dense_7 (Dense)              (None, 25)                700       \n",
      "_________________________________________________________________\n",
      "dense_8 (Dense)              (None, 15)                390       \n",
      "_________________________________________________________________\n",
      "dense_9 (Dense)              (None, 1)                 16        \n",
      "=================================================================\n",
      "Total params: 1,106\n",
      "Trainable params: 1,106\n",
      "Non-trainable params: 0\n",
      "_________________________________________________________________\n"
     ]
    }
   ],
   "source": [
    "mlp_model4.summary()"
   ]
  },
  {
   "cell_type": "code",
   "execution_count": 83,
   "metadata": {},
   "outputs": [],
   "source": [
    "mlp_model4.compile(loss='binary_crossentropy', optimizer='sgd', metrics=[tf.keras.metrics.Recall(name='recall')])"
   ]
  },
  {
   "cell_type": "code",
   "execution_count": 84,
   "metadata": {},
   "outputs": [
    {
     "name": "stdout",
     "output_type": "stream",
     "text": [
      "Train on 34489 samples, validate on 8623 samples\n",
      "Epoch 1/150\n",
      "33984/34489 [============================>.] - ETA: 0s - loss: 0.5506 - recall: 0.0000e+00\n",
      "Epoch 00001: val_loss did not improve from 0.43947\n",
      "34489/34489 [==============================] - 2s 56us/sample - loss: 0.5496 - recall: 0.0000e+00 - val_loss: 0.4912 - val_recall: 0.0000e+00\n",
      "Epoch 2/150\n",
      "33216/34489 [===========================>..] - ETA: 0s - loss: 0.4791 - recall: 0.0000e+00\n",
      "Epoch 00002: val_loss did not improve from 0.43947\n",
      "34489/34489 [==============================] - 1s 41us/sample - loss: 0.4791 - recall: 0.0000e+00 - val_loss: 0.4796 - val_recall: 0.0000e+00\n",
      "Epoch 3/150\n",
      "33856/34489 [============================>.] - ETA: 0s - loss: 0.4751 - recall: 0.0000e+00\n",
      "Epoch 00003: val_loss did not improve from 0.43947\n",
      "34489/34489 [==============================] - 1s 41us/sample - loss: 0.4749 - recall: 0.0000e+00 - val_loss: 0.4786 - val_recall: 0.0000e+00\n",
      "Epoch 4/150\n",
      "34304/34489 [============================>.] - ETA: 0s - loss: 0.4740 - recall: 0.0000e+00\n",
      "Epoch 00004: val_loss did not improve from 0.43947\n",
      "34489/34489 [==============================] - 1s 35us/sample - loss: 0.4740 - recall: 0.0000e+00 - val_loss: 0.4779 - val_recall: 0.0000e+00\n",
      "Epoch 5/150\n",
      "33664/34489 [============================>.] - ETA: 0s - loss: 0.4731 - recall: 0.0000e+00\n",
      "Epoch 00005: val_loss did not improve from 0.43947\n",
      "34489/34489 [==============================] - 1s 39us/sample - loss: 0.4732 - recall: 0.0000e+00 - val_loss: 0.4770 - val_recall: 0.0000e+00\n",
      "Epoch 6/150\n",
      "33216/34489 [===========================>..] - ETA: 0s - loss: 0.4720 - recall: 0.0000e+00\n",
      "Epoch 00006: val_loss did not improve from 0.43947\n",
      "34489/34489 [==============================] - 1s 37us/sample - loss: 0.4723 - recall: 0.0000e+00 - val_loss: 0.4761 - val_recall: 0.0000e+00\n",
      "Epoch 7/150\n",
      "32640/34489 [===========================>..] - ETA: 0s - loss: 0.4713 - recall: 0.0000e+00\n",
      "Epoch 00007: val_loss did not improve from 0.43947\n",
      "34489/34489 [==============================] - 1s 36us/sample - loss: 0.4712 - recall: 0.0000e+00 - val_loss: 0.4750 - val_recall: 0.0000e+00\n",
      "Epoch 8/150\n",
      "33920/34489 [============================>.] - ETA: 0s - loss: 0.4701 - recall: 0.0000e+00\n",
      "Epoch 00008: val_loss did not improve from 0.43947\n",
      "34489/34489 [==============================] - 1s 39us/sample - loss: 0.4700 - recall: 0.0000e+00 - val_loss: 0.4739 - val_recall: 0.0000e+00\n",
      "Epoch 9/150\n",
      "32960/34489 [===========================>..] - ETA: 0s - loss: 0.4678 - recall: 0.0000e+00\n",
      "Epoch 00009: val_loss did not improve from 0.43947\n",
      "34489/34489 [==============================] - 1s 40us/sample - loss: 0.4687 - recall: 0.0000e+00 - val_loss: 0.4725 - val_recall: 0.0000e+00\n",
      "Epoch 10/150\n",
      "33984/34489 [============================>.] - ETA: 0s - loss: 0.4675 - recall: 0.0000e+00\n",
      "Epoch 00010: val_loss did not improve from 0.43947\n",
      "34489/34489 [==============================] - 1s 36us/sample - loss: 0.4672 - recall: 0.0000e+00 - val_loss: 0.4712 - val_recall: 6.2500e-04\n",
      "Epoch 11/150\n",
      "33216/34489 [===========================>..] - ETA: 0s - loss: 0.4662 - recall: 0.0018\n",
      "Epoch 00011: val_loss did not improve from 0.43947\n",
      "34489/34489 [==============================] - 1s 43us/sample - loss: 0.4656 - recall: 0.0017 - val_loss: 0.4698 - val_recall: 0.0019\n",
      "Epoch 12/150\n",
      "33856/34489 [============================>.] - ETA: 0s - loss: 0.4641 - recall: 0.0032\n",
      "Epoch 00012: val_loss did not improve from 0.43947\n",
      "34489/34489 [==============================] - 1s 39us/sample - loss: 0.4641 - recall: 0.0033 - val_loss: 0.4684 - val_recall: 0.0025\n",
      "Epoch 13/150\n",
      "33216/34489 [===========================>..] - ETA: 0s - loss: 0.4627 - recall: 0.0036\n",
      "Epoch 00013: val_loss did not improve from 0.43947\n",
      "34489/34489 [==============================] - 1s 43us/sample - loss: 0.4627 - recall: 0.0040 - val_loss: 0.4672 - val_recall: 0.0031\n",
      "Epoch 14/150\n",
      "33472/34489 [============================>.] - ETA: 0s - loss: 0.4621 - recall: 0.0057\n",
      "Epoch 00014: val_loss did not improve from 0.43947\n",
      "34489/34489 [==============================] - 1s 41us/sample - loss: 0.4615 - recall: 0.0056 - val_loss: 0.4661 - val_recall: 0.0056\n",
      "Epoch 15/150\n",
      "33408/34489 [============================>.] - ETA: 0s - loss: 0.4622 - recall: 0.0068\n",
      "Epoch 00015: val_loss did not improve from 0.43947\n",
      "34489/34489 [==============================] - 1s 40us/sample - loss: 0.4604 - recall: 0.0070 - val_loss: 0.4653 - val_recall: 0.0069\n",
      "Epoch 16/150\n",
      "33152/34489 [===========================>..] - ETA: 0s - loss: 0.4595 - recall: 0.0082\n",
      "Epoch 00016: val_loss did not improve from 0.43947\n",
      "34489/34489 [==============================] - 1s 42us/sample - loss: 0.4594 - recall: 0.0084 - val_loss: 0.4642 - val_recall: 0.0088\n",
      "Epoch 17/150\n",
      "34048/34489 [============================>.] - ETA: 0s - loss: 0.4589 - recall: 0.0103\n",
      "Epoch 00017: val_loss did not improve from 0.43947\n",
      "34489/34489 [==============================] - 1s 41us/sample - loss: 0.4585 - recall: 0.0108 - val_loss: 0.4634 - val_recall: 0.0088\n",
      "Epoch 18/150\n",
      "33408/34489 [============================>.] - ETA: 0s - loss: 0.4571 - recall: 0.0123\n",
      "Epoch 00018: val_loss did not improve from 0.43947\n",
      "34489/34489 [==============================] - 1s 42us/sample - loss: 0.4577 - recall: 0.0124 - val_loss: 0.4623 - val_recall: 0.0106\n",
      "Epoch 19/150\n",
      "33472/34489 [============================>.] - ETA: 0s - loss: 0.4574 - recall: 0.0143\n",
      "Epoch 00019: val_loss did not improve from 0.43947\n",
      "34489/34489 [==============================] - 2s 45us/sample - loss: 0.4568 - recall: 0.0141 - val_loss: 0.4618 - val_recall: 0.0125\n",
      "Epoch 20/150\n",
      "32448/34489 [===========================>..] - ETA: 0s - loss: 0.4566 - recall: 0.0166\n",
      "Epoch 00020: val_loss did not improve from 0.43947\n",
      "34489/34489 [==============================] - 1s 39us/sample - loss: 0.4561 - recall: 0.0163 - val_loss: 0.4607 - val_recall: 0.0156\n",
      "Epoch 21/150\n",
      "33024/34489 [===========================>..] - ETA: 0s - loss: 0.4543 - recall: 0.0186\n",
      "Epoch 00021: val_loss did not improve from 0.43947\n",
      "34489/34489 [==============================] - 1s 37us/sample - loss: 0.4553 - recall: 0.0189 - val_loss: 0.4599 - val_recall: 0.0181\n",
      "Epoch 22/150\n",
      "33600/34489 [============================>.] - ETA: 0s - loss: 0.4549 - recall: 0.0205\n",
      "Epoch 00022: val_loss did not improve from 0.43947\n",
      "34489/34489 [==============================] - 1s 39us/sample - loss: 0.4546 - recall: 0.0211 - val_loss: 0.4592 - val_recall: 0.0206\n",
      "Epoch 23/150\n",
      "33216/34489 [===========================>..] - ETA: 0s - loss: 0.4533 - recall: 0.0229\n",
      "Epoch 00023: val_loss did not improve from 0.43947\n",
      "34489/34489 [==============================] - 1s 39us/sample - loss: 0.4539 - recall: 0.0228 - val_loss: 0.4586 - val_recall: 0.0219\n",
      "Epoch 24/150\n",
      "34368/34489 [============================>.] - ETA: 0s - loss: 0.4531 - recall: 0.0245\n",
      "Epoch 00024: val_loss did not improve from 0.43947\n",
      "34489/34489 [==============================] - 2s 44us/sample - loss: 0.4532 - recall: 0.0247 - val_loss: 0.4580 - val_recall: 0.0231\n",
      "Epoch 25/150\n",
      "33984/34489 [============================>.] - ETA: 0s - loss: 0.4527 - recall: 0.0273\n",
      "Epoch 00025: val_loss did not improve from 0.43947\n",
      "34489/34489 [==============================] - 1s 34us/sample - loss: 0.4525 - recall: 0.0274 - val_loss: 0.4575 - val_recall: 0.0256\n",
      "Epoch 26/150\n",
      "32832/34489 [===========================>..] - ETA: 0s - loss: 0.4528 - recall: 0.0304\n",
      "Epoch 00026: val_loss did not improve from 0.43947\n",
      "34489/34489 [==============================] - 1s 36us/sample - loss: 0.4518 - recall: 0.0298 - val_loss: 0.4568 - val_recall: 0.0269\n",
      "Epoch 27/150\n",
      "33408/34489 [============================>.] - ETA: 0s - loss: 0.4517 - recall: 0.0315\n",
      "Epoch 00027: val_loss did not improve from 0.43947\n",
      "34489/34489 [==============================] - 1s 33us/sample - loss: 0.4510 - recall: 0.0316 - val_loss: 0.4563 - val_recall: 0.0294\n",
      "Epoch 28/150\n",
      "33536/34489 [============================>.] - ETA: 0s - loss: 0.4511 - recall: 0.0329\n",
      "Epoch 00028: val_loss did not improve from 0.43947\n",
      "34489/34489 [==============================] - 1s 35us/sample - loss: 0.4504 - recall: 0.0330 - val_loss: 0.4555 - val_recall: 0.0312\n",
      "Epoch 29/150\n",
      "33856/34489 [============================>.] - ETA: 0s - loss: 0.4494 - recall: 0.0340\n",
      "Epoch 00029: val_loss did not improve from 0.43947\n",
      "34489/34489 [==============================] - 1s 27us/sample - loss: 0.4497 - recall: 0.0343 - val_loss: 0.4550 - val_recall: 0.0338\n",
      "Epoch 30/150\n",
      "33792/34489 [============================>.] - ETA: 0s - loss: 0.4490 - recall: 0.0363\n",
      "Epoch 00030: val_loss did not improve from 0.43947\n",
      "34489/34489 [==============================] - 1s 39us/sample - loss: 0.4490 - recall: 0.0365 - val_loss: 0.4543 - val_recall: 0.0338\n",
      "Epoch 31/150\n",
      "33600/34489 [============================>.] - ETA: 0s - loss: 0.4485 - recall: 0.0376\n",
      "Epoch 00031: val_loss did not improve from 0.43947\n",
      "34489/34489 [==============================] - 1s 26us/sample - loss: 0.4484 - recall: 0.0377 - val_loss: 0.4537 - val_recall: 0.0338\n",
      "Epoch 32/150\n",
      "32192/34489 [===========================>..] - ETA: 0s - loss: 0.4481 - recall: 0.0394\n",
      "Epoch 00032: val_loss did not improve from 0.43947\n",
      "34489/34489 [==============================] - 1s 27us/sample - loss: 0.4478 - recall: 0.0393 - val_loss: 0.4531 - val_recall: 0.0344\n",
      "Epoch 33/150\n",
      "33664/34489 [============================>.] - ETA: 0s - loss: 0.4474 - recall: 0.0407\n",
      "Epoch 00033: val_loss did not improve from 0.43947\n",
      "34489/34489 [==============================] - 1s 29us/sample - loss: 0.4471 - recall: 0.0408 - val_loss: 0.4527 - val_recall: 0.0375\n",
      "Epoch 34/150\n",
      "34432/34489 [============================>.] - ETA: 0s - loss: 0.4466 - recall: 0.0418\n",
      "Epoch 00034: val_loss did not improve from 0.43947\n",
      "34489/34489 [==============================] - 1s 41us/sample - loss: 0.4465 - recall: 0.0417 - val_loss: 0.4519 - val_recall: 0.0388\n",
      "Epoch 35/150\n",
      "32768/34489 [===========================>..] - ETA: 0s - loss: 0.4465 - recall: 0.0441\n",
      "Epoch 00035: val_loss did not improve from 0.43947\n",
      "34489/34489 [==============================] - 1s 38us/sample - loss: 0.4460 - recall: 0.0439 - val_loss: 0.4515 - val_recall: 0.0400\n",
      "Epoch 36/150\n",
      "33024/34489 [===========================>..] - ETA: 0s - loss: 0.4461 - recall: 0.0453\n",
      "Epoch 00036: val_loss did not improve from 0.43947\n",
      "34489/34489 [==============================] - 1s 31us/sample - loss: 0.4454 - recall: 0.0457 - val_loss: 0.4513 - val_recall: 0.0400\n",
      "Epoch 37/150\n",
      "33216/34489 [===========================>..] - ETA: 0s - loss: 0.4444 - recall: 0.0478\n",
      "Epoch 00037: val_loss did not improve from 0.43947\n",
      "34489/34489 [==============================] - 1s 42us/sample - loss: 0.4448 - recall: 0.0476 - val_loss: 0.4506 - val_recall: 0.0437\n",
      "Epoch 38/150\n",
      "33152/34489 [===========================>..] - ETA: 0s - loss: 0.4446 - recall: 0.0504\n",
      "Epoch 00038: val_loss did not improve from 0.43947\n",
      "34489/34489 [==============================] - 1s 43us/sample - loss: 0.4442 - recall: 0.0500 - val_loss: 0.4500 - val_recall: 0.0444\n",
      "Epoch 39/150\n",
      "33664/34489 [============================>.] - ETA: 0s - loss: 0.4434 - recall: 0.0504\n",
      "Epoch 00039: val_loss did not improve from 0.43947\n",
      "34489/34489 [==============================] - 1s 41us/sample - loss: 0.4436 - recall: 0.0506 - val_loss: 0.4496 - val_recall: 0.0450\n",
      "Epoch 40/150\n",
      "32576/34489 [===========================>..] - ETA: 0s - loss: 0.4424 - recall: 0.0529 ETA: 0s - loss: 0.4441 - re\n",
      "Epoch 00040: val_loss did not improve from 0.43947\n",
      "34489/34489 [==============================] - 1s 39us/sample - loss: 0.4432 - recall: 0.0523 - val_loss: 0.4491 - val_recall: 0.0463\n",
      "Epoch 41/150\n",
      "33984/34489 [============================>.] - ETA: 0s - loss: 0.4428 - recall: 0.0540\n",
      "Epoch 00041: val_loss did not improve from 0.43947\n",
      "34489/34489 [==============================] - 1s 42us/sample - loss: 0.4426 - recall: 0.0544 - val_loss: 0.4485 - val_recall: 0.0463\n",
      "Epoch 42/150\n",
      "34176/34489 [============================>.] - ETA: 0s - loss: 0.4415 - recall: 0.0554\n",
      "Epoch 00042: val_loss did not improve from 0.43947\n",
      "34489/34489 [==============================] - 2s 44us/sample - loss: 0.4419 - recall: 0.0554 - val_loss: 0.4495 - val_recall: 0.0525\n",
      "Epoch 43/150\n",
      "33600/34489 [============================>.] - ETA: 0s - loss: 0.4413 - recall: 0.0562\n",
      "Epoch 00043: val_loss did not improve from 0.43947\n",
      "34489/34489 [==============================] - 2s 45us/sample - loss: 0.4415 - recall: 0.0560 - val_loss: 0.4472 - val_recall: 0.0469\n",
      "Epoch 44/150\n",
      "33152/34489 [===========================>..] - ETA: 0s - loss: 0.4409 - recall: 0.0578\n",
      "Epoch 00044: val_loss did not improve from 0.43947\n",
      "34489/34489 [==============================] - 1s 42us/sample - loss: 0.4410 - recall: 0.0576 - val_loss: 0.4470 - val_recall: 0.0481\n",
      "Epoch 45/150\n",
      "33792/34489 [============================>.] - ETA: 0s - loss: 0.4404 - recall: 0.0585\n",
      "Epoch 00045: val_loss did not improve from 0.43947\n",
      "34489/34489 [==============================] - 2s 45us/sample - loss: 0.4405 - recall: 0.0585 - val_loss: 0.4465 - val_recall: 0.0494\n",
      "Epoch 46/150\n",
      "33344/34489 [============================>.] - ETA: 0s - loss: 0.4401 - recall: 0.0600 ETA: 0s - loss: 0.440\n",
      "Epoch 00046: val_loss did not improve from 0.43947\n",
      "34489/34489 [==============================] - 1s 39us/sample - loss: 0.4400 - recall: 0.0590 - val_loss: 0.4456 - val_recall: 0.0506\n",
      "Epoch 47/150\n",
      "33088/34489 [===========================>..] - ETA: 0s - loss: 0.4390 - recall: 0.0603\n",
      "Epoch 00047: val_loss did not improve from 0.43947\n",
      "34489/34489 [==============================] - 1s 27us/sample - loss: 0.4394 - recall: 0.0607 - val_loss: 0.4451 - val_recall: 0.0512\n",
      "Epoch 48/150\n",
      "32768/34489 [===========================>..] - ETA: 0s - loss: 0.4392 - recall: 0.0602\n",
      "Epoch 00048: val_loss did not improve from 0.43947\n",
      "34489/34489 [==============================] - 1s 26us/sample - loss: 0.4390 - recall: 0.0609 - val_loss: 0.4449 - val_recall: 0.0538\n",
      "Epoch 49/150\n",
      "33280/34489 [===========================>..] - ETA: 0s - loss: 0.4378 - recall: 0.0637 ETA: 0s - loss: 0.436\n",
      "Epoch 00049: val_loss did not improve from 0.43947\n",
      "34489/34489 [==============================] - 1s 29us/sample - loss: 0.4385 - recall: 0.0628 - val_loss: 0.4442 - val_recall: 0.0550\n",
      "Epoch 50/150\n",
      "34048/34489 [============================>.] - ETA: 0s - loss: 0.4378 - recall: 0.0629\n",
      "Epoch 00050: val_loss did not improve from 0.43947\n",
      "34489/34489 [==============================] - 1s 39us/sample - loss: 0.4378 - recall: 0.0626 - val_loss: 0.4436 - val_recall: 0.0550\n",
      "Epoch 51/150\n",
      "33984/34489 [============================>.] - ETA: 0s - loss: 0.4374 - recall: 0.0620\n",
      "Epoch 00051: val_loss did not improve from 0.43947\n",
      "34489/34489 [==============================] - 1s 41us/sample - loss: 0.4373 - recall: 0.0625 - val_loss: 0.4432 - val_recall: 0.0556\n",
      "Epoch 52/150\n",
      "33600/34489 [============================>.] - ETA: 0s - loss: 0.4371 - recall: 0.0639\n",
      "Epoch 00052: val_loss did not improve from 0.43947\n",
      "34489/34489 [==============================] - 1s 29us/sample - loss: 0.4369 - recall: 0.0641 - val_loss: 0.4425 - val_recall: 0.0562\n",
      "Epoch 53/150\n",
      "32896/34489 [===========================>..] - ETA: 0s - loss: 0.4368 - recall: 0.0659\n",
      "Epoch 00053: val_loss did not improve from 0.43947\n",
      "34489/34489 [==============================] - 1s 26us/sample - loss: 0.4364 - recall: 0.0655 - val_loss: 0.4421 - val_recall: 0.0556\n",
      "Epoch 54/150\n",
      "34176/34489 [============================>.] - ETA: 0s - loss: 0.4357 - recall: 0.0643\n",
      "Epoch 00054: val_loss did not improve from 0.43947\n",
      "34489/34489 [==============================] - 1s 26us/sample - loss: 0.4360 - recall: 0.0646 - val_loss: 0.4425 - val_recall: 0.0662\n",
      "Epoch 55/150\n",
      "34240/34489 [============================>.] - ETA: 0s - loss: 0.4359 - recall: 0.0664\n",
      "Epoch 00055: val_loss did not improve from 0.43947\n",
      "34489/34489 [==============================] - 1s 34us/sample - loss: 0.4355 - recall: 0.0661 - val_loss: 0.4419 - val_recall: 0.0569\n",
      "Epoch 56/150\n",
      "33280/34489 [===========================>..] - ETA: 0s - loss: 0.4357 - recall: 0.0675\n",
      "Epoch 00056: val_loss did not improve from 0.43947\n",
      "34489/34489 [==============================] - 1s 41us/sample - loss: 0.4350 - recall: 0.0677 - val_loss: 0.4405 - val_recall: 0.0613\n",
      "Epoch 57/150\n",
      "33856/34489 [============================>.] - ETA: 0s - loss: 0.4344 - recall: 0.0689\n",
      "Epoch 00057: val_loss did not improve from 0.43947\n",
      "34489/34489 [==============================] - 1s 42us/sample - loss: 0.4342 - recall: 0.0685 - val_loss: 0.4399 - val_recall: 0.0619\n",
      "Epoch 58/150\n",
      "33600/34489 [============================>.] - ETA: 0s - loss: 0.4334 - recall: 0.0696 ETA: 0s - loss: 0.4324 - recall: 0.07\n",
      "Epoch 00058: val_loss did not improve from 0.43947\n",
      "34489/34489 [==============================] - 1s 41us/sample - loss: 0.4339 - recall: 0.0695 - val_loss: 0.4397 - val_recall: 0.0681\n",
      "Epoch 59/150\n",
      "33472/34489 [============================>.] - ETA: 0s - loss: 0.4330 - recall: 0.0708 ETA: 0s - loss: 0.4320 - recall: \n",
      "Epoch 00059: val_loss improved from 0.43947 to 0.43921, saving model to /home/seemab/AI_and_DecisionSciences/DeepLearning/mlp_backorders.h5\n",
      "34489/34489 [==============================] - 1s 41us/sample - loss: 0.4335 - recall: 0.0704 - val_loss: 0.4392 - val_recall: 0.0637\n",
      "Epoch 60/150\n",
      "33088/34489 [===========================>..] - ETA: 0s - loss: 0.4333 - recall: 0.0711\n",
      "Epoch 00060: val_loss improved from 0.43921 to 0.43817, saving model to /home/seemab/AI_and_DecisionSciences/DeepLearning/mlp_backorders.h5\n",
      "34489/34489 [==============================] - 1s 36us/sample - loss: 0.4331 - recall: 0.0715 - val_loss: 0.4382 - val_recall: 0.0650\n",
      "Epoch 61/150\n",
      "34048/34489 [============================>.] - ETA: 0s - loss: 0.4322 - recall: 0.0722 ETA: 0s - loss: 0.4310 - reca\n",
      "Epoch 00061: val_loss did not improve from 0.43817\n",
      "34489/34489 [==============================] - 1s 42us/sample - loss: 0.4323 - recall: 0.0723 - val_loss: 0.4385 - val_recall: 0.0681\n",
      "Epoch 62/150\n",
      "32832/34489 [===========================>..] - ETA: 0s - loss: 0.4321 - recall: 0.0727\n",
      "Epoch 00062: val_loss did not improve from 0.43817\n",
      "34489/34489 [==============================] - 1s 39us/sample - loss: 0.4317 - recall: 0.0738 - val_loss: 0.4393 - val_recall: 0.0637\n",
      "Epoch 63/150\n",
      "34240/34489 [============================>.] - ETA: 0s - loss: 0.4314 - recall: 0.0738\n",
      "Epoch 00063: val_loss improved from 0.43817 to 0.43644, saving model to /home/seemab/AI_and_DecisionSciences/DeepLearning/mlp_backorders.h5\n",
      "34489/34489 [==============================] - 1s 42us/sample - loss: 0.4312 - recall: 0.0741 - val_loss: 0.4364 - val_recall: 0.0669\n",
      "Epoch 64/150\n",
      "34432/34489 [============================>.] - ETA: 0s - loss: 0.4306 - recall: 0.0755\n",
      "Epoch 00064: val_loss did not improve from 0.43644\n",
      "34489/34489 [==============================] - 1s 42us/sample - loss: 0.4306 - recall: 0.0753 - val_loss: 0.4373 - val_recall: 0.0719\n",
      "Epoch 65/150\n",
      "34368/34489 [============================>.] - ETA: 0s - loss: 0.4300 - recall: 0.0756\n",
      "Epoch 00065: val_loss improved from 0.43644 to 0.43518, saving model to /home/seemab/AI_and_DecisionSciences/DeepLearning/mlp_backorders.h5\n",
      "34489/34489 [==============================] - 1s 41us/sample - loss: 0.4302 - recall: 0.0757 - val_loss: 0.4352 - val_recall: 0.0712\n",
      "Epoch 66/150\n",
      "33024/34489 [===========================>..] - ETA: 0s - loss: 0.4292 - recall: 0.0772 ETA: 0s - loss: 0.4315 - recall:  - ETA: 0s - loss:\n",
      "Epoch 00066: val_loss improved from 0.43518 to 0.43462, saving model to /home/seemab/AI_and_DecisionSciences/DeepLearning/mlp_backorders.h5\n",
      "34489/34489 [==============================] - 1s 38us/sample - loss: 0.4296 - recall: 0.0771 - val_loss: 0.4346 - val_recall: 0.0694\n",
      "Epoch 67/150\n",
      "33600/34489 [============================>.] - ETA: 0s - loss: 0.4294 - recall: 0.0768\n",
      "Epoch 00067: val_loss did not improve from 0.43462\n",
      "34489/34489 [==============================] - 1s 35us/sample - loss: 0.4289 - recall: 0.0764 - val_loss: 0.4355 - val_recall: 0.0662\n",
      "Epoch 68/150\n",
      "32832/34489 [===========================>..] - ETA: 0s - loss: 0.4291 - recall: 0.0757\n",
      "Epoch 00068: val_loss improved from 0.43462 to 0.43412, saving model to /home/seemab/AI_and_DecisionSciences/DeepLearning/mlp_backorders.h5\n",
      "34489/34489 [==============================] - 1s 35us/sample - loss: 0.4282 - recall: 0.0769 - val_loss: 0.4341 - val_recall: 0.0675\n",
      "Epoch 69/150\n",
      "32512/34489 [===========================>..] - ETA: 0s - loss: 0.4281 - recall: 0.0776 ETA: 0s - loss: 0.4289 - reca - ETA: 0s - loss: 0.4301 - recall: 0.\n",
      "Epoch 00069: val_loss did not improve from 0.43412\n",
      "34489/34489 [==============================] - 1s 25us/sample - loss: 0.4280 - recall: 0.0774 - val_loss: 0.4343 - val_recall: 0.0694\n",
      "Epoch 70/150\n",
      "31936/34489 [==========================>...] - ETA: 0s - loss: 0.4275 - recall: 0.0772\n",
      "Epoch 00070: val_loss improved from 0.43412 to 0.43149, saving model to /home/seemab/AI_and_DecisionSciences/DeepLearning/mlp_backorders.h5\n",
      "34489/34489 [==============================] - 1s 24us/sample - loss: 0.4270 - recall: 0.0785 - val_loss: 0.4315 - val_recall: 0.0775\n",
      "Epoch 71/150\n",
      "33664/34489 [============================>.] - ETA: 0s - loss: 0.4269 - recall: 0.0796\n",
      "Epoch 00071: val_loss improved from 0.43149 to 0.43137, saving model to /home/seemab/AI_and_DecisionSciences/DeepLearning/mlp_backorders.h5\n",
      "34489/34489 [==============================] - 1s 32us/sample - loss: 0.4265 - recall: 0.0799 - val_loss: 0.4314 - val_recall: 0.0769\n",
      "Epoch 72/150\n",
      "33600/34489 [============================>.] - ETA: 0s - loss: 0.4254 - recall: 0.0819\n",
      "Epoch 00072: val_loss did not improve from 0.43137\n",
      "34489/34489 [==============================] - 1s 36us/sample - loss: 0.4258 - recall: 0.0817 - val_loss: 0.4320 - val_recall: 0.0725\n",
      "Epoch 73/150\n",
      "34432/34489 [============================>.] - ETA: 0s - loss: 0.4253 - recall: 0.0820\n",
      "Epoch 00073: val_loss did not improve from 0.43137\n",
      "34489/34489 [==============================] - 1s 30us/sample - loss: 0.4253 - recall: 0.0820 - val_loss: 0.4336 - val_recall: 0.0694\n",
      "Epoch 74/150\n",
      "32448/34489 [===========================>..] - ETA: 0s - loss: 0.4256 - recall: 0.0816\n",
      "Epoch 00074: val_loss improved from 0.43137 to 0.43043, saving model to /home/seemab/AI_and_DecisionSciences/DeepLearning/mlp_backorders.h5\n",
      "34489/34489 [==============================] - 1s 28us/sample - loss: 0.4248 - recall: 0.0828 - val_loss: 0.4304 - val_recall: 0.0737\n",
      "Epoch 75/150\n",
      "33984/34489 [============================>.] - ETA: 0s - loss: 0.4243 - recall: 0.0855\n",
      "Epoch 00075: val_loss improved from 0.43043 to 0.43026, saving model to /home/seemab/AI_and_DecisionSciences/DeepLearning/mlp_backorders.h5\n",
      "34489/34489 [==============================] - 1s 27us/sample - loss: 0.4243 - recall: 0.0847 - val_loss: 0.4303 - val_recall: 0.0894\n",
      "Epoch 76/150\n",
      "33728/34489 [============================>.] - ETA: 0s - loss: 0.4240 - recall: 0.0859\n",
      "Epoch 00076: val_loss improved from 0.43026 to 0.42826, saving model to /home/seemab/AI_and_DecisionSciences/DeepLearning/mlp_backorders.h5\n",
      "34489/34489 [==============================] - 1s 27us/sample - loss: 0.4237 - recall: 0.0856 - val_loss: 0.4283 - val_recall: 0.0769\n",
      "Epoch 77/150\n",
      "33216/34489 [===========================>..] - ETA: 0s - loss: 0.4234 - recall: 0.0860\n",
      "Epoch 00077: val_loss improved from 0.42826 to 0.42772, saving model to /home/seemab/AI_and_DecisionSciences/DeepLearning/mlp_backorders.h5\n",
      "34489/34489 [==============================] - 1s 27us/sample - loss: 0.4230 - recall: 0.0863 - val_loss: 0.4277 - val_recall: 0.0763\n",
      "Epoch 78/150\n",
      "34432/34489 [============================>.] - ETA: 0s - loss: 0.4227 - recall: 0.0874\n",
      "Epoch 00078: val_loss did not improve from 0.42772\n",
      "34489/34489 [==============================] - 1s 27us/sample - loss: 0.4226 - recall: 0.0877 - val_loss: 0.4277 - val_recall: 0.0781\n",
      "Epoch 79/150\n",
      "32960/34489 [===========================>..] - ETA: 0s - loss: 0.4221 - recall: 0.0868\n",
      "Epoch 00079: val_loss improved from 0.42772 to 0.42561, saving model to /home/seemab/AI_and_DecisionSciences/DeepLearning/mlp_backorders.h5\n",
      "34489/34489 [==============================] - 1s 39us/sample - loss: 0.4221 - recall: 0.0883 - val_loss: 0.4256 - val_recall: 0.0869\n",
      "Epoch 80/150\n",
      "33216/34489 [===========================>..] - ETA: 0s - loss: 0.4206 - recall: 0.0894\n",
      "Epoch 00080: val_loss did not improve from 0.42561\n",
      "34489/34489 [==============================] - 1s 38us/sample - loss: 0.4215 - recall: 0.0888 - val_loss: 0.4276 - val_recall: 0.0900\n",
      "Epoch 81/150\n",
      "33664/34489 [============================>.] - ETA: 0s - loss: 0.4214 - recall: 0.0886\n",
      "Epoch 00081: val_loss did not improve from 0.42561\n",
      "34489/34489 [==============================] - 1s 40us/sample - loss: 0.4211 - recall: 0.0891 - val_loss: 0.4298 - val_recall: 0.0781\n",
      "Epoch 82/150\n",
      "33152/34489 [===========================>..] - ETA: 0s - loss: 0.4213 - recall: 0.0911\n",
      "Epoch 00082: val_loss improved from 0.42561 to 0.42517, saving model to /home/seemab/AI_and_DecisionSciences/DeepLearning/mlp_backorders.h5\n",
      "34489/34489 [==============================] - 1s 27us/sample - loss: 0.4203 - recall: 0.0906 - val_loss: 0.4252 - val_recall: 0.0812\n",
      "Epoch 83/150\n",
      "32576/34489 [===========================>..] - ETA: 0s - loss: 0.4189 - recall: 0.0946\n",
      "Epoch 00083: val_loss improved from 0.42517 to 0.42455, saving model to /home/seemab/AI_and_DecisionSciences/DeepLearning/mlp_backorders.h5\n",
      "34489/34489 [==============================] - 1s 25us/sample - loss: 0.4195 - recall: 0.0925 - val_loss: 0.4246 - val_recall: 0.0812\n",
      "Epoch 84/150\n",
      "32320/34489 [===========================>..] - ETA: 0s - loss: 0.4186 - recall: 0.0907\n",
      "Epoch 00084: val_loss improved from 0.42455 to 0.42329, saving model to /home/seemab/AI_and_DecisionSciences/DeepLearning/mlp_backorders.h5\n",
      "34489/34489 [==============================] - 1s 28us/sample - loss: 0.4192 - recall: 0.0906 - val_loss: 0.4233 - val_recall: 0.0900\n",
      "Epoch 85/150\n",
      "32640/34489 [===========================>..] - ETA: 0s - loss: 0.4191 - recall: 0.0928\n",
      "Epoch 00085: val_loss did not improve from 0.42329\n",
      "34489/34489 [==============================] - 1s 29us/sample - loss: 0.4187 - recall: 0.0921 - val_loss: 0.4240 - val_recall: 0.0812\n",
      "Epoch 86/150\n",
      "33792/34489 [============================>.] - ETA: 0s - loss: 0.4183 - recall: 0.0937\n",
      "Epoch 00086: val_loss improved from 0.42329 to 0.42180, saving model to /home/seemab/AI_and_DecisionSciences/DeepLearning/mlp_backorders.h5\n",
      "34489/34489 [==============================] - 1s 30us/sample - loss: 0.4180 - recall: 0.0936 - val_loss: 0.4218 - val_recall: 0.0887\n",
      "Epoch 87/150\n",
      "33920/34489 [============================>.] - ETA: 0s - loss: 0.4179 - recall: 0.0963\n",
      "Epoch 00087: val_loss improved from 0.42180 to 0.42176, saving model to /home/seemab/AI_and_DecisionSciences/DeepLearning/mlp_backorders.h5\n",
      "34489/34489 [==============================] - 1s 30us/sample - loss: 0.4176 - recall: 0.0960 - val_loss: 0.4218 - val_recall: 0.0906\n",
      "Epoch 88/150\n",
      "33536/34489 [============================>.] - ETA: 0s - loss: 0.4164 - recall: 0.0938\n",
      "Epoch 00088: val_loss did not improve from 0.42176\n",
      "34489/34489 [==============================] - 1s 35us/sample - loss: 0.4165 - recall: 0.0956 - val_loss: 0.4250 - val_recall: 0.1050\n",
      "Epoch 89/150\n",
      "33024/34489 [===========================>..] - ETA: 0s - loss: 0.4168 - recall: 0.0961\n",
      "Epoch 00089: val_loss improved from 0.42176 to 0.42034, saving model to /home/seemab/AI_and_DecisionSciences/DeepLearning/mlp_backorders.h5\n",
      "34489/34489 [==============================] - 1s 37us/sample - loss: 0.4162 - recall: 0.0975 - val_loss: 0.4203 - val_recall: 0.0894\n",
      "Epoch 90/150\n",
      "33728/34489 [============================>.] - ETA: 0s - loss: 0.4157 - recall: 0.0975\n",
      "Epoch 00090: val_loss did not improve from 0.42034\n",
      "34489/34489 [==============================] - 1s 33us/sample - loss: 0.4155 - recall: 0.0975 - val_loss: 0.4208 - val_recall: 0.0862\n",
      "Epoch 91/150\n",
      "33792/34489 [============================>.] - ETA: 0s - loss: 0.4146 - recall: 0.1000\n",
      "Epoch 00091: val_loss improved from 0.42034 to 0.42001, saving model to /home/seemab/AI_and_DecisionSciences/DeepLearning/mlp_backorders.h5\n",
      "34489/34489 [==============================] - 1s 30us/sample - loss: 0.4151 - recall: 0.0994 - val_loss: 0.4200 - val_recall: 0.1025\n",
      "Epoch 92/150\n",
      "32384/34489 [===========================>..] - ETA: 0s - loss: 0.4160 - recall: 0.1026\n",
      "Epoch 00092: val_loss improved from 0.42001 to 0.41896, saving model to /home/seemab/AI_and_DecisionSciences/DeepLearning/mlp_backorders.h5\n",
      "34489/34489 [==============================] - 1s 24us/sample - loss: 0.4149 - recall: 0.1002 - val_loss: 0.4190 - val_recall: 0.0869\n",
      "Epoch 93/150\n",
      "33600/34489 [============================>.] - ETA: 0s - loss: 0.4148 - recall: 0.1011\n",
      "Epoch 00093: val_loss did not improve from 0.41896\n",
      "34489/34489 [==============================] - 1s 27us/sample - loss: 0.4143 - recall: 0.1006 - val_loss: 0.4312 - val_recall: 0.0781\n",
      "Epoch 94/150\n",
      "33728/34489 [============================>.] - ETA: 0s - loss: 0.4142 - recall: 0.1025\n",
      "Epoch 00094: val_loss did not improve from 0.41896\n",
      "34489/34489 [==============================] - 1s 35us/sample - loss: 0.4138 - recall: 0.1029 - val_loss: 0.4202 - val_recall: 0.0844\n",
      "Epoch 95/150\n",
      "33856/34489 [============================>.] - ETA: 0s - loss: 0.4137 - recall: 0.1034\n",
      "Epoch 00095: val_loss improved from 0.41896 to 0.41603, saving model to /home/seemab/AI_and_DecisionSciences/DeepLearning/mlp_backorders.h5\n",
      "34489/34489 [==============================] - 1s 42us/sample - loss: 0.4131 - recall: 0.1031 - val_loss: 0.4160 - val_recall: 0.0969\n",
      "Epoch 96/150\n",
      "33216/34489 [===========================>..] - ETA: 0s - loss: 0.4117 - recall: 0.1033\n",
      "Epoch 00096: val_loss did not improve from 0.41603\n",
      "34489/34489 [==============================] - 1s 37us/sample - loss: 0.4124 - recall: 0.1037 - val_loss: 0.4221 - val_recall: 0.1119\n",
      "Epoch 97/150\n",
      "32768/34489 [===========================>..] - ETA: 0s - loss: 0.4119 - recall: 0.1049\n",
      "Epoch 00097: val_loss did not improve from 0.41603\n",
      "34489/34489 [==============================] - 1s 30us/sample - loss: 0.4122 - recall: 0.1052 - val_loss: 0.4175 - val_recall: 0.0887\n",
      "Epoch 98/150\n",
      "34048/34489 [============================>.] - ETA: 0s - loss: 0.4118 - recall: 0.1055\n",
      "Epoch 00098: val_loss improved from 0.41603 to 0.41516, saving model to /home/seemab/AI_and_DecisionSciences/DeepLearning/mlp_backorders.h5\n",
      "34489/34489 [==============================] - 1s 36us/sample - loss: 0.4117 - recall: 0.1056 - val_loss: 0.4152 - val_recall: 0.0938\n",
      "Epoch 99/150\n",
      "33024/34489 [===========================>..] - ETA: 0s - loss: 0.4119 - recall: 0.1072\n",
      "Epoch 00099: val_loss did not improve from 0.41516\n",
      "34489/34489 [==============================] - 1s 36us/sample - loss: 0.4112 - recall: 0.1067 - val_loss: 0.4161 - val_recall: 0.1006\n",
      "Epoch 100/150\n",
      "33536/34489 [============================>.] - ETA: 0s - loss: 0.4102 - recall: 0.1067\n",
      "Epoch 00100: val_loss did not improve from 0.41516\n",
      "34489/34489 [==============================] - 1s 24us/sample - loss: 0.4108 - recall: 0.1069 - val_loss: 0.4163 - val_recall: 0.1088\n",
      "Epoch 00100: early stopping\n"
     ]
    }
   ],
   "source": [
    "model4_history = mlp_model4.fit(X_train_proc_arr, y_train, epochs=150, batch_size=64, validation_split=0.2, callbacks=callbacks)"
   ]
  },
  {
   "cell_type": "markdown",
   "metadata": {},
   "source": [
    "##### Plot"
   ]
  },
  {
   "cell_type": "code",
   "execution_count": 85,
   "metadata": {},
   "outputs": [
    {
     "name": "stdout",
     "output_type": "stream",
     "text": [
      "dict_keys(['loss', 'recall', 'val_loss', 'val_recall'])\n"
     ]
    }
   ],
   "source": [
    "print(model4_history.history.keys())"
   ]
  },
  {
   "cell_type": "code",
   "execution_count": 86,
   "metadata": {},
   "outputs": [
    {
     "data": {
      "image/png": "[encoded data removed]",
      "text/plain": [
       "<Figure size 432x288 with 1 Axes>"
      ]
     },
     "metadata": {
      "needs_background": "light"
     },
     "output_type": "display_data"
    }
   ],
   "source": [
    "plt.plot(model4_history.history['recall'])\n",
    "plt.plot(model4_history.history['val_recall'])\n",
    "plt.title('Recall Plot')\n",
    "plt.ylabel('Recall')\n",
    "plt.xlabel('Epoch')\n",
    "plt.legend(['Train', 'Validation'])\n",
    "plt.show()"
   ]
  },
  {
   "cell_type": "code",
   "execution_count": 87,
   "metadata": {},
   "outputs": [
    {
     "data": {
      "image/png": "[encoded data removed]",
      "text/plain": [
       "<Figure size 432x288 with 1 Axes>"
      ]
     },
     "metadata": {
      "needs_background": "light"
     },
     "output_type": "display_data"
    }
   ],
   "source": [
    "plt.plot(model4_history.history['loss'])\n",
    "plt.plot(model4_history.history['val_loss'])\n",
    "plt.title('Loss Function Plot')\n",
    "plt.ylabel('Loss')\n",
    "plt.xlabel('Epoch')\n",
    "plt.legend(['Train', 'Validation'])\n",
    "plt.show()"
   ]
  },
  {
   "cell_type": "markdown",
   "metadata": {},
   "source": [
    "#### Predictions"
   ]
  },
  {
   "cell_type": "code",
   "execution_count": 88,
   "metadata": {},
   "outputs": [],
   "source": [
    "train_model4_pred = mlp_model4.predict_classes(X_train_proc_arr)\n",
    "val_model4_pred = mlp_model4.predict_classes(X_val_proc_arr)"
   ]
  },
  {
   "cell_type": "markdown",
   "metadata": {},
   "source": [
    "#### Getting evaluation metrics and evaluating model performance"
   ]
  },
  {
   "cell_type": "code",
   "execution_count": 89,
   "metadata": {},
   "outputs": [
    {
     "name": "stdout",
     "output_type": "stream",
     "text": [
      "[[34826   381]\n",
      " [ 6997   908]]\n",
      "[[14925   164]\n",
      " [ 2979   409]]\n"
     ]
    }
   ],
   "source": [
    "confusion_matrix_train = confusion_matrix(y_train, train_model4_pred)\n",
    "confusion_matrix_val = confusion_matrix(y_val, val_model4_pred)\n",
    "\n",
    "print(confusion_matrix_train)\n",
    "print(confusion_matrix_val)"
   ]
  },
  {
   "cell_type": "markdown",
   "metadata": {},
   "source": [
    "#### Calculate Accuracy, True Positive Rate and True Negative Rates"
   ]
  },
  {
   "cell_type": "code",
   "execution_count": 90,
   "metadata": {},
   "outputs": [
    {
     "name": "stdout",
     "output_type": "stream",
     "text": [
      "Train Accuracy:  0.8288643533123028\n",
      "Train Recall:  0.1148640101201771\n",
      "Train Precision:  0.704422032583398\n",
      "-----------------------\n",
      "Val Accuracy:  0.8298966282405152\n",
      "Val Recall:  0.12072018890200709\n",
      "Val Precision:  0.7137870855148342\n"
     ]
    }
   ],
   "source": [
    "accuracy_score_train = accuracy_score(y_train, train_model4_pred)\n",
    "accuracy_score_val = accuracy_score(y_val, val_model4_pred)\n",
    "\n",
    "recall_score_train = recall_score(y_train, train_model4_pred)\n",
    "recall_score_val = recall_score(y_val, val_model4_pred)\n",
    "\n",
    "precision_score_train = precision_score(y_train, train_model4_pred)\n",
    "precision_score_val = precision_score(y_val, val_model4_pred)\n",
    "\n",
    "\n",
    "print(\"Train Accuracy: \",accuracy_score_train)\n",
    "print(\"Train Recall: \",recall_score_train)\n",
    "print(\"Train Precision: \",precision_score_train)\n",
    "\n",
    "print(\"-----------------------\")\n",
    "\n",
    "print(\"Val Accuracy: \",accuracy_score_val)\n",
    "print(\"Val Recall: \",recall_score_val)\n",
    "print(\"Val Precision: \",precision_score_val)"
   ]
  },
  {
   "cell_type": "markdown",
   "metadata": {},
   "source": [
    "### MLP with 3 layers\n",
    "\n",
    "    1st hidden layer with 25 neurons\n",
    "    2nd hidden layer with 20 neurons"
   ]
  },
  {
   "cell_type": "code",
   "execution_count": 91,
   "metadata": {},
   "outputs": [],
   "source": [
    "mlp_model5 = Sequential()\n",
    "\n",
    "mlp_model5.add(Dense(25, input_shape=(27,), activation='relu', kernel_initializer='normal'))\n",
    "mlp_model5.add(Dense(20, activation='relu', kernel_initializer='normal'))\n",
    "mlp_model5.add(Dense(1, activation='sigmoid', kernel_initializer='normal'))"
   ]
  },
  {
   "cell_type": "code",
   "execution_count": 92,
   "metadata": {},
   "outputs": [
    {
     "name": "stdout",
     "output_type": "stream",
     "text": [
      "Model: \"sequential_5\"\n",
      "_________________________________________________________________\n",
      "Layer (type)                 Output Shape              Param #   \n",
      "=================================================================\n",
      "dense_10 (Dense)             (None, 25)                700       \n",
      "_________________________________________________________________\n",
      "dense_11 (Dense)             (None, 20)                520       \n",
      "_________________________________________________________________\n",
      "dense_12 (Dense)             (None, 1)                 21        \n",
      "=================================================================\n",
      "Total params: 1,241\n",
      "Trainable params: 1,241\n",
      "Non-trainable params: 0\n",
      "_________________________________________________________________\n"
     ]
    }
   ],
   "source": [
    "mlp_model5.summary()"
   ]
  },
  {
   "cell_type": "code",
   "execution_count": 93,
   "metadata": {},
   "outputs": [],
   "source": [
    "mlp_model5.compile(loss='binary_crossentropy', optimizer='sgd', metrics=[tf.keras.metrics.Recall(name='recall')])"
   ]
  },
  {
   "cell_type": "code",
   "execution_count": 94,
   "metadata": {},
   "outputs": [
    {
     "name": "stdout",
     "output_type": "stream",
     "text": [
      "Train on 34489 samples, validate on 8623 samples\n",
      "Epoch 1/100\n",
      "32960/34489 [===========================>..] - ETA: 0s - loss: 0.5573 - recall: 1.6611e-04\n",
      "Epoch 00001: val_loss did not improve from 0.41516\n",
      "34489/34489 [==============================] - 1s 35us/sample - loss: 0.5547 - recall: 1.5860e-04 - val_loss: 0.4967 - val_recall: 0.0000e+00\n",
      "Epoch 2/100\n",
      "34176/34489 [============================>.] - ETA: 0s - loss: 0.4823 - recall: 0.0000e+00\n",
      "Epoch 00002: val_loss did not improve from 0.41516\n",
      "34489/34489 [==============================] - 1s 20us/sample - loss: 0.4822 - recall: 0.0000e+00 - val_loss: 0.4807 - val_recall: 0.0000e+00\n",
      "Epoch 3/100\n",
      "33088/34489 [===========================>..] - ETA: 0s - loss: 0.4758 - recall: 0.0000e+00\n",
      "Epoch 00003: val_loss did not improve from 0.41516\n",
      "34489/34489 [==============================] - 1s 21us/sample - loss: 0.4757 - recall: 0.0000e+00 - val_loss: 0.4793 - val_recall: 0.0000e+00\n",
      "Epoch 4/100\n",
      "32896/34489 [===========================>..] - ETA: 0s - loss: 0.4739 - recall: 0.0000e+00\n",
      "Epoch 00004: val_loss did not improve from 0.41516\n",
      "34489/34489 [==============================] - 1s 21us/sample - loss: 0.4749 - recall: 0.0000e+00 - val_loss: 0.4791 - val_recall: 0.0000e+00\n",
      "Epoch 5/100\n",
      "33280/34489 [===========================>..] - ETA: 0s - loss: 0.4743 - recall: 0.0000e+00\n",
      "Epoch 00005: val_loss did not improve from 0.41516\n",
      "34489/34489 [==============================] - 1s 20us/sample - loss: 0.4746 - recall: 0.0000e+00 - val_loss: 0.4787 - val_recall: 0.0000e+00\n",
      "Epoch 6/100\n",
      "34368/34489 [============================>.] - ETA: 0s - loss: 0.4741 - recall: 0.0000e+00\n",
      "Epoch 00006: val_loss did not improve from 0.41516\n",
      "34489/34489 [==============================] - 1s 20us/sample - loss: 0.4742 - recall: 0.0000e+00 - val_loss: 0.4783 - val_recall: 0.0000e+00\n",
      "Epoch 7/100\n",
      "32640/34489 [===========================>..] - ETA: 0s - loss: 0.4738 - recall: 0.0000e+00\n",
      "Epoch 00007: val_loss did not improve from 0.41516\n",
      "34489/34489 [==============================] - 1s 21us/sample - loss: 0.4737 - recall: 0.0000e+00 - val_loss: 0.4779 - val_recall: 0.0000e+00\n",
      "Epoch 8/100\n",
      "34368/34489 [============================>.] - ETA: 0s - loss: 0.4734 - recall: 0.0000e+00 ETA: 0s - loss: 0.4740 - recall: 0.00\n",
      "Epoch 00008: val_loss did not improve from 0.41516\n",
      "34489/34489 [==============================] - 1s 21us/sample - loss: 0.4732 - recall: 0.0000e+00 - val_loss: 0.4773 - val_recall: 0.0000e+00\n",
      "Epoch 9/100\n",
      "33024/34489 [===========================>..] - ETA: 0s - loss: 0.4715 - recall: 0.0000e+00\n",
      "Epoch 00009: val_loss did not improve from 0.41516\n",
      "34489/34489 [==============================] - 1s 21us/sample - loss: 0.4725 - recall: 0.0000e+00 - val_loss: 0.4767 - val_recall: 0.0000e+00\n",
      "Epoch 10/100\n",
      "33600/34489 [============================>.] - ETA: 0s - loss: 0.4727 - recall: 0.0000e+00 ETA: 0s - loss: 0.4741 - recall: 0.0000e+\n",
      "Epoch 00010: val_loss did not improve from 0.41516\n",
      "34489/34489 [==============================] - 1s 28us/sample - loss: 0.4718 - recall: 0.0000e+00 - val_loss: 0.4761 - val_recall: 0.0000e+00\n",
      "Epoch 11/100\n",
      "32704/34489 [===========================>..] - ETA: 0s - loss: 0.4718 - recall: 0.0000e+00\n",
      "Epoch 00011: val_loss did not improve from 0.41516\n",
      "34489/34489 [==============================] - 1s 24us/sample - loss: 0.4711 - recall: 0.0000e+00 - val_loss: 0.4754 - val_recall: 0.0000e+00\n",
      "Epoch 12/100\n",
      "31936/34489 [==========================>...] - ETA: 0s - loss: 0.4706 - recall: 0.0000e+00\n",
      "Epoch 00012: val_loss did not improve from 0.41516\n",
      "34489/34489 [==============================] - 1s 25us/sample - loss: 0.4703 - recall: 0.0000e+00 - val_loss: 0.4746 - val_recall: 0.0000e+00\n",
      "Epoch 13/100\n",
      "34176/34489 [============================>.] - ETA: 0s - loss: 0.4692 - recall: 0.0000e+00 ETA: 0s - loss: 0.4723 - recall: \n",
      "Epoch 00013: val_loss did not improve from 0.41516\n",
      "34489/34489 [==============================] - 1s 25us/sample - loss: 0.4695 - recall: 0.0000e+00 - val_loss: 0.4739 - val_recall: 0.0000e+00\n",
      "Epoch 14/100\n",
      "34304/34489 [============================>.] - ETA: 0s - loss: 0.4688 - recall: 0.0000e+00\n",
      "Epoch 00014: val_loss did not improve from 0.41516\n",
      "34489/34489 [==============================] - 1s 28us/sample - loss: 0.4687 - recall: 0.0000e+00 - val_loss: 0.4731 - val_recall: 0.0000e+00\n",
      "Epoch 15/100\n",
      "33152/34489 [===========================>..] - ETA: 0s - loss: 0.4702 - recall: 0.0000e+00\n",
      "Epoch 00015: val_loss did not improve from 0.41516\n",
      "34489/34489 [==============================] - 1s 27us/sample - loss: 0.4680 - recall: 0.0000e+00 - val_loss: 0.4725 - val_recall: 0.0000e+00\n",
      "Epoch 16/100\n",
      "33984/34489 [============================>.] - ETA: 0s - loss: 0.4679 - recall: 0.0000e+00\n",
      "Epoch 00016: val_loss did not improve from 0.41516\n",
      "34489/34489 [==============================] - 1s 24us/sample - loss: 0.4672 - recall: 0.0000e+00 - val_loss: 0.4717 - val_recall: 0.0000e+00\n",
      "Epoch 17/100\n",
      "33216/34489 [===========================>..] - ETA: 0s - loss: 0.4676 - recall: 0.0000e+00\n",
      "Epoch 00017: val_loss did not improve from 0.41516\n",
      "34489/34489 [==============================] - 1s 24us/sample - loss: 0.4666 - recall: 0.0000e+00 - val_loss: 0.4711 - val_recall: 0.0000e+00\n",
      "Epoch 18/100\n",
      "33600/34489 [============================>.] - ETA: 0s - loss: 0.4653 - recall: 0.0000e+00\n",
      "Epoch 00018: val_loss did not improve from 0.41516\n",
      "34489/34489 [==============================] - 1s 24us/sample - loss: 0.4659 - recall: 0.0000e+00 - val_loss: 0.4703 - val_recall: 0.0000e+00\n",
      "Epoch 19/100\n",
      "33728/34489 [============================>.] - ETA: 0s - loss: 0.4658 - recall: 0.0000e+00\n",
      "Epoch 00019: val_loss did not improve from 0.41516\n",
      "34489/34489 [==============================] - 1s 24us/sample - loss: 0.4652 - recall: 0.0000e+00 - val_loss: 0.4696 - val_recall: 0.0000e+00\n",
      "Epoch 20/100\n",
      "34048/34489 [============================>.] - ETA: 0s - loss: 0.4652 - recall: 0.0000e+00\n",
      "Epoch 00020: val_loss did not improve from 0.41516\n",
      "34489/34489 [==============================] - 1s 24us/sample - loss: 0.4646 - recall: 0.0000e+00 - val_loss: 0.4688 - val_recall: 0.0000e+00\n",
      "Epoch 21/100\n",
      "34112/34489 [============================>.] - ETA: 0s - loss: 0.4636 - recall: 0.0000e+00\n",
      "Epoch 00021: val_loss did not improve from 0.41516\n",
      "34489/34489 [==============================] - 1s 24us/sample - loss: 0.4639 - recall: 0.0000e+00 - val_loss: 0.4681 - val_recall: 0.0000e+00\n",
      "Epoch 22/100\n",
      "33984/34489 [============================>.] - ETA: 0s - loss: 0.4634 - recall: 0.0000e+00\n",
      "Epoch 00022: val_loss did not improve from 0.41516\n",
      "34489/34489 [==============================] - 1s 24us/sample - loss: 0.4632 - recall: 0.0000e+00 - val_loss: 0.4673 - val_recall: 0.0000e+00\n",
      "Epoch 23/100\n",
      "32256/34489 [===========================>..] - ETA: 0s - loss: 0.4630 - recall: 0.0000e+00\n",
      "Epoch 00023: val_loss did not improve from 0.41516\n",
      "34489/34489 [==============================] - 1s 25us/sample - loss: 0.4626 - recall: 0.0000e+00 - val_loss: 0.4666 - val_recall: 0.0000e+00\n",
      "Epoch 24/100\n",
      "33344/34489 [============================>.] - ETA: 0s - loss: 0.4615 - recall: 0.0000e+00\n",
      "Epoch 00024: val_loss did not improve from 0.41516\n",
      "34489/34489 [==============================] - 1s 24us/sample - loss: 0.4619 - recall: 0.0000e+00 - val_loss: 0.4659 - val_recall: 0.0000e+00\n",
      "Epoch 25/100\n",
      "32128/34489 [==========================>...] - ETA: 0s - loss: 0.4625 - recall: 0.0000e+00 ETA: 0s - loss: 0.4619 - recall: 0.0000e+\n",
      "Epoch 00025: val_loss did not improve from 0.41516\n",
      "34489/34489 [==============================] - 1s 25us/sample - loss: 0.4612 - recall: 0.0000e+00 - val_loss: 0.4652 - val_recall: 0.0000e+00\n",
      "Epoch 26/100\n",
      "31680/34489 [==========================>...] - ETA: 0s - loss: 0.4613 - recall: 0.0000e+00\n",
      "Epoch 00026: val_loss did not improve from 0.41516\n",
      "34489/34489 [==============================] - 1s 24us/sample - loss: 0.4606 - recall: 0.0000e+00 - val_loss: 0.4645 - val_recall: 0.0000e+00\n",
      "Epoch 27/100\n",
      "34112/34489 [============================>.] - ETA: 0s - loss: 0.4601 - recall: 0.0000e+00\n",
      "Epoch 00027: val_loss did not improve from 0.41516\n",
      "34489/34489 [==============================] - 1s 24us/sample - loss: 0.4599 - recall: 0.0000e+00 - val_loss: 0.4639 - val_recall: 0.0000e+00\n",
      "Epoch 28/100\n",
      "32320/34489 [===========================>..] - ETA: 0s - loss: 0.4597 - recall: 0.0000e+00\n",
      "Epoch 00028: val_loss did not improve from 0.41516\n",
      "34489/34489 [==============================] - 1s 23us/sample - loss: 0.4593 - recall: 0.0000e+00 - val_loss: 0.4632 - val_recall: 0.0000e+00\n",
      "Epoch 29/100\n",
      "33728/34489 [============================>.] - ETA: 0s - loss: 0.4584 - recall: 0.0000e+00\n",
      "Epoch 00029: val_loss did not improve from 0.41516\n",
      "34489/34489 [==============================] - 1s 29us/sample - loss: 0.4587 - recall: 0.0000e+00 - val_loss: 0.4627 - val_recall: 0.0000e+00\n",
      "Epoch 30/100\n",
      "32960/34489 [===========================>..] - ETA: 0s - loss: 0.4580 - recall: 0.0000e+00 ETA: 0s - loss: 0.4553 - recall: 0.0000\n",
      "Epoch 00030: val_loss did not improve from 0.41516\n",
      "34489/34489 [==============================] - 1s 26us/sample - loss: 0.4581 - recall: 0.0000e+00 - val_loss: 0.4621 - val_recall: 0.0000e+00\n",
      "Epoch 31/100\n",
      "33536/34489 [============================>.] - ETA: 0s - loss: 0.4579 - recall: 0.0000e+00 ETA: 0s - loss: 0.4552 - recall: 0.00 - ETA: 0s - loss: 0.4555 - recall: 0.\n",
      "Epoch 00031: val_loss did not improve from 0.41516\n",
      "34489/34489 [==============================] - 1s 26us/sample - loss: 0.4575 - recall: 0.0000e+00 - val_loss: 0.4616 - val_recall: 0.0000e+00\n",
      "Epoch 32/100\n",
      "33472/34489 [============================>.] - ETA: 0s - loss: 0.4566 - recall: 0.0000e+00\n",
      "Epoch 00032: val_loss did not improve from 0.41516\n",
      "34489/34489 [==============================] - 1s 33us/sample - loss: 0.4569 - recall: 0.0000e+00 - val_loss: 0.4611 - val_recall: 0.0000e+00\n",
      "Epoch 33/100\n",
      "32832/34489 [===========================>..] - ETA: 0s - loss: 0.4566 - recall: 0.0000e+00\n",
      "Epoch 00033: val_loss did not improve from 0.41516\n",
      "34489/34489 [==============================] - 1s 38us/sample - loss: 0.4564 - recall: 0.0000e+00 - val_loss: 0.4606 - val_recall: 0.0000e+00\n",
      "Epoch 34/100\n",
      "34176/34489 [============================>.] - ETA: 0s - loss: 0.4559 - recall: 0.0000e+00\n",
      "Epoch 00034: val_loss did not improve from 0.41516\n",
      "34489/34489 [==============================] - 1s 37us/sample - loss: 0.4558 - recall: 0.0000e+00 - val_loss: 0.4600 - val_recall: 0.0000e+00\n",
      "Epoch 35/100\n",
      "33984/34489 [============================>.] - ETA: 0s - loss: 0.4550 - recall: 0.0000e+00\n",
      "Epoch 00035: val_loss did not improve from 0.41516\n",
      "34489/34489 [==============================] - 1s 31us/sample - loss: 0.4552 - recall: 0.0000e+00 - val_loss: 0.4596 - val_recall: 0.0000e+00\n",
      "Epoch 36/100\n",
      "32384/34489 [===========================>..] - ETA: 0s - loss: 0.4554 - recall: 0.0000e+00\n",
      "Epoch 00036: val_loss did not improve from 0.41516\n",
      "34489/34489 [==============================] - 1s 26us/sample - loss: 0.4546 - recall: 0.0000e+00 - val_loss: 0.4593 - val_recall: 0.0000e+00\n",
      "Epoch 37/100\n",
      "34240/34489 [============================>.] - ETA: 0s - loss: 0.4540 - recall: 0.0000e+00 ETA: 0s - loss: 0.4555 - recall: 0.0000e+ - ETA: 0s - loss: 0.4562 - recall: 0.\n",
      "Epoch 00037: val_loss did not improve from 0.41516\n",
      "34489/34489 [==============================] - 1s 27us/sample - loss: 0.4539 - recall: 0.0000e+00 - val_loss: 0.4587 - val_recall: 0.0000e+00\n",
      "Epoch 38/100\n",
      "33600/34489 [============================>.] - ETA: 0s - loss: 0.4541 - recall: 0.0000e+00\n",
      "Epoch 00038: val_loss did not improve from 0.41516\n",
      "34489/34489 [==============================] - 1s 30us/sample - loss: 0.4533 - recall: 0.0000e+00 - val_loss: 0.4581 - val_recall: 0.0000e+00\n",
      "Epoch 39/100\n",
      "33152/34489 [===========================>..] - ETA: 0s - loss: 0.4523 - recall: 0.0000e+00\n",
      "Epoch 00039: val_loss did not improve from 0.41516\n",
      "34489/34489 [==============================] - 1s 29us/sample - loss: 0.4526 - recall: 0.0000e+00 - val_loss: 0.4577 - val_recall: 0.0000e+00\n",
      "Epoch 40/100\n",
      "32448/34489 [===========================>..] - ETA: 0s - loss: 0.4515 - recall: 0.0000e+00\n",
      "Epoch 00040: val_loss did not improve from 0.41516\n",
      "34489/34489 [==============================] - 1s 30us/sample - loss: 0.4520 - recall: 0.0000e+00 - val_loss: 0.4571 - val_recall: 0.0000e+00\n",
      "Epoch 41/100\n",
      "34368/34489 [============================>.] - ETA: 0s - loss: 0.4515 - recall: 0.0000e+00\n",
      "Epoch 00041: val_loss did not improve from 0.41516\n",
      "34489/34489 [==============================] - 1s 31us/sample - loss: 0.4514 - recall: 0.0000e+00 - val_loss: 0.4566 - val_recall: 0.0000e+00\n",
      "Epoch 42/100\n",
      "33216/34489 [===========================>..] - ETA: 0s - loss: 0.4486 - recall: 0.0000e+00\n",
      "Epoch 00042: val_loss did not improve from 0.41516\n",
      "34489/34489 [==============================] - 1s 31us/sample - loss: 0.4505 - recall: 0.0000e+00 - val_loss: 0.4568 - val_recall: 0.0000e+00\n",
      "Epoch 43/100\n",
      "32384/34489 [===========================>..] - ETA: 0s - loss: 0.4501 - recall: 0.0000e+00\n",
      "Epoch 00043: val_loss did not improve from 0.41516\n",
      "34489/34489 [==============================] - 1s 32us/sample - loss: 0.4499 - recall: 0.0000e+00 - val_loss: 0.4555 - val_recall: 0.0000e+00\n",
      "Epoch 44/100\n",
      "34112/34489 [============================>.] - ETA: 0s - loss: 0.4493 - recall: 0.0000e+00\n",
      "Epoch 00044: val_loss did not improve from 0.41516\n",
      "34489/34489 [==============================] - 1s 32us/sample - loss: 0.4493 - recall: 0.0000e+00 - val_loss: 0.4552 - val_recall: 0.0000e+00\n",
      "Epoch 45/100\n",
      "33664/34489 [============================>.] - ETA: 0s - loss: 0.4485 - recall: 0.0000e+00\n",
      "Epoch 00045: val_loss did not improve from 0.41516\n",
      "34489/34489 [==============================] - 1s 29us/sample - loss: 0.4486 - recall: 0.0000e+00 - val_loss: 0.4546 - val_recall: 0.0000e+00\n",
      "Epoch 46/100\n",
      "34112/34489 [============================>.] - ETA: 0s - loss: 0.4476 - recall: 0.0000e+00\n",
      "Epoch 00046: val_loss did not improve from 0.41516\n",
      "34489/34489 [==============================] - 1s 25us/sample - loss: 0.4479 - recall: 0.0000e+00 - val_loss: 0.4538 - val_recall: 0.0000e+00\n",
      "Epoch 47/100\n",
      "33600/34489 [============================>.] - ETA: 0s - loss: 0.4463 - recall: 0.0000e+00\n",
      "Epoch 00047: val_loss did not improve from 0.41516\n",
      "34489/34489 [==============================] - 1s 24us/sample - loss: 0.4472 - recall: 0.0000e+00 - val_loss: 0.4534 - val_recall: 0.0000e+00\n",
      "Epoch 48/100\n",
      "33728/34489 [============================>.] - ETA: 0s - loss: 0.4464 - recall: 0.0000e+00\n",
      "Epoch 00048: val_loss did not improve from 0.41516\n",
      "34489/34489 [==============================] - 1s 24us/sample - loss: 0.4466 - recall: 0.0000e+00 - val_loss: 0.4531 - val_recall: 0.0000e+00\n",
      "Epoch 49/100\n",
      "32448/34489 [===========================>..] - ETA: 0s - loss: 0.4449 - recall: 0.0000e+00\n",
      "Epoch 00049: val_loss did not improve from 0.41516\n",
      "34489/34489 [==============================] - 1s 26us/sample - loss: 0.4459 - recall: 0.0000e+00 - val_loss: 0.4526 - val_recall: 0.0000e+00\n",
      "Epoch 50/100\n",
      "33024/34489 [===========================>..] - ETA: 0s - loss: 0.4443 - recall: 0.0000e+00\n",
      "Epoch 00050: val_loss did not improve from 0.41516\n",
      "34489/34489 [==============================] - 1s 22us/sample - loss: 0.4451 - recall: 0.0000e+00 - val_loss: 0.4521 - val_recall: 0.0000e+00\n",
      "Epoch 51/100\n",
      "34176/34489 [============================>.] - ETA: 0s - loss: 0.4447 - recall: 0.0000e+00\n",
      "Epoch 00051: val_loss did not improve from 0.41516\n",
      "34489/34489 [==============================] - 1s 25us/sample - loss: 0.4444 - recall: 0.0000e+00 - val_loss: 0.4515 - val_recall: 6.2500e-04\n",
      "Epoch 52/100\n",
      "32768/34489 [===========================>..] - ETA: 0s - loss: 0.4435 - recall: 0.0000e+00\n",
      "Epoch 00052: val_loss did not improve from 0.41516\n",
      "34489/34489 [==============================] - 1s 36us/sample - loss: 0.4438 - recall: 0.0000e+00 - val_loss: 0.4510 - val_recall: 6.2500e-04\n",
      "Epoch 53/100\n",
      "33152/34489 [===========================>..] - ETA: 0s - loss: 0.4431 - recall: 1.6499e-04\n",
      "Epoch 00053: val_loss did not improve from 0.41516\n",
      "34489/34489 [==============================] - 1s 31us/sample - loss: 0.4430 - recall: 1.5860e-04 - val_loss: 0.4505 - val_recall: 6.2500e-04\n",
      "Epoch 54/100\n",
      "33664/34489 [============================>.] - ETA: 0s - loss: 0.4419 - recall: 3.2573e-04\n",
      "Epoch 00054: val_loss did not improve from 0.41516\n",
      "34489/34489 [==============================] - 1s 32us/sample - loss: 0.4423 - recall: 4.7581e-04 - val_loss: 0.4502 - val_recall: 0.0012\n",
      "Epoch 55/100\n",
      "34176/34489 [============================>.] - ETA: 0s - loss: 0.4419 - recall: 9.5923e-04\n",
      "Epoch 00055: val_loss did not improve from 0.41516\n",
      "34489/34489 [==============================] - 1s 34us/sample - loss: 0.4416 - recall: 9.5163e-04 - val_loss: 0.4498 - val_recall: 0.0019\n",
      "Epoch 56/100\n",
      "33216/34489 [===========================>..] - ETA: 0s - loss: 0.4414 - recall: 0.0015\n",
      "Epoch 00056: val_loss did not improve from 0.41516\n",
      "34489/34489 [==============================] - 1s 32us/sample - loss: 0.4409 - recall: 0.0014 - val_loss: 0.4489 - val_recall: 0.0025\n",
      "Epoch 57/100\n",
      "33472/34489 [============================>.] - ETA: 0s - loss: 0.4396 - recall: 0.0018 ETA: 0s - loss: 0.4409 - recall\n",
      "Epoch 00057: val_loss did not improve from 0.41516\n",
      "34489/34489 [==============================] - 1s 32us/sample - loss: 0.4399 - recall: 0.0017 - val_loss: 0.4481 - val_recall: 0.0025\n",
      "Epoch 58/100\n",
      "33792/34489 [============================>.] - ETA: 0s - loss: 0.4389 - recall: 0.0026\n",
      "Epoch 00058: val_loss did not improve from 0.41516\n",
      "34489/34489 [==============================] - 1s 37us/sample - loss: 0.4392 - recall: 0.0025 - val_loss: 0.4479 - val_recall: 0.0037\n",
      "Epoch 59/100\n",
      "33920/34489 [============================>.] - ETA: 0s - loss: 0.4385 - recall: 0.0037\n",
      "Epoch 00059: val_loss did not improve from 0.41516\n",
      "34489/34489 [==============================] - 1s 35us/sample - loss: 0.4386 - recall: 0.0036 - val_loss: 0.4473 - val_recall: 0.0056\n",
      "Epoch 60/100\n",
      "33664/34489 [============================>.] - ETA: 0s - loss: 0.4379 - recall: 0.0059\n",
      "Epoch 00060: val_loss did not improve from 0.41516\n",
      "34489/34489 [==============================] - 1s 35us/sample - loss: 0.4380 - recall: 0.0062 - val_loss: 0.4462 - val_recall: 0.0075\n",
      "Epoch 61/100\n",
      "33920/34489 [============================>.] - ETA: 0s - loss: 0.4366 - recall: 0.0121\n",
      "Epoch 00061: val_loss did not improve from 0.41516\n",
      "34489/34489 [==============================] - 1s 35us/sample - loss: 0.4370 - recall: 0.0122 - val_loss: 0.4463 - val_recall: 0.0181\n",
      "Epoch 62/100\n",
      "34048/34489 [============================>.] - ETA: 0s - loss: 0.4366 - recall: 0.0279\n",
      "Epoch 00062: val_loss did not improve from 0.41516\n",
      "34489/34489 [==============================] - 1s 33us/sample - loss: 0.4362 - recall: 0.0281 - val_loss: 0.4471 - val_recall: 0.0350\n",
      "Epoch 63/100\n",
      "32448/34489 [===========================>..] - ETA: 0s - loss: 0.4358 - recall: 0.0580\n",
      "Epoch 00063: val_loss did not improve from 0.41516\n",
      "34489/34489 [==============================] - 1s 30us/sample - loss: 0.4356 - recall: 0.0584 - val_loss: 0.4448 - val_recall: 0.0581\n",
      "Epoch 64/100\n",
      "34048/34489 [============================>.] - ETA: 0s - loss: 0.4347 - recall: 0.0719\n",
      "Epoch 00064: val_loss did not improve from 0.41516\n",
      "34489/34489 [==============================] - 1s 33us/sample - loss: 0.4348 - recall: 0.0714 - val_loss: 0.4456 - val_recall: 0.0688\n",
      "Epoch 65/100\n",
      "34368/34489 [============================>.] - ETA: 0s - loss: 0.4341 - recall: 0.0743\n",
      "Epoch 00065: val_loss did not improve from 0.41516\n",
      "34489/34489 [==============================] - 1s 31us/sample - loss: 0.4342 - recall: 0.0744 - val_loss: 0.4437 - val_recall: 0.0694\n",
      "Epoch 66/100\n",
      "33728/34489 [============================>.] - ETA: 0s - loss: 0.4335 - recall: 0.0774\n",
      "Epoch 00066: val_loss did not improve from 0.41516\n",
      "34489/34489 [==============================] - 1s 34us/sample - loss: 0.4334 - recall: 0.0780 - val_loss: 0.4431 - val_recall: 0.0731\n",
      "Epoch 67/100\n",
      "34176/34489 [============================>.] - ETA: 0s - loss: 0.4329 - recall: 0.0788\n",
      "Epoch 00067: val_loss did not improve from 0.41516\n",
      "34489/34489 [==============================] - 1s 34us/sample - loss: 0.4326 - recall: 0.0788 - val_loss: 0.4443 - val_recall: 0.0675\n",
      "Epoch 68/100\n",
      "32704/34489 [===========================>..] - ETA: 0s - loss: 0.4325 - recall: 0.0802\n",
      "Epoch 00068: val_loss did not improve from 0.41516\n",
      "34489/34489 [==============================] - 1s 39us/sample - loss: 0.4318 - recall: 0.0809 - val_loss: 0.4428 - val_recall: 0.0719\n",
      "Epoch 69/100\n",
      "34048/34489 [============================>.] - ETA: 0s - loss: 0.4317 - recall: 0.0828\n",
      "Epoch 00069: val_loss did not improve from 0.41516\n",
      "34489/34489 [==============================] - 1s 35us/sample - loss: 0.4315 - recall: 0.0826 - val_loss: 0.4431 - val_recall: 0.0750\n",
      "Epoch 70/100\n",
      "34368/34489 [============================>.] - ETA: 0s - loss: 0.4302 - recall: 0.0847\n",
      "Epoch 00070: val_loss did not improve from 0.41516\n",
      "34489/34489 [==============================] - 1s 40us/sample - loss: 0.4304 - recall: 0.0844 - val_loss: 0.4405 - val_recall: 0.0794\n",
      "Epoch 71/100\n",
      "33728/34489 [============================>.] - ETA: 0s - loss: 0.4302 - recall: 0.0847\n",
      "Epoch 00071: val_loss did not improve from 0.41516\n",
      "34489/34489 [==============================] - 1s 35us/sample - loss: 0.4299 - recall: 0.0858 - val_loss: 0.4407 - val_recall: 0.0781\n",
      "Epoch 72/100\n",
      "33664/34489 [============================>.] - ETA: 0s - loss: 0.4291 - recall: 0.0869 ETA: 0s - loss: 0.4298 - recall: 0.08 - ETA: 0s - loss: 0.431\n",
      "Epoch 00072: val_loss did not improve from 0.41516\n",
      "34489/34489 [==============================] - 1s 34us/sample - loss: 0.4291 - recall: 0.0869 - val_loss: 0.4414 - val_recall: 0.0775\n",
      "Epoch 73/100\n",
      "33984/34489 [============================>.] - ETA: 0s - loss: 0.4292 - recall: 0.0892\n",
      "Epoch 00073: val_loss did not improve from 0.41516\n",
      "34489/34489 [==============================] - 1s 38us/sample - loss: 0.4285 - recall: 0.0888 - val_loss: 0.4437 - val_recall: 0.0775\n",
      "Epoch 74/100\n",
      "34176/34489 [============================>.] - ETA: 0s - loss: 0.4283 - recall: 0.0915\n",
      "Epoch 00074: val_loss did not improve from 0.41516\n",
      "34489/34489 [==============================] - 1s 34us/sample - loss: 0.4280 - recall: 0.0915 - val_loss: 0.4404 - val_recall: 0.0812\n",
      "Epoch 75/100\n",
      "34368/34489 [============================>.] - ETA: 0s - loss: 0.4270 - recall: 0.0927\n",
      "Epoch 00075: val_loss did not improve from 0.41516\n",
      "34489/34489 [==============================] - 1s 31us/sample - loss: 0.4274 - recall: 0.0925 - val_loss: 0.4399 - val_recall: 0.0944\n",
      "Epoch 00075: early stopping\n"
     ]
    }
   ],
   "source": [
    "model5_history = mlp_model5.fit(X_train_proc_arr, y_train, epochs=100, batch_size=64, validation_split=0.2, callbacks=callbacks)"
   ]
  },
  {
   "cell_type": "markdown",
   "metadata": {},
   "source": [
    "##### Plot"
   ]
  },
  {
   "cell_type": "code",
   "execution_count": 95,
   "metadata": {},
   "outputs": [
    {
     "name": "stdout",
     "output_type": "stream",
     "text": [
      "dict_keys(['loss', 'recall', 'val_loss', 'val_recall'])\n"
     ]
    }
   ],
   "source": [
    "print(model5_history.history.keys())"
   ]
  },
  {
   "cell_type": "code",
   "execution_count": 96,
   "metadata": {},
   "outputs": [
    {
     "data": {
      "image/png": "[encoded data removed]",
      "text/plain": [
       "<Figure size 432x288 with 1 Axes>"
      ]
     },
     "metadata": {
      "needs_background": "light"
     },
     "output_type": "display_data"
    }
   ],
   "source": [
    "plt.plot(model5_history.history['recall'])\n",
    "plt.plot(model5_history.history['val_recall'])\n",
    "plt.title('Recall Plot')\n",
    "plt.ylabel('Recall')\n",
    "plt.xlabel('Epoch')\n",
    "plt.legend(['Train', 'Validation'])\n",
    "plt.show()"
   ]
  },
  {
   "cell_type": "code",
   "execution_count": 97,
   "metadata": {},
   "outputs": [
    {
     "data": {
      "image/png": "[encoded data removed]",
      "text/plain": [
       "<Figure size 432x288 with 1 Axes>"
      ]
     },
     "metadata": {
      "needs_background": "light"
     },
     "output_type": "display_data"
    }
   ],
   "source": [
    "plt.plot(model5_history.history['loss'])\n",
    "plt.plot(model5_history.history['val_loss'])\n",
    "plt.title('Loss Function Plot')\n",
    "plt.ylabel('Loss')\n",
    "plt.xlabel('Epoch')\n",
    "plt.legend(['Train', 'Validation'])\n",
    "plt.show()"
   ]
  },
  {
   "cell_type": "markdown",
   "metadata": {},
   "source": [
    "#### Predictions"
   ]
  },
  {
   "cell_type": "code",
   "execution_count": 98,
   "metadata": {},
   "outputs": [],
   "source": [
    "train_model5_pred = mlp_model5.predict_classes(X_train_proc_arr)\n",
    "val_model5_pred = mlp_model5.predict_classes(X_val_proc_arr)"
   ]
  },
  {
   "cell_type": "markdown",
   "metadata": {},
   "source": [
    "#### Getting evaluation metrics and evaluating model performance"
   ]
  },
  {
   "cell_type": "code",
   "execution_count": 99,
   "metadata": {},
   "outputs": [
    {
     "name": "stdout",
     "output_type": "stream",
     "text": [
      "[[34816   391]\n",
      " [ 7132   773]]\n",
      "[[14891   198]\n",
      " [ 3036   352]]\n"
     ]
    }
   ],
   "source": [
    "confusion_matrix_train = confusion_matrix(y_train, train_model5_pred)\n",
    "confusion_matrix_val = confusion_matrix(y_val, val_model5_pred)\n",
    "\n",
    "print(confusion_matrix_train)\n",
    "print(confusion_matrix_val)"
   ]
  },
  {
   "cell_type": "markdown",
   "metadata": {},
   "source": [
    "#### Calculate Accuracy, True Positive Rate and True Negative Rates"
   ]
  },
  {
   "cell_type": "code",
   "execution_count": 100,
   "metadata": {},
   "outputs": [
    {
     "name": "stdout",
     "output_type": "stream",
     "text": [
      "Train Accuracy:  0.8255010205975134\n",
      "Train Recall:  0.09778621125869703\n",
      "Train Precision:  0.6640893470790378\n",
      "-----------------------\n",
      "Val Accuracy:  0.8249715862964767\n",
      "Val Recall:  0.1038961038961039\n",
      "Val Precision:  0.64\n"
     ]
    }
   ],
   "source": [
    "accuracy_score_train = accuracy_score(y_train, train_model5_pred)\n",
    "accuracy_score_val = accuracy_score(y_val, val_model5_pred)\n",
    "\n",
    "recall_score_train = recall_score(y_train, train_model5_pred)\n",
    "recall_score_val = recall_score(y_val, val_model5_pred)\n",
    "\n",
    "precision_score_train = precision_score(y_train, train_model5_pred)\n",
    "precision_score_val = precision_score(y_val, val_model5_pred)\n",
    "\n",
    "\n",
    "print(\"Train Accuracy: \",accuracy_score_train)\n",
    "print(\"Train Recall: \",recall_score_train)\n",
    "print(\"Train Precision: \",precision_score_train)\n",
    "\n",
    "print(\"-----------------------\")\n",
    "\n",
    "print(\"Val Accuracy: \",accuracy_score_val)\n",
    "print(\"Val Recall: \",recall_score_val)\n",
    "print(\"Val Precision: \",precision_score_val)"
   ]
  },
  {
   "cell_type": "markdown",
   "metadata": {},
   "source": [
    "### MLP with 4 layers\n",
    "\n",
    "    1st hidden layer with 256 neurons\n",
    "    2nd hidden layer with 64 neurons\n",
    "    3rd hidden layer with 8 neurons"
   ]
  },
  {
   "cell_type": "code",
   "execution_count": 101,
   "metadata": {},
   "outputs": [],
   "source": [
    "mlp_model6 = Sequential()\n",
    "\n",
    "mlp_model6.add(Dense(256, input_shape=(27,), activation='relu', kernel_initializer='normal'))\n",
    "mlp_model6.add(Dense(64, activation='relu'))\n",
    "mlp_model6.add(Dense(8, activation='relu'))\n",
    "mlp_model6.add(Dense(1, activation='sigmoid'))"
   ]
  },
  {
   "cell_type": "code",
   "execution_count": 102,
   "metadata": {},
   "outputs": [
    {
     "name": "stdout",
     "output_type": "stream",
     "text": [
      "Model: \"sequential_6\"\n",
      "_________________________________________________________________\n",
      "Layer (type)                 Output Shape              Param #   \n",
      "=================================================================\n",
      "dense_13 (Dense)             (None, 256)               7168      \n",
      "_________________________________________________________________\n",
      "dense_14 (Dense)             (None, 64)                16448     \n",
      "_________________________________________________________________\n",
      "dense_15 (Dense)             (None, 8)                 520       \n",
      "_________________________________________________________________\n",
      "dense_16 (Dense)             (None, 1)                 9         \n",
      "=================================================================\n",
      "Total params: 24,145\n",
      "Trainable params: 24,145\n",
      "Non-trainable params: 0\n",
      "_________________________________________________________________\n"
     ]
    }
   ],
   "source": [
    "mlp_model6.summary()"
   ]
  },
  {
   "cell_type": "code",
   "execution_count": 103,
   "metadata": {},
   "outputs": [],
   "source": [
    "mlp_model6.compile(loss='binary_crossentropy', optimizer='sgd', metrics=[tf.keras.metrics.Recall(name='recall')])"
   ]
  },
  {
   "cell_type": "code",
   "execution_count": 104,
   "metadata": {},
   "outputs": [],
   "source": [
    "early_stopping = EarlyStopping(monitor='val_recall', patience=5, mode='max', verbose=1)#min_delta=0.001\n",
    "    \n",
    "model_checkpoint = ModelCheckpoint(\n",
    "        os.path.join(cwd, 'mlp_backorders.h5'),\n",
    "        monitor='val_recall',\n",
    "        mode='max',\n",
    "        save_best_only=True,\n",
    "        save_weights_only=True,\n",
    "        verbose=1)"
   ]
  },
  {
   "cell_type": "code",
   "execution_count": 105,
   "metadata": {},
   "outputs": [],
   "source": [
    "callbacks1 = [early_stopping, model_checkpoint]"
   ]
  },
  {
   "cell_type": "code",
   "execution_count": 106,
   "metadata": {},
   "outputs": [
    {
     "name": "stdout",
     "output_type": "stream",
     "text": [
      "Train on 34489 samples, validate on 8623 samples\n",
      "Epoch 1/100\n",
      "32768/34489 [===========================>..] - ETA: 0s - loss: 0.5456 - recall: 0.0219\n",
      "Epoch 00001: val_recall improved from -inf to 0.00187, saving model to /home/seemab/AI_and_DecisionSciences/DeepLearning/mlp_backorders.h5\n",
      "34489/34489 [==============================] - 2s 48us/sample - loss: 0.5421 - recall: 0.0209 - val_loss: 0.4755 - val_recall: 0.0019\n",
      "Epoch 2/100\n",
      "34304/34489 [============================>.] - ETA: 0s - loss: 0.4676 - recall: 0.0029\n",
      "Epoch 00002: val_recall improved from 0.00187 to 0.00250, saving model to /home/seemab/AI_and_DecisionSciences/DeepLearning/mlp_backorders.h5\n",
      "34489/34489 [==============================] - 1s 36us/sample - loss: 0.4675 - recall: 0.0029 - val_loss: 0.4708 - val_recall: 0.0025\n",
      "Epoch 3/100\n",
      "32960/34489 [===========================>..] - ETA: 0s - loss: 0.4640 - recall: 0.0033\n",
      "Epoch 00003: val_recall did not improve from 0.00250\n",
      "34489/34489 [==============================] - 1s 38us/sample - loss: 0.4639 - recall: 0.0035 - val_loss: 0.4680 - val_recall: 0.0025\n",
      "Epoch 4/100\n",
      "33408/34489 [============================>.] - ETA: 0s - loss: 0.4602 - recall: 0.0043\n",
      "Epoch 00004: val_recall did not improve from 0.00250\n",
      "34489/34489 [==============================] - 1s 31us/sample - loss: 0.4613 - recall: 0.0041 - val_loss: 0.4655 - val_recall: 0.0025\n",
      "Epoch 5/100\n",
      "32768/34489 [===========================>..] - ETA: 0s - loss: 0.4583 - recall: 0.0045\n",
      "Epoch 00005: val_recall improved from 0.00250 to 0.00313, saving model to /home/seemab/AI_and_DecisionSciences/DeepLearning/mlp_backorders.h5\n",
      "34489/34489 [==============================] - 1s 32us/sample - loss: 0.4592 - recall: 0.0046 - val_loss: 0.4634 - val_recall: 0.0031\n",
      "Epoch 6/100\n",
      "33920/34489 [============================>.] - ETA: 0s - loss: 0.4572 - recall: 0.0055 ETA: 0s - loss: 0.4574 - re\n",
      "Epoch 00006: val_recall improved from 0.00313 to 0.00438, saving model to /home/seemab/AI_and_DecisionSciences/DeepLearning/mlp_backorders.h5\n",
      "34489/34489 [==============================] - 1s 32us/sample - loss: 0.4573 - recall: 0.0057 - val_loss: 0.4616 - val_recall: 0.0044\n",
      "Epoch 7/100\n",
      "33024/34489 [===========================>..] - ETA: 0s - loss: 0.4559 - recall: 0.0070\n",
      "Epoch 00007: val_recall improved from 0.00438 to 0.00625, saving model to /home/seemab/AI_and_DecisionSciences/DeepLearning/mlp_backorders.h5\n",
      "34489/34489 [==============================] - 1s 34us/sample - loss: 0.4557 - recall: 0.0067 - val_loss: 0.4602 - val_recall: 0.0063\n",
      "Epoch 8/100\n",
      "32960/34489 [===========================>..] - ETA: 0s - loss: 0.4548 - recall: 0.0073\n",
      "Epoch 00008: val_recall improved from 0.00625 to 0.00687, saving model to /home/seemab/AI_and_DecisionSciences/DeepLearning/mlp_backorders.h5\n",
      "34489/34489 [==============================] - 1s 36us/sample - loss: 0.4541 - recall: 0.0075 - val_loss: 0.4584 - val_recall: 0.0069\n",
      "Epoch 9/100\n",
      "33472/34489 [============================>.] - ETA: 0s - loss: 0.4524 - recall: 0.0077 ETA: 0s - loss: 0.4540 \n",
      "Epoch 00009: val_recall improved from 0.00687 to 0.00938, saving model to /home/seemab/AI_and_DecisionSciences/DeepLearning/mlp_backorders.h5\n",
      "34489/34489 [==============================] - 1s 43us/sample - loss: 0.4526 - recall: 0.0079 - val_loss: 0.4567 - val_recall: 0.0094\n",
      "Epoch 10/100\n",
      "33024/34489 [===========================>..] - ETA: 0s - loss: 0.4519 - recall: 0.0124 ETA: 0s - loss: 0.4530 - recall\n",
      "Epoch 00010: val_recall improved from 0.00938 to 0.01000, saving model to /home/seemab/AI_and_DecisionSciences/DeepLearning/mlp_backorders.h5\n",
      "34489/34489 [==============================] - 1s 37us/sample - loss: 0.4509 - recall: 0.0124 - val_loss: 0.4560 - val_recall: 0.0100\n",
      "Epoch 11/100\n",
      "33664/34489 [============================>.] - ETA: 0s - loss: 0.4495 - recall: 0.0143\n",
      "Epoch 00011: val_recall improved from 0.01000 to 0.01063, saving model to /home/seemab/AI_and_DecisionSciences/DeepLearning/mlp_backorders.h5\n",
      "34489/34489 [==============================] - 1s 40us/sample - loss: 0.4493 - recall: 0.0143 - val_loss: 0.4540 - val_recall: 0.0106\n",
      "Epoch 12/100\n",
      "33920/34489 [============================>.] - ETA: 0s - loss: 0.4475 - recall: 0.0179\n",
      "Epoch 00012: val_recall improved from 0.01063 to 0.01500, saving model to /home/seemab/AI_and_DecisionSciences/DeepLearning/mlp_backorders.h5\n",
      "34489/34489 [==============================] - 2s 45us/sample - loss: 0.4477 - recall: 0.0179 - val_loss: 0.4520 - val_recall: 0.0150\n",
      "Epoch 13/100\n",
      "33856/34489 [============================>.] - ETA: 0s - loss: 0.4458 - recall: 0.0215\n",
      "Epoch 00013: val_recall improved from 0.01500 to 0.02000, saving model to /home/seemab/AI_and_DecisionSciences/DeepLearning/mlp_backorders.h5\n",
      "34489/34489 [==============================] - 1s 41us/sample - loss: 0.4458 - recall: 0.0219 - val_loss: 0.4501 - val_recall: 0.0200\n",
      "Epoch 14/100\n",
      "32640/34489 [===========================>..] - ETA: 0s - loss: 0.4455 - recall: 0.0242\n",
      "Epoch 00014: val_recall improved from 0.02000 to 0.02375, saving model to /home/seemab/AI_and_DecisionSciences/DeepLearning/mlp_backorders.h5\n",
      "34489/34489 [==============================] - 1s 40us/sample - loss: 0.4441 - recall: 0.0243 - val_loss: 0.4487 - val_recall: 0.0237\n",
      "Epoch 15/100\n",
      "33856/34489 [============================>.] - ETA: 0s - loss: 0.4435 - recall: 0.0303\n",
      "Epoch 00015: val_recall improved from 0.02375 to 0.02812, saving model to /home/seemab/AI_and_DecisionSciences/DeepLearning/mlp_backorders.h5\n",
      "34489/34489 [==============================] - 2s 46us/sample - loss: 0.4424 - recall: 0.0303 - val_loss: 0.4517 - val_recall: 0.0281\n",
      "Epoch 16/100\n",
      "33280/34489 [===========================>..] - ETA: 0s - loss: 0.4412 - recall: 0.0384\n",
      "Epoch 00016: val_recall improved from 0.02812 to 0.03500, saving model to /home/seemab/AI_and_DecisionSciences/DeepLearning/mlp_backorders.h5\n",
      "34489/34489 [==============================] - 2s 49us/sample - loss: 0.4408 - recall: 0.0387 - val_loss: 0.4468 - val_recall: 0.0350\n",
      "Epoch 17/100\n",
      "33920/34489 [============================>.] - ETA: 0s - loss: 0.4391 - recall: 0.0455 ETA: 0s - loss: 0.4408 - recall: \n",
      "Epoch 00017: val_recall improved from 0.03500 to 0.04250, saving model to /home/seemab/AI_and_DecisionSciences/DeepLearning/mlp_backorders.h5\n",
      "34489/34489 [==============================] - 1s 39us/sample - loss: 0.4391 - recall: 0.0458 - val_loss: 0.4434 - val_recall: 0.0425\n",
      "Epoch 18/100\n",
      "34304/34489 [============================>.] - ETA: 0s - loss: 0.4374 - recall: 0.0518\n",
      "Epoch 00018: val_recall improved from 0.04250 to 0.04563, saving model to /home/seemab/AI_and_DecisionSciences/DeepLearning/mlp_backorders.h5\n",
      "34489/34489 [==============================] - 1s 38us/sample - loss: 0.4373 - recall: 0.0519 - val_loss: 0.4413 - val_recall: 0.0456\n",
      "Epoch 19/100\n",
      "33344/34489 [============================>.] - ETA: 0s - loss: 0.4369 - recall: 0.0572\n",
      "Epoch 00019: val_recall did not improve from 0.04563\n",
      "34489/34489 [==============================] - 1s 39us/sample - loss: 0.4358 - recall: 0.0577 - val_loss: 0.4421 - val_recall: 0.0456\n",
      "Epoch 20/100\n",
      "34112/34489 [============================>.] - ETA: 0s - loss: 0.4349 - recall: 0.0629\n",
      "Epoch 00020: val_recall improved from 0.04563 to 0.04688, saving model to /home/seemab/AI_and_DecisionSciences/DeepLearning/mlp_backorders.h5\n",
      "34489/34489 [==============================] - 1s 41us/sample - loss: 0.4343 - recall: 0.0630 - val_loss: 0.4486 - val_recall: 0.0469\n",
      "Epoch 21/100\n",
      "33088/34489 [===========================>..] - ETA: 0s - loss: 0.4320 - recall: 0.0676\n",
      "Epoch 00021: val_recall improved from 0.04688 to 0.06188, saving model to /home/seemab/AI_and_DecisionSciences/DeepLearning/mlp_backorders.h5\n",
      "34489/34489 [==============================] - 1s 34us/sample - loss: 0.4330 - recall: 0.0677 - val_loss: 0.4366 - val_recall: 0.0619\n",
      "Epoch 22/100\n",
      "34304/34489 [============================>.] - ETA: 0s - loss: 0.4316 - recall: 0.0705\n",
      "Epoch 00022: val_recall improved from 0.06188 to 0.06312, saving model to /home/seemab/AI_and_DecisionSciences/DeepLearning/mlp_backorders.h5\n",
      "34489/34489 [==============================] - 1s 41us/sample - loss: 0.4317 - recall: 0.0707 - val_loss: 0.4354 - val_recall: 0.0631\n",
      "Epoch 23/100\n",
      "33600/34489 [============================>.] - ETA: 0s - loss: 0.4293 - recall: 0.0738\n",
      "Epoch 00023: val_recall improved from 0.06312 to 0.06938, saving model to /home/seemab/AI_and_DecisionSciences/DeepLearning/mlp_backorders.h5\n",
      "34489/34489 [==============================] - 1s 37us/sample - loss: 0.4301 - recall: 0.0742 - val_loss: 0.4341 - val_recall: 0.0694\n",
      "Epoch 24/100\n",
      "32576/34489 [===========================>..] - ETA: 0s - loss: 0.4279 - recall: 0.0763\n",
      "Epoch 00024: val_recall improved from 0.06938 to 0.07187, saving model to /home/seemab/AI_and_DecisionSciences/DeepLearning/mlp_backorders.h5\n",
      "34489/34489 [==============================] - 1s 35us/sample - loss: 0.4286 - recall: 0.0764 - val_loss: 0.4329 - val_recall: 0.0719\n",
      "Epoch 25/100\n",
      "34240/34489 [============================>.] - ETA: 0s - loss: 0.4274 - recall: 0.0819 ETA: 0s - loss: 0\n",
      "Epoch 00025: val_recall did not improve from 0.07187\n",
      "34489/34489 [==============================] - 1s 33us/sample - loss: 0.4273 - recall: 0.0817 - val_loss: 0.4321 - val_recall: 0.0719\n",
      "Epoch 26/100\n",
      "34176/34489 [============================>.] - ETA: 0s - loss: 0.4261 - recall: 0.0832\n",
      "Epoch 00026: val_recall improved from 0.07187 to 0.07500, saving model to /home/seemab/AI_and_DecisionSciences/DeepLearning/mlp_backorders.h5\n",
      "34489/34489 [==============================] - 1s 39us/sample - loss: 0.4261 - recall: 0.0834 - val_loss: 0.4327 - val_recall: 0.0750\n",
      "Epoch 27/100\n",
      "33280/34489 [===========================>..] - ETA: 0s - loss: 0.4257 - recall: 0.0864\n",
      "Epoch 00027: val_recall did not improve from 0.07500\n",
      "34489/34489 [==============================] - 1s 43us/sample - loss: 0.4250 - recall: 0.0863 - val_loss: 0.4336 - val_recall: 0.0737\n",
      "Epoch 28/100\n",
      "34368/34489 [============================>.] - ETA: 0s - loss: 0.4237 - recall: 0.0893\n",
      "Epoch 00028: val_recall improved from 0.07500 to 0.08687, saving model to /home/seemab/AI_and_DecisionSciences/DeepLearning/mlp_backorders.h5\n",
      "34489/34489 [==============================] - 1s 37us/sample - loss: 0.4238 - recall: 0.0890 - val_loss: 0.4265 - val_recall: 0.0869\n",
      "Epoch 29/100\n",
      "33344/34489 [============================>.] - ETA: 0s - loss: 0.4217 - recall: 0.0924 ETA: 0s - loss: 0\n",
      "Epoch 00029: val_recall improved from 0.08687 to 0.09000, saving model to /home/seemab/AI_and_DecisionSciences/DeepLearning/mlp_backorders.h5\n",
      "34489/34489 [==============================] - 2s 48us/sample - loss: 0.4221 - recall: 0.0937 - val_loss: 0.4262 - val_recall: 0.0900\n",
      "Epoch 30/100\n",
      "33216/34489 [===========================>..] - ETA: 0s - loss: 0.4209 - recall: 0.0960\n",
      "Epoch 00030: val_recall improved from 0.09000 to 0.09813, saving model to /home/seemab/AI_and_DecisionSciences/DeepLearning/mlp_backorders.h5\n",
      "34489/34489 [==============================] - 1s 39us/sample - loss: 0.4212 - recall: 0.0964 - val_loss: 0.4259 - val_recall: 0.0981\n",
      "Epoch 31/100\n",
      "33088/34489 [===========================>..] - ETA: 0s - loss: 0.4206 - recall: 0.0987\n",
      "Epoch 00031: val_recall did not improve from 0.09813\n",
      "34489/34489 [==============================] - 1s 41us/sample - loss: 0.4209 - recall: 0.0985 - val_loss: 0.4405 - val_recall: 0.0775\n",
      "Epoch 32/100\n",
      "33728/34489 [============================>.] - ETA: 0s - loss: 0.4201 - recall: 0.1012\n",
      "Epoch 00032: val_recall did not improve from 0.09813\n",
      "34489/34489 [==============================] - 1s 35us/sample - loss: 0.4204 - recall: 0.1010 - val_loss: 0.4213 - val_recall: 0.0956\n",
      "Epoch 33/100\n",
      "33664/34489 [============================>.] - ETA: 0s - loss: 0.4193 - recall: 0.1045\n",
      "Epoch 00033: val_recall did not improve from 0.09813\n",
      "34489/34489 [==============================] - 2s 44us/sample - loss: 0.4188 - recall: 0.1040 - val_loss: 0.4244 - val_recall: 0.0938\n",
      "Epoch 34/100\n",
      "33216/34489 [===========================>..] - ETA: 0s - loss: 0.4173 - recall: 0.1058\n",
      "Epoch 00034: val_recall did not improve from 0.09813\n",
      "34489/34489 [==============================] - 1s 35us/sample - loss: 0.4174 - recall: 0.1053 - val_loss: 0.4232 - val_recall: 0.0913\n",
      "Epoch 35/100\n",
      "33024/34489 [===========================>..] - ETA: 0s - loss: 0.4164 - recall: 0.1108\n",
      "Epoch 00035: val_recall improved from 0.09813 to 0.09875, saving model to /home/seemab/AI_and_DecisionSciences/DeepLearning/mlp_backorders.h5\n",
      "34489/34489 [==============================] - 1s 36us/sample - loss: 0.4164 - recall: 0.1090 - val_loss: 0.4195 - val_recall: 0.0988\n",
      "Epoch 36/100\n",
      "33664/34489 [============================>.] - ETA: 0s - loss: 0.4163 - recall: 0.1104\n",
      "Epoch 00036: val_recall did not improve from 0.09875\n",
      "34489/34489 [==============================] - 1s 35us/sample - loss: 0.4156 - recall: 0.1112 - val_loss: 0.4187 - val_recall: 0.0981\n",
      "Epoch 37/100\n",
      "33344/34489 [============================>.] - ETA: 0s - loss: 0.4159 - recall: 0.1160\n",
      "Epoch 00037: val_recall did not improve from 0.09875\n",
      "34489/34489 [==============================] - 2s 45us/sample - loss: 0.4163 - recall: 0.1148 - val_loss: 0.4437 - val_recall: 0.0862\n",
      "Epoch 38/100\n",
      "33728/34489 [============================>.] - ETA: 0s - loss: 0.4153 - recall: 0.1185\n",
      "Epoch 00038: val_recall improved from 0.09875 to 0.10312, saving model to /home/seemab/AI_and_DecisionSciences/DeepLearning/mlp_backorders.h5\n",
      "34489/34489 [==============================] - 2s 45us/sample - loss: 0.4151 - recall: 0.1175 - val_loss: 0.4173 - val_recall: 0.1031\n",
      "Epoch 39/100\n",
      "34304/34489 [============================>.] - ETA: 0s - loss: 0.4128 - recall: 0.1189\n",
      "Epoch 00039: val_recall improved from 0.10312 to 0.12812, saving model to /home/seemab/AI_and_DecisionSciences/DeepLearning/mlp_backorders.h5\n",
      "34489/34489 [==============================] - 1s 39us/sample - loss: 0.4128 - recall: 0.1194 - val_loss: 0.4194 - val_recall: 0.1281\n",
      "Epoch 40/100\n",
      "33792/34489 [============================>.] - ETA: 0s - loss: 0.4139 - recall: 0.1229\n",
      "Epoch 00040: val_recall improved from 0.12812 to 0.15500, saving model to /home/seemab/AI_and_DecisionSciences/DeepLearning/mlp_backorders.h5\n",
      "34489/34489 [==============================] - 1s 41us/sample - loss: 0.4144 - recall: 0.1226 - val_loss: 0.4200 - val_recall: 0.1550\n",
      "Epoch 41/100\n",
      "33280/34489 [===========================>..] - ETA: 0s - loss: 0.4138 - recall: 0.1241\n",
      "Epoch 00041: val_recall did not improve from 0.15500\n",
      "34489/34489 [==============================] - 2s 46us/sample - loss: 0.4139 - recall: 0.1239 - val_loss: 0.4137 - val_recall: 0.1206\n",
      "Epoch 42/100\n",
      "34240/34489 [============================>.] - ETA: 0s - loss: 0.4119 - recall: 0.1295\n",
      "Epoch 00042: val_recall did not improve from 0.15500\n",
      "34489/34489 [==============================] - 1s 39us/sample - loss: 0.4124 - recall: 0.1293 - val_loss: 0.4135 - val_recall: 0.1063\n",
      "Epoch 43/100\n",
      "33664/34489 [============================>.] - ETA: 0s - loss: 0.4106 - recall: 0.1298\n",
      "Epoch 00043: val_recall did not improve from 0.15500\n",
      "34489/34489 [==============================] - 1s 42us/sample - loss: 0.4108 - recall: 0.1296 - val_loss: 0.4080 - val_recall: 0.1225\n",
      "Epoch 44/100\n",
      "33088/34489 [===========================>..] - ETA: 0s - loss: 0.4128 - recall: 0.1300\n",
      "Epoch 00044: val_recall did not improve from 0.15500\n",
      "34489/34489 [==============================] - 1s 38us/sample - loss: 0.4133 - recall: 0.1293 - val_loss: 0.4085 - val_recall: 0.1262\n",
      "Epoch 45/100\n",
      "34432/34489 [============================>.] - ETA: 0s - loss: 0.4105 - recall: 0.1326\n",
      "Epoch 00045: val_recall did not improve from 0.15500\n",
      "34489/34489 [==============================] - 1s 40us/sample - loss: 0.4104 - recall: 0.1324 - val_loss: 0.4113 - val_recall: 0.1156\n",
      "Epoch 00045: early stopping\n"
     ]
    }
   ],
   "source": [
    "model6_history = mlp_model6.fit(X_train_proc_arr, y_train, epochs=100, batch_size=64, validation_split=0.2, callbacks=callbacks1)"
   ]
  },
  {
   "cell_type": "markdown",
   "metadata": {},
   "source": [
    "##### Plot"
   ]
  },
  {
   "cell_type": "code",
   "execution_count": 107,
   "metadata": {},
   "outputs": [
    {
     "name": "stdout",
     "output_type": "stream",
     "text": [
      "dict_keys(['loss', 'recall', 'val_loss', 'val_recall'])\n"
     ]
    }
   ],
   "source": [
    "print(model6_history.history.keys())"
   ]
  },
  {
   "cell_type": "code",
   "execution_count": 108,
   "metadata": {},
   "outputs": [
    {
     "data": {
      "image/png": "[encoded data removed]",
      "text/plain": [
       "<Figure size 432x288 with 1 Axes>"
      ]
     },
     "metadata": {
      "needs_background": "light"
     },
     "output_type": "display_data"
    }
   ],
   "source": [
    "plt.plot(model6_history.history['recall'])\n",
    "plt.plot(model6_history.history['val_recall'])\n",
    "plt.title('Recall Plot')\n",
    "plt.ylabel('Recall')\n",
    "plt.xlabel('Epoch')\n",
    "plt.legend(['Train', 'Validation'])\n",
    "plt.show()"
   ]
  },
  {
   "cell_type": "code",
   "execution_count": 109,
   "metadata": {},
   "outputs": [
    {
     "data": {
      "image/png": "[encoded data removed]",
      "text/plain": [
       "<Figure size 432x288 with 1 Axes>"
      ]
     },
     "metadata": {
      "needs_background": "light"
     },
     "output_type": "display_data"
    }
   ],
   "source": [
    "plt.plot(model6_history.history['loss'])\n",
    "plt.plot(model6_history.history['val_loss'])\n",
    "plt.title('Loss Function Plot')\n",
    "plt.ylabel('Loss')\n",
    "plt.xlabel('Epoch')\n",
    "plt.legend(['Train', 'Validation'])\n",
    "plt.show()"
   ]
  },
  {
   "cell_type": "markdown",
   "metadata": {},
   "source": [
    "#### Predictions"
   ]
  },
  {
   "cell_type": "code",
   "execution_count": 110,
   "metadata": {},
   "outputs": [],
   "source": [
    "train_model6_pred = mlp_model6.predict_classes(X_train_proc_arr)\n",
    "val_model6_pred = mlp_model6.predict_classes(X_val_proc_arr)"
   ]
  },
  {
   "cell_type": "markdown",
   "metadata": {},
   "source": [
    "#### Getting evaluation metrics and evaluating model performance"
   ]
  },
  {
   "cell_type": "code",
   "execution_count": 111,
   "metadata": {},
   "outputs": [
    {
     "name": "stdout",
     "output_type": "stream",
     "text": [
      "[[34799   408]\n",
      " [ 6948   957]]\n",
      "[[14907   182]\n",
      " [ 2966   422]]\n"
     ]
    }
   ],
   "source": [
    "confusion_matrix_train = confusion_matrix(y_train, train_model6_pred)\n",
    "confusion_matrix_val = confusion_matrix(y_val, val_model6_pred)\n",
    "\n",
    "print(confusion_matrix_train)\n",
    "print(confusion_matrix_val)"
   ]
  },
  {
   "cell_type": "markdown",
   "metadata": {},
   "source": [
    "#### Calculate Accuracy, True Positive Rate and True Negative Rates"
   ]
  },
  {
   "cell_type": "code",
   "execution_count": 112,
   "metadata": {},
   "outputs": [
    {
     "name": "stdout",
     "output_type": "stream",
     "text": [
      "Train Accuracy:  0.8293746520690295\n",
      "Train Recall:  0.12106261859582543\n",
      "Train Precision:  0.701098901098901\n",
      "-----------------------\n",
      "Val Accuracy:  0.8296260215402933\n",
      "Val Recall:  0.12455726092089728\n",
      "Val Precision:  0.6986754966887417\n"
     ]
    }
   ],
   "source": [
    "accuracy_score_train = accuracy_score(y_train, train_model6_pred)\n",
    "accuracy_score_val = accuracy_score(y_val, val_model6_pred)\n",
    "\n",
    "recall_score_train = recall_score(y_train, train_model6_pred)\n",
    "recall_score_val = recall_score(y_val, val_model6_pred)\n",
    "\n",
    "precision_score_train = precision_score(y_train, train_model6_pred)\n",
    "precision_score_val = precision_score(y_val, val_model6_pred)\n",
    "\n",
    "\n",
    "print(\"Train Accuracy: \",accuracy_score_train)\n",
    "print(\"Train Recall: \",recall_score_train)\n",
    "print(\"Train Precision: \",precision_score_train)\n",
    "\n",
    "print(\"-----------------------\")\n",
    "\n",
    "print(\"Val Accuracy: \",accuracy_score_val)\n",
    "print(\"Val Recall: \",recall_score_val)\n",
    "print(\"Val Precision: \",precision_score_val)"
   ]
  },
  {
   "cell_type": "markdown",
   "metadata": {},
   "source": [
    "### MLP with 4 layers\n",
    "\n",
    "    1st hidden layer with 25 neurons\n",
    "    2nd hidden layer with 20 neurons\n",
    "    3rd hidden layer with 15 neurons"
   ]
  },
  {
   "cell_type": "code",
   "execution_count": 113,
   "metadata": {},
   "outputs": [],
   "source": [
    "mlp_model7 = Sequential()\n",
    "\n",
    "mlp_model7.add(Dense(25, input_shape=(27,), activation='tanh', kernel_initializer='normal'))\n",
    "mlp_model7.add(Dense(20, activation='tanh',kernel_initializer='normal'))\n",
    "mlp_model7.add(Dense(15, activation='tanh',kernel_initializer='normal'))\n",
    "mlp_model7.add(Dense(1, activation='sigmoid'))"
   ]
  },
  {
   "cell_type": "code",
   "execution_count": 114,
   "metadata": {},
   "outputs": [
    {
     "name": "stdout",
     "output_type": "stream",
     "text": [
      "Model: \"sequential_7\"\n",
      "_________________________________________________________________\n",
      "Layer (type)                 Output Shape              Param #   \n",
      "=================================================================\n",
      "dense_17 (Dense)             (None, 25)                700       \n",
      "_________________________________________________________________\n",
      "dense_18 (Dense)             (None, 20)                520       \n",
      "_________________________________________________________________\n",
      "dense_19 (Dense)             (None, 15)                315       \n",
      "_________________________________________________________________\n",
      "dense_20 (Dense)             (None, 1)                 16        \n",
      "=================================================================\n",
      "Total params: 1,551\n",
      "Trainable params: 1,551\n",
      "Non-trainable params: 0\n",
      "_________________________________________________________________\n"
     ]
    }
   ],
   "source": [
    "mlp_model7.summary()"
   ]
  },
  {
   "cell_type": "code",
   "execution_count": 115,
   "metadata": {},
   "outputs": [],
   "source": [
    "mlp_model7.compile(loss='binary_crossentropy', optimizer='sgd', metrics=[tf.keras.metrics.Recall(name='recall')])"
   ]
  },
  {
   "cell_type": "code",
   "execution_count": 116,
   "metadata": {},
   "outputs": [
    {
     "name": "stdout",
     "output_type": "stream",
     "text": [
      "Train on 34489 samples, validate on 8623 samples\n",
      "Epoch 1/100\n",
      "34489/34489 [==============================] - 2s 57us/sample - loss: 0.5063 - recall: 0.0000e+00 - val_loss: 0.4798 - val_recall: 0.0000e+00\n",
      "Epoch 2/100\n",
      "34489/34489 [==============================] - 1s 33us/sample - loss: 0.4754 - recall: 0.0000e+00 - val_loss: 0.4792 - val_recall: 0.0000e+00\n",
      "Epoch 3/100\n",
      "34489/34489 [==============================] - 1s 31us/sample - loss: 0.4747 - recall: 0.0000e+00 - val_loss: 0.4786 - val_recall: 0.0000e+00\n",
      "Epoch 4/100\n",
      "34489/34489 [==============================] - 1s 30us/sample - loss: 0.4741 - recall: 0.0000e+00 - val_loss: 0.4779 - val_recall: 0.0000e+00\n",
      "Epoch 5/100\n",
      "34489/34489 [==============================] - 1s 26us/sample - loss: 0.4733 - recall: 0.0000e+00 - val_loss: 0.4770 - val_recall: 0.0000e+00\n",
      "Epoch 6/100\n",
      "34489/34489 [==============================] - 1s 25us/sample - loss: 0.4723 - recall: 0.0000e+00 - val_loss: 0.4759 - val_recall: 0.0000e+00\n",
      "Epoch 7/100\n",
      "34489/34489 [==============================] - 1s 24us/sample - loss: 0.4710 - recall: 0.0000e+00 - val_loss: 0.4746 - val_recall: 0.0000e+00\n",
      "Epoch 8/100\n",
      "34489/34489 [==============================] - 1s 24us/sample - loss: 0.4695 - recall: 0.0000e+00 - val_loss: 0.4731 - val_recall: 0.0000e+00\n",
      "Epoch 9/100\n",
      "34489/34489 [==============================] - 1s 26us/sample - loss: 0.4678 - recall: 0.0000e+00 - val_loss: 0.4714 - val_recall: 0.0000e+00\n",
      "Epoch 10/100\n",
      "34489/34489 [==============================] - 1s 28us/sample - loss: 0.4659 - recall: 0.0014 - val_loss: 0.4700 - val_recall: 0.0019\n",
      "Epoch 11/100\n",
      "34489/34489 [==============================] - 1s 26us/sample - loss: 0.4642 - recall: 0.0033 - val_loss: 0.4684 - val_recall: 0.0031\n",
      "Epoch 12/100\n",
      "34489/34489 [==============================] - 1s 23us/sample - loss: 0.4627 - recall: 0.0051 - val_loss: 0.4669 - val_recall: 0.0056\n",
      "Epoch 13/100\n",
      "34489/34489 [==============================] - 1s 23us/sample - loss: 0.4612 - recall: 0.0073 - val_loss: 0.4657 - val_recall: 0.0069\n",
      "Epoch 14/100\n",
      "34489/34489 [==============================] - 1s 23us/sample - loss: 0.4601 - recall: 0.0094 - val_loss: 0.4646 - val_recall: 0.0088\n",
      "Epoch 15/100\n",
      "34489/34489 [==============================] - 1s 29us/sample - loss: 0.4589 - recall: 0.0117 - val_loss: 0.4641 - val_recall: 0.0088\n",
      "Epoch 16/100\n",
      "34489/34489 [==============================] - 1s 25us/sample - loss: 0.4579 - recall: 0.0135 - val_loss: 0.4625 - val_recall: 0.0131\n",
      "Epoch 17/100\n",
      "34489/34489 [==============================] - 1s 27us/sample - loss: 0.4570 - recall: 0.0162 - val_loss: 0.4618 - val_recall: 0.0156\n",
      "Epoch 18/100\n",
      "34489/34489 [==============================] - 1s 32us/sample - loss: 0.4561 - recall: 0.0195 - val_loss: 0.4607 - val_recall: 0.0206\n",
      "Epoch 19/100\n",
      "34489/34489 [==============================] - 1s 37us/sample - loss: 0.4552 - recall: 0.0216 - val_loss: 0.4605 - val_recall: 0.0213\n",
      "Epoch 20/100\n",
      "34489/34489 [==============================] - 1s 38us/sample - loss: 0.4544 - recall: 0.0239 - val_loss: 0.4593 - val_recall: 0.0231\n",
      "Epoch 21/100\n",
      "34489/34489 [==============================] - 1s 39us/sample - loss: 0.4535 - recall: 0.0273 - val_loss: 0.4586 - val_recall: 0.0275\n",
      "Epoch 22/100\n",
      "34489/34489 [==============================] - 1s 40us/sample - loss: 0.4528 - recall: 0.0309 - val_loss: 0.4577 - val_recall: 0.0281\n",
      "Epoch 23/100\n",
      "34489/34489 [==============================] - 1s 42us/sample - loss: 0.4519 - recall: 0.0327 - val_loss: 0.4570 - val_recall: 0.0300\n",
      "Epoch 24/100\n",
      "34489/34489 [==============================] - 1s 43us/sample - loss: 0.4510 - recall: 0.0341 - val_loss: 0.4563 - val_recall: 0.0325\n",
      "Epoch 25/100\n",
      "34489/34489 [==============================] - 1s 42us/sample - loss: 0.4502 - recall: 0.0362 - val_loss: 0.4561 - val_recall: 0.0331\n",
      "Epoch 26/100\n",
      "34489/34489 [==============================] - 1s 43us/sample - loss: 0.4494 - recall: 0.0377 - val_loss: 0.4553 - val_recall: 0.0331\n",
      "Epoch 27/100\n",
      "34489/34489 [==============================] - 1s 39us/sample - loss: 0.4485 - recall: 0.0400 - val_loss: 0.4549 - val_recall: 0.0338\n",
      "Epoch 28/100\n",
      "34489/34489 [==============================] - 1s 37us/sample - loss: 0.4478 - recall: 0.0412 - val_loss: 0.4535 - val_recall: 0.0381\n",
      "Epoch 29/100\n",
      "34489/34489 [==============================] - 1s 40us/sample - loss: 0.4469 - recall: 0.0449 - val_loss: 0.4529 - val_recall: 0.0463\n",
      "Epoch 30/100\n",
      "34489/34489 [==============================] - 1s 40us/sample - loss: 0.4461 - recall: 0.0468 - val_loss: 0.4518 - val_recall: 0.0431\n",
      "Epoch 31/100\n",
      "34489/34489 [==============================] - 1s 38us/sample - loss: 0.4454 - recall: 0.0496 - val_loss: 0.4516 - val_recall: 0.0431\n",
      "Epoch 32/100\n",
      "34489/34489 [==============================] - 1s 42us/sample - loss: 0.4447 - recall: 0.0522 - val_loss: 0.4502 - val_recall: 0.0481\n",
      "Epoch 33/100\n",
      "34489/34489 [==============================] - 1s 39us/sample - loss: 0.4437 - recall: 0.0538 - val_loss: 0.4504 - val_recall: 0.0450\n",
      "Epoch 34/100\n",
      "34489/34489 [==============================] - 1s 39us/sample - loss: 0.4430 - recall: 0.0558 - val_loss: 0.4487 - val_recall: 0.0456\n",
      "Epoch 35/100\n",
      "34489/34489 [==============================] - 1s 43us/sample - loss: 0.4421 - recall: 0.0568 - val_loss: 0.4479 - val_recall: 0.0475\n",
      "Epoch 36/100\n",
      "34489/34489 [==============================] - 1s 42us/sample - loss: 0.4414 - recall: 0.0587 - val_loss: 0.4475 - val_recall: 0.0469\n",
      "Epoch 37/100\n",
      "34489/34489 [==============================] - 2s 44us/sample - loss: 0.4406 - recall: 0.0588 - val_loss: 0.4468 - val_recall: 0.0494\n",
      "Epoch 38/100\n",
      "34489/34489 [==============================] - 1s 43us/sample - loss: 0.4397 - recall: 0.0614 - val_loss: 0.4461 - val_recall: 0.0494\n",
      "Epoch 39/100\n",
      "34489/34489 [==============================] - 1s 36us/sample - loss: 0.4387 - recall: 0.0620 - val_loss: 0.4449 - val_recall: 0.0569\n",
      "Epoch 40/100\n",
      "34489/34489 [==============================] - 1s 41us/sample - loss: 0.4382 - recall: 0.0638 - val_loss: 0.4443 - val_recall: 0.0581\n",
      "Epoch 41/100\n",
      "34489/34489 [==============================] - 1s 37us/sample - loss: 0.4373 - recall: 0.0652 - val_loss: 0.4429 - val_recall: 0.0531\n",
      "Epoch 42/100\n",
      "34489/34489 [==============================] - 1s 30us/sample - loss: 0.4360 - recall: 0.0658 - val_loss: 0.4421 - val_recall: 0.0644\n",
      "Epoch 43/100\n",
      "34489/34489 [==============================] - 1s 32us/sample - loss: 0.4353 - recall: 0.0655 - val_loss: 0.4402 - val_recall: 0.0625\n",
      "Epoch 44/100\n",
      "34489/34489 [==============================] - 1s 31us/sample - loss: 0.4345 - recall: 0.0688 - val_loss: 0.4391 - val_recall: 0.0650\n",
      "Epoch 45/100\n",
      "34489/34489 [==============================] - 1s 34us/sample - loss: 0.4332 - recall: 0.0687 - val_loss: 0.4388 - val_recall: 0.0600\n",
      "Epoch 46/100\n",
      "34489/34489 [==============================] - 1s 35us/sample - loss: 0.4324 - recall: 0.0699 - val_loss: 0.4367 - val_recall: 0.0700\n",
      "Epoch 47/100\n",
      "34489/34489 [==============================] - 1s 38us/sample - loss: 0.4309 - recall: 0.0720 - val_loss: 0.4354 - val_recall: 0.0613\n",
      "Epoch 48/100\n",
      "34489/34489 [==============================] - 1s 36us/sample - loss: 0.4304 - recall: 0.0728 - val_loss: 0.4349 - val_recall: 0.0669\n",
      "Epoch 49/100\n",
      "34489/34489 [==============================] - 1s 34us/sample - loss: 0.4293 - recall: 0.0758 - val_loss: 0.4327 - val_recall: 0.0662\n",
      "Epoch 50/100\n",
      "34489/34489 [==============================] - 1s 37us/sample - loss: 0.4285 - recall: 0.0776 - val_loss: 0.4315 - val_recall: 0.0756\n",
      "Epoch 51/100\n",
      "34489/34489 [==============================] - 1s 37us/sample - loss: 0.4271 - recall: 0.0809 - val_loss: 0.4327 - val_recall: 0.0669\n",
      "Epoch 52/100\n",
      "34489/34489 [==============================] - 1s 33us/sample - loss: 0.4267 - recall: 0.0822 - val_loss: 0.4288 - val_recall: 0.0756\n",
      "Epoch 53/100\n",
      "34489/34489 [==============================] - 1s 29us/sample - loss: 0.4257 - recall: 0.0834 - val_loss: 0.4289 - val_recall: 0.0719\n",
      "Epoch 54/100\n",
      "34489/34489 [==============================] - 1s 32us/sample - loss: 0.4253 - recall: 0.0853 - val_loss: 0.4362 - val_recall: 0.0988\n",
      "Epoch 55/100\n",
      "34489/34489 [==============================] - 1s 33us/sample - loss: 0.4244 - recall: 0.0877 - val_loss: 0.4290 - val_recall: 0.0725\n",
      "Epoch 56/100\n",
      "34489/34489 [==============================] - 1s 36us/sample - loss: 0.4235 - recall: 0.0890 - val_loss: 0.4284 - val_recall: 0.0944\n",
      "Epoch 57/100\n",
      "34489/34489 [==============================] - 1s 33us/sample - loss: 0.4221 - recall: 0.0928 - val_loss: 0.4241 - val_recall: 0.0875\n",
      "Epoch 58/100\n",
      "34489/34489 [==============================] - 1s 34us/sample - loss: 0.4219 - recall: 0.0934 - val_loss: 0.4228 - val_recall: 0.0844\n",
      "Epoch 59/100\n",
      "34489/34489 [==============================] - 1s 39us/sample - loss: 0.4215 - recall: 0.0936 - val_loss: 0.4225 - val_recall: 0.0869\n",
      "Epoch 60/100\n",
      "34489/34489 [==============================] - 1s 33us/sample - loss: 0.4208 - recall: 0.0939 - val_loss: 0.4232 - val_recall: 0.0825\n",
      "Epoch 61/100\n",
      "34489/34489 [==============================] - 1s 37us/sample - loss: 0.4192 - recall: 0.0967 - val_loss: 0.4272 - val_recall: 0.1050\n",
      "Epoch 62/100\n",
      "34489/34489 [==============================] - 1s 31us/sample - loss: 0.4188 - recall: 0.0979 - val_loss: 0.4225 - val_recall: 0.0844\n",
      "Epoch 63/100\n",
      "34489/34489 [==============================] - 1s 28us/sample - loss: 0.4183 - recall: 0.0994 - val_loss: 0.4180 - val_recall: 0.0931\n",
      "Epoch 64/100\n",
      "34489/34489 [==============================] - 1s 31us/sample - loss: 0.4179 - recall: 0.1010 - val_loss: 0.4240 - val_recall: 0.1131\n",
      "Epoch 65/100\n",
      "34489/34489 [==============================] - 1s 37us/sample - loss: 0.4172 - recall: 0.1015 - val_loss: 0.4161 - val_recall: 0.1000\n",
      "Epoch 66/100\n",
      "34489/34489 [==============================] - 1s 35us/sample - loss: 0.4169 - recall: 0.1048 - val_loss: 0.4155 - val_recall: 0.1025\n",
      "Epoch 67/100\n",
      "34489/34489 [==============================] - 1s 34us/sample - loss: 0.4159 - recall: 0.1056 - val_loss: 0.4155 - val_recall: 0.1075\n",
      "Epoch 68/100\n",
      "34489/34489 [==============================] - 1s 32us/sample - loss: 0.4156 - recall: 0.1055 - val_loss: 0.4146 - val_recall: 0.0944\n",
      "Epoch 69/100\n",
      "34489/34489 [==============================] - 1s 34us/sample - loss: 0.4156 - recall: 0.1083 - val_loss: 0.4168 - val_recall: 0.0913\n",
      "Epoch 70/100\n",
      "34489/34489 [==============================] - 1s 37us/sample - loss: 0.4140 - recall: 0.1091 - val_loss: 0.4145 - val_recall: 0.1131\n",
      "Epoch 71/100\n",
      "34489/34489 [==============================] - 1s 29us/sample - loss: 0.4137 - recall: 0.1090 - val_loss: 0.4175 - val_recall: 0.1175\n",
      "Epoch 72/100\n",
      "34489/34489 [==============================] - 1s 26us/sample - loss: 0.4122 - recall: 0.1134 - val_loss: 0.4125 - val_recall: 0.0950\n",
      "Epoch 73/100\n",
      "34489/34489 [==============================] - 1s 22us/sample - loss: 0.4130 - recall: 0.1094 - val_loss: 0.4093 - val_recall: 0.1050\n",
      "Epoch 74/100\n",
      "34489/34489 [==============================] - 1s 22us/sample - loss: 0.4130 - recall: 0.1129 - val_loss: 0.4234 - val_recall: 0.0856\n",
      "Epoch 75/100\n",
      "34489/34489 [==============================] - 1s 22us/sample - loss: 0.4113 - recall: 0.1107 - val_loss: 0.4527 - val_recall: 0.1975\n",
      "Epoch 76/100\n",
      "34489/34489 [==============================] - 1s 20us/sample - loss: 0.4106 - recall: 0.1155 - val_loss: 0.4153 - val_recall: 0.1356\n",
      "Epoch 77/100\n",
      "34489/34489 [==============================] - 1s 21us/sample - loss: 0.4099 - recall: 0.1140 - val_loss: 0.4085 - val_recall: 0.1194\n",
      "Epoch 78/100\n",
      "34489/34489 [==============================] - 1s 21us/sample - loss: 0.4115 - recall: 0.1169 - val_loss: 0.4075 - val_recall: 0.1019\n",
      "Epoch 79/100\n",
      "34489/34489 [==============================] - 1s 22us/sample - loss: 0.4098 - recall: 0.1159 - val_loss: 0.4054 - val_recall: 0.1175\n",
      "Epoch 80/100\n",
      "34489/34489 [==============================] - 1s 23us/sample - loss: 0.4105 - recall: 0.1166 - val_loss: 0.4193 - val_recall: 0.1269\n",
      "Epoch 81/100\n",
      "34489/34489 [==============================] - 1s 20us/sample - loss: 0.4089 - recall: 0.1169 - val_loss: 0.4446 - val_recall: 0.0825\n",
      "Epoch 82/100\n",
      "34489/34489 [==============================] - 1s 20us/sample - loss: 0.4081 - recall: 0.1188 - val_loss: 0.4039 - val_recall: 0.1056\n",
      "Epoch 83/100\n",
      "34489/34489 [==============================] - 1s 20us/sample - loss: 0.4073 - recall: 0.1205 - val_loss: 0.4079 - val_recall: 0.1000\n",
      "Epoch 84/100\n",
      "34489/34489 [==============================] - 1s 21us/sample - loss: 0.4076 - recall: 0.1182 - val_loss: 0.4041 - val_recall: 0.1238\n",
      "Epoch 85/100\n",
      "34489/34489 [==============================] - 1s 21us/sample - loss: 0.4075 - recall: 0.1197 - val_loss: 0.4198 - val_recall: 0.0925\n",
      "Epoch 86/100\n",
      "34489/34489 [==============================] - 1s 21us/sample - loss: 0.4052 - recall: 0.1218 - val_loss: 0.4031 - val_recall: 0.1312\n",
      "Epoch 87/100\n",
      "34489/34489 [==============================] - 1s 22us/sample - loss: 0.4070 - recall: 0.1248 - val_loss: 0.4076 - val_recall: 0.1269\n",
      "Epoch 88/100\n",
      "34489/34489 [==============================] - 1s 22us/sample - loss: 0.4039 - recall: 0.1251 - val_loss: 0.4235 - val_recall: 0.1650s - loss: 0.4036 - recall: 0.12\n",
      "Epoch 89/100\n",
      "34489/34489 [==============================] - 1s 21us/sample - loss: 0.4033 - recall: 0.1221 - val_loss: 0.4002 - val_recall: 0.1225\n",
      "Epoch 90/100\n",
      "34489/34489 [==============================] - 1s 22us/sample - loss: 0.4038 - recall: 0.1264 - val_loss: 0.4102 - val_recall: 0.1056\n",
      "Epoch 91/100\n",
      "34489/34489 [==============================] - 1s 20us/sample - loss: 0.4025 - recall: 0.1256 - val_loss: 0.4044 - val_recall: 0.1444\n",
      "Epoch 92/100\n",
      "34489/34489 [==============================] - 1s 20us/sample - loss: 0.4042 - recall: 0.1267 - val_loss: 0.4021 - val_recall: 0.1088\n",
      "Epoch 93/100\n",
      "34489/34489 [==============================] - 1s 20us/sample - loss: 0.4035 - recall: 0.1261 - val_loss: 0.4149 - val_recall: 0.0975\n",
      "Epoch 94/100\n",
      "34489/34489 [==============================] - 1s 22us/sample - loss: 0.4039 - recall: 0.1294 - val_loss: 0.4067 - val_recall: 0.1044\n",
      "Epoch 95/100\n",
      "34489/34489 [==============================] - 1s 24us/sample - loss: 0.4021 - recall: 0.1304 - val_loss: 0.4102 - val_recall: 0.1600\n",
      "Epoch 96/100\n",
      "34489/34489 [==============================] - 1s 25us/sample - loss: 0.4001 - recall: 0.1274 - val_loss: 0.4048 - val_recall: 0.1412\n",
      "Epoch 97/100\n",
      "34489/34489 [==============================] - 1s 26us/sample - loss: 0.4017 - recall: 0.1335 - val_loss: 0.4071 - val_recall: 0.1094\n",
      "Epoch 98/100\n",
      "34489/34489 [==============================] - 1s 32us/sample - loss: 0.4007 - recall: 0.1323 - val_loss: 0.3939 - val_recall: 0.1213\n",
      "Epoch 99/100\n",
      "34489/34489 [==============================] - 1s 28us/sample - loss: 0.4003 - recall: 0.1354 - val_loss: 0.4021 - val_recall: 0.1325\n",
      "Epoch 100/100\n",
      "34489/34489 [==============================] - 1s 30us/sample - loss: 0.4010 - recall: 0.1358 - val_loss: 0.3952 - val_recall: 0.1444\n",
      "CPU times: user 2min 23s, sys: 12.2 s, total: 2min 35s\n",
      "Wall time: 1min 47s\n"
     ]
    }
   ],
   "source": [
    "%%time\n",
    "model7_history = mlp_model7.fit(X_train_proc_arr, \n",
    "                                y_train, \n",
    "                                epochs=100, \n",
    "                                batch_size=64, \n",
    "                                validation_split=0.2)"
   ]
  },
  {
   "cell_type": "markdown",
   "metadata": {},
   "source": [
    "#### Predictions"
   ]
  },
  {
   "cell_type": "code",
   "execution_count": 117,
   "metadata": {},
   "outputs": [],
   "source": [
    "train_model7_pred = mlp_model7.predict_classes(X_train_proc_arr)\n",
    "val_model7_pred = mlp_model7.predict_classes(X_val_proc_arr)"
   ]
  },
  {
   "cell_type": "markdown",
   "metadata": {},
   "source": [
    "#### Getting evaluation metrics and evaluating model performance"
   ]
  },
  {
   "cell_type": "code",
   "execution_count": 118,
   "metadata": {},
   "outputs": [
    {
     "name": "stdout",
     "output_type": "stream",
     "text": [
      "Train Accuracy:  0.8327147893857859\n",
      "Train Recall:  0.14016445287792537\n",
      "Train Precision:  0.7275114904793172\n",
      "-----------------------\n",
      "Val Accuracy:  0.8321156031823348\n",
      "Val Recall:  0.14049586776859505\n",
      "Val Precision:  0.7147147147147147\n"
     ]
    }
   ],
   "source": [
    "### Calculate Accuracy, True Positive Rate and True Negative Rates\n",
    "\n",
    "accuracy_score_train = accuracy_score(y_train, train_model7_pred)\n",
    "accuracy_score_val = accuracy_score(y_val, val_model7_pred)\n",
    "\n",
    "recall_score_train = recall_score(y_train, train_model7_pred)\n",
    "recall_score_val = recall_score(y_val, val_model7_pred)\n",
    "\n",
    "precision_score_train = precision_score(y_train, train_model7_pred)\n",
    "precision_score_val = precision_score(y_val, val_model7_pred)\n",
    "\n",
    "\n",
    "print(\"Train Accuracy: \",accuracy_score_train)\n",
    "print(\"Train Recall: \",recall_score_train)\n",
    "print(\"Train Precision: \",precision_score_train)\n",
    "\n",
    "print(\"-----------------------\")\n",
    "\n",
    "print(\"Val Accuracy: \",accuracy_score_val)\n",
    "print(\"Val Recall: \",recall_score_val)\n",
    "print(\"Val Precision: \",precision_score_val)"
   ]
  },
  {
   "cell_type": "markdown",
   "metadata": {},
   "source": [
    "Observation:\n",
    "\n",
    "    Model 7 performs better with 25, 20 and 15 neurons\n",
    "    "
   ]
  },
  {
   "cell_type": "markdown",
   "metadata": {},
   "source": [
    "## Find best parameter"
   ]
  },
  {
   "cell_type": "markdown",
   "metadata": {},
   "source": [
    "#### Function for creation of model"
   ]
  },
  {
   "cell_type": "code",
   "execution_count": 119,
   "metadata": {},
   "outputs": [],
   "source": [
    "def model_def(h_activation, o_activation, kernel_init):\n",
    "    \n",
    "    model=Sequential()\n",
    "    \n",
    "    model.add(Dense(25, \n",
    "                           input_shape=(X_train_proc_arr.shape[1], ),  \n",
    "                           activation=h_activation, \n",
    "                           kernel_initializer=kernel_init))\n",
    "    \n",
    "    model.add(Dense(15, \n",
    "                           activation=h_activation, \n",
    "                           kernel_initializer=kernel_init))\n",
    "    \n",
    "    model.add(Dense(1, \n",
    "                           activation=o_activation, \n",
    "                           kernel_initializer=kernel_init))\n",
    "    \n",
    "    return model "
   ]
  },
  {
   "cell_type": "markdown",
   "metadata": {},
   "source": [
    "#### Store the best parameters"
   ]
  },
  {
   "cell_type": "code",
   "execution_count": 120,
   "metadata": {},
   "outputs": [],
   "source": [
    "best_params={}"
   ]
  },
  {
   "cell_type": "markdown",
   "metadata": {},
   "source": [
    "### Find the best Learning rate"
   ]
  },
  {
   "cell_type": "markdown",
   "metadata": {},
   "source": [
    "    Using logarithmic scale randomly generate values between 0.0001 to 1 "
   ]
  },
  {
   "cell_type": "code",
   "execution_count": 121,
   "metadata": {},
   "outputs": [
    {
     "data": {
      "text/plain": [
       "array([0.69646919, 0.28613933])"
      ]
     },
     "execution_count": 121,
     "metadata": {},
     "output_type": "execute_result"
    }
   ],
   "source": [
    "np.random.rand(2)"
   ]
  },
  {
   "cell_type": "code",
   "execution_count": 122,
   "metadata": {},
   "outputs": [
    {
     "data": {
      "text/plain": [
       "array([-0.90740581, -2.20525908])"
      ]
     },
     "execution_count": 122,
     "metadata": {},
     "output_type": "execute_result"
    }
   ],
   "source": [
    "-4*np.random.rand(2)"
   ]
  },
  {
   "cell_type": "code",
   "execution_count": 123,
   "metadata": {},
   "outputs": [
    {
     "data": {
      "text/plain": [
       "0.0001"
      ]
     },
     "execution_count": 123,
     "metadata": {},
     "output_type": "execute_result"
    }
   ],
   "source": [
    "10**-4"
   ]
  },
  {
   "cell_type": "code",
   "execution_count": 124,
   "metadata": {},
   "outputs": [
    {
     "data": {
      "text/plain": [
       "array([1.32472008e-03, 2.03036519e-02, 1.19383197e-04, 1.82255669e-03,\n",
       "       1.19198940e-02, 2.70103323e-02, 4.23923933e-02, 1.21283346e-03,\n",
       "       1.76080402e-02, 5.77149619e-01])"
      ]
     },
     "execution_count": 124,
     "metadata": {},
     "output_type": "execute_result"
    }
   ],
   "source": [
    "10 ** (-4 * np.random.rand(10))"
   ]
  },
  {
   "cell_type": "code",
   "execution_count": 125,
   "metadata": {},
   "outputs": [
    {
     "data": {
      "text/plain": [
       "[0.0256,\n",
       " 0.0011,\n",
       " 0.1862,\n",
       " 0.1987,\n",
       " 0.0075,\n",
       " 0.0075,\n",
       " 0.0029,\n",
       " 0.0004,\n",
       " 0.0013,\n",
       " 0.0036]"
      ]
     },
     "execution_count": 125,
     "metadata": {},
     "output_type": "execute_result"
    }
   ],
   "source": [
    "NUM_LR = 10 \n",
    "\n",
    "lrs = [round(i, 4) for i in list(10 ** (-4 * np.random.rand(NUM_LR)))]\n",
    "\n",
    "lrs"
   ]
  },
  {
   "cell_type": "code",
   "execution_count": 126,
   "metadata": {},
   "outputs": [
    {
     "name": "stdout",
     "output_type": "stream",
     "text": [
      "Train on 34489 samples, validate on 8623 samples\n",
      "34489/34489 [==============================] - 2s 49us/sample - loss: 0.5089 - recall: 0.0021 - val_loss: 0.4789 - val_recall: 0.0000e+00\n",
      "Train on 34489 samples, validate on 8623 samples\n",
      "34489/34489 [==============================] - 1s 38us/sample - loss: 0.6660 - recall: 0.0187 - val_loss: 0.6410 - val_recall: 0.0000e+00ss: 0.6677 - recall: 0.02\n",
      "Train on 34489 samples, validate on 8623 samples\n",
      "34489/34489 [==============================] - 1s 36us/sample - loss: 0.4739 - recall: 0.0033 - val_loss: 0.4646 - val_recall: 0.0069\n",
      "Train on 34489 samples, validate on 8623 samples\n",
      "34489/34489 [==============================] - 1s 38us/sample - loss: 0.4731 - recall: 0.0036 - val_loss: 0.4637 - val_recall: 0.0088\n",
      "Train on 34489 samples, validate on 8623 samples\n",
      "34489/34489 [==============================] - 1s 35us/sample - loss: 0.5741 - recall: 0.0040 - val_loss: 0.5124 - val_recall: 0.0000e+00\n",
      "Train on 34489 samples, validate on 8623 samples\n",
      "34489/34489 [==============================] - 2s 44us/sample - loss: 0.5741 - recall: 0.0040 - val_loss: 0.5124 - val_recall: 0.0000e+00\n",
      "Train on 34489 samples, validate on 8623 samples\n",
      "34489/34489 [==============================] - 1s 40us/sample - loss: 0.6302 - recall: 0.0075 - val_loss: 0.5819 - val_recall: 0.0000e+00\n",
      "Train on 34489 samples, validate on 8623 samples\n",
      "34489/34489 [==============================] - 2s 45us/sample - loss: 0.6834 - recall: 0.0525 - val_loss: 0.6730 - val_recall: 0.0000e+00\n",
      "Train on 34489 samples, validate on 8623 samples\n",
      "34489/34489 [==============================] - 1s 42us/sample - loss: 0.6615 - recall: 0.0159 - val_loss: 0.6329 - val_recall: 0.0000e+00\n",
      "Train on 34489 samples, validate on 8623 samples\n",
      "34489/34489 [==============================] - 1s 37us/sample - loss: 0.6189 - recall: 0.0062 - val_loss: 0.5655 - val_recall: 0.0000e+00\n",
      "CPU times: user 18 s, sys: 1.38 s, total: 19.4 s\n",
      "Wall time: 15.3 s\n"
     ]
    }
   ],
   "source": [
    "%%time\n",
    "hist_loss = []\n",
    "\n",
    "for lr in lrs:\n",
    "    \n",
    "    np.random.seed(123)\n",
    "    tf.random.set_seed(123)\n",
    "    \n",
    "    lr_model = model_def(h_activation='tanh', \n",
    "                         o_activation='sigmoid', \n",
    "                         kernel_init='normal')\n",
    "    \n",
    "    # Compile model\n",
    "    sgd = tf.keras.optimizers.SGD(lr=lr)\n",
    "    \n",
    "    lr_model.compile(loss='binary_crossentropy', \n",
    "                     optimizer=sgd, \n",
    "                     metrics=[tf.keras.metrics.Recall(name='recall')])\n",
    "    \n",
    "    # Fit the model\n",
    "    lr_model_history = lr_model.fit(X_train_proc_arr, \n",
    "                                    y_train, \n",
    "                                    validation_split=0.2, \n",
    "                                    epochs=1,\n",
    "                                    batch_size=64)\n",
    "    \n",
    "    hist_loss.append(lr_model_history.history['loss'])"
   ]
  },
  {
   "cell_type": "code",
   "execution_count": 127,
   "metadata": {},
   "outputs": [
    {
     "data": {
      "text/html": [
       "<div>\n",
       "<style scoped>\n",
       "    .dataframe tbody tr th:only-of-type {\n",
       "        vertical-align: middle;\n",
       "    }\n",
       "\n",
       "    .dataframe tbody tr th {\n",
       "        vertical-align: top;\n",
       "    }\n",
       "\n",
       "    .dataframe thead th {\n",
       "        text-align: right;\n",
       "    }\n",
       "</style>\n",
       "<table border=\"1\" class=\"dataframe\">\n",
       "  <thead>\n",
       "    <tr style=\"text-align: right;\">\n",
       "      <th></th>\n",
       "      <th>lr</th>\n",
       "      <th>loss</th>\n",
       "    </tr>\n",
       "  </thead>\n",
       "  <tbody>\n",
       "    <tr>\n",
       "      <th>0</th>\n",
       "      <td>0.1987</td>\n",
       "      <td>[0.4730855165354951]</td>\n",
       "    </tr>\n",
       "    <tr>\n",
       "      <th>1</th>\n",
       "      <td>0.1862</td>\n",
       "      <td>[0.4738786211347756]</td>\n",
       "    </tr>\n",
       "    <tr>\n",
       "      <th>2</th>\n",
       "      <td>0.0256</td>\n",
       "      <td>[0.5088603387543917]</td>\n",
       "    </tr>\n",
       "    <tr>\n",
       "      <th>3</th>\n",
       "      <td>0.0075</td>\n",
       "      <td>[0.5740568645227407]</td>\n",
       "    </tr>\n",
       "    <tr>\n",
       "      <th>4</th>\n",
       "      <td>0.0075</td>\n",
       "      <td>[0.5740568645227407]</td>\n",
       "    </tr>\n",
       "    <tr>\n",
       "      <th>5</th>\n",
       "      <td>0.0036</td>\n",
       "      <td>[0.6189098043635195]</td>\n",
       "    </tr>\n",
       "    <tr>\n",
       "      <th>6</th>\n",
       "      <td>0.0029</td>\n",
       "      <td>[0.6301866687112514]</td>\n",
       "    </tr>\n",
       "    <tr>\n",
       "      <th>7</th>\n",
       "      <td>0.0013</td>\n",
       "      <td>[0.6614847723175904]</td>\n",
       "    </tr>\n",
       "    <tr>\n",
       "      <th>8</th>\n",
       "      <td>0.0011</td>\n",
       "      <td>[0.6660425007324282]</td>\n",
       "    </tr>\n",
       "    <tr>\n",
       "      <th>9</th>\n",
       "      <td>0.0004</td>\n",
       "      <td>[0.6833506800153739]</td>\n",
       "    </tr>\n",
       "  </tbody>\n",
       "</table>\n",
       "</div>"
      ],
      "text/plain": [
       "       lr                  loss\n",
       "0  0.1987  [0.4730855165354951]\n",
       "1  0.1862  [0.4738786211347756]\n",
       "2  0.0256  [0.5088603387543917]\n",
       "3  0.0075  [0.5740568645227407]\n",
       "4  0.0075  [0.5740568645227407]\n",
       "5  0.0036  [0.6189098043635195]\n",
       "6  0.0029  [0.6301866687112514]\n",
       "7  0.0013  [0.6614847723175904]\n",
       "8  0.0011  [0.6660425007324282]\n",
       "9  0.0004  [0.6833506800153739]"
      ]
     },
     "execution_count": 127,
     "metadata": {},
     "output_type": "execute_result"
    }
   ],
   "source": [
    "# Get the lr and loss Dataframe\n",
    "loss_lr = pd.DataFrame([lrs,hist_loss]).T  \n",
    "\n",
    "#Give the coloumn names\n",
    "loss_lr.columns=['lr', 'loss']\n",
    "\n",
    "# Sort the values and reset the index\n",
    "loss_lr=loss_lr.sort_values('loss').reset_index().drop('index',axis=1)\n",
    "loss_lr"
   ]
  },
  {
   "cell_type": "code",
   "execution_count": 128,
   "metadata": {},
   "outputs": [],
   "source": [
    "# pick the top lr\n",
    "best_params['best_learning_rate'] = loss_lr.loc[:,'lr'][0]"
   ]
  },
  {
   "cell_type": "markdown",
   "metadata": {},
   "source": [
    "#### Build model with the best learning rate"
   ]
  },
  {
   "cell_type": "code",
   "execution_count": 129,
   "metadata": {},
   "outputs": [],
   "source": [
    "np.random.seed(123)\n",
    "tf.random.set_seed(123)"
   ]
  },
  {
   "cell_type": "code",
   "execution_count": 130,
   "metadata": {},
   "outputs": [],
   "source": [
    "bst_lr_model = model_def(h_activation='tanh', \n",
    "                         o_activation='sigmoid', \n",
    "                         kernel_init='normal')"
   ]
  },
  {
   "cell_type": "code",
   "execution_count": 131,
   "metadata": {},
   "outputs": [
    {
     "name": "stdout",
     "output_type": "stream",
     "text": [
      "Model: \"sequential_18\"\n",
      "_________________________________________________________________\n",
      "Layer (type)                 Output Shape              Param #   \n",
      "=================================================================\n",
      "dense_51 (Dense)             (None, 25)                700       \n",
      "_________________________________________________________________\n",
      "dense_52 (Dense)             (None, 15)                390       \n",
      "_________________________________________________________________\n",
      "dense_53 (Dense)             (None, 1)                 16        \n",
      "=================================================================\n",
      "Total params: 1,106\n",
      "Trainable params: 1,106\n",
      "Non-trainable params: 0\n",
      "_________________________________________________________________\n"
     ]
    }
   ],
   "source": [
    "bst_lr_model.summary()"
   ]
  },
  {
   "cell_type": "code",
   "execution_count": 132,
   "metadata": {},
   "outputs": [],
   "source": [
    "sgd = tf.keras.optimizers.SGD(lr=best_params['best_learning_rate'])\n",
    "\n",
    "bst_lr_model.compile(loss='binary_crossentropy', \n",
    "                     optimizer=sgd, \n",
    "                     metrics=[tf.keras.metrics.Recall()])"
   ]
  },
  {
   "cell_type": "code",
   "execution_count": 133,
   "metadata": {},
   "outputs": [
    {
     "name": "stdout",
     "output_type": "stream",
     "text": [
      "Train on 34489 samples, validate on 8623 samples\n",
      "Epoch 1/100\n",
      "34489/34489 [==============================] - 1s 40us/sample - loss: 0.4731 - recall_1: 0.0036 - val_loss: 0.4637 - val_recall_1: 0.0088\n",
      "Epoch 2/100\n",
      "34489/34489 [==============================] - 1s 23us/sample - loss: 0.4542 - recall_1: 0.0249 - val_loss: 0.4581 - val_recall_1: 0.0331\n",
      "Epoch 3/100\n",
      "34489/34489 [==============================] - 1s 21us/sample - loss: 0.4482 - recall_1: 0.0481 - val_loss: 0.4492 - val_recall_1: 0.0450\n",
      "Epoch 4/100\n",
      "34489/34489 [==============================] - 1s 24us/sample - loss: 0.4447 - recall_1: 0.0568 - val_loss: 0.4465 - val_recall_1: 0.0463\n",
      "Epoch 5/100\n",
      "34489/34489 [==============================] - 1s 24us/sample - loss: 0.4405 - recall_1: 0.0650 - val_loss: 0.4471 - val_recall_1: 0.0506\n",
      "Epoch 6/100\n",
      "34489/34489 [==============================] - 1s 22us/sample - loss: 0.4391 - recall_1: 0.0677 - val_loss: 0.4386 - val_recall_1: 0.0556\n",
      "Epoch 7/100\n",
      "34489/34489 [==============================] - 1s 23us/sample - loss: 0.4385 - recall_1: 0.0682 - val_loss: 0.4387 - val_recall_1: 0.0631\n",
      "Epoch 8/100\n",
      "34489/34489 [==============================] - 1s 22us/sample - loss: 0.4352 - recall_1: 0.0780 - val_loss: 0.4327 - val_recall_1: 0.0681\n",
      "Epoch 9/100\n",
      "34489/34489 [==============================] - 1s 21us/sample - loss: 0.4347 - recall_1: 0.0801 - val_loss: 0.4508 - val_recall_1: 0.0550\n",
      "Epoch 10/100\n",
      "34489/34489 [==============================] - 1s 22us/sample - loss: 0.4329 - recall_1: 0.0828 - val_loss: 0.4314 - val_recall_1: 0.0694\n",
      "Epoch 11/100\n",
      "34489/34489 [==============================] - 1s 25us/sample - loss: 0.4316 - recall_1: 0.0828 - val_loss: 0.4565 - val_recall_1: 0.0650\n",
      "Epoch 12/100\n",
      "34489/34489 [==============================] - 1s 26us/sample - loss: 0.4296 - recall_1: 0.0858 - val_loss: 0.4572 - val_recall_1: 0.1150\n",
      "Epoch 13/100\n",
      "34489/34489 [==============================] - 1s 26us/sample - loss: 0.4285 - recall_1: 0.0855 - val_loss: 0.4270 - val_recall_1: 0.0844\n",
      "Epoch 14/100\n",
      "34489/34489 [==============================] - 1s 26us/sample - loss: 0.4282 - recall_1: 0.0909 - val_loss: 0.4372 - val_recall_1: 0.1100\n",
      "Epoch 15/100\n",
      "34489/34489 [==============================] - 1s 24us/sample - loss: 0.4260 - recall_1: 0.0931 - val_loss: 0.4223 - val_recall_1: 0.0862\n",
      "Epoch 16/100\n",
      "34489/34489 [==============================] - 1s 26us/sample - loss: 0.4256 - recall_1: 0.0931 - val_loss: 0.4192 - val_recall_1: 0.0913\n",
      "Epoch 17/100\n",
      "34489/34489 [==============================] - 1s 24us/sample - loss: 0.4247 - recall_1: 0.0955 - val_loss: 0.4201 - val_recall_1: 0.0869\n",
      "Epoch 18/100\n",
      "34489/34489 [==============================] - 1s 21us/sample - loss: 0.4212 - recall_1: 0.0979 - val_loss: 0.4244 - val_recall_1: 0.0881\n",
      "Epoch 19/100\n",
      "34489/34489 [==============================] - 1s 24us/sample - loss: 0.4211 - recall_1: 0.1034 - val_loss: 0.4332 - val_recall_1: 0.0844\n",
      "Epoch 20/100\n",
      "34489/34489 [==============================] - 1s 27us/sample - loss: 0.4211 - recall_1: 0.1056 - val_loss: 0.4753 - val_recall_1: 0.0650\n",
      "Epoch 21/100\n",
      "34489/34489 [==============================] - 1s 28us/sample - loss: 0.4198 - recall_1: 0.1033 - val_loss: 0.4682 - val_recall_1: 0.0787\n",
      "Epoch 22/100\n",
      "34489/34489 [==============================] - 1s 33us/sample - loss: 0.4204 - recall_1: 0.1026 - val_loss: 0.4126 - val_recall_1: 0.1150\n",
      "Epoch 23/100\n",
      "34489/34489 [==============================] - 1s 28us/sample - loss: 0.4187 - recall_1: 0.1069 - val_loss: 0.4242 - val_recall_1: 0.08250.4193 - recall\n",
      "Epoch 24/100\n",
      "34489/34489 [==============================] - 1s 37us/sample - loss: 0.4183 - recall_1: 0.1067 - val_loss: 0.4200 - val_recall_1: 0.0825\n",
      "Epoch 25/100\n",
      "34489/34489 [==============================] - 1s 31us/sample - loss: 0.4170 - recall_1: 0.1110 - val_loss: 0.4115 - val_recall_1: 0.0869\n",
      "Epoch 26/100\n",
      "34489/34489 [==============================] - 1s 31us/sample - loss: 0.4165 - recall_1: 0.1115 - val_loss: 0.4257 - val_recall_1: 0.0812\n",
      "Epoch 27/100\n",
      "34489/34489 [==============================] - 1s 37us/sample - loss: 0.4158 - recall_1: 0.1098 - val_loss: 0.4103 - val_recall_1: 0.0925\n",
      "Epoch 28/100\n",
      "34489/34489 [==============================] - 1s 33us/sample - loss: 0.4159 - recall_1: 0.1110 - val_loss: 0.4079 - val_recall_1: 0.0906\n",
      "Epoch 29/100\n",
      "34489/34489 [==============================] - 1s 32us/sample - loss: 0.4133 - recall_1: 0.1158 - val_loss: 0.4123 - val_recall_1: 0.0931\n",
      "Epoch 30/100\n",
      "34489/34489 [==============================] - 1s 33us/sample - loss: 0.4118 - recall_1: 0.1221 - val_loss: 0.4228 - val_recall_1: 0.1769\n",
      "Epoch 31/100\n",
      "34489/34489 [==============================] - 1s 33us/sample - loss: 0.4144 - recall_1: 0.1136 - val_loss: 0.4537 - val_recall_1: 0.0819\n",
      "Epoch 32/100\n",
      "34489/34489 [==============================] - 1s 33us/sample - loss: 0.4136 - recall_1: 0.1158 - val_loss: 0.4109 - val_recall_1: 0.1088\n",
      "Epoch 33/100\n",
      "34489/34489 [==============================] - 1s 26us/sample - loss: 0.4128 - recall_1: 0.1167 - val_loss: 0.4075 - val_recall_1: 0.1131\n",
      "Epoch 34/100\n",
      "34489/34489 [==============================] - 1s 29us/sample - loss: 0.4110 - recall_1: 0.1194 - val_loss: 0.4221 - val_recall_1: 0.0881\n",
      "Epoch 35/100\n",
      "34489/34489 [==============================] - 1s 28us/sample - loss: 0.4114 - recall_1: 0.1207 - val_loss: 0.4042 - val_recall_1: 0.0925\n",
      "Epoch 36/100\n",
      "34489/34489 [==============================] - 1s 29us/sample - loss: 0.4097 - recall_1: 0.1213 - val_loss: 0.4026 - val_recall_1: 0.1131\n",
      "Epoch 37/100\n",
      "34489/34489 [==============================] - 1s 27us/sample - loss: 0.4115 - recall_1: 0.1197 - val_loss: 0.4578 - val_recall_1: 0.0781\n",
      "Epoch 38/100\n",
      "34489/34489 [==============================] - 1s 24us/sample - loss: 0.4099 - recall_1: 0.1226 - val_loss: 0.4064 - val_recall_1: 0.0931\n",
      "Epoch 39/100\n",
      "34489/34489 [==============================] - 1s 29us/sample - loss: 0.4072 - recall_1: 0.1288 - val_loss: 0.4019 - val_recall_1: 0.1187\n",
      "Epoch 40/100\n",
      "34489/34489 [==============================] - 1s 31us/sample - loss: 0.4092 - recall_1: 0.1262 - val_loss: 0.4089 - val_recall_1: 0.1306\n",
      "Epoch 41/100\n",
      "34489/34489 [==============================] - 1s 27us/sample - loss: 0.4083 - recall_1: 0.1242 - val_loss: 0.4575 - val_recall_1: 0.1700\n",
      "Epoch 42/100\n",
      "34489/34489 [==============================] - 1s 26us/sample - loss: 0.4068 - recall_1: 0.1278 - val_loss: 0.4020 - val_recall_1: 0.0956\n",
      "Epoch 43/100\n",
      "34489/34489 [==============================] - 1s 28us/sample - loss: 0.4051 - recall_1: 0.1301 - val_loss: 0.3972 - val_recall_1: 0.1088\n",
      "Epoch 44/100\n",
      "34489/34489 [==============================] - 1s 26us/sample - loss: 0.4074 - recall_1: 0.1270 - val_loss: 0.4013 - val_recall_1: 0.1050\n",
      "Epoch 45/100\n",
      "34489/34489 [==============================] - 1s 26us/sample - loss: 0.4055 - recall_1: 0.1308 - val_loss: 0.4033 - val_recall_1: 0.1031\n",
      "Epoch 46/100\n",
      "34489/34489 [==============================] - 1s 33us/sample - loss: 0.4073 - recall_1: 0.1269 - val_loss: 0.4021 - val_recall_1: 0.1125\n",
      "Epoch 47/100\n",
      "34489/34489 [==============================] - 1s 36us/sample - loss: 0.4035 - recall_1: 0.1343 - val_loss: 0.3975 - val_recall_1: 0.1138\n",
      "Epoch 48/100\n",
      "34489/34489 [==============================] - 1s 32us/sample - loss: 0.4058 - recall_1: 0.1286 - val_loss: 0.4057 - val_recall_1: 0.1150\n",
      "Epoch 49/100\n",
      "34489/34489 [==============================] - 1s 36us/sample - loss: 0.4045 - recall_1: 0.1310 - val_loss: 0.4145 - val_recall_1: 0.0994\n",
      "Epoch 50/100\n",
      "34489/34489 [==============================] - 1s 32us/sample - loss: 0.4052 - recall_1: 0.1312 - val_loss: 0.3968 - val_recall_1: 0.1175\n",
      "Epoch 51/100\n",
      "34489/34489 [==============================] - 1s 34us/sample - loss: 0.4028 - recall_1: 0.1350 - val_loss: 0.3912 - val_recall_1: 0.1187\n",
      "Epoch 52/100\n",
      "34489/34489 [==============================] - 1s 31us/sample - loss: 0.4035 - recall_1: 0.1315 - val_loss: 0.3984 - val_recall_1: 0.1281\n",
      "Epoch 53/100\n",
      "34489/34489 [==============================] - 1s 36us/sample - loss: 0.4027 - recall_1: 0.1362 - val_loss: 0.4018 - val_recall_1: 0.1125\n",
      "Epoch 54/100\n",
      "34489/34489 [==============================] - 1s 34us/sample - loss: 0.4031 - recall_1: 0.1374 - val_loss: 0.4109 - val_recall_1: 0.1431\n",
      "Epoch 55/100\n",
      "34489/34489 [==============================] - 1s 34us/sample - loss: 0.4026 - recall_1: 0.1358 - val_loss: 0.3950 - val_recall_1: 0.1056\n",
      "Epoch 56/100\n",
      "34489/34489 [==============================] - 1s 30us/sample - loss: 0.4013 - recall_1: 0.1402 - val_loss: 0.4637 - val_recall_1: 0.3119\n",
      "Epoch 57/100\n",
      "34489/34489 [==============================] - 1s 27us/sample - loss: 0.4007 - recall_1: 0.1407 - val_loss: 0.3948 - val_recall_1: 0.1375\n",
      "Epoch 58/100\n",
      "34489/34489 [==============================] - 1s 29us/sample - loss: 0.4021 - recall_1: 0.1358 - val_loss: 0.3924 - val_recall_1: 0.1269\n",
      "Epoch 59/100\n",
      "34489/34489 [==============================] - 1s 31us/sample - loss: 0.4004 - recall_1: 0.1400 - val_loss: 0.3960 - val_recall_1: 0.1231\n",
      "Epoch 60/100\n",
      "34489/34489 [==============================] - 1s 31us/sample - loss: 0.4004 - recall_1: 0.1374 - val_loss: 0.3951 - val_recall_1: 0.1156\n",
      "Epoch 61/100\n",
      "34489/34489 [==============================] - 1s 29us/sample - loss: 0.3987 - recall_1: 0.1491 - val_loss: 0.3954 - val_recall_1: 0.1287\n",
      "Epoch 62/100\n",
      "34489/34489 [==============================] - 1s 31us/sample - loss: 0.3991 - recall_1: 0.1461 - val_loss: 0.4052 - val_recall_1: 0.1138\n",
      "Epoch 63/100\n",
      "34489/34489 [==============================] - 1s 28us/sample - loss: 0.3995 - recall_1: 0.1431 - val_loss: 0.3939 - val_recall_1: 0.1181\n",
      "Epoch 64/100\n",
      "34489/34489 [==============================] - 1s 30us/sample - loss: 0.3997 - recall_1: 0.1418 - val_loss: 0.4102 - val_recall_1: 0.1756\n",
      "Epoch 65/100\n",
      "34489/34489 [==============================] - 1s 32us/sample - loss: 0.3981 - recall_1: 0.1470 - val_loss: 0.3901 - val_recall_1: 0.1238\n",
      "Epoch 66/100\n",
      "34489/34489 [==============================] - 1s 31us/sample - loss: 0.3979 - recall_1: 0.1488 - val_loss: 0.3876 - val_recall_1: 0.1350\n",
      "Epoch 67/100\n",
      "34489/34489 [==============================] - 1s 30us/sample - loss: 0.3968 - recall_1: 0.1475 - val_loss: 0.3948 - val_recall_1: 0.1206\n",
      "Epoch 68/100\n",
      "34489/34489 [==============================] - 1s 27us/sample - loss: 0.3982 - recall_1: 0.1448 - val_loss: 0.3898 - val_recall_1: 0.1325\n",
      "Epoch 69/100\n",
      "34489/34489 [==============================] - 1s 31us/sample - loss: 0.3979 - recall_1: 0.1481 - val_loss: 0.4016 - val_recall_1: 0.1475\n",
      "Epoch 70/100\n",
      "34489/34489 [==============================] - 1s 27us/sample - loss: 0.3966 - recall_1: 0.1480 - val_loss: 0.4008 - val_recall_1: 0.1569\n",
      "Epoch 71/100\n",
      "34489/34489 [==============================] - 1s 25us/sample - loss: 0.3970 - recall_1: 0.1464 - val_loss: 0.3870 - val_recall_1: 0.1312\n",
      "Epoch 72/100\n",
      "34489/34489 [==============================] - 1s 33us/sample - loss: 0.3951 - recall_1: 0.1510 - val_loss: 0.3988 - val_recall_1: 0.1450\n",
      "Epoch 73/100\n",
      "34489/34489 [==============================] - 1s 27us/sample - loss: 0.3967 - recall_1: 0.1492 - val_loss: 0.3904 - val_recall_1: 0.1412\n",
      "Epoch 74/100\n",
      "34489/34489 [==============================] - 1s 29us/sample - loss: 0.3979 - recall_1: 0.1510 - val_loss: 0.4052 - val_recall_1: 0.1269\n",
      "Epoch 75/100\n",
      "34489/34489 [==============================] - 1s 27us/sample - loss: 0.3952 - recall_1: 0.1523 - val_loss: 0.4853 - val_recall_1: 0.4925\n",
      "Epoch 76/100\n",
      "34489/34489 [==============================] - 1s 27us/sample - loss: 0.3942 - recall_1: 0.1557 - val_loss: 0.4561 - val_recall_1: 0.3237\n",
      "Epoch 77/100\n",
      "34489/34489 [==============================] - 1s 26us/sample - loss: 0.3944 - recall_1: 0.1542 - val_loss: 0.4221 - val_recall_1: 0.1912\n",
      "Epoch 78/100\n",
      "34489/34489 [==============================] - 1s 26us/sample - loss: 0.3972 - recall_1: 0.1516 - val_loss: 0.3891 - val_recall_1: 0.1231\n",
      "Epoch 79/100\n",
      "34489/34489 [==============================] - 1s 25us/sample - loss: 0.3949 - recall_1: 0.1488 - val_loss: 0.3959 - val_recall_1: 0.1806\n",
      "Epoch 80/100\n",
      "34489/34489 [==============================] - 1s 30us/sample - loss: 0.3953 - recall_1: 0.1531 - val_loss: 0.3922 - val_recall_1: 0.1294\n",
      "Epoch 81/100\n",
      "34489/34489 [==============================] - 1s 26us/sample - loss: 0.3949 - recall_1: 0.1546 - val_loss: 0.4853 - val_recall_1: 0.1094\n",
      "Epoch 82/100\n",
      "34489/34489 [==============================] - 1s 25us/sample - loss: 0.3938 - recall_1: 0.1561 - val_loss: 0.3854 - val_recall_1: 0.1250\n",
      "Epoch 83/100\n",
      "34489/34489 [==============================] - 1s 24us/sample - loss: 0.3930 - recall_1: 0.1586 - val_loss: 0.3815 - val_recall_1: 0.1294\n",
      "Epoch 84/100\n",
      "34489/34489 [==============================] - 1s 25us/sample - loss: 0.3928 - recall_1: 0.1567 - val_loss: 0.3842 - val_recall_1: 0.1375\n",
      "Epoch 85/100\n",
      "34489/34489 [==============================] - 1s 29us/sample - loss: 0.3940 - recall_1: 0.1611 - val_loss: 0.4000 - val_recall_1: 0.0956\n",
      "Epoch 86/100\n",
      "34489/34489 [==============================] - 1s 28us/sample - loss: 0.3917 - recall_1: 0.1596 - val_loss: 0.3810 - val_recall_1: 0.1444\n",
      "Epoch 87/100\n",
      "34489/34489 [==============================] - 1s 34us/sample - loss: 0.3944 - recall_1: 0.1599 - val_loss: 0.3890 - val_recall_1: 0.1431\n",
      "Epoch 88/100\n",
      "34489/34489 [==============================] - 1s 36us/sample - loss: 0.3915 - recall_1: 0.1586 - val_loss: 0.4090 - val_recall_1: 0.1925\n",
      "Epoch 89/100\n",
      "34489/34489 [==============================] - 1s 39us/sample - loss: 0.3907 - recall_1: 0.1615 - val_loss: 0.3813 - val_recall_1: 0.1325\n",
      "Epoch 90/100\n",
      "34489/34489 [==============================] - 1s 35us/sample - loss: 0.3921 - recall_1: 0.1651 - val_loss: 0.3978 - val_recall_1: 0.1331\n",
      "Epoch 91/100\n",
      "34489/34489 [==============================] - 1s 35us/sample - loss: 0.3900 - recall_1: 0.1629 - val_loss: 0.3769 - val_recall_1: 0.1475\n",
      "Epoch 92/100\n",
      "34489/34489 [==============================] - 1s 36us/sample - loss: 0.3921 - recall_1: 0.1621 - val_loss: 0.3924 - val_recall_1: 0.1225\n",
      "Epoch 93/100\n",
      "34489/34489 [==============================] - 1s 38us/sample - loss: 0.3918 - recall_1: 0.1605 - val_loss: 0.3871 - val_recall_1: 0.1200\n",
      "Epoch 94/100\n",
      "34489/34489 [==============================] - 1s 35us/sample - loss: 0.3923 - recall_1: 0.1589 - val_loss: 0.3926 - val_recall_1: 0.1319\n",
      "Epoch 95/100\n",
      "34489/34489 [==============================] - 1s 30us/sample - loss: 0.3913 - recall_1: 0.1637 - val_loss: 0.4111 - val_recall_1: 0.1887\n",
      "Epoch 96/100\n",
      "34489/34489 [==============================] - 1s 28us/sample - loss: 0.3888 - recall_1: 0.1665 - val_loss: 0.3859 - val_recall_1: 0.1569\n",
      "Epoch 97/100\n",
      "34489/34489 [==============================] - 1s 31us/sample - loss: 0.3915 - recall_1: 0.1703 - val_loss: 0.3937 - val_recall_1: 0.1331\n",
      "Epoch 98/100\n",
      "34489/34489 [==============================] - 1s 32us/sample - loss: 0.3900 - recall_1: 0.1688 - val_loss: 0.3823 - val_recall_1: 0.1331\n",
      "Epoch 99/100\n",
      "34489/34489 [==============================] - 1s 33us/sample - loss: 0.3893 - recall_1: 0.1705 - val_loss: 0.3880 - val_recall_1: 0.1656\n",
      "Epoch 100/100\n",
      "34489/34489 [==============================] - 1s 34us/sample - loss: 0.3897 - recall_1: 0.1678 - val_loss: 0.3735 - val_recall_1: 0.1769\n",
      "CPU times: user 2min 13s, sys: 10.9 s, total: 2min 24s\n",
      "Wall time: 1min 40s\n"
     ]
    }
   ],
   "source": [
    "%%time\n",
    "bst_lr_model_history = bst_lr_model.fit(X_train_proc_arr, \n",
    "                                        y_train, \n",
    "                                        epochs=100, \n",
    "                                        batch_size=64, \n",
    "                                        validation_split=0.2, \n",
    "                                        shuffle=True)"
   ]
  },
  {
   "cell_type": "markdown",
   "metadata": {},
   "source": [
    "#### Predictions"
   ]
  },
  {
   "cell_type": "code",
   "execution_count": 134,
   "metadata": {},
   "outputs": [],
   "source": [
    "train_bst_lr_model_pred = bst_lr_model.predict_classes(X_train_proc_arr)\n",
    "val_bst_lr_model_pred = bst_lr_model.predict_classes(X_val_proc_arr)"
   ]
  },
  {
   "cell_type": "markdown",
   "metadata": {},
   "source": [
    "#### Calculate Accuracy, True Positive Rate and True Negative Rates"
   ]
  },
  {
   "cell_type": "code",
   "execution_count": 135,
   "metadata": {},
   "outputs": [
    {
     "name": "stdout",
     "output_type": "stream",
     "text": [
      "Train Accuracy:  0.8369595472258304\n",
      "Train Recall:  0.1822896900695762\n",
      "Train Precision:  0.7183449651046859\n",
      "-----------------------\n",
      "Val Accuracy:  0.8363370677057964\n",
      "Val Recall:  0.1821133412042503\n",
      "Val Precision:  0.7091954022988506\n"
     ]
    }
   ],
   "source": [
    "accuracy_score_train = accuracy_score(y_train, train_bst_lr_model_pred)\n",
    "accuracy_score_val = accuracy_score(y_val, val_bst_lr_model_pred)\n",
    "\n",
    "recall_score_train = recall_score(y_train, train_bst_lr_model_pred)\n",
    "recall_score_val = recall_score(y_val, val_bst_lr_model_pred)\n",
    "\n",
    "precision_score_train = precision_score(y_train, train_bst_lr_model_pred)\n",
    "precision_score_val = precision_score(y_val, val_bst_lr_model_pred)\n",
    "\n",
    "\n",
    "print(\"Train Accuracy: \",accuracy_score_train)\n",
    "print(\"Train Recall: \",recall_score_train)\n",
    "print(\"Train Precision: \",precision_score_train)\n",
    "\n",
    "print(\"-----------------------\")\n",
    "\n",
    "print(\"Val Accuracy: \",accuracy_score_val)\n",
    "print(\"Val Recall: \",recall_score_val)\n",
    "print(\"Val Precision: \",precision_score_val)"
   ]
  },
  {
   "cell_type": "markdown",
   "metadata": {},
   "source": [
    "#### Getting evaluation metrics and evaluating model performance"
   ]
  },
  {
   "cell_type": "markdown",
   "metadata": {},
   "source": [
    "#### Find the best Batch size "
   ]
  },
  {
   "cell_type": "code",
   "execution_count": 136,
   "metadata": {},
   "outputs": [],
   "source": [
    "batch_sizes = [32, 64, 128, 256]"
   ]
  },
  {
   "cell_type": "code",
   "execution_count": 137,
   "metadata": {},
   "outputs": [
    {
     "name": "stdout",
     "output_type": "stream",
     "text": [
      "Train on 34489 samples, validate on 8623 samples\n",
      "Epoch 1/10\n",
      "34489/34489 [==============================] - 3s 77us/sample - loss: 0.4658 - recall_2: 0.0124 - val_loss: 0.4561 - val_recall_2: 0.0338\n",
      "Epoch 2/10\n",
      "34489/34489 [==============================] - 2s 56us/sample - loss: 0.4503 - recall_2: 0.0439 - val_loss: 0.4520 - val_recall_2: 0.0450\n",
      "Epoch 3/10\n",
      "34489/34489 [==============================] - 2s 62us/sample - loss: 0.4454 - recall_2: 0.0579 - val_loss: 0.4455 - val_recall_2: 0.0475\n",
      "Epoch 4/10\n",
      "34489/34489 [==============================] - 2s 59us/sample - loss: 0.4413 - recall_2: 0.0639 - val_loss: 0.4434 - val_recall_2: 0.0506\n",
      "Epoch 5/10\n",
      "34489/34489 [==============================] - 2s 63us/sample - loss: 0.4387 - recall_2: 0.0733 - val_loss: 0.4505 - val_recall_2: 0.0531\n",
      "Epoch 6/10\n",
      "34489/34489 [==============================] - 2s 62us/sample - loss: 0.4364 - recall_2: 0.0750 - val_loss: 0.4317 - val_recall_2: 0.0631\n",
      "Epoch 7/10\n",
      "34489/34489 [==============================] - 2s 57us/sample - loss: 0.4352 - recall_2: 0.0801 - val_loss: 0.4311 - val_recall_2: 0.0781\n",
      "Epoch 8/10\n",
      "34489/34489 [==============================] - 2s 59us/sample - loss: 0.4318 - recall_2: 0.0852 - val_loss: 0.4363 - val_recall_2: 0.0637\n",
      "Epoch 9/10\n",
      "34489/34489 [==============================] - 2s 60us/sample - loss: 0.4299 - recall_2: 0.0893 - val_loss: 0.4409 - val_recall_2: 0.0562\n",
      "Epoch 10/10\n",
      "34489/34489 [==============================] - 2s 64us/sample - loss: 0.4277 - recall_2: 0.0901 - val_loss: 0.4272 - val_recall_2: 0.0881\n",
      "Train on 34489 samples, validate on 8623 samples\n",
      "Epoch 1/10\n",
      "34489/34489 [==============================] - 2s 50us/sample - loss: 0.4731 - recall_3: 0.0036 - val_loss: 0.4637 - val_recall_3: 0.0088\n",
      "Epoch 2/10\n",
      "34489/34489 [==============================] - 1s 28us/sample - loss: 0.4542 - recall_3: 0.0249 - val_loss: 0.4581 - val_recall_3: 0.0331\n",
      "Epoch 3/10\n",
      "34489/34489 [==============================] - 1s 34us/sample - loss: 0.4482 - recall_3: 0.0481 - val_loss: 0.4492 - val_recall_3: 0.0450\n",
      "Epoch 4/10\n",
      "34489/34489 [==============================] - 1s 24us/sample - loss: 0.4447 - recall_3: 0.0568 - val_loss: 0.4465 - val_recall_3: 0.0463\n",
      "Epoch 5/10\n",
      "34489/34489 [==============================] - 1s 22us/sample - loss: 0.4405 - recall_3: 0.0650 - val_loss: 0.4471 - val_recall_3: 0.0506\n",
      "Epoch 6/10\n",
      "34489/34489 [==============================] - 1s 32us/sample - loss: 0.4391 - recall_3: 0.0677 - val_loss: 0.4386 - val_recall_3: 0.0556\n",
      "Epoch 7/10\n",
      "34489/34489 [==============================] - 1s 31us/sample - loss: 0.4385 - recall_3: 0.0682 - val_loss: 0.4387 - val_recall_3: 0.0631\n",
      "Epoch 8/10\n",
      "34489/34489 [==============================] - 1s 30us/sample - loss: 0.4352 - recall_3: 0.0780 - val_loss: 0.4327 - val_recall_3: 0.0681\n",
      "Epoch 9/10\n",
      "34489/34489 [==============================] - 1s 33us/sample - loss: 0.4347 - recall_3: 0.0801 - val_loss: 0.4508 - val_recall_3: 0.0550\n",
      "Epoch 10/10\n",
      "34489/34489 [==============================] - 1s 34us/sample - loss: 0.4329 - recall_3: 0.0828 - val_loss: 0.4314 - val_recall_3: 0.0694\n",
      "Train on 34489 samples, validate on 8623 samples\n",
      "Epoch 1/10\n",
      "34489/34489 [==============================] - 2s 48us/sample - loss: 0.4818 - recall_4: 0.0038 - val_loss: 0.4737 - val_recall_4: 0.0000e+00\n",
      "Epoch 2/10\n",
      "34489/34489 [==============================] - 1s 18us/sample - loss: 0.4635 - recall_4: 0.0030 - val_loss: 0.4641 - val_recall_4: 0.0088\n",
      "Epoch 3/10\n",
      "34489/34489 [==============================] - 1s 17us/sample - loss: 0.4557 - recall_4: 0.0192 - val_loss: 0.4570 - val_recall_4: 0.0250\n",
      "Epoch 4/10\n",
      "34489/34489 [==============================] - 1s 15us/sample - loss: 0.4503 - recall_4: 0.0374 - val_loss: 0.4539 - val_recall_4: 0.0350\n",
      "Epoch 5/10\n",
      "34489/34489 [==============================] - 1s 16us/sample - loss: 0.4465 - recall_4: 0.0487 - val_loss: 0.4502 - val_recall_4: 0.0444\n",
      "Epoch 6/10\n",
      "34489/34489 [==============================] - 1s 15us/sample - loss: 0.4444 - recall_4: 0.0552 - val_loss: 0.4471 - val_recall_4: 0.0456\n",
      "Epoch 7/10\n",
      "34489/34489 [==============================] - 1s 16us/sample - loss: 0.4434 - recall_4: 0.0604 - val_loss: 0.4451 - val_recall_4: 0.0525\n",
      "Epoch 8/10\n",
      "34489/34489 [==============================] - 1s 21us/sample - loss: 0.4407 - recall_4: 0.0652 - val_loss: 0.4411 - val_recall_4: 0.0556\n",
      "Epoch 9/10\n",
      "34489/34489 [==============================] - 1s 17us/sample - loss: 0.4400 - recall_4: 0.0677 - val_loss: 0.4752 - val_recall_4: 0.0450\n",
      "Epoch 10/10\n",
      "34489/34489 [==============================] - 1s 16us/sample - loss: 0.4376 - recall_4: 0.0714 - val_loss: 0.4389 - val_recall_4: 0.0619\n",
      "Train on 34489 samples, validate on 8623 samples\n",
      "Epoch 1/10\n",
      "34489/34489 [==============================] - 1s 30us/sample - loss: 0.4920 - recall_5: 0.0073 - val_loss: 0.4778 - val_recall_5: 0.0000e+00\n",
      "Epoch 2/10\n",
      "34489/34489 [==============================] - 0s 9us/sample - loss: 0.4718 - recall_5: 0.0000e+00 - val_loss: 0.4737 - val_recall_5: 0.0000e+00\n",
      "Epoch 3/10\n",
      "34489/34489 [==============================] - 0s 9us/sample - loss: 0.4661 - recall_5: 0.0011 - val_loss: 0.4679 - val_recall_5: 0.0019\n",
      "Epoch 4/10\n",
      "34489/34489 [==============================] - 0s 9us/sample - loss: 0.4605 - recall_5: 0.0062 - val_loss: 0.4635 - val_recall_5: 0.0088\n",
      "Epoch 5/10\n",
      "34489/34489 [==============================] - 0s 8us/sample - loss: 0.4567 - recall_5: 0.0149 - val_loss: 0.4598 - val_recall_5: 0.0175\n",
      "Epoch 6/10\n",
      "34489/34489 [==============================] - 0s 9us/sample - loss: 0.4534 - recall_5: 0.0249 - val_loss: 0.4566 - val_recall_5: 0.0275\n",
      "Epoch 7/10\n",
      "34489/34489 [==============================] - 0s 9us/sample - loss: 0.4503 - recall_5: 0.0339 - val_loss: 0.4550 - val_recall_5: 0.0350\n",
      "Epoch 8/10\n",
      "34489/34489 [==============================] - 0s 10us/sample - loss: 0.4478 - recall_5: 0.0416 - val_loss: 0.4550 - val_recall_5: 0.0375\n",
      "Epoch 9/10\n",
      "34489/34489 [==============================] - 0s 10us/sample - loss: 0.4458 - recall_5: 0.0489 - val_loss: 0.4519 - val_recall_5: 0.0431\n",
      "Epoch 10/10\n",
      "34489/34489 [==============================] - 0s 9us/sample - loss: 0.4438 - recall_5: 0.0547 - val_loss: 0.4498 - val_recall_5: 0.0456\n",
      "CPU times: user 57.4 s, sys: 4.77 s, total: 1min 2s\n",
      "Wall time: 43.9 s\n"
     ]
    }
   ],
   "source": [
    "%%time\n",
    "history=[]\n",
    "\n",
    "for batch_size in batch_sizes:\n",
    "    \n",
    "    np.random.seed(123)\n",
    "    tf.random.set_seed(123)\n",
    "    \n",
    "    bs_model = model_def(h_activation='tanh', \n",
    "                         o_activation='sigmoid', \n",
    "                         kernel_init='normal')\n",
    "    \n",
    "     # Compile model\n",
    "    sgd = tf.keras.optimizers.SGD(lr=best_params['best_learning_rate'])\n",
    "    \n",
    "    bs_model.compile(loss='binary_crossentropy', \n",
    "                     optimizer=sgd, \n",
    "                     metrics=[tf.keras.metrics.Recall()])\n",
    "    \n",
    "    #Fit the model\n",
    "    bs_model_history = bs_model.fit(X_train_proc_arr, \n",
    "                                    y_train, \n",
    "                                    batch_size=batch_size, \n",
    "                                    epochs=10,\n",
    "                                    validation_split=0.2, shuffle=True)\n",
    "    \n",
    "    history.append(bs_model_history)"
   ]
  },
  {
   "cell_type": "markdown",
   "metadata": {},
   "source": [
    "###### Summarize history for train loss"
   ]
  },
  {
   "cell_type": "code",
   "execution_count": 138,
   "metadata": {},
   "outputs": [
    {
     "data": {
      "image/png": "[encoded data removed]",
      "text/plain": [
       "<Figure size 432x288 with 1 Axes>"
      ]
     },
     "metadata": {
      "needs_background": "light"
     },
     "output_type": "display_data"
    }
   ],
   "source": [
    "for i in range(0, len(history)):\n",
    "    plt.plot(history[i].history['loss'])\n",
    "plt.title('Training Loss')\n",
    "plt.ylabel('loss')\n",
    "plt.xlabel('epochs')  \n",
    "plt.legend(batch_sizes, loc='upper right')\n",
    "plt.show()"
   ]
  },
  {
   "cell_type": "markdown",
   "metadata": {},
   "source": [
    "###### Summarize history for validation loss"
   ]
  },
  {
   "cell_type": "code",
   "execution_count": 139,
   "metadata": {},
   "outputs": [
    {
     "data": {
      "image/png": "[encoded data removed]",
      "text/plain": [
       "<Figure size 432x288 with 1 Axes>"
      ]
     },
     "metadata": {
      "needs_background": "light"
     },
     "output_type": "display_data"
    }
   ],
   "source": [
    "for i in range(0, len(history)):\n",
    "    plt.plot(history[i].history['val_loss'])\n",
    "plt.title('Validation Loss')\n",
    "plt.ylabel('loss')\n",
    "plt.xlabel('epoch')  \n",
    "plt.legend(batch_sizes, loc='upper left')\n",
    "plt.show()"
   ]
  },
  {
   "cell_type": "markdown",
   "metadata": {},
   "source": [
    "#### Build model with the best batch size"
   ]
  },
  {
   "cell_type": "code",
   "execution_count": 140,
   "metadata": {},
   "outputs": [],
   "source": [
    "best_params['best_batch_size'] = 32"
   ]
  },
  {
   "cell_type": "code",
   "execution_count": 141,
   "metadata": {},
   "outputs": [],
   "source": [
    "np.random.seed(123)\n",
    "tf.random.set_seed(123)\n",
    "    \n",
    "bst_bs_model = model_def(h_activation='tanh', \n",
    "                         o_activation='sigmoid', \n",
    "                         kernel_init='normal')"
   ]
  },
  {
   "cell_type": "code",
   "execution_count": 142,
   "metadata": {},
   "outputs": [],
   "source": [
    "sgd = tf.keras.optimizers.SGD(lr=best_params['best_learning_rate'])\n",
    "\n",
    "bst_bs_model.compile(loss='binary_crossentropy', \n",
    "                     optimizer=sgd, \n",
    "                     metrics=[tf.keras.metrics.Recall()])"
   ]
  },
  {
   "cell_type": "code",
   "execution_count": 143,
   "metadata": {},
   "outputs": [
    {
     "name": "stdout",
     "output_type": "stream",
     "text": [
      "Train on 34489 samples, validate on 8623 samples\n",
      "Epoch 1/100\n",
      "34489/34489 [==============================] - 3s 76us/sample - loss: 0.4658 - recall_6: 0.0124 - val_loss: 0.4561 - val_recall_6: 0.0338\n",
      "Epoch 2/100\n",
      "34489/34489 [==============================] - 2s 52us/sample - loss: 0.4503 - recall_6: 0.0439 - val_loss: 0.4520 - val_recall_6: 0.0450\n",
      "Epoch 3/100\n",
      "34489/34489 [==============================] - 2s 58us/sample - loss: 0.4454 - recall_6: 0.0579 - val_loss: 0.4455 - val_recall_6: 0.0475\n",
      "Epoch 4/100\n",
      "34489/34489 [==============================] - 2s 58us/sample - loss: 0.4413 - recall_6: 0.0639 - val_loss: 0.4434 - val_recall_6: 0.0506\n",
      "Epoch 5/100\n",
      "34489/34489 [==============================] - 2s 60us/sample - loss: 0.4387 - recall_6: 0.0733 - val_loss: 0.4505 - val_recall_6: 0.0531\n",
      "Epoch 6/100\n",
      "34489/34489 [==============================] - 2s 64us/sample - loss: 0.4364 - recall_6: 0.0750 - val_loss: 0.4317 - val_recall_6: 0.0631\n",
      "Epoch 7/100\n",
      "34489/34489 [==============================] - 2s 69us/sample - loss: 0.4352 - recall_6: 0.0801 - val_loss: 0.4311 - val_recall_6: 0.0781\n",
      "Epoch 8/100\n",
      "34489/34489 [==============================] - 2s 70us/sample - loss: 0.4318 - recall_6: 0.0852 - val_loss: 0.4363 - val_recall_6: 0.0637\n",
      "Epoch 9/100\n",
      "34489/34489 [==============================] - 2s 71us/sample - loss: 0.4299 - recall_6: 0.0893 - val_loss: 0.4409 - val_recall_6: 0.0562\n",
      "Epoch 10/100\n",
      "34489/34489 [==============================] - 2s 62us/sample - loss: 0.4277 - recall_6: 0.0901 - val_loss: 0.4272 - val_recall_6: 0.0881\n",
      "Epoch 11/100\n",
      "34489/34489 [==============================] - 2s 70us/sample - loss: 0.4255 - recall_6: 0.0923 - val_loss: 0.4483 - val_recall_6: 0.0719\n",
      "Epoch 12/100\n",
      "34489/34489 [==============================] - 2s 65us/sample - loss: 0.4231 - recall_6: 0.0964 - val_loss: 0.4867 - val_recall_6: 0.3244\n",
      "Epoch 13/100\n",
      "34489/34489 [==============================] - 2s 67us/sample - loss: 0.4224 - recall_6: 0.0993 - val_loss: 0.4204 - val_recall_6: 0.1081\n",
      "Epoch 14/100\n",
      "34489/34489 [==============================] - 2s 56us/sample - loss: 0.4227 - recall_6: 0.1004 - val_loss: 0.5274 - val_recall_6: 0.4250 - \n",
      "Epoch 15/100\n",
      "34489/34489 [==============================] - 2s 47us/sample - loss: 0.4205 - recall_6: 0.1042 - val_loss: 0.4226 - val_recall_6: 0.0894\n",
      "Epoch 16/100\n",
      "34489/34489 [==============================] - 2s 51us/sample - loss: 0.4195 - recall_6: 0.1055 - val_loss: 0.4110 - val_recall_6: 0.0919\n",
      "Epoch 17/100\n",
      "34489/34489 [==============================] - 2s 50us/sample - loss: 0.4179 - recall_6: 0.1085 - val_loss: 0.4374 - val_recall_6: 0.1200\n",
      "Epoch 18/100\n",
      "34489/34489 [==============================] - 2s 47us/sample - loss: 0.4162 - recall_6: 0.1115 - val_loss: 0.4204 - val_recall_6: 0.0931\n",
      "Epoch 19/100\n",
      "34489/34489 [==============================] - 2s 47us/sample - loss: 0.4162 - recall_6: 0.1161 - val_loss: 0.4086 - val_recall_6: 0.0931\n",
      "Epoch 20/100\n",
      "34489/34489 [==============================] - 2s 50us/sample - loss: 0.4153 - recall_6: 0.1158 - val_loss: 0.4634 - val_recall_6: 0.0787\n",
      "Epoch 21/100\n",
      "34489/34489 [==============================] - 2s 48us/sample - loss: 0.4130 - recall_6: 0.1170 - val_loss: 0.4792 - val_recall_6: 0.08560.4116 - recall_6: \n",
      "Epoch 22/100\n",
      "34489/34489 [==============================] - 2s 47us/sample - loss: 0.4144 - recall_6: 0.1186 - val_loss: 0.4357 - val_recall_6: 0.1875\n",
      "Epoch 23/100\n",
      "34489/34489 [==============================] - 2s 55us/sample - loss: 0.4129 - recall_6: 0.1175 - val_loss: 0.4265 - val_recall_6: 0.0906\n",
      "Epoch 24/100\n",
      "34489/34489 [==============================] - 2s 63us/sample - loss: 0.4108 - recall_6: 0.1264 - val_loss: 0.4166 - val_recall_6: 0.0969\n",
      "Epoch 25/100\n",
      "34489/34489 [==============================] - 2s 62us/sample - loss: 0.4117 - recall_6: 0.1194 - val_loss: 0.4033 - val_recall_6: 0.1044\n",
      "Epoch 26/100\n",
      "34489/34489 [==============================] - 2s 62us/sample - loss: 0.4109 - recall_6: 0.1215 - val_loss: 0.4165 - val_recall_6: 0.0887\n",
      "Epoch 27/100\n",
      "34489/34489 [==============================] - 2s 61us/sample - loss: 0.4091 - recall_6: 0.1221 - val_loss: 0.4086 - val_recall_6: 0.0981\n",
      "Epoch 28/100\n",
      "34489/34489 [==============================] - 2s 65us/sample - loss: 0.4083 - recall_6: 0.1262 - val_loss: 0.4132 - val_recall_6: 0.0931\n",
      "Epoch 29/100\n",
      "34489/34489 [==============================] - 2s 59us/sample - loss: 0.4078 - recall_6: 0.1256 - val_loss: 0.4032 - val_recall_6: 0.1050\n",
      "Epoch 30/100\n",
      "34489/34489 [==============================] - 2s 57us/sample - loss: 0.4075 - recall_6: 0.1272 - val_loss: 0.4176 - val_recall_6: 0.1737\n",
      "Epoch 31/100\n",
      "34489/34489 [==============================] - 2s 61us/sample - loss: 0.4074 - recall_6: 0.1272 - val_loss: 0.4550 - val_recall_6: 0.0763\n",
      "Epoch 32/100\n",
      "34489/34489 [==============================] - 2s 69us/sample - loss: 0.4066 - recall_6: 0.1258 - val_loss: 0.4048 - val_recall_6: 0.0975\n",
      "Epoch 33/100\n",
      "34489/34489 [==============================] - 2s 64us/sample - loss: 0.4053 - recall_6: 0.1308 - val_loss: 0.4193 - val_recall_6: 0.1394\n",
      "Epoch 34/100\n",
      "34489/34489 [==============================] - 2s 65us/sample - loss: 0.4049 - recall_6: 0.1339 - val_loss: 0.3955 - val_recall_6: 0.1238\n",
      "Epoch 35/100\n",
      "34489/34489 [==============================] - 2s 59us/sample - loss: 0.4037 - recall_6: 0.1343 - val_loss: 0.4029 - val_recall_6: 0.0962\n",
      "Epoch 36/100\n",
      "34489/34489 [==============================] - 2s 62us/sample - loss: 0.4037 - recall_6: 0.1380 - val_loss: 0.3997 - val_recall_6: 0.1256\n",
      "Epoch 37/100\n",
      "34489/34489 [==============================] - 2s 59us/sample - loss: 0.4031 - recall_6: 0.1370 - val_loss: 0.5245 - val_recall_6: 0.0850\n",
      "Epoch 38/100\n",
      "34489/34489 [==============================] - 2s 63us/sample - loss: 0.4026 - recall_6: 0.1402 - val_loss: 0.3929 - val_recall_6: 0.1206\n",
      "Epoch 39/100\n",
      "34489/34489 [==============================] - 2s 65us/sample - loss: 0.4014 - recall_6: 0.1410 - val_loss: 0.3965 - val_recall_6: 0.1356\n",
      "Epoch 40/100\n",
      "34489/34489 [==============================] - 2s 62us/sample - loss: 0.4015 - recall_6: 0.1424 - val_loss: 0.3976 - val_recall_6: 0.1225\n",
      "Epoch 41/100\n",
      "34489/34489 [==============================] - 2s 63us/sample - loss: 0.4016 - recall_6: 0.1367 - val_loss: 0.3931 - val_recall_6: 0.1194\n",
      "Epoch 42/100\n",
      "34489/34489 [==============================] - 2s 62us/sample - loss: 0.4001 - recall_6: 0.1472 - val_loss: 0.4072 - val_recall_6: 0.1037\n",
      "Epoch 43/100\n",
      "34489/34489 [==============================] - 2s 69us/sample - loss: 0.3998 - recall_6: 0.1443 - val_loss: 0.4208 - val_recall_6: 0.1713\n",
      "Epoch 44/100\n",
      "34489/34489 [==============================] - 2s 62us/sample - loss: 0.4018 - recall_6: 0.1400 - val_loss: 0.3908 - val_recall_6: 0.1287\n",
      "Epoch 45/100\n",
      "34489/34489 [==============================] - 2s 65us/sample - loss: 0.3995 - recall_6: 0.1454 - val_loss: 0.4019 - val_recall_6: 0.1394\n",
      "Epoch 46/100\n",
      "34489/34489 [==============================] - 2s 64us/sample - loss: 0.3997 - recall_6: 0.1475 - val_loss: 0.4360 - val_recall_6: 0.2175\n",
      "Epoch 47/100\n",
      "34489/34489 [==============================] - 2s 65us/sample - loss: 0.3982 - recall_6: 0.1511 - val_loss: 0.3886 - val_recall_6: 0.1312\n",
      "Epoch 48/100\n",
      "34489/34489 [==============================] - 2s 67us/sample - loss: 0.3987 - recall_6: 0.1507 - val_loss: 0.4601 - val_recall_6: 0.2569\n",
      "Epoch 49/100\n",
      "34489/34489 [==============================] - 2s 67us/sample - loss: 0.3976 - recall_6: 0.1492 - val_loss: 0.3887 - val_recall_6: 0.1338\n",
      "Epoch 50/100\n",
      "34489/34489 [==============================] - 2s 61us/sample - loss: 0.3963 - recall_6: 0.1538 - val_loss: 0.3866 - val_recall_6: 0.1169\n",
      "Epoch 51/100\n",
      "34489/34489 [==============================] - 2s 68us/sample - loss: 0.3962 - recall_6: 0.1567 - val_loss: 0.3852 - val_recall_6: 0.1300\n",
      "Epoch 52/100\n",
      "34489/34489 [==============================] - 2s 66us/sample - loss: 0.3972 - recall_6: 0.1570 - val_loss: 0.3864 - val_recall_6: 0.1400\n",
      "Epoch 53/100\n",
      "34489/34489 [==============================] - 2s 62us/sample - loss: 0.3956 - recall_6: 0.1562 - val_loss: 0.4101 - val_recall_6: 0.1256\n",
      "Epoch 54/100\n",
      "34489/34489 [==============================] - 2s 62us/sample - loss: 0.3970 - recall_6: 0.1564 - val_loss: 0.3933 - val_recall_6: 0.1575\n",
      "Epoch 55/100\n",
      "34489/34489 [==============================] - 2s 64us/sample - loss: 0.3955 - recall_6: 0.1573 - val_loss: 0.3987 - val_recall_6: 0.0988\n",
      "Epoch 56/100\n",
      "34489/34489 [==============================] - 2s 66us/sample - loss: 0.3946 - recall_6: 0.1567 - val_loss: 0.3815 - val_recall_6: 0.1462\n",
      "Epoch 57/100\n",
      "34489/34489 [==============================] - 2s 63us/sample - loss: 0.3947 - recall_6: 0.1626 - val_loss: 0.3873 - val_recall_6: 0.1319\n",
      "Epoch 58/100\n",
      "34489/34489 [==============================] - 2s 58us/sample - loss: 0.3949 - recall_6: 0.1583 - val_loss: 0.4028 - val_recall_6: 0.1150loss: 0\n",
      "Epoch 59/100\n",
      "34489/34489 [==============================] - 2s 62us/sample - loss: 0.3915 - recall_6: 0.1651 - val_loss: 0.4073 - val_recall_6: 0.1606\n",
      "Epoch 60/100\n",
      "34489/34489 [==============================] - 2s 64us/sample - loss: 0.3921 - recall_6: 0.1657 - val_loss: 0.3883 - val_recall_6: 0.1494\n",
      "Epoch 61/100\n",
      "34489/34489 [==============================] - 2s 66us/sample - loss: 0.3927 - recall_6: 0.1627 - val_loss: 0.4354 - val_recall_6: 0.2425\n",
      "Epoch 62/100\n",
      "34489/34489 [==============================] - 2s 64us/sample - loss: 0.3931 - recall_6: 0.1642 - val_loss: 0.3889 - val_recall_6: 0.1388\n",
      "Epoch 63/100\n",
      "34489/34489 [==============================] - 2s 65us/sample - loss: 0.3899 - recall_6: 0.1691 - val_loss: 0.3842 - val_recall_6: 0.1619\n",
      "Epoch 64/100\n",
      "34489/34489 [==============================] - 2s 63us/sample - loss: 0.3907 - recall_6: 0.1688 - val_loss: 0.4752 - val_recall_6: 0.5119\n",
      "Epoch 65/100\n",
      "34489/34489 [==============================] - 2s 61us/sample - loss: 0.3910 - recall_6: 0.1694 - val_loss: 0.3813 - val_recall_6: 0.1569\n",
      "Epoch 66/100\n",
      "34489/34489 [==============================] - 2s 67us/sample - loss: 0.3917 - recall_6: 0.1643 - val_loss: 0.3784 - val_recall_6: 0.1581\n",
      "Epoch 67/100\n",
      "34489/34489 [==============================] - 2s 67us/sample - loss: 0.3900 - recall_6: 0.1722 - val_loss: 0.3865 - val_recall_6: 0.1513\n",
      "Epoch 68/100\n",
      "34489/34489 [==============================] - 2s 63us/sample - loss: 0.3889 - recall_6: 0.1748 - val_loss: 0.3835 - val_recall_6: 0.1437\n",
      "Epoch 69/100\n",
      "34489/34489 [==============================] - 2s 66us/sample - loss: 0.3895 - recall_6: 0.1727 - val_loss: 0.3812 - val_recall_6: 0.1194\n",
      "Epoch 70/100\n",
      "34489/34489 [==============================] - 2s 62us/sample - loss: 0.3881 - recall_6: 0.1716 - val_loss: 0.3791 - val_recall_6: 0.1650\n",
      "Epoch 71/100\n",
      "34489/34489 [==============================] - 2s 66us/sample - loss: 0.3884 - recall_6: 0.1772 - val_loss: 0.3892 - val_recall_6: 0.1637\n",
      "Epoch 72/100\n",
      "34489/34489 [==============================] - 2s 63us/sample - loss: 0.3886 - recall_6: 0.1810 - val_loss: 0.3851 - val_recall_6: 0.1344\n",
      "Epoch 73/100\n",
      "34489/34489 [==============================] - 2s 59us/sample - loss: 0.3894 - recall_6: 0.1764 - val_loss: 0.3780 - val_recall_6: 0.1312\n",
      "Epoch 74/100\n",
      "34489/34489 [==============================] - 2s 59us/sample - loss: 0.3871 - recall_6: 0.1794 - val_loss: 0.4033 - val_recall_6: 0.2975\n",
      "Epoch 75/100\n",
      "34489/34489 [==============================] - 2s 63us/sample - loss: 0.3867 - recall_6: 0.1849 - val_loss: 0.4013 - val_recall_6: 0.2812\n",
      "Epoch 76/100\n",
      "34489/34489 [==============================] - 2s 66us/sample - loss: 0.3862 - recall_6: 0.1837 - val_loss: 0.4247 - val_recall_6: 0.3131s\n",
      "Epoch 77/100\n",
      "34489/34489 [==============================] - 2s 69us/sample - loss: 0.3874 - recall_6: 0.1826 - val_loss: 0.7007 - val_recall_6: 0.9419\n",
      "Epoch 78/100\n",
      "34489/34489 [==============================] - 2s 61us/sample - loss: 0.3883 - recall_6: 0.1832 - val_loss: 0.3774 - val_recall_6: 0.1488\n",
      "Epoch 79/100\n",
      "34489/34489 [==============================] - 2s 67us/sample - loss: 0.3853 - recall_6: 0.1832 - val_loss: 0.4095 - val_recall_6: 0.1513\n",
      "Epoch 80/100\n",
      "34489/34489 [==============================] - 2s 70us/sample - loss: 0.3885 - recall_6: 0.1762 - val_loss: 0.4001 - val_recall_6: 0.1787\n",
      "Epoch 81/100\n",
      "34489/34489 [==============================] - 2s 64us/sample - loss: 0.3851 - recall_6: 0.1860 - val_loss: 0.4097 - val_recall_6: 0.1369\n",
      "Epoch 82/100\n",
      "34489/34489 [==============================] - 2s 61us/sample - loss: 0.3838 - recall_6: 0.1935 - val_loss: 0.3731 - val_recall_6: 0.1681\n",
      "Epoch 83/100\n",
      "34489/34489 [==============================] - 2s 64us/sample - loss: 0.3840 - recall_6: 0.1886 - val_loss: 0.3735 - val_recall_6: 0.1406\n",
      "Epoch 84/100\n",
      "34489/34489 [==============================] - 2s 58us/sample - loss: 0.3857 - recall_6: 0.1849 - val_loss: 0.3735 - val_recall_6: 0.1706\n",
      "Epoch 85/100\n",
      "34489/34489 [==============================] - 2s 68us/sample - loss: 0.3836 - recall_6: 0.1910 - val_loss: 0.3852 - val_recall_6: 0.1356\n",
      "Epoch 86/100\n",
      "34489/34489 [==============================] - 2s 63us/sample - loss: 0.3827 - recall_6: 0.1962 - val_loss: 0.3718 - val_recall_6: 0.1813\n",
      "Epoch 87/100\n",
      "34489/34489 [==============================] - 2s 60us/sample - loss: 0.3838 - recall_6: 0.1935 - val_loss: 0.3840 - val_recall_6: 0.2081\n",
      "Epoch 88/100\n",
      "34489/34489 [==============================] - 2s 67us/sample - loss: 0.3824 - recall_6: 0.1918 - val_loss: 0.3756 - val_recall_6: 0.2025\n",
      "Epoch 89/100\n",
      "34489/34489 [==============================] - 2s 60us/sample - loss: 0.3818 - recall_6: 0.1971 - val_loss: 0.4014 - val_recall_6: 0.2163\n",
      "Epoch 90/100\n",
      "34489/34489 [==============================] - 2s 68us/sample - loss: 0.3830 - recall_6: 0.1941 - val_loss: 0.3775 - val_recall_6: 0.1556\n",
      "Epoch 91/100\n",
      "34489/34489 [==============================] - 2s 59us/sample - loss: 0.3826 - recall_6: 0.1876 - val_loss: 0.3733 - val_recall_6: 0.2056\n",
      "Epoch 92/100\n",
      "34489/34489 [==============================] - 2s 56us/sample - loss: 0.3823 - recall_6: 0.1981 - val_loss: 0.4253 - val_recall_6: 0.3919\n",
      "Epoch 93/100\n",
      "34489/34489 [==============================] - 2s 62us/sample - loss: 0.3829 - recall_6: 0.1944 - val_loss: 0.3867 - val_recall_6: 0.1519\n",
      "Epoch 94/100\n",
      "34489/34489 [==============================] - 2s 59us/sample - loss: 0.3835 - recall_6: 0.1935 - val_loss: 0.3907 - val_recall_6: 0.1144\n",
      "Epoch 95/100\n",
      "34489/34489 [==============================] - 2s 57us/sample - loss: 0.3813 - recall_6: 0.2003 - val_loss: 0.3908 - val_recall_6: 0.2381\n",
      "Epoch 96/100\n",
      "34489/34489 [==============================] - 2s 51us/sample - loss: 0.3812 - recall_6: 0.1952 - val_loss: 0.3770 - val_recall_6: 0.1981\n",
      "Epoch 97/100\n",
      "34489/34489 [==============================] - 2s 50us/sample - loss: 0.3810 - recall_6: 0.1957 - val_loss: 0.3746 - val_recall_6: 0.1694\n",
      "Epoch 98/100\n",
      "34489/34489 [==============================] - 2s 53us/sample - loss: 0.3814 - recall_6: 0.2022 - val_loss: 0.3831 - val_recall_6: 0.1844\n",
      "Epoch 99/100\n",
      "34489/34489 [==============================] - 2s 54us/sample - loss: 0.3795 - recall_6: 0.2008 - val_loss: 0.4577 - val_recall_6: 0.6431\n",
      "Epoch 100/100\n",
      "34489/34489 [==============================] - 2s 68us/sample - loss: 0.3795 - recall_6: 0.2048 - val_loss: 0.3780 - val_recall_6: 0.1700\n",
      "CPU times: user 4min 43s, sys: 21.9 s, total: 5min 5s\n",
      "Wall time: 3min 32s\n"
     ]
    }
   ],
   "source": [
    "%%time\n",
    "bst_bs_model_history = bst_bs_model.fit(X_train_proc_arr, \n",
    "                                        y_train, \n",
    "                                        epochs=100, \n",
    "                                        batch_size=best_params['best_batch_size'],\n",
    "                                        validation_split=0.2, \n",
    "                                        shuffle=True)"
   ]
  },
  {
   "cell_type": "markdown",
   "metadata": {},
   "source": [
    "#### Predictions"
   ]
  },
  {
   "cell_type": "code",
   "execution_count": 144,
   "metadata": {},
   "outputs": [],
   "source": [
    "train_bst_bs_model_pred = bst_bs_model.predict_classes(X_train_proc_arr)\n",
    "val_bst_bs_model_pred = bst_bs_model.predict_classes(X_val_proc_arr)"
   ]
  },
  {
   "cell_type": "markdown",
   "metadata": {},
   "source": [
    "#### Getting evaluation metrics and evaluating model performance"
   ]
  },
  {
   "cell_type": "code",
   "execution_count": 145,
   "metadata": {},
   "outputs": [
    {
     "name": "stdout",
     "output_type": "stream",
     "text": [
      "Train Accuracy:  0.8383744665058452\n",
      "Train Recall:  0.1728020240354206\n",
      "Train Precision:  0.7610027855153203\n",
      "-----------------------\n",
      "Val Accuracy:  0.8371488878064621\n",
      "Val Recall:  0.17119244391971664\n",
      "Val Precision:  0.7426376440460948\n"
     ]
    }
   ],
   "source": [
    "### Calculate Accuracy, True Positive Rate and True Negative Rates\n",
    "\n",
    "accuracy_score_train = accuracy_score(y_train, train_bst_bs_model_pred)\n",
    "accuracy_score_val = accuracy_score(y_val, val_bst_bs_model_pred)\n",
    "\n",
    "recall_score_train = recall_score(y_train, train_bst_bs_model_pred)\n",
    "recall_score_val = recall_score(y_val, val_bst_bs_model_pred)\n",
    "\n",
    "precision_score_train = precision_score(y_train, train_bst_bs_model_pred)\n",
    "precision_score_val = precision_score(y_val, val_bst_bs_model_pred)\n",
    "\n",
    "\n",
    "print(\"Train Accuracy: \",accuracy_score_train)\n",
    "print(\"Train Recall: \",recall_score_train)\n",
    "print(\"Train Precision: \",precision_score_train)\n",
    "\n",
    "print(\"-----------------------\")\n",
    "\n",
    "print(\"Val Accuracy: \",accuracy_score_val)\n",
    "print(\"Val Recall: \",recall_score_val)\n",
    "print(\"Val Precision: \",precision_score_val)"
   ]
  },
  {
   "cell_type": "markdown",
   "metadata": {},
   "source": [
    "#### Model with Relu as activation in hidden layer, Adam optimizer, Modified Xavier"
   ]
  },
  {
   "cell_type": "code",
   "execution_count": 146,
   "metadata": {},
   "outputs": [],
   "source": [
    "np.random.seed(123)\n",
    "tf.random.set_seed(123)"
   ]
  },
  {
   "cell_type": "code",
   "execution_count": 147,
   "metadata": {},
   "outputs": [],
   "source": [
    "relu_model= model_def(h_activation='relu',\n",
    "                      o_activation='sigmoid',\n",
    "                      kernel_init='glorot_normal')"
   ]
  },
  {
   "cell_type": "code",
   "execution_count": 148,
   "metadata": {},
   "outputs": [],
   "source": [
    "relu_model.compile(loss='binary_crossentropy', \n",
    "                   optimizer='adam', \n",
    "                   metrics=[tf.keras.metrics.Recall()])"
   ]
  },
  {
   "cell_type": "code",
   "execution_count": 149,
   "metadata": {},
   "outputs": [
    {
     "name": "stdout",
     "output_type": "stream",
     "text": [
      "Train on 34489 samples, validate on 8623 samples\n",
      "Epoch 1/100\n",
      "34489/34489 [==============================] - 2s 70us/sample - loss: 0.4627 - recall_7: 0.0357 - val_loss: 0.4455 - val_recall_7: 0.0394\n",
      "Epoch 2/100\n",
      "34489/34489 [==============================] - 2s 72us/sample - loss: 0.4329 - recall_7: 0.0549 - val_loss: 0.4299 - val_recall_7: 0.0637\n",
      "Epoch 3/100\n",
      "34489/34489 [==============================] - 2s 68us/sample - loss: 0.4208 - recall_7: 0.0866 - val_loss: 0.4212 - val_recall_7: 0.0831\n",
      "Epoch 4/100\n",
      "34489/34489 [==============================] - 2s 66us/sample - loss: 0.4098 - recall_7: 0.1077 - val_loss: 0.4107 - val_recall_7: 0.1187\n",
      "Epoch 5/100\n",
      "34489/34489 [==============================] - 2s 62us/sample - loss: 0.4006 - recall_7: 0.1251 - val_loss: 0.4034 - val_recall_7: 0.1219\n",
      "Epoch 6/100\n",
      "34489/34489 [==============================] - 2s 60us/sample - loss: 0.3945 - recall_7: 0.1415 - val_loss: 0.4042 - val_recall_7: 0.1794\n",
      "Epoch 7/100\n",
      "34489/34489 [==============================] - 2s 70us/sample - loss: 0.3873 - recall_7: 0.1548 - val_loss: 0.3954 - val_recall_7: 0.1294\n",
      "Epoch 8/100\n",
      "34489/34489 [==============================] - 2s 67us/sample - loss: 0.3809 - recall_7: 0.1715 - val_loss: 0.3821 - val_recall_7: 0.1606\n",
      "Epoch 9/100\n",
      "34489/34489 [==============================] - 3s 73us/sample - loss: 0.3756 - recall_7: 0.1811 - val_loss: 0.3992 - val_recall_7: 0.1469\n",
      "Epoch 10/100\n",
      "34489/34489 [==============================] - 3s 73us/sample - loss: 0.3692 - recall_7: 0.1971 - val_loss: 0.3753 - val_recall_7: 0.2200\n",
      "Epoch 11/100\n",
      "34489/34489 [==============================] - 3s 74us/sample - loss: 0.3650 - recall_7: 0.2113 - val_loss: 0.3692 - val_recall_7: 0.2419\n",
      "Epoch 12/100\n",
      "34489/34489 [==============================] - 2s 72us/sample - loss: 0.3598 - recall_7: 0.2257 - val_loss: 0.3909 - val_recall_7: 0.4200\n",
      "Epoch 13/100\n",
      "34489/34489 [==============================] - 2s 68us/sample - loss: 0.3542 - recall_7: 0.2404 - val_loss: 0.3594 - val_recall_7: 0.2450\n",
      "Epoch 14/100\n",
      "34489/34489 [==============================] - 3s 77us/sample - loss: 0.3503 - recall_7: 0.2487 - val_loss: 0.3512 - val_recall_7: 0.3125\n",
      "Epoch 15/100\n",
      "34489/34489 [==============================] - 3s 80us/sample - loss: 0.3451 - recall_7: 0.2657 - val_loss: 0.3441 - val_recall_7: 0.24253476 - recall_7: \n",
      "Epoch 16/100\n",
      "34489/34489 [==============================] - 2s 70us/sample - loss: 0.3407 - recall_7: 0.2750 - val_loss: 0.3518 - val_recall_7: 0.2237\n",
      "Epoch 17/100\n",
      "34489/34489 [==============================] - 2s 67us/sample - loss: 0.3363 - recall_7: 0.2977 - val_loss: 0.3438 - val_recall_7: 0.4006\n",
      "Epoch 18/100\n",
      "34489/34489 [==============================] - 2s 71us/sample - loss: 0.3321 - recall_7: 0.3229 - val_loss: 0.3419 - val_recall_7: 0.2325\n",
      "Epoch 19/100\n",
      "34489/34489 [==============================] - 2s 66us/sample - loss: 0.3291 - recall_7: 0.3426 - val_loss: 0.3315 - val_recall_7: 0.2481\n",
      "Epoch 20/100\n",
      "34489/34489 [==============================] - 2s 71us/sample - loss: 0.3249 - recall_7: 0.3450 - val_loss: 0.3753 - val_recall_7: 0.2344\n",
      "Epoch 21/100\n",
      "34489/34489 [==============================] - 3s 73us/sample - loss: 0.3242 - recall_7: 0.3654 - val_loss: 0.3184 - val_recall_7: 0.3344\n",
      "Epoch 22/100\n",
      "34489/34489 [==============================] - 2s 57us/sample - loss: 0.3210 - recall_7: 0.3759 - val_loss: 0.3201 - val_recall_7: 0.4069\n",
      "Epoch 23/100\n",
      "34489/34489 [==============================] - 2s 72us/sample - loss: 0.3183 - recall_7: 0.3919 - val_loss: 0.3161 - val_recall_7: 0.3619\n",
      "Epoch 24/100\n",
      "34489/34489 [==============================] - 2s 66us/sample - loss: 0.3147 - recall_7: 0.3965 - val_loss: 0.3252 - val_recall_7: 0.5225\n",
      "Epoch 25/100\n",
      "34489/34489 [==============================] - 2s 69us/sample - loss: 0.3108 - recall_7: 0.4154 - val_loss: 0.3133 - val_recall_7: 0.4269\n",
      "Epoch 26/100\n",
      "34489/34489 [==============================] - 2s 61us/sample - loss: 0.3085 - recall_7: 0.4235 - val_loss: 0.3119 - val_recall_7: 0.3438\n",
      "Epoch 27/100\n",
      "34489/34489 [==============================] - 2s 71us/sample - loss: 0.3071 - recall_7: 0.4336 - val_loss: 0.3992 - val_recall_7: 0.2037\n",
      "Epoch 28/100\n",
      "34489/34489 [==============================] - 2s 64us/sample - loss: 0.3055 - recall_7: 0.4349 - val_loss: 0.3052 - val_recall_7: 0.4444\n",
      "Epoch 29/100\n",
      "34489/34489 [==============================] - 2s 67us/sample - loss: 0.3035 - recall_7: 0.4520 - val_loss: 0.3025 - val_recall_7: 0.4087\n",
      "Epoch 30/100\n",
      "34489/34489 [==============================] - 2s 64us/sample - loss: 0.3014 - recall_7: 0.4615 - val_loss: 0.3054 - val_recall_7: 0.4681\n",
      "Epoch 31/100\n",
      "34489/34489 [==============================] - 2s 62us/sample - loss: 0.3017 - recall_7: 0.4584 - val_loss: 0.3186 - val_recall_7: 0.3594\n",
      "Epoch 32/100\n",
      "34489/34489 [==============================] - 2s 68us/sample - loss: 0.3012 - recall_7: 0.4692 - val_loss: 0.3185 - val_recall_7: 0.5462\n",
      "Epoch 33/100\n",
      "34489/34489 [==============================] - 2s 68us/sample - loss: 0.2942 - recall_7: 0.4796 - val_loss: 0.2992 - val_recall_7: 0.40252940 - re\n",
      "Epoch 34/100\n",
      "34489/34489 [==============================] - 2s 69us/sample - loss: 0.2914 - recall_7: 0.4869 - val_loss: 0.2931 - val_recall_7: 0.3806\n",
      "Epoch 35/100\n",
      "34489/34489 [==============================] - 2s 69us/sample - loss: 0.2913 - recall_7: 0.4941 - val_loss: 0.2966 - val_recall_7: 0.4319\n",
      "Epoch 36/100\n",
      "34489/34489 [==============================] - 2s 64us/sample - loss: 0.2891 - recall_7: 0.4974 - val_loss: 0.3005 - val_recall_7: 0.4119\n",
      "Epoch 37/100\n",
      "34489/34489 [==============================] - 2s 72us/sample - loss: 0.2922 - recall_7: 0.5105 - val_loss: 0.3043 - val_recall_7: 0.3556\n",
      "Epoch 38/100\n",
      "34489/34489 [==============================] - 3s 79us/sample - loss: 0.2891 - recall_7: 0.5042 - val_loss: 0.2952 - val_recall_7: 0.6206\n",
      "Epoch 39/100\n",
      "34489/34489 [==============================] - 2s 62us/sample - loss: 0.2896 - recall_7: 0.5093 - val_loss: 0.2920 - val_recall_7: 0.4688\n",
      "Epoch 40/100\n",
      "34489/34489 [==============================] - 3s 78us/sample - loss: 0.2886 - recall_7: 0.5136 - val_loss: 0.3009 - val_recall_7: 0.4681\n",
      "Epoch 41/100\n",
      "34489/34489 [==============================] - 3s 75us/sample - loss: 0.2885 - recall_7: 0.5091 - val_loss: 0.2983 - val_recall_7: 0.4181\n",
      "Epoch 42/100\n",
      "34489/34489 [==============================] - 3s 75us/sample - loss: 0.2830 - recall_7: 0.5269 - val_loss: 0.3151 - val_recall_7: 0.7200\n",
      "Epoch 43/100\n",
      "34489/34489 [==============================] - 2s 69us/sample - loss: 0.2845 - recall_7: 0.5278 - val_loss: 0.2901 - val_recall_7: 0.4781\n",
      "Epoch 44/100\n",
      "34489/34489 [==============================] - 3s 73us/sample - loss: 0.2851 - recall_7: 0.5243 - val_loss: 0.2913 - val_recall_7: 0.4650\n",
      "Epoch 45/100\n",
      "34489/34489 [==============================] - 2s 72us/sample - loss: 0.2810 - recall_7: 0.5358 - val_loss: 0.3038 - val_recall_7: 0.4744all_7: 0.\n",
      "Epoch 46/100\n",
      "34489/34489 [==============================] - 2s 70us/sample - loss: 0.2875 - recall_7: 0.5258 - val_loss: 0.2905 - val_recall_7: 0.5869\n",
      "Epoch 47/100\n",
      "34489/34489 [==============================] - 2s 71us/sample - loss: 0.2835 - recall_7: 0.5337 - val_loss: 0.2994 - val_recall_7: 0.3981\n",
      "Epoch 48/100\n",
      "34489/34489 [==============================] - 2s 67us/sample - loss: 0.2826 - recall_7: 0.5372 - val_loss: 0.3076 - val_recall_7: 0.3537\n",
      "Epoch 49/100\n",
      "34489/34489 [==============================] - 2s 70us/sample - loss: 0.2814 - recall_7: 0.5364 - val_loss: 0.3098 - val_recall_7: 0.3738\n",
      "Epoch 50/100\n",
      "34489/34489 [==============================] - 2s 62us/sample - loss: 0.2839 - recall_7: 0.5404 - val_loss: 0.2866 - val_recall_7: 0.4481\n",
      "Epoch 51/100\n",
      "34489/34489 [==============================] - 2s 61us/sample - loss: 0.2764 - recall_7: 0.5564 - val_loss: 0.3510 - val_recall_7: 0.3406\n",
      "Epoch 52/100\n",
      "34489/34489 [==============================] - 2s 58us/sample - loss: 0.2807 - recall_7: 0.5507 - val_loss: 0.2942 - val_recall_7: 0.6237\n",
      "Epoch 53/100\n",
      "34489/34489 [==============================] - 3s 73us/sample - loss: 0.2829 - recall_7: 0.5453 - val_loss: 0.2921 - val_recall_7: 0.3981\n",
      "Epoch 54/100\n",
      "34489/34489 [==============================] - 3s 73us/sample - loss: 0.2815 - recall_7: 0.5496 - val_loss: 0.2883 - val_recall_7: 0.6413\n",
      "Epoch 55/100\n",
      "34489/34489 [==============================] - 3s 79us/sample - loss: 0.2765 - recall_7: 0.5580 - val_loss: 0.3087 - val_recall_7: 0.4225\n",
      "Epoch 56/100\n",
      "34489/34489 [==============================] - 2s 71us/sample - loss: 0.2820 - recall_7: 0.5383 - val_loss: 0.2879 - val_recall_7: 0.5362\n",
      "Epoch 57/100\n",
      "34489/34489 [==============================] - 2s 68us/sample - loss: 0.2790 - recall_7: 0.5383 - val_loss: 0.3133 - val_recall_7: 0.7106\n",
      "Epoch 58/100\n",
      "34489/34489 [==============================] - 3s 73us/sample - loss: 0.2779 - recall_7: 0.5427 - val_loss: 0.2872 - val_recall_7: 0.5188\n",
      "Epoch 59/100\n",
      "34489/34489 [==============================] - 2s 70us/sample - loss: 0.2812 - recall_7: 0.5405 - val_loss: 0.2926 - val_recall_7: 0.5956\n",
      "Epoch 60/100\n",
      "34489/34489 [==============================] - 2s 68us/sample - loss: 0.2781 - recall_7: 0.5473 - val_loss: 0.3085 - val_recall_7: 0.4544\n",
      "Epoch 61/100\n",
      "34489/34489 [==============================] - 3s 73us/sample - loss: 0.2805 - recall_7: 0.5518 - val_loss: 0.3088 - val_recall_7: 0.6975\n",
      "Epoch 62/100\n",
      "34489/34489 [==============================] - 2s 67us/sample - loss: 0.2777 - recall_7: 0.5521 - val_loss: 0.3258 - val_recall_7: 0.3787\n",
      "Epoch 63/100\n",
      "34489/34489 [==============================] - 3s 73us/sample - loss: 0.2768 - recall_7: 0.5553 - val_loss: 0.2946 - val_recall_7: 0.4688\n",
      "Epoch 64/100\n",
      "34489/34489 [==============================] - 2s 68us/sample - loss: 0.2768 - recall_7: 0.5584 - val_loss: 0.2790 - val_recall_7: 0.5425\n",
      "Epoch 65/100\n",
      "34489/34489 [==============================] - 3s 73us/sample - loss: 0.2773 - recall_7: 0.5518 - val_loss: 0.2832 - val_recall_7: 0.4856\n",
      "Epoch 66/100\n",
      "34489/34489 [==============================] - 2s 68us/sample - loss: 0.2806 - recall_7: 0.5534 - val_loss: 0.2847 - val_recall_7: 0.5400\n",
      "Epoch 67/100\n",
      "34489/34489 [==============================] - 2s 68us/sample - loss: 0.2742 - recall_7: 0.5561 - val_loss: 0.2810 - val_recall_7: 0.5625\n",
      "Epoch 68/100\n",
      "34489/34489 [==============================] - 2s 70us/sample - loss: 0.2784 - recall_7: 0.5545 - val_loss: 0.3442 - val_recall_7: 0.8025\n",
      "Epoch 69/100\n",
      "34489/34489 [==============================] - 2s 72us/sample - loss: 0.2768 - recall_7: 0.5565 - val_loss: 0.2952 - val_recall_7: 0.6737\n",
      "Epoch 70/100\n",
      "34489/34489 [==============================] - 2s 68us/sample - loss: 0.2733 - recall_7: 0.5669 - val_loss: 0.2878 - val_recall_7: 0.6712\n",
      "Epoch 71/100\n",
      "34489/34489 [==============================] - 2s 67us/sample - loss: 0.2771 - recall_7: 0.5597 - val_loss: 0.2821 - val_recall_7: 0.5587\n",
      "Epoch 72/100\n",
      "34489/34489 [==============================] - 3s 74us/sample - loss: 0.2789 - recall_7: 0.5557 - val_loss: 0.2782 - val_recall_7: 0.5481\n",
      "Epoch 73/100\n",
      "34489/34489 [==============================] - 2s 72us/sample - loss: 0.2725 - recall_7: 0.5678 - val_loss: 0.2852 - val_recall_7: 0.5850\n",
      "Epoch 74/100\n",
      "34489/34489 [==============================] - 2s 67us/sample - loss: 0.2715 - recall_7: 0.5767 - val_loss: 0.3198 - val_recall_7: 0.3606\n",
      "Epoch 75/100\n",
      "34489/34489 [==============================] - 2s 72us/sample - loss: 0.2739 - recall_7: 0.5651 - val_loss: 0.2928 - val_recall_7: 0.6775\n",
      "Epoch 76/100\n",
      "34489/34489 [==============================] - 3s 79us/sample - loss: 0.2790 - recall_7: 0.5645 - val_loss: 0.2927 - val_recall_7: 0.4675\n",
      "Epoch 77/100\n",
      "34489/34489 [==============================] - 2s 66us/sample - loss: 0.2695 - recall_7: 0.5787 - val_loss: 0.2788 - val_recall_7: 0.4819\n",
      "Epoch 78/100\n",
      "34489/34489 [==============================] - 3s 73us/sample - loss: 0.2737 - recall_7: 0.5756 - val_loss: 0.2804 - val_recall_7: 0.4794\n",
      "Epoch 79/100\n",
      "34489/34489 [==============================] - 2s 62us/sample - loss: 0.2752 - recall_7: 0.5719 - val_loss: 0.2918 - val_recall_7: 0.5000\n",
      "Epoch 80/100\n",
      "34489/34489 [==============================] - 2s 71us/sample - loss: 0.2718 - recall_7: 0.5780 - val_loss: 0.2822 - val_recall_7: 0.5888\n",
      "Epoch 81/100\n",
      "34489/34489 [==============================] - 3s 73us/sample - loss: 0.2757 - recall_7: 0.5688 - val_loss: 0.2855 - val_recall_7: 0.6644\n",
      "Epoch 82/100\n",
      "34489/34489 [==============================] - 2s 68us/sample - loss: 0.2718 - recall_7: 0.5776 - val_loss: 0.2949 - val_recall_7: 0.4906\n",
      "Epoch 83/100\n",
      "34489/34489 [==============================] - 2s 70us/sample - loss: 0.2731 - recall_7: 0.5691 - val_loss: 0.2883 - val_recall_7: 0.5200\n",
      "Epoch 84/100\n",
      "34489/34489 [==============================] - 3s 73us/sample - loss: 0.2713 - recall_7: 0.5797 - val_loss: 0.2841 - val_recall_7: 0.4412\n",
      "Epoch 85/100\n",
      "34489/34489 [==============================] - 3s 80us/sample - loss: 0.2756 - recall_7: 0.5716 - val_loss: 0.3076 - val_recall_7: 0.4419\n",
      "Epoch 86/100\n",
      "34489/34489 [==============================] - 2s 72us/sample - loss: 0.2706 - recall_7: 0.5862 - val_loss: 0.2784 - val_recall_7: 0.5706\n",
      "Epoch 87/100\n",
      "34489/34489 [==============================] - 2s 64us/sample - loss: 0.2717 - recall_7: 0.5811 - val_loss: 0.2768 - val_recall_7: 0.4900\n",
      "Epoch 88/100\n",
      "34489/34489 [==============================] - 2s 65us/sample - loss: 0.2680 - recall_7: 0.5814 - val_loss: 0.2990 - val_recall_7: 0.5369\n",
      "Epoch 89/100\n",
      "34489/34489 [==============================] - 2s 64us/sample - loss: 0.2701 - recall_7: 0.5803 - val_loss: 0.2981 - val_recall_7: 0.7194\n",
      "Epoch 90/100\n",
      "34489/34489 [==============================] - 2s 67us/sample - loss: 0.2683 - recall_7: 0.5826 - val_loss: 0.2812 - val_recall_7: 0.6725\n",
      "Epoch 91/100\n",
      "34489/34489 [==============================] - 2s 71us/sample - loss: 0.2714 - recall_7: 0.5781 - val_loss: 0.3086 - val_recall_7: 0.7919\n",
      "Epoch 92/100\n",
      "34489/34489 [==============================] - 3s 78us/sample - loss: 0.2684 - recall_7: 0.5865 - val_loss: 0.2886 - val_recall_7: 0.6800\n",
      "Epoch 93/100\n",
      "34489/34489 [==============================] - 2s 66us/sample - loss: 0.2679 - recall_7: 0.5819 - val_loss: 0.2910 - val_recall_7: 0.4169\n",
      "Epoch 94/100\n",
      "34489/34489 [==============================] - 3s 78us/sample - loss: 0.2707 - recall_7: 0.5732 - val_loss: 0.2745 - val_recall_7: 0.6419\n",
      "Epoch 95/100\n",
      "34489/34489 [==============================] - 2s 62us/sample - loss: 0.2681 - recall_7: 0.5772 - val_loss: 0.3244 - val_recall_7: 0.8206\n",
      "Epoch 96/100\n",
      "34489/34489 [==============================] - 2s 72us/sample - loss: 0.2716 - recall_7: 0.5849 - val_loss: 0.3345 - val_recall_7: 0.8131\n",
      "Epoch 97/100\n",
      "34489/34489 [==============================] - 3s 73us/sample - loss: 0.2669 - recall_7: 0.5878 - val_loss: 0.2904 - val_recall_7: 0.4875\n",
      "Epoch 98/100\n",
      "34489/34489 [==============================] - 2s 71us/sample - loss: 0.2666 - recall_7: 0.5794 - val_loss: 0.2724 - val_recall_7: 0.5919\n",
      "Epoch 99/100\n",
      "34489/34489 [==============================] - 2s 69us/sample - loss: 0.2670 - recall_7: 0.5876 - val_loss: 0.2924 - val_recall_7: 0.5069\n",
      "Epoch 100/100\n",
      "34489/34489 [==============================] - 2s 70us/sample - loss: 0.2691 - recall_7: 0.5870 - val_loss: 0.2784 - val_recall_7: 0.5475\n",
      "CPU times: user 5min 29s, sys: 34.5 s, total: 6min 3s\n",
      "Wall time: 4min\n"
     ]
    }
   ],
   "source": [
    "%%time\n",
    "relu_model_history = relu_model.fit(X_train_proc_arr, \n",
    "                                    y_train, \n",
    "                                    epochs=100,\n",
    "                                    batch_size=best_params['best_batch_size'],\n",
    "                                    validation_split=0.2, shuffle=True)"
   ]
  },
  {
   "cell_type": "markdown",
   "metadata": {},
   "source": [
    "#### Predictions"
   ]
  },
  {
   "cell_type": "code",
   "execution_count": 150,
   "metadata": {},
   "outputs": [],
   "source": [
    "train_relu_model_pred = relu_model.predict_classes(X_train_proc_arr)\n",
    "val_relu_model_pred = relu_model.predict_classes(X_val_proc_arr)"
   ]
  },
  {
   "cell_type": "markdown",
   "metadata": {},
   "source": [
    "#### Getting evaluation metrics and evaluating model performance"
   ]
  },
  {
   "cell_type": "code",
   "execution_count": 151,
   "metadata": {},
   "outputs": [
    {
     "name": "stdout",
     "output_type": "stream",
     "text": [
      "Train Accuracy:  0.8886852848394878\n",
      "Train Recall:  0.5673624288425048\n",
      "Train Precision:  0.7648362892223738\n",
      "-----------------------\n",
      "Val Accuracy:  0.8849380310656492\n",
      "Val Recall:  0.5398465171192444\n",
      "Val Precision:  0.763355592654424\n"
     ]
    }
   ],
   "source": [
    "### Calculate Accuracy, True Positive Rate and True Negative Rates\n",
    "\n",
    "accuracy_score_train = accuracy_score(y_train, train_relu_model_pred)\n",
    "accuracy_score_val = accuracy_score(y_val, val_relu_model_pred)\n",
    "\n",
    "recall_score_train = recall_score(y_train, train_relu_model_pred)\n",
    "recall_score_val = recall_score(y_val, val_relu_model_pred)\n",
    "\n",
    "precision_score_train = precision_score(y_train, train_relu_model_pred)\n",
    "precision_score_val = precision_score(y_val, val_relu_model_pred)\n",
    "\n",
    "\n",
    "print(\"Train Accuracy: \",accuracy_score_train)\n",
    "print(\"Train Recall: \",recall_score_train)\n",
    "print(\"Train Precision: \",precision_score_train)\n",
    "\n",
    "print(\"-----------------------\")\n",
    "\n",
    "print(\"Val Accuracy: \",accuracy_score_val)\n",
    "print(\"Val Recall: \",recall_score_val)\n",
    "print(\"Val Precision: \",precision_score_val)"
   ]
  },
  {
   "cell_type": "code",
   "execution_count": 152,
   "metadata": {},
   "outputs": [],
   "source": [
    "best_params['best_h_activation']='relu'\n",
    "best_params['best_kernel_init']='glorot_normal'\n",
    "best_params['best_optimizer']='adam'"
   ]
  },
  {
   "cell_type": "markdown",
   "metadata": {},
   "source": [
    "#### Model with Dropout"
   ]
  },
  {
   "cell_type": "code",
   "execution_count": 153,
   "metadata": {},
   "outputs": [],
   "source": [
    "from tensorflow.keras.layers import Dense, Dropout, BatchNormalization"
   ]
  },
  {
   "cell_type": "code",
   "execution_count": 154,
   "metadata": {},
   "outputs": [],
   "source": [
    "np.random.seed(123)\n",
    "tf.random.set_seed(123)"
   ]
  },
  {
   "cell_type": "code",
   "execution_count": 155,
   "metadata": {},
   "outputs": [],
   "source": [
    "dropout_model = Sequential()\n",
    "\n",
    "dropout_model.add(Dense(25, \n",
    "                       input_shape=(X_train_proc_arr.shape[1], ), \n",
    "                       activation='relu', \n",
    "                       kernel_initializer=\"glorot_normal\"))\n",
    "\n",
    "dropout_model.add(Dropout(0.5))\n",
    "\n",
    "dropout_model.add(Dense(15, \n",
    "                        activation='relu', \n",
    "                        kernel_initializer=\"glorot_normal\"))\n",
    "\n",
    "dropout_model.add(Dropout(0.5))\n",
    "\n",
    "dropout_model.add(Dense(1, \n",
    "                        activation='sigmoid',\n",
    "                        kernel_initializer=\"glorot_normal\"))"
   ]
  },
  {
   "cell_type": "code",
   "execution_count": 156,
   "metadata": {},
   "outputs": [
    {
     "name": "stdout",
     "output_type": "stream",
     "text": [
      "Model: \"sequential_25\"\n",
      "_________________________________________________________________\n",
      "Layer (type)                 Output Shape              Param #   \n",
      "=================================================================\n",
      "dense_72 (Dense)             (None, 25)                700       \n",
      "_________________________________________________________________\n",
      "dropout (Dropout)            (None, 25)                0         \n",
      "_________________________________________________________________\n",
      "dense_73 (Dense)             (None, 15)                390       \n",
      "_________________________________________________________________\n",
      "dropout_1 (Dropout)          (None, 15)                0         \n",
      "_________________________________________________________________\n",
      "dense_74 (Dense)             (None, 1)                 16        \n",
      "=================================================================\n",
      "Total params: 1,106\n",
      "Trainable params: 1,106\n",
      "Non-trainable params: 0\n",
      "_________________________________________________________________\n"
     ]
    }
   ],
   "source": [
    "dropout_model.summary()"
   ]
  },
  {
   "cell_type": "code",
   "execution_count": 157,
   "metadata": {},
   "outputs": [],
   "source": [
    "dropout_model.compile(loss='binary_crossentropy', \n",
    "                      optimizer='adam', \n",
    "                      metrics=[tf.keras.metrics.Recall()])"
   ]
  },
  {
   "cell_type": "code",
   "execution_count": 158,
   "metadata": {
    "scrolled": true
   },
   "outputs": [
    {
     "name": "stdout",
     "output_type": "stream",
     "text": [
      "Train on 34489 samples, validate on 8623 samples\n",
      "Epoch 1/100\n",
      "34489/34489 [==============================] - 3s 82us/sample - loss: 0.5133 - recall_8: 0.0325 - val_loss: 0.4648 - val_recall_8: 0.0031\n",
      "Epoch 2/100\n",
      "34489/34489 [==============================] - 2s 65us/sample - loss: 0.4721 - recall_8: 0.0092 - val_loss: 0.4567 - val_recall_8: 0.0088\n",
      "Epoch 3/100\n",
      "34489/34489 [==============================] - 2s 64us/sample - loss: 0.4600 - recall_8: 0.0114 - val_loss: 0.4524 - val_recall_8: 0.0056\n",
      "Epoch 4/100\n",
      "34489/34489 [==============================] - 2s 64us/sample - loss: 0.4558 - recall_8: 0.0125 - val_loss: 0.4496 - val_recall_8: 0.0037\n",
      "Epoch 5/100\n",
      "34489/34489 [==============================] - 2s 70us/sample - loss: 0.4496 - recall_8: 0.0143 - val_loss: 0.4453 - val_recall_8: 0.0088\n",
      "Epoch 6/100\n",
      "34489/34489 [==============================] - 2s 59us/sample - loss: 0.4431 - recall_8: 0.0209 - val_loss: 0.4388 - val_recall_8: 0.0113\n",
      "Epoch 7/100\n",
      "34489/34489 [==============================] - 2s 71us/sample - loss: 0.4431 - recall_8: 0.0233 - val_loss: 0.4359 - val_recall_8: 0.0088\n",
      "Epoch 8/100\n",
      "34489/34489 [==============================] - 2s 65us/sample - loss: 0.4367 - recall_8: 0.0200 - val_loss: 0.4358 - val_recall_8: 0.0056\n",
      "Epoch 9/100\n",
      "34489/34489 [==============================] - 2s 65us/sample - loss: 0.4295 - recall_8: 0.0282 - val_loss: 0.4295 - val_recall_8: 0.0188\n",
      "Epoch 10/100\n",
      "34489/34489 [==============================] - 3s 73us/sample - loss: 0.4284 - recall_8: 0.0300 - val_loss: 0.4251 - val_recall_8: 0.0100\n",
      "Epoch 11/100\n",
      "34489/34489 [==============================] - 2s 66us/sample - loss: 0.4269 - recall_8: 0.0365 - val_loss: 0.4215 - val_recall_8: 0.0262\n",
      "Epoch 12/100\n",
      "34489/34489 [==============================] - 2s 64us/sample - loss: 0.4275 - recall_8: 0.0466 - val_loss: 0.4126 - val_recall_8: 0.0319\n",
      "Epoch 13/100\n",
      "34489/34489 [==============================] - 2s 62us/sample - loss: 0.4185 - recall_8: 0.0566 - val_loss: 0.4127 - val_recall_8: 0.0331\n",
      "Epoch 14/100\n",
      "34489/34489 [==============================] - 2s 61us/sample - loss: 0.4199 - recall_8: 0.0620 - val_loss: 0.4101 - val_recall_8: 0.0375\n",
      "Epoch 15/100\n",
      "34489/34489 [==============================] - 2s 65us/sample - loss: 0.4135 - recall_8: 0.0768 - val_loss: 0.4150 - val_recall_8: 0.0369\n",
      "Epoch 16/100\n",
      "34489/34489 [==============================] - 2s 72us/sample - loss: 0.4164 - recall_8: 0.0847 - val_loss: 0.4076 - val_recall_8: 0.0450\n",
      "Epoch 17/100\n",
      "34489/34489 [==============================] - 2s 64us/sample - loss: 0.4064 - recall_8: 0.0960 - val_loss: 0.4020 - val_recall_8: 0.0619\n",
      "Epoch 18/100\n",
      "34489/34489 [==============================] - 2s 60us/sample - loss: 0.4120 - recall_8: 0.1096 - val_loss: 0.3983 - val_recall_8: 0.06564\n",
      "Epoch 19/100\n",
      "34489/34489 [==============================] - 2s 60us/sample - loss: 0.4065 - recall_8: 0.1197 - val_loss: 0.4165 - val_recall_8: 0.0688\n",
      "Epoch 20/100\n",
      "34489/34489 [==============================] - 2s 68us/sample - loss: 0.4138 - recall_8: 0.1177 - val_loss: 0.4073 - val_recall_8: 0.0494\n",
      "Epoch 21/100\n",
      "34489/34489 [==============================] - 2s 61us/sample - loss: 0.4011 - recall_8: 0.1232 - val_loss: 0.3891 - val_recall_8: 0.0831\n",
      "Epoch 22/100\n",
      "34489/34489 [==============================] - 2s 68us/sample - loss: 0.4008 - recall_8: 0.1315 - val_loss: 0.3923 - val_recall_8: 0.0812\n",
      "Epoch 23/100\n",
      "34489/34489 [==============================] - 2s 65us/sample - loss: 0.3970 - recall_8: 0.1372 - val_loss: 0.3819 - val_recall_8: 0.0975\n",
      "Epoch 24/100\n",
      "34489/34489 [==============================] - 2s 65us/sample - loss: 0.4029 - recall_8: 0.1454 - val_loss: 0.3827 - val_recall_8: 0.1063\n",
      "Epoch 25/100\n",
      "34489/34489 [==============================] - 2s 68us/sample - loss: 0.3978 - recall_8: 0.1583 - val_loss: 0.3998 - val_recall_8: 0.0881\n",
      "Epoch 26/100\n",
      "34489/34489 [==============================] - 2s 66us/sample - loss: 0.3980 - recall_8: 0.1657 - val_loss: 0.3801 - val_recall_8: 0.0938\n",
      "Epoch 27/100\n",
      "34489/34489 [==============================] - 2s 65us/sample - loss: 0.3946 - recall_8: 0.1640 - val_loss: 0.3909 - val_recall_8: 0.1194\n",
      "Epoch 28/100\n",
      "34489/34489 [==============================] - 2s 68us/sample - loss: 0.3936 - recall_8: 0.1634 - val_loss: 0.3778 - val_recall_8: 0.1519\n",
      "Epoch 29/100\n",
      "34489/34489 [==============================] - 2s 60us/sample - loss: 0.3975 - recall_8: 0.1646 - val_loss: 0.3770 - val_recall_8: 0.0975\n",
      "Epoch 30/100\n",
      "34489/34489 [==============================] - 2s 58us/sample - loss: 0.3985 - recall_8: 0.1470 - val_loss: 0.3798 - val_recall_8: 0.1013\n",
      "Epoch 31/100\n",
      "34489/34489 [==============================] - 2s 72us/sample - loss: 0.3938 - recall_8: 0.1584 - val_loss: 0.3770 - val_recall_8: 0.0900\n",
      "Epoch 32/100\n",
      "34489/34489 [==============================] - 3s 75us/sample - loss: 0.3894 - recall_8: 0.1732 - val_loss: 0.3721 - val_recall_8: 0.2206\n",
      "Epoch 33/100\n",
      "34489/34489 [==============================] - 2s 64us/sample - loss: 0.3906 - recall_8: 0.1957 - val_loss: 0.3704 - val_recall_8: 0.1863\n",
      "Epoch 34/100\n",
      "34489/34489 [==============================] - 2s 69us/sample - loss: 0.3863 - recall_8: 0.1960 - val_loss: 0.3751 - val_recall_8: 0.1412\n",
      "Epoch 35/100\n",
      "34489/34489 [==============================] - 3s 77us/sample - loss: 0.3867 - recall_8: 0.1840 - val_loss: 0.3761 - val_recall_8: 0.1169\n",
      "Epoch 36/100\n",
      "34489/34489 [==============================] - 2s 62us/sample - loss: 0.3932 - recall_8: 0.1772 - val_loss: 0.3742 - val_recall_8: 0.1206\n",
      "Epoch 37/100\n",
      "34489/34489 [==============================] - 2s 67us/sample - loss: 0.3904 - recall_8: 0.1898 - val_loss: 0.3588 - val_recall_8: 0.1650\n",
      "Epoch 38/100\n",
      "34489/34489 [==============================] - 2s 71us/sample - loss: 0.3911 - recall_8: 0.1981 - val_loss: 0.3726 - val_recall_8: 0.1600\n",
      "Epoch 39/100\n",
      "34489/34489 [==============================] - 2s 63us/sample - loss: 0.3819 - recall_8: 0.1987 - val_loss: 0.3606 - val_recall_8: 0.2456\n",
      "Epoch 40/100\n",
      "34489/34489 [==============================] - 2s 59us/sample - loss: 0.3891 - recall_8: 0.1930 - val_loss: 0.3646 - val_recall_8: 0.1350\n",
      "Epoch 41/100\n",
      "34489/34489 [==============================] - 2s 55us/sample - loss: 0.3976 - recall_8: 0.1787 - val_loss: 0.3574 - val_recall_8: 0.1275\n",
      "Epoch 42/100\n",
      "34489/34489 [==============================] - 2s 72us/sample - loss: 0.3812 - recall_8: 0.2024 - val_loss: 0.3509 - val_recall_8: 0.2119\n",
      "Epoch 43/100\n",
      "34489/34489 [==============================] - 3s 86us/sample - loss: 0.3856 - recall_8: 0.1897 - val_loss: 0.3533 - val_recall_8: 0.1494\n",
      "Epoch 44/100\n",
      "34489/34489 [==============================] - 3s 78us/sample - loss: 0.3803 - recall_8: 0.2089 - val_loss: 0.3526 - val_recall_8: 0.1525\n",
      "Epoch 45/100\n",
      "34489/34489 [==============================] - 2s 64us/sample - loss: 0.3879 - recall_8: 0.1826 - val_loss: 0.3512 - val_recall_8: 0.1419\n",
      "Epoch 46/100\n",
      "34489/34489 [==============================] - 2s 67us/sample - loss: 0.3866 - recall_8: 0.1951 - val_loss: 0.3515 - val_recall_8: 0.2256\n",
      "Epoch 47/100\n",
      "34489/34489 [==============================] - 2s 65us/sample - loss: 0.3911 - recall_8: 0.1984 - val_loss: 0.3521 - val_recall_8: 0.1238\n",
      "Epoch 48/100\n",
      "34489/34489 [==============================] - 2s 57us/sample - loss: 0.3762 - recall_8: 0.2140 - val_loss: 0.3593 - val_recall_8: 0.2144\n",
      "Epoch 49/100\n",
      "34489/34489 [==============================] - 2s 62us/sample - loss: 0.3815 - recall_8: 0.2062 - val_loss: 0.3686 - val_recall_8: 0.1637\n",
      "Epoch 50/100\n",
      "34489/34489 [==============================] - 2s 57us/sample - loss: 0.3843 - recall_8: 0.2111 - val_loss: 0.3581 - val_recall_8: 0.1513\n",
      "Epoch 51/100\n",
      "34489/34489 [==============================] - 2s 61us/sample - loss: 0.3828 - recall_8: 0.2016 - val_loss: 0.3437 - val_recall_8: 0.2150\n",
      "Epoch 52/100\n",
      "34489/34489 [==============================] - 2s 70us/sample - loss: 0.3830 - recall_8: 0.2187 - val_loss: 0.3544 - val_recall_8: 0.1275\n",
      "Epoch 53/100\n",
      "34489/34489 [==============================] - 2s 71us/sample - loss: 0.3927 - recall_8: 0.1816 - val_loss: 0.3507 - val_recall_8: 0.0938\n",
      "Epoch 54/100\n",
      "34489/34489 [==============================] - 2s 61us/sample - loss: 0.3779 - recall_8: 0.2124 - val_loss: 0.3499 - val_recall_8: 0.2062\n",
      "Epoch 55/100\n",
      "34489/34489 [==============================] - 2s 62us/sample - loss: 0.3800 - recall_8: 0.2140 - val_loss: 0.3474 - val_recall_8: 0.1350\n",
      "Epoch 56/100\n",
      "34489/34489 [==============================] - 2s 64us/sample - loss: 0.3863 - recall_8: 0.1946 - val_loss: 0.3477 - val_recall_8: 0.1350\n",
      "Epoch 57/100\n",
      "34489/34489 [==============================] - 2s 70us/sample - loss: 0.3902 - recall_8: 0.2056 - val_loss: 0.3458 - val_recall_8: 0.1769\n",
      "Epoch 58/100\n",
      "34489/34489 [==============================] - 2s 67us/sample - loss: 0.3790 - recall_8: 0.2193 - val_loss: 0.3504 - val_recall_8: 0.2113\n",
      "Epoch 59/100\n",
      "34489/34489 [==============================] - 2s 66us/sample - loss: 0.3799 - recall_8: 0.2157 - val_loss: 0.3394 - val_recall_8: 0.1756s - loss: 0.3801 - recall_8\n",
      "Epoch 60/100\n",
      "34489/34489 [==============================] - 2s 60us/sample - loss: 0.3803 - recall_8: 0.2187 - val_loss: 0.3603 - val_recall_8: 0.1325\n",
      "Epoch 61/100\n",
      "34489/34489 [==============================] - 2s 57us/sample - loss: 0.3838 - recall_8: 0.1978 - val_loss: 0.3597 - val_recall_8: 0.1338loss: 0.3836 - recall_8: 0.19\n",
      "Epoch 62/100\n",
      "34489/34489 [==============================] - 2s 60us/sample - loss: 0.3840 - recall_8: 0.1862 - val_loss: 0.3761 - val_recall_8: 0.0938\n",
      "Epoch 63/100\n",
      "34489/34489 [==============================] - 2s 52us/sample - loss: 0.3899 - recall_8: 0.1818 - val_loss: 0.3565 - val_recall_8: 0.1056\n",
      "Epoch 64/100\n",
      "34489/34489 [==============================] - 2s 69us/sample - loss: 0.3825 - recall_8: 0.1826 - val_loss: 0.3544 - val_recall_8: 0.1737\n",
      "Epoch 65/100\n",
      "34489/34489 [==============================] - 2s 66us/sample - loss: 0.3791 - recall_8: 0.2230 - val_loss: 0.3437 - val_recall_8: 0.2412\n",
      "Epoch 66/100\n",
      "34489/34489 [==============================] - 2s 62us/sample - loss: 0.3803 - recall_8: 0.2401 - val_loss: 0.3340 - val_recall_8: 0.3462\n",
      "Epoch 67/100\n",
      "34489/34489 [==============================] - 2s 60us/sample - loss: 0.3742 - recall_8: 0.2558 - val_loss: 0.3589 - val_recall_8: 0.2381\n",
      "Epoch 68/100\n",
      "34489/34489 [==============================] - 2s 68us/sample - loss: 0.3751 - recall_8: 0.2549 - val_loss: 0.3388 - val_recall_8: 0.2494\n",
      "Epoch 69/100\n",
      "34489/34489 [==============================] - 2s 72us/sample - loss: 0.3740 - recall_8: 0.2274 - val_loss: 0.3436 - val_recall_8: 0.4338\n",
      "Epoch 70/100\n",
      "34489/34489 [==============================] - 2s 71us/sample - loss: 0.3835 - recall_8: 0.2128 - val_loss: 0.3438 - val_recall_8: 0.2087\n",
      "Epoch 71/100\n",
      "34489/34489 [==============================] - 2s 65us/sample - loss: 0.3812 - recall_8: 0.2178 - val_loss: 0.3373 - val_recall_8: 0.2181\n",
      "Epoch 72/100\n",
      "34489/34489 [==============================] - 2s 63us/sample - loss: 0.3757 - recall_8: 0.2496 - val_loss: 0.3473 - val_recall_8: 0.2144\n",
      "Epoch 73/100\n",
      "34489/34489 [==============================] - 2s 59us/sample - loss: 0.3794 - recall_8: 0.2259 - val_loss: 0.3622 - val_recall_8: 0.1181\n",
      "Epoch 74/100\n",
      "34489/34489 [==============================] - 2s 68us/sample - loss: 0.3801 - recall_8: 0.2211 - val_loss: 0.3497 - val_recall_8: 0.1594\n",
      "Epoch 75/100\n",
      "34489/34489 [==============================] - 3s 73us/sample - loss: 0.3754 - recall_8: 0.2227 - val_loss: 0.3518 - val_recall_8: 0.3013\n",
      "Epoch 76/100\n",
      "34489/34489 [==============================] - 2s 67us/sample - loss: 0.3782 - recall_8: 0.2206 - val_loss: 0.3435 - val_recall_8: 0.1769\n",
      "Epoch 77/100\n",
      "34489/34489 [==============================] - 2s 64us/sample - loss: 0.3720 - recall_8: 0.2373 - val_loss: 0.3339 - val_recall_8: 0.1919\n",
      "Epoch 78/100\n",
      "34489/34489 [==============================] - 2s 60us/sample - loss: 0.3755 - recall_8: 0.2462 - val_loss: 0.3764 - val_recall_8: 0.1513\n",
      "Epoch 79/100\n",
      "34489/34489 [==============================] - 2s 71us/sample - loss: 0.3781 - recall_8: 0.2297 - val_loss: 0.3255 - val_recall_8: 0.2981\n",
      "Epoch 80/100\n",
      "34489/34489 [==============================] - 2s 70us/sample - loss: 0.3774 - recall_8: 0.2148 - val_loss: 0.3412 - val_recall_8: 0.1681\n",
      "Epoch 81/100\n",
      "34489/34489 [==============================] - 2s 65us/sample - loss: 0.3775 - recall_8: 0.2238 - val_loss: 0.3354 - val_recall_8: 0.2881\n",
      "Epoch 82/100\n",
      "34489/34489 [==============================] - 2s 58us/sample - loss: 0.3724 - recall_8: 0.2435 - val_loss: 0.3302 - val_recall_8: 0.2169\n",
      "Epoch 83/100\n",
      "34489/34489 [==============================] - 2s 62us/sample - loss: 0.3743 - recall_8: 0.2444 - val_loss: 0.3500 - val_recall_8: 0.1675\n",
      "Epoch 84/100\n",
      "34489/34489 [==============================] - 2s 68us/sample - loss: 0.3684 - recall_8: 0.2473 - val_loss: 0.3453 - val_recall_8: 0.1631\n",
      "Epoch 85/100\n",
      "34489/34489 [==============================] - 2s 61us/sample - loss: 0.3695 - recall_8: 0.2436 - val_loss: 0.3518 - val_recall_8: 0.2819\n",
      "Epoch 86/100\n",
      "34489/34489 [==============================] - 2s 57us/sample - loss: 0.3753 - recall_8: 0.2482 - val_loss: 0.3301 - val_recall_8: 0.2619\n",
      "Epoch 87/100\n",
      "34489/34489 [==============================] - 2s 58us/sample - loss: 0.3787 - recall_8: 0.2457 - val_loss: 0.3265 - val_recall_8: 0.2756\n",
      "Epoch 88/100\n",
      "34489/34489 [==============================] - 2s 61us/sample - loss: 0.3757 - recall_8: 0.2311 - val_loss: 0.3418 - val_recall_8: 0.1600\n",
      "Epoch 89/100\n",
      "34489/34489 [==============================] - 2s 61us/sample - loss: 0.3706 - recall_8: 0.2433 - val_loss: 0.3298 - val_recall_8: 0.2450\n",
      "Epoch 90/100\n",
      "34489/34489 [==============================] - 2s 63us/sample - loss: 0.3758 - recall_8: 0.2311 - val_loss: 0.3615 - val_recall_8: 0.1450\n",
      "Epoch 91/100\n",
      "34489/34489 [==============================] - 2s 60us/sample - loss: 0.3742 - recall_8: 0.2352 - val_loss: 0.3319 - val_recall_8: 0.1894\n",
      "Epoch 92/100\n",
      "34489/34489 [==============================] - 2s 66us/sample - loss: 0.3798 - recall_8: 0.2328 - val_loss: 0.3310 - val_recall_8: 0.2206\n",
      "Epoch 93/100\n",
      "34489/34489 [==============================] - 3s 76us/sample - loss: 0.3739 - recall_8: 0.2325 - val_loss: 0.3666 - val_recall_8: 0.1675\n",
      "Epoch 94/100\n",
      "34489/34489 [==============================] - 3s 80us/sample - loss: 0.3720 - recall_8: 0.2303 - val_loss: 0.3390 - val_recall_8: 0.2013\n",
      "Epoch 95/100\n",
      "34489/34489 [==============================] - 2s 66us/sample - loss: 0.3730 - recall_8: 0.2527 - val_loss: 0.3539 - val_recall_8: 0.1825\n",
      "Epoch 96/100\n",
      "34489/34489 [==============================] - 2s 69us/sample - loss: 0.3744 - recall_8: 0.2368 - val_loss: 0.3420 - val_recall_8: 0.1825\n",
      "Epoch 97/100\n",
      "34489/34489 [==============================] - 2s 69us/sample - loss: 0.3734 - recall_8: 0.2390 - val_loss: 0.3489 - val_recall_8: 0.1887\n",
      "Epoch 98/100\n",
      "34489/34489 [==============================] - 2s 63us/sample - loss: 0.3795 - recall_8: 0.2485 - val_loss: 0.3328 - val_recall_8: 0.2044\n",
      "Epoch 99/100\n",
      "34489/34489 [==============================] - 2s 63us/sample - loss: 0.3745 - recall_8: 0.2443 - val_loss: 0.3422 - val_recall_8: 0.3338\n",
      "Epoch 100/100\n",
      "34489/34489 [==============================] - 2s 67us/sample - loss: 0.3684 - recall_8: 0.2696 - val_loss: 0.3264 - val_recall_8: 0.2344\n",
      "CPU times: user 5min 17s, sys: 33.2 s, total: 5min 50s\n",
      "Wall time: 3min 46s\n"
     ]
    }
   ],
   "source": [
    "%%time\n",
    "dropout_model_history = dropout_model.fit(X_train_proc_arr, \n",
    "                                          y_train, \n",
    "                                          epochs=100,\n",
    "                                          batch_size=best_params['best_batch_size'], \n",
    "                                          validation_split=0.2, \n",
    "                                          shuffle=True)"
   ]
  },
  {
   "cell_type": "markdown",
   "metadata": {},
   "source": [
    "##### Plot"
   ]
  },
  {
   "cell_type": "code",
   "execution_count": 159,
   "metadata": {},
   "outputs": [
    {
     "name": "stdout",
     "output_type": "stream",
     "text": [
      "dict_keys(['loss', 'recall_8', 'val_loss', 'val_recall_8'])\n"
     ]
    }
   ],
   "source": [
    "print(dropout_model.history.history.keys())"
   ]
  },
  {
   "cell_type": "code",
   "execution_count": 160,
   "metadata": {},
   "outputs": [
    {
     "data": {
      "image/png": "[encoded data removed]",
      "text/plain": [
       "<Figure size 432x288 with 1 Axes>"
      ]
     },
     "metadata": {
      "needs_background": "light"
     },
     "output_type": "display_data"
    }
   ],
   "source": [
    "plt.plot(dropout_model.history.history['recall_8'])\n",
    "plt.plot(dropout_model.history.history['val_recall_8'])\n",
    "plt.title('Recall Plot')\n",
    "plt.ylabel('Recall')\n",
    "plt.xlabel('Epoch')\n",
    "plt.legend(['Train', 'Validation'])\n",
    "plt.show()"
   ]
  },
  {
   "cell_type": "code",
   "execution_count": 161,
   "metadata": {},
   "outputs": [
    {
     "data": {
      "image/png": "[encoded data removed]",
      "text/plain": [
       "<Figure size 432x288 with 1 Axes>"
      ]
     },
     "metadata": {
      "needs_background": "light"
     },
     "output_type": "display_data"
    }
   ],
   "source": [
    "plt.plot(dropout_model.history.history['loss'])\n",
    "plt.plot(dropout_model.history.history['val_loss'])\n",
    "plt.title('Loss Function Plot')\n",
    "plt.ylabel('Loss')\n",
    "plt.xlabel('Epoch')\n",
    "plt.legend(['Train', 'Validation'])\n",
    "plt.show()"
   ]
  },
  {
   "cell_type": "markdown",
   "metadata": {},
   "source": [
    "#### Predictions"
   ]
  },
  {
   "cell_type": "code",
   "execution_count": 162,
   "metadata": {},
   "outputs": [],
   "source": [
    "train_dropout_model_pred = dropout_model.predict_classes(X_train_proc_arr)\n",
    "val_dropout_model_pred = dropout_model.predict_classes(X_val_proc_arr)"
   ]
  },
  {
   "cell_type": "markdown",
   "metadata": {},
   "source": [
    "#### Getting evaluation metrics and evaluating model performance"
   ]
  },
  {
   "cell_type": "code",
   "execution_count": 163,
   "metadata": {},
   "outputs": [
    {
     "name": "stdout",
     "output_type": "stream",
     "text": [
      "Train Accuracy:  0.8520365559473001\n",
      "Train Recall:  0.25072738772928527\n",
      "Train Precision:  0.8129614438063987\n",
      "-------------------------------------\n",
      "Val Accuracy:  0.8507874654976457\n",
      "Val Recall:  0.24675324675324675\n",
      "Val Precision:  0.803073967339097\n"
     ]
    }
   ],
   "source": [
    "### Calculate Accuracy, True Positive Rate and True Negative Rates\n",
    "\n",
    "accuracy_score_train = accuracy_score(y_train, train_dropout_model_pred)\n",
    "accuracy_score_val = accuracy_score(y_val, val_dropout_model_pred)\n",
    "\n",
    "recall_score_train = recall_score(y_train, train_dropout_model_pred)\n",
    "recall_score_val = recall_score(y_val, val_dropout_model_pred)\n",
    "\n",
    "precision_score_train = precision_score(y_train, train_dropout_model_pred)\n",
    "precision_score_val = precision_score(y_val, val_dropout_model_pred)\n",
    "\n",
    "\n",
    "print(\"Train Accuracy: \",accuracy_score_train)\n",
    "print(\"Train Recall: \",recall_score_train)\n",
    "print(\"Train Precision: \",precision_score_train)\n",
    "\n",
    "print(\"-------------------------------------\")\n",
    "\n",
    "print(\"Val Accuracy: \",accuracy_score_val)\n",
    "print(\"Val Recall: \",recall_score_val)\n",
    "print(\"Val Precision: \",precision_score_val)"
   ]
  },
  {
   "cell_type": "markdown",
   "metadata": {},
   "source": [
    "#### Model with Batch Normalization"
   ]
  },
  {
   "cell_type": "code",
   "execution_count": 164,
   "metadata": {},
   "outputs": [],
   "source": [
    "np.random.seed(123)\n",
    "tf.random.set_seed(123)"
   ]
  },
  {
   "cell_type": "code",
   "execution_count": 165,
   "metadata": {},
   "outputs": [],
   "source": [
    "bn_model = Sequential()\n",
    "\n",
    "bn_model.add(Dense(25, \n",
    "                   input_dim=27, \n",
    "                   activation='relu', \n",
    "                   kernel_initializer=\"glorot_normal\"))\n",
    "\n",
    "bn_model.add(BatchNormalization())\n",
    "\n",
    "bn_model.add(Dense(15, \n",
    "                   activation='relu', \n",
    "                   kernel_initializer=\"glorot_normal\"))\n",
    "\n",
    "bn_model.add(BatchNormalization())\n",
    "\n",
    "bn_model.add(Dense(1, \n",
    "                   activation='sigmoid',\n",
    "                   kernel_initializer=\"glorot_normal\"))"
   ]
  },
  {
   "cell_type": "code",
   "execution_count": 166,
   "metadata": {},
   "outputs": [
    {
     "name": "stdout",
     "output_type": "stream",
     "text": [
      "Model: \"sequential_26\"\n",
      "_________________________________________________________________\n",
      "Layer (type)                 Output Shape              Param #   \n",
      "=================================================================\n",
      "dense_75 (Dense)             (None, 25)                700       \n",
      "_________________________________________________________________\n",
      "batch_normalization (BatchNo (None, 25)                100       \n",
      "_________________________________________________________________\n",
      "dense_76 (Dense)             (None, 15)                390       \n",
      "_________________________________________________________________\n",
      "batch_normalization_1 (Batch (None, 15)                60        \n",
      "_________________________________________________________________\n",
      "dense_77 (Dense)             (None, 1)                 16        \n",
      "=================================================================\n",
      "Total params: 1,266\n",
      "Trainable params: 1,186\n",
      "Non-trainable params: 80\n",
      "_________________________________________________________________\n"
     ]
    }
   ],
   "source": [
    "bn_model.summary()\n",
    "\n",
    "# https://stackoverflow.com/questions/42521005/how-the-number-of-parameters-associated-with-batchnormalization-layer-is-2048\n",
    "# http://proceedings.mlr.press/v37/ioffe15.pdf\n"
   ]
  },
  {
   "cell_type": "code",
   "execution_count": 167,
   "metadata": {},
   "outputs": [],
   "source": [
    "bn_model.compile(loss='binary_crossentropy', \n",
    "                 optimizer='adam', \n",
    "                 metrics=[tf.keras.metrics.Recall()])"
   ]
  },
  {
   "cell_type": "code",
   "execution_count": 168,
   "metadata": {},
   "outputs": [
    {
     "name": "stdout",
     "output_type": "stream",
     "text": [
      "Train on 34489 samples, validate on 8623 samples\n",
      "Epoch 1/100\n",
      "34489/34489 [==============================] - 3s 90us/sample - loss: 0.4737 - recall_9: 0.1115 - val_loss: 0.4712 - val_recall_9: 0.0419\n",
      "Epoch 2/100\n",
      "34489/34489 [==============================] - 2s 69us/sample - loss: 0.4221 - recall_9: 0.0947 - val_loss: 0.4343 - val_recall_9: 0.0594\n",
      "Epoch 3/100\n",
      "34489/34489 [==============================] - 2s 58us/sample - loss: 0.3963 - recall_9: 0.1445 - val_loss: 0.5352 - val_recall_9: 0.0237\n",
      "Epoch 4/100\n",
      "34489/34489 [==============================] - 2s 60us/sample - loss: 0.3766 - recall_9: 0.2002 - val_loss: 0.4256 - val_recall_9: 0.1556\n",
      "Epoch 5/100\n",
      "34489/34489 [==============================] - 2s 58us/sample - loss: 0.3680 - recall_9: 0.2436 - val_loss: 0.4688 - val_recall_9: 0.0312\n",
      "Epoch 6/100\n",
      "34489/34489 [==============================] - 2s 56us/sample - loss: 0.3560 - recall_9: 0.2928 - val_loss: 0.3824 - val_recall_9: 0.0988\n",
      "Epoch 7/100\n",
      "34489/34489 [==============================] - 3s 84us/sample - loss: 0.3498 - recall_9: 0.3291 - val_loss: 0.5644 - val_recall_9: 0.0613\n",
      "Epoch 8/100\n",
      "34489/34489 [==============================] - 3s 87us/sample - loss: 0.3391 - recall_9: 0.3511 - val_loss: 0.4741 - val_recall_9: 0.0506\n",
      "Epoch 9/100\n",
      "34489/34489 [==============================] - 2s 61us/sample - loss: 0.3366 - recall_9: 0.3722 - val_loss: 0.4008 - val_recall_9: 0.0944\n",
      "Epoch 10/100\n",
      "34489/34489 [==============================] - 2s 59us/sample - loss: 0.3634 - recall_9: 0.2679 - val_loss: 0.4198 - val_recall_9: 0.0700\n",
      "Epoch 11/100\n",
      "34489/34489 [==============================] - 2s 60us/sample - loss: 0.3490 - recall_9: 0.3169 - val_loss: 0.4250 - val_recall_9: 0.1494\n",
      "Epoch 12/100\n",
      "34489/34489 [==============================] - 3s 74us/sample - loss: 0.3442 - recall_9: 0.3289 - val_loss: 0.5438 - val_recall_9: 0.6538\n",
      "Epoch 13/100\n",
      "34489/34489 [==============================] - 3s 87us/sample - loss: 0.3335 - recall_9: 0.3692 - val_loss: 0.4421 - val_recall_9: 0.0469\n",
      "Epoch 14/100\n",
      "34489/34489 [==============================] - 2s 63us/sample - loss: 0.3435 - recall_9: 0.3473 - val_loss: 0.4864 - val_recall_9: 0.0213\n",
      "Epoch 15/100\n",
      "34489/34489 [==============================] - 2s 63us/sample - loss: 0.3427 - recall_9: 0.3266 - val_loss: 0.4792 - val_recall_9: 0.1194\n",
      "Epoch 16/100\n",
      "34489/34489 [==============================] - 2s 61us/sample - loss: 0.3351 - recall_9: 0.3575 - val_loss: 0.4532 - val_recall_9: 0.0725\n",
      "Epoch 17/100\n",
      "34489/34489 [==============================] - 2s 70us/sample - loss: 0.3336 - recall_9: 0.3638 - val_loss: 0.4194 - val_recall_9: 0.0556\n",
      "Epoch 18/100\n",
      "34489/34489 [==============================] - 2s 66us/sample - loss: 0.3287 - recall_9: 0.3787 - val_loss: 0.3819 - val_recall_9: 0.1138\n",
      "Epoch 19/100\n",
      "34489/34489 [==============================] - 2s 59us/sample - loss: 0.3236 - recall_9: 0.3954 - val_loss: 0.4253 - val_recall_9: 0.0294\n",
      "Epoch 20/100\n",
      "34489/34489 [==============================] - 2s 60us/sample - loss: 0.3192 - recall_9: 0.4243 - val_loss: 0.4595 - val_recall_9: 0.0681\n",
      "Epoch 21/100\n",
      "34489/34489 [==============================] - 2s 68us/sample - loss: 0.3165 - recall_9: 0.4252 - val_loss: 0.4234 - val_recall_9: 0.0469\n",
      "Epoch 22/100\n",
      "34489/34489 [==============================] - 2s 64us/sample - loss: 0.3209 - recall_9: 0.4132 - val_loss: 0.4747 - val_recall_9: 0.2131\n",
      "Epoch 23/100\n",
      "34489/34489 [==============================] - 2s 70us/sample - loss: 0.3396 - recall_9: 0.3800 - val_loss: 0.5182 - val_recall_9: 0.4638\n",
      "Epoch 24/100\n",
      "34489/34489 [==============================] - 2s 62us/sample - loss: 0.3474 - recall_9: 0.3285 - val_loss: 0.4155 - val_recall_9: 0.0637\n",
      "Epoch 25/100\n",
      "34489/34489 [==============================] - 2s 58us/sample - loss: 0.3314 - recall_9: 0.3700 - val_loss: 0.4423 - val_recall_9: 0.0737\n",
      "Epoch 26/100\n",
      "34489/34489 [==============================] - 2s 61us/sample - loss: 0.3372 - recall_9: 0.3389 - val_loss: 0.4570 - val_recall_9: 0.0487\n",
      "Epoch 27/100\n",
      "34489/34489 [==============================] - 2s 62us/sample - loss: 0.3303 - recall_9: 0.3751 - val_loss: 0.4547 - val_recall_9: 0.0581\n",
      "Epoch 28/100\n",
      "34489/34489 [==============================] - 2s 57us/sample - loss: 0.3172 - recall_9: 0.4127 - val_loss: 0.4412 - val_recall_9: 0.0288\n",
      "Epoch 29/100\n",
      "34489/34489 [==============================] - 2s 55us/sample - loss: 0.3276 - recall_9: 0.3954 - val_loss: 0.4449 - val_recall_9: 0.0662\n",
      "Epoch 30/100\n",
      "34489/34489 [==============================] - 2s 57us/sample - loss: 0.3182 - recall_9: 0.4155 - val_loss: 0.5026 - val_recall_9: 0.1125\n",
      "Epoch 31/100\n",
      "34489/34489 [==============================] - 3s 73us/sample - loss: 0.3117 - recall_9: 0.4476 - val_loss: 0.4631 - val_recall_9: 0.0900\n",
      "Epoch 32/100\n",
      "34489/34489 [==============================] - 2s 70us/sample - loss: 0.3067 - recall_9: 0.4492 - val_loss: 0.4529 - val_recall_9: 0.0169\n",
      "Epoch 33/100\n",
      "34489/34489 [==============================] - 2s 65us/sample - loss: 0.3015 - recall_9: 0.4646 - val_loss: 0.4450 - val_recall_9: 0.1125\n",
      "Epoch 34/100\n",
      "34489/34489 [==============================] - 2s 64us/sample - loss: 0.3068 - recall_9: 0.4617 - val_loss: 0.4850 - val_recall_9: 0.0606\n",
      "Epoch 35/100\n",
      "34489/34489 [==============================] - 2s 60us/sample - loss: 0.3024 - recall_9: 0.4658 - val_loss: 0.4361 - val_recall_9: 0.1806\n",
      "Epoch 36/100\n",
      "34489/34489 [==============================] - 2s 64us/sample - loss: 0.3034 - recall_9: 0.4636 - val_loss: 0.4249 - val_recall_9: 0.0775\n",
      "Epoch 37/100\n",
      "34489/34489 [==============================] - 2s 56us/sample - loss: 0.3054 - recall_9: 0.4531 - val_loss: 0.4468 - val_recall_9: 0.0175\n",
      "Epoch 38/100\n",
      "34489/34489 [==============================] - 2s 58us/sample - loss: 0.3024 - recall_9: 0.4636 - val_loss: 0.4409 - val_recall_9: 0.0256\n",
      "Epoch 39/100\n",
      "34489/34489 [==============================] - 2s 56us/sample - loss: 0.3067 - recall_9: 0.4363 - val_loss: 1.0315 - val_recall_9: 0.7919\n",
      "Epoch 40/100\n",
      "34489/34489 [==============================] - 2s 54us/sample - loss: 0.3205 - recall_9: 0.4048 - val_loss: 0.4452 - val_recall_9: 0.0188\n",
      "Epoch 41/100\n",
      "34489/34489 [==============================] - 2s 58us/sample - loss: 0.3050 - recall_9: 0.4474 - val_loss: 0.4716 - val_recall_9: 0.0569\n",
      "Epoch 42/100\n",
      "34489/34489 [==============================] - 2s 58us/sample - loss: 0.2996 - recall_9: 0.4682 - val_loss: 0.4220 - val_recall_9: 0.0350\n",
      "Epoch 43/100\n",
      "34489/34489 [==============================] - 2s 57us/sample - loss: 0.3002 - recall_9: 0.4753 - val_loss: 0.4243 - val_recall_9: 0.0562\n",
      "Epoch 44/100\n",
      "34489/34489 [==============================] - 2s 60us/sample - loss: 0.2956 - recall_9: 0.4836 - val_loss: 0.4149 - val_recall_9: 0.2500\n",
      "Epoch 45/100\n",
      "34489/34489 [==============================] - 3s 76us/sample - loss: 0.2947 - recall_9: 0.4912 - val_loss: 0.4071 - val_recall_9: 0.0800\n",
      "Epoch 46/100\n",
      "34489/34489 [==============================] - 2s 71us/sample - loss: 0.2952 - recall_9: 0.4842 - val_loss: 0.4413 - val_recall_9: 0.0356\n",
      "Epoch 47/100\n",
      "34489/34489 [==============================] - 2s 64us/sample - loss: 0.2985 - recall_9: 0.4738 - val_loss: 0.4349 - val_recall_9: 0.1175\n",
      "Epoch 48/100\n",
      "34489/34489 [==============================] - 2s 65us/sample - loss: 0.3041 - recall_9: 0.4595 - val_loss: 0.4832 - val_recall_9: 0.6488\n",
      "Epoch 49/100\n",
      "34489/34489 [==============================] - 2s 69us/sample - loss: 0.2943 - recall_9: 0.4887 - val_loss: 0.4254 - val_recall_9: 0.0437\n",
      "Epoch 50/100\n",
      "34489/34489 [==============================] - 2s 63us/sample - loss: 0.2919 - recall_9: 0.4982 - val_loss: 0.4466 - val_recall_9: 0.1269\n",
      "Epoch 51/100\n",
      "34489/34489 [==============================] - 2s 63us/sample - loss: 0.3063 - recall_9: 0.4506 - val_loss: 0.4028 - val_recall_9: 0.0944\n",
      "Epoch 52/100\n",
      "34489/34489 [==============================] - 3s 77us/sample - loss: 0.2979 - recall_9: 0.4869 - val_loss: 0.4483 - val_recall_9: 0.1269\n",
      "Epoch 53/100\n",
      "34489/34489 [==============================] - 2s 68us/sample - loss: 0.2934 - recall_9: 0.4942 - val_loss: 0.5221 - val_recall_9: 0.7750\n",
      "Epoch 54/100\n",
      "34489/34489 [==============================] - 2s 64us/sample - loss: 0.2892 - recall_9: 0.4952 - val_loss: 0.4280 - val_recall_9: 0.0369\n",
      "Epoch 55/100\n",
      "34489/34489 [==============================] - 2s 61us/sample - loss: 0.2924 - recall_9: 0.4987 - val_loss: 0.4675 - val_recall_9: 0.6656\n",
      "Epoch 56/100\n",
      "34489/34489 [==============================] - 2s 58us/sample - loss: 0.2915 - recall_9: 0.4915 - val_loss: 0.5789 - val_recall_9: 0.7275\n",
      "Epoch 57/100\n",
      "34489/34489 [==============================] - 2s 57us/sample - loss: 0.2890 - recall_9: 0.4964 - val_loss: 0.4163 - val_recall_9: 0.0356\n",
      "Epoch 58/100\n",
      "34489/34489 [==============================] - 2s 57us/sample - loss: 0.2915 - recall_9: 0.5009 - val_loss: 0.4641 - val_recall_9: 0.3744\n",
      "Epoch 59/100\n",
      "34489/34489 [==============================] - 2s 59us/sample - loss: 0.2873 - recall_9: 0.5128 - val_loss: 0.4182 - val_recall_9: 0.0481\n",
      "Epoch 60/100\n",
      "34489/34489 [==============================] - 2s 57us/sample - loss: 0.2875 - recall_9: 0.5021 - val_loss: 0.4277 - val_recall_9: 0.0819\n",
      "Epoch 61/100\n",
      "34489/34489 [==============================] - 2s 59us/sample - loss: 0.2897 - recall_9: 0.4979 - val_loss: 0.4295 - val_recall_9: 0.0119\n",
      "Epoch 62/100\n",
      "34489/34489 [==============================] - 2s 56us/sample - loss: 0.2885 - recall_9: 0.5044 - val_loss: 0.4649 - val_recall_9: 0.4762\n",
      "Epoch 63/100\n",
      "34489/34489 [==============================] - 2s 66us/sample - loss: 0.2879 - recall_9: 0.5112 - val_loss: 0.4499 - val_recall_9: 0.2431\n",
      "Epoch 64/100\n",
      "34489/34489 [==============================] - 2s 66us/sample - loss: 0.2970 - recall_9: 0.4833 - val_loss: 0.4432 - val_recall_9: 0.0669\n",
      "Epoch 65/100\n",
      "34489/34489 [==============================] - 2s 66us/sample - loss: 0.3008 - recall_9: 0.4658 - val_loss: 0.4189 - val_recall_9: 0.0969\n",
      "Epoch 66/100\n",
      "34489/34489 [==============================] - 2s 60us/sample - loss: 0.2939 - recall_9: 0.4931 - val_loss: 0.4149 - val_recall_9: 0.0394\n",
      "Epoch 67/100\n",
      "34489/34489 [==============================] - 2s 58us/sample - loss: 0.2889 - recall_9: 0.5045 - val_loss: 0.4100 - val_recall_9: 0.1044\n",
      "Epoch 68/100\n",
      "34489/34489 [==============================] - 2s 69us/sample - loss: 0.2900 - recall_9: 0.5128 - val_loss: 0.5226 - val_recall_9: 0.0463\n",
      "Epoch 69/100\n",
      "34489/34489 [==============================] - 2s 72us/sample - loss: 0.2911 - recall_9: 0.4926 - val_loss: 0.4112 - val_recall_9: 0.0519\n",
      "Epoch 70/100\n",
      "34489/34489 [==============================] - 2s 59us/sample - loss: 0.2853 - recall_9: 0.5126 - val_loss: 0.4125 - val_recall_9: 0.0763\n",
      "Epoch 71/100\n",
      "34489/34489 [==============================] - 2s 61us/sample - loss: 0.2865 - recall_9: 0.5150 - val_loss: 0.4146 - val_recall_9: 0.0650\n",
      "Epoch 72/100\n",
      "34489/34489 [==============================] - 2s 63us/sample - loss: 0.2848 - recall_9: 0.5121 - val_loss: 0.4277 - val_recall_9: 0.0406\n",
      "Epoch 73/100\n",
      "34489/34489 [==============================] - 2s 60us/sample - loss: 0.2892 - recall_9: 0.5063 - val_loss: 0.3878 - val_recall_9: 0.0775\n",
      "Epoch 74/100\n",
      "34489/34489 [==============================] - 2s 61us/sample - loss: 0.2900 - recall_9: 0.5039 - val_loss: 0.5621 - val_recall_9: 0.0819\n",
      "Epoch 75/100\n",
      "34489/34489 [==============================] - 2s 65us/sample - loss: 0.2990 - recall_9: 0.4745 - val_loss: 0.4038 - val_recall_9: 0.0862\n",
      "Epoch 76/100\n",
      "34489/34489 [==============================] - 2s 59us/sample - loss: 0.2906 - recall_9: 0.5155 - val_loss: 0.4007 - val_recall_9: 0.0844\n",
      "Epoch 77/100\n",
      "34489/34489 [==============================] - 2s 64us/sample - loss: 0.2867 - recall_9: 0.5170 - val_loss: 0.4374 - val_recall_9: 0.1031\n",
      "Epoch 78/100\n",
      "34489/34489 [==============================] - 2s 62us/sample - loss: 0.2914 - recall_9: 0.5007 - val_loss: 0.5066 - val_recall_9: 0.6812\n",
      "Epoch 79/100\n",
      "34489/34489 [==============================] - 2s 59us/sample - loss: 0.2855 - recall_9: 0.5110 - val_loss: 0.4214 - val_recall_9: 0.2919\n",
      "Epoch 80/100\n",
      "34489/34489 [==============================] - 2s 67us/sample - loss: 0.2900 - recall_9: 0.4948 - val_loss: 0.4428 - val_recall_9: 0.4894\n",
      "Epoch 81/100\n",
      "34489/34489 [==============================] - 2s 62us/sample - loss: 0.3031 - recall_9: 0.4818 - val_loss: 0.4498 - val_recall_9: 0.0862\n",
      "Epoch 82/100\n",
      "34489/34489 [==============================] - 2s 68us/sample - loss: 0.2972 - recall_9: 0.4953 - val_loss: 0.4443 - val_recall_9: 0.0450\n",
      "Epoch 83/100\n",
      "34489/34489 [==============================] - 2s 63us/sample - loss: 0.2902 - recall_9: 0.5025 - val_loss: 0.4471 - val_recall_9: 0.0688\n",
      "Epoch 84/100\n",
      "34489/34489 [==============================] - 2s 64us/sample - loss: 0.2922 - recall_9: 0.4944 - val_loss: 0.6168 - val_recall_9: 0.0619\n",
      "Epoch 85/100\n",
      "34489/34489 [==============================] - 3s 76us/sample - loss: 0.2921 - recall_9: 0.5039 - val_loss: 0.4428 - val_recall_9: 0.0962\n",
      "Epoch 86/100\n",
      "34489/34489 [==============================] - 2s 64us/sample - loss: 0.2911 - recall_9: 0.5099 - val_loss: 0.4551 - val_recall_9: 0.0794\n",
      "Epoch 87/100\n",
      "34489/34489 [==============================] - 2s 67us/sample - loss: 0.2880 - recall_9: 0.5075 - val_loss: 0.4931 - val_recall_9: 0.1094\n",
      "Epoch 88/100\n",
      "34489/34489 [==============================] - 2s 61us/sample - loss: 0.2902 - recall_9: 0.5017 - val_loss: 0.4191 - val_recall_9: 0.1225\n",
      "Epoch 89/100\n",
      "34489/34489 [==============================] - 2s 64us/sample - loss: 0.2855 - recall_9: 0.5190 - val_loss: 0.4108 - val_recall_9: 0.3150\n",
      "Epoch 90/100\n",
      "34489/34489 [==============================] - 2s 64us/sample - loss: 0.2897 - recall_9: 0.5063 - val_loss: 0.4235 - val_recall_9: 0.1206\n",
      "Epoch 91/100\n",
      "34489/34489 [==============================] - 2s 71us/sample - loss: 0.2858 - recall_9: 0.5148 - val_loss: 0.4322 - val_recall_9: 0.1075\n",
      "Epoch 92/100\n",
      "34489/34489 [==============================] - 2s 66us/sample - loss: 0.2875 - recall_9: 0.5144 - val_loss: 0.4547 - val_recall_9: 0.1112\n",
      "Epoch 93/100\n",
      "34489/34489 [==============================] - 2s 63us/sample - loss: 0.2900 - recall_9: 0.5048 - val_loss: 0.4657 - val_recall_9: 0.1306\n",
      "Epoch 94/100\n",
      "34489/34489 [==============================] - 2s 60us/sample - loss: 0.2890 - recall_9: 0.5056 - val_loss: 0.4361 - val_recall_9: 0.0431\n",
      "Epoch 95/100\n",
      "34489/34489 [==============================] - 2s 55us/sample - loss: 0.2863 - recall_9: 0.5096 - val_loss: 0.4333 - val_recall_9: 0.0362\n",
      "Epoch 96/100\n",
      "34489/34489 [==============================] - 2s 57us/sample - loss: 0.2897 - recall_9: 0.4991 - val_loss: 0.4534 - val_recall_9: 0.1356\n",
      "Epoch 97/100\n",
      "34489/34489 [==============================] - 2s 65us/sample - loss: 0.2848 - recall_9: 0.5188 - val_loss: 0.4224 - val_recall_9: 0.0731\n",
      "Epoch 98/100\n",
      "34489/34489 [==============================] - 2s 64us/sample - loss: 0.2848 - recall_9: 0.5142 - val_loss: 0.4245 - val_recall_9: 0.0600\n",
      "Epoch 99/100\n",
      "34489/34489 [==============================] - 2s 61us/sample - loss: 0.2840 - recall_9: 0.5228 - val_loss: 0.4306 - val_recall_9: 0.0569\n",
      "Epoch 100/100\n",
      "34489/34489 [==============================] - 2s 62us/sample - loss: 0.2890 - recall_9: 0.5128 - val_loss: 0.4281 - val_recall_9: 0.0981\n",
      "CPU times: user 5min 18s, sys: 35.6 s, total: 5min 54s\n",
      "Wall time: 3min 39s\n"
     ]
    }
   ],
   "source": [
    "%%time\n",
    "bn_model_history = bn_model.fit(X_train_proc_arr, \n",
    "                                y_train, \n",
    "                                epochs=100,\n",
    "                                batch_size=best_params['best_batch_size'], \n",
    "                                validation_split=0.2)"
   ]
  },
  {
   "cell_type": "markdown",
   "metadata": {},
   "source": [
    "#### Predictions"
   ]
  },
  {
   "cell_type": "code",
   "execution_count": 169,
   "metadata": {},
   "outputs": [],
   "source": [
    "train_bn_model_pred = bn_model.predict_classes(X_train_proc_arr)\n",
    "val_bn_model_pred = bn_model.predict_classes(X_val_proc_arr)"
   ]
  },
  {
   "cell_type": "markdown",
   "metadata": {},
   "source": [
    "#### Getting evaluation metrics and evaluating model performance"
   ]
  },
  {
   "cell_type": "code",
   "execution_count": 170,
   "metadata": {},
   "outputs": [
    {
     "name": "stdout",
     "output_type": "stream",
     "text": [
      "Train Accuracy:  0.8313926516979031\n",
      "Train Recall:  0.10145477545857053\n",
      "Train Precision:  0.8285123966942148\n",
      "-------------------------------------\n",
      "Val Accuracy:  0.8305460843210478\n",
      "Val Recall:  0.09858323494687131\n",
      "Val Precision:  0.8126520681265207\n"
     ]
    }
   ],
   "source": [
    "### Calculate Accuracy, True Positive Rate and True Negative Rates\n",
    "\n",
    "accuracy_score_train = accuracy_score(y_train, train_bn_model_pred)\n",
    "accuracy_score_val = accuracy_score(y_val, val_bn_model_pred)\n",
    "\n",
    "recall_score_train = recall_score(y_train, train_bn_model_pred)\n",
    "recall_score_val = recall_score(y_val, val_bn_model_pred)\n",
    "\n",
    "precision_score_train = precision_score(y_train, train_bn_model_pred)\n",
    "precision_score_val = precision_score(y_val, val_bn_model_pred)\n",
    "\n",
    "\n",
    "print(\"Train Accuracy: \",accuracy_score_train)\n",
    "print(\"Train Recall: \",recall_score_train)\n",
    "print(\"Train Precision: \",precision_score_train)\n",
    "\n",
    "print(\"-------------------------------------\")\n",
    "\n",
    "print(\"Val Accuracy: \",accuracy_score_val)\n",
    "print(\"Val Recall: \",recall_score_val)\n",
    "print(\"Val Precision: \",precision_score_val)"
   ]
  },
  {
   "cell_type": "markdown",
   "metadata": {},
   "source": [
    "#### model with weight decay"
   ]
  },
  {
   "cell_type": "markdown",
   "metadata": {},
   "source": [
    "#### Find the best Weight Decay value"
   ]
  },
  {
   "cell_type": "code",
   "execution_count": 171,
   "metadata": {},
   "outputs": [
    {
     "name": "stderr",
     "output_type": "stream",
     "text": [
      "Using TensorFlow backend.\n"
     ]
    }
   ],
   "source": [
    "from keras.regularizers import l2"
   ]
  },
  {
   "cell_type": "code",
   "execution_count": 172,
   "metadata": {},
   "outputs": [],
   "source": [
    "weight_decay_list = [1e-1, 1e-2, 1e-3, 1e-4, 1e-5, 1e-6]"
   ]
  },
  {
   "cell_type": "code",
   "execution_count": 173,
   "metadata": {},
   "outputs": [
    {
     "data": {
      "text/plain": [
       "[0.1, 0.01, 0.001, 0.0001, 1e-05, 1e-06]"
      ]
     },
     "execution_count": 173,
     "metadata": {},
     "output_type": "execute_result"
    }
   ],
   "source": [
    "weight_decay_list"
   ]
  },
  {
   "cell_type": "code",
   "execution_count": 174,
   "metadata": {},
   "outputs": [
    {
     "name": "stdout",
     "output_type": "stream",
     "text": [
      "CPU times: user 8 µs, sys: 1e+03 ns, total: 9 µs\n",
      "Wall time: 16.2 µs\n"
     ]
    }
   ],
   "source": [
    "%%time\n",
    "def l2_model_func(l2_value):\n",
    "    # Create model\n",
    "    l2_model = Sequential()\n",
    "    \n",
    "    l2_model.add(Dense(25, \n",
    "                       input_dim=27, \n",
    "                       activation='relu', \n",
    "                       kernel_regularizer=l2(l2_value),\n",
    "                       kernel_initializer=\"glorot_normal\"))\n",
    "    \n",
    "    l2_model.add(Dropout(0.5))\n",
    "    \n",
    "    l2_model.add(Dense(15, \n",
    "                       activation='relu',\n",
    "                       kernel_regularizer=l2(l2_value), \n",
    "                       kernel_initializer=\"glorot_normal\"))\n",
    "    \n",
    "    l2_model.add(Dropout(0.5))\n",
    "    \n",
    "    l2_model.add(Dense(1, \n",
    "                       activation='sigmoid',\n",
    "                       kernel_regularizer=l2(l2_value),\n",
    "                       kernel_initializer=\"glorot_normal\"))\n",
    "    \n",
    "    # Compile model\n",
    "    l2_model.compile(loss='binary_crossentropy', \n",
    "                     optimizer='adam', \n",
    "                     metrics=['accuracy'])\n",
    "    \n",
    "    return l2_model   "
   ]
  },
  {
   "cell_type": "code",
   "execution_count": 175,
   "metadata": {},
   "outputs": [
    {
     "name": "stdout",
     "output_type": "stream",
     "text": [
      "Train on 34489 samples, validate on 8623 samples\n",
      "34489/34489 [==============================] - 2s 48us/sample - loss: 1.7275 - accuracy: 0.7794 - val_loss: 0.5938 - val_accuracy: 0.8144\n",
      "Train on 34489 samples, validate on 8623 samples\n",
      "34489/34489 [==============================] - 2s 46us/sample - loss: 0.7182 - accuracy: 0.7865 - val_loss: 0.5374 - val_accuracy: 0.8144 accuracy: 0.78\n",
      "Train on 34489 samples, validate on 8623 samples\n",
      "34489/34489 [==============================] - 2s 51us/sample - loss: 0.5656 - accuracy: 0.7869 - val_loss: 0.4929 - val_accuracy: 0.8144\n",
      "Train on 34489 samples, validate on 8623 samples\n",
      "34489/34489 [==============================] - 2s 45us/sample - loss: 0.5377 - accuracy: 0.7862 - val_loss: 0.4712 - val_accuracy: 0.8144\n",
      "Train on 34489 samples, validate on 8623 samples\n",
      "34489/34489 [==============================] - 2s 45us/sample - loss: 0.5343 - accuracy: 0.7860 - val_loss: 0.4677 - val_accuracy: 0.8144\n",
      "Train on 34489 samples, validate on 8623 samples\n",
      "34489/34489 [==============================] - 1s 42us/sample - loss: 0.5339 - accuracy: 0.7861 - val_loss: 0.4672 - val_accuracy: 0.8146\n",
      "CPU times: user 13.5 s, sys: 1.02 s, total: 14.5 s\n",
      "Wall time: 10.8 s\n"
     ]
    }
   ],
   "source": [
    "%%time\n",
    "hist_loss=[]\n",
    "\n",
    "for weight_decay in weight_decay_list:\n",
    "    \n",
    "    np.random.seed(123)\n",
    "    tf.random.set_seed(123)\n",
    "    \n",
    "    l2_model = l2_model_func(weight_decay)\n",
    "    \n",
    "    # Fit the model\n",
    "    l2_model_history = l2_model.fit(X_train_proc_arr, \n",
    "                                    y_train, \n",
    "                                    epochs=1,\n",
    "                                    validation_split=0.2,\n",
    "                                    batch_size=64)\n",
    "    \n",
    "    hist_loss.append(l2_model_history.history['loss'])"
   ]
  },
  {
   "cell_type": "code",
   "execution_count": 176,
   "metadata": {},
   "outputs": [
    {
     "data": {
      "text/html": [
       "<div>\n",
       "<style scoped>\n",
       "    .dataframe tbody tr th:only-of-type {\n",
       "        vertical-align: middle;\n",
       "    }\n",
       "\n",
       "    .dataframe tbody tr th {\n",
       "        vertical-align: top;\n",
       "    }\n",
       "\n",
       "    .dataframe thead th {\n",
       "        text-align: right;\n",
       "    }\n",
       "</style>\n",
       "<table border=\"1\" class=\"dataframe\">\n",
       "  <thead>\n",
       "    <tr style=\"text-align: right;\">\n",
       "      <th></th>\n",
       "      <th>weight_decay</th>\n",
       "      <th>loss</th>\n",
       "    </tr>\n",
       "  </thead>\n",
       "  <tbody>\n",
       "    <tr>\n",
       "      <th>0</th>\n",
       "      <td>1e-06</td>\n",
       "      <td>[0.533930339614556]</td>\n",
       "    </tr>\n",
       "    <tr>\n",
       "      <th>1</th>\n",
       "      <td>1e-05</td>\n",
       "      <td>[0.5342706240394524]</td>\n",
       "    </tr>\n",
       "    <tr>\n",
       "      <th>2</th>\n",
       "      <td>0.0001</td>\n",
       "      <td>[0.5377490600865537]</td>\n",
       "    </tr>\n",
       "    <tr>\n",
       "      <th>3</th>\n",
       "      <td>0.001</td>\n",
       "      <td>[0.565642666738423]</td>\n",
       "    </tr>\n",
       "    <tr>\n",
       "      <th>4</th>\n",
       "      <td>0.01</td>\n",
       "      <td>[0.7182207241532989]</td>\n",
       "    </tr>\n",
       "    <tr>\n",
       "      <th>5</th>\n",
       "      <td>0.1</td>\n",
       "      <td>[1.727495680750151]</td>\n",
       "    </tr>\n",
       "  </tbody>\n",
       "</table>\n",
       "</div>"
      ],
      "text/plain": [
       "  weight_decay                  loss\n",
       "0        1e-06   [0.533930339614556]\n",
       "1        1e-05  [0.5342706240394524]\n",
       "2       0.0001  [0.5377490600865537]\n",
       "3        0.001   [0.565642666738423]\n",
       "4         0.01  [0.7182207241532989]\n",
       "5          0.1   [1.727495680750151]"
      ]
     },
     "execution_count": 176,
     "metadata": {},
     "output_type": "execute_result"
    }
   ],
   "source": [
    "# Get the weight decay and loss Dataframe\n",
    "loss_weight_decay = pd.DataFrame([weight_decay_list, hist_loss]).T  \n",
    "\n",
    "#Give the coloumn names\n",
    "loss_weight_decay.columns=['weight_decay', 'loss']\n",
    "\n",
    "#Sort the values and reset the index\n",
    "loss_weight_decay=loss_weight_decay.sort_values('loss').reset_index().drop('index',axis=1)\n",
    "loss_weight_decay"
   ]
  },
  {
   "cell_type": "code",
   "execution_count": 177,
   "metadata": {},
   "outputs": [],
   "source": [
    "#pick the top weight decay\n",
    "best_params['best_l2_value'] = loss_weight_decay.loc[:,'weight_decay'][0]"
   ]
  },
  {
   "cell_type": "code",
   "execution_count": 178,
   "metadata": {},
   "outputs": [
    {
     "data": {
      "text/plain": [
       "1e-06"
      ]
     },
     "execution_count": 178,
     "metadata": {},
     "output_type": "execute_result"
    }
   ],
   "source": [
    "best_params['best_l2_value']"
   ]
  },
  {
   "cell_type": "markdown",
   "metadata": {},
   "source": [
    "#### Build model with the best l2 value"
   ]
  },
  {
   "cell_type": "code",
   "execution_count": 179,
   "metadata": {},
   "outputs": [],
   "source": [
    "np.random.seed(123)\n",
    "tf.random.set_seed(123)"
   ]
  },
  {
   "cell_type": "code",
   "execution_count": 180,
   "metadata": {},
   "outputs": [],
   "source": [
    "bst_l2_model = Sequential()\n",
    "\n",
    "# Create model\n",
    "bst_l2_model.add(Dense(25, \n",
    "                       input_dim=27, \n",
    "                       activation='relu', \n",
    "                       kernel_regularizer=l2(best_params['best_l2_value']),\n",
    "                       kernel_initializer=\"glorot_normal\"))\n",
    "\n",
    "bst_l2_model.add(Dropout(0.5))\n",
    "\n",
    "bst_l2_model.add(Dense(15, \n",
    "                       activation='relu',\n",
    "                       kernel_regularizer=l2(best_params['best_l2_value']), \n",
    "                       kernel_initializer=\"glorot_normal\"))\n",
    "\n",
    "bst_l2_model.add(Dropout(0.5))\n",
    "\n",
    "bst_l2_model.add(Dense(1, \n",
    "                       activation='sigmoid',\n",
    "                       kernel_regularizer=l2(best_params['best_l2_value']), \n",
    "                       kernel_initializer=\"glorot_normal\"))\n",
    "\n",
    "# Compile model\n",
    "bst_l2_model.compile(loss='binary_crossentropy', optimizer='adam', metrics=[tf.keras.metrics.Recall()])"
   ]
  },
  {
   "cell_type": "code",
   "execution_count": 181,
   "metadata": {},
   "outputs": [
    {
     "name": "stdout",
     "output_type": "stream",
     "text": [
      "Model: \"sequential_33\"\n",
      "_________________________________________________________________\n",
      "Layer (type)                 Output Shape              Param #   \n",
      "=================================================================\n",
      "dense_96 (Dense)             (None, 25)                700       \n",
      "_________________________________________________________________\n",
      "dropout_14 (Dropout)         (None, 25)                0         \n",
      "_________________________________________________________________\n",
      "dense_97 (Dense)             (None, 15)                390       \n",
      "_________________________________________________________________\n",
      "dropout_15 (Dropout)         (None, 15)                0         \n",
      "_________________________________________________________________\n",
      "dense_98 (Dense)             (None, 1)                 16        \n",
      "=================================================================\n",
      "Total params: 1,106\n",
      "Trainable params: 1,106\n",
      "Non-trainable params: 0\n",
      "_________________________________________________________________\n"
     ]
    }
   ],
   "source": [
    "bst_l2_model.summary()"
   ]
  },
  {
   "cell_type": "code",
   "execution_count": 182,
   "metadata": {},
   "outputs": [],
   "source": [
    "bst_l2_model.compile(loss='binary_crossentropy', optimizer='adam', metrics=[tf.keras.metrics.Recall()])"
   ]
  },
  {
   "cell_type": "code",
   "execution_count": 183,
   "metadata": {},
   "outputs": [
    {
     "name": "stdout",
     "output_type": "stream",
     "text": [
      "Train on 34489 samples, validate on 8623 samples\n",
      "Epoch 1/100\n",
      "34489/34489 [==============================] - 3s 83us/sample - loss: 0.5133 - recall_11: 0.0328 - val_loss: 0.4648 - val_recall_11: 0.0031\n",
      "Epoch 2/100\n",
      "34489/34489 [==============================] - 3s 75us/sample - loss: 0.4721 - recall_11: 0.0087 - val_loss: 0.4568 - val_recall_11: 0.0088\n",
      "Epoch 3/100\n",
      "34489/34489 [==============================] - 2s 62us/sample - loss: 0.4597 - recall_11: 0.0114 - val_loss: 0.4512 - val_recall_11: 0.0056\n",
      "Epoch 4/100\n",
      "34489/34489 [==============================] - 2s 59us/sample - loss: 0.4554 - recall_11: 0.0125 - val_loss: 0.4488 - val_recall_11: 0.0031\n",
      "Epoch 5/100\n",
      "34489/34489 [==============================] - 2s 58us/sample - loss: 0.4492 - recall_11: 0.0146 - val_loss: 0.4450 - val_recall_11: 0.0088\n",
      "Epoch 6/100\n",
      "34489/34489 [==============================] - 2s 56us/sample - loss: 0.4426 - recall_11: 0.0209 - val_loss: 0.4381 - val_recall_11: 0.0106\n",
      "Epoch 7/100\n",
      "34489/34489 [==============================] - 2s 56us/sample - loss: 0.4428 - recall_11: 0.0228 - val_loss: 0.4344 - val_recall_11: 0.0094\n",
      "Epoch 8/100\n",
      "34489/34489 [==============================] - 2s 59us/sample - loss: 0.4361 - recall_11: 0.0209 - val_loss: 0.4329 - val_recall_11: 0.0075 loss: 0.4428 - r\n",
      "Epoch 9/100\n",
      "34489/34489 [==============================] - 2s 57us/sample - loss: 0.4288 - recall_11: 0.0295 - val_loss: 0.4263 - val_recall_11: 0.0213\n",
      "Epoch 10/100\n",
      "34489/34489 [==============================] - 2s 68us/sample - loss: 0.4284 - recall_11: 0.0295 - val_loss: 0.4255 - val_recall_11: 0.0131\n",
      "Epoch 11/100\n",
      "34489/34489 [==============================] - 2s 69us/sample - loss: 0.4263 - recall_11: 0.0376 - val_loss: 0.4215 - val_recall_11: 0.0300\n",
      "Epoch 12/100\n",
      "34489/34489 [==============================] - 2s 61us/sample - loss: 0.4275 - recall_11: 0.0482 - val_loss: 0.4134 - val_recall_11: 0.0338\n",
      "Epoch 13/100\n",
      "34489/34489 [==============================] - 2s 71us/sample - loss: 0.4194 - recall_11: 0.0561 - val_loss: 0.4123 - val_recall_11: 0.0356\n",
      "Epoch 14/100\n",
      "34489/34489 [==============================] - 3s 76us/sample - loss: 0.4198 - recall_11: 0.0638 - val_loss: 0.4090 - val_recall_11: 0.0431\n",
      "Epoch 15/100\n",
      "34489/34489 [==============================] - 2s 65us/sample - loss: 0.4151 - recall_11: 0.0771 - val_loss: 0.4095 - val_recall_11: 0.0469\n",
      "Epoch 16/100\n",
      "34489/34489 [==============================] - 2s 62us/sample - loss: 0.4162 - recall_11: 0.0810 - val_loss: 0.4031 - val_recall_11: 0.0481\n",
      "Epoch 17/100\n",
      "34489/34489 [==============================] - 2s 68us/sample - loss: 0.4075 - recall_11: 0.0891 - val_loss: 0.4022 - val_recall_11: 0.0550\n",
      "Epoch 18/100\n",
      "34489/34489 [==============================] - 2s 69us/sample - loss: 0.4114 - recall_11: 0.1012 - val_loss: 0.3998 - val_recall_11: 0.0600\n",
      "Epoch 19/100\n",
      "34489/34489 [==============================] - 2s 65us/sample - loss: 0.4079 - recall_11: 0.1086 - val_loss: 0.4276 - val_recall_11: 0.0538\n",
      "Epoch 20/100\n",
      "34489/34489 [==============================] - 2s 72us/sample - loss: 0.4157 - recall_11: 0.1053 - val_loss: 0.4078 - val_recall_11: 0.0587\n",
      "Epoch 21/100\n",
      "34489/34489 [==============================] - 3s 76us/sample - loss: 0.4003 - recall_11: 0.1231 - val_loss: 0.3894 - val_recall_11: 0.0925\n",
      "Epoch 22/100\n",
      "34489/34489 [==============================] - 2s 69us/sample - loss: 0.4014 - recall_11: 0.1190 - val_loss: 0.3886 - val_recall_11: 0.0731\n",
      "Epoch 23/100\n",
      "34489/34489 [==============================] - 2s 67us/sample - loss: 0.3944 - recall_11: 0.1443 - val_loss: 0.3802 - val_recall_11: 0.1088\n",
      "Epoch 24/100\n",
      "34489/34489 [==============================] - 2s 69us/sample - loss: 0.4020 - recall_11: 0.1513 - val_loss: 0.3869 - val_recall_11: 0.0988\n",
      "Epoch 25/100\n",
      "34489/34489 [==============================] - 3s 75us/sample - loss: 0.3976 - recall_11: 0.1553 - val_loss: 0.4007 - val_recall_11: 0.0925\n",
      "Epoch 26/100\n",
      "34489/34489 [==============================] - 3s 75us/sample - loss: 0.4021 - recall_11: 0.1586 - val_loss: 0.3852 - val_recall_11: 0.0750\n",
      "Epoch 27/100\n",
      "34489/34489 [==============================] - 2s 68us/sample - loss: 0.3959 - recall_11: 0.1596 - val_loss: 0.3876 - val_recall_11: 0.1100\n",
      "Epoch 28/100\n",
      "34489/34489 [==============================] - 2s 65us/sample - loss: 0.3923 - recall_11: 0.1591 - val_loss: 0.3793 - val_recall_11: 0.0944\n",
      "Epoch 29/100\n",
      "34489/34489 [==============================] - 2s 51us/sample - loss: 0.4001 - recall_11: 0.1418 - val_loss: 0.3747 - val_recall_11: 0.0906\n",
      "Epoch 30/100\n",
      "34489/34489 [==============================] - 2s 51us/sample - loss: 0.3933 - recall_11: 0.1556 - val_loss: 0.3612 - val_recall_11: 0.1794\n",
      "Epoch 31/100\n",
      "34489/34489 [==============================] - 2s 54us/sample - loss: 0.3917 - recall_11: 0.1761 - val_loss: 0.3796 - val_recall_11: 0.0719\n",
      "Epoch 32/100\n",
      "34489/34489 [==============================] - 3s 83us/sample - loss: 0.3905 - recall_11: 0.1642 - val_loss: 0.3668 - val_recall_11: 0.1269\n",
      "Epoch 33/100\n",
      "34489/34489 [==============================] - 2s 71us/sample - loss: 0.3956 - recall_11: 0.1662 - val_loss: 0.3754 - val_recall_11: 0.1056\n",
      "Epoch 34/100\n",
      "34489/34489 [==============================] - 3s 76us/sample - loss: 0.3905 - recall_11: 0.1722 - val_loss: 0.3718 - val_recall_11: 0.0769\n",
      "Epoch 35/100\n",
      "34489/34489 [==============================] - 3s 73us/sample - loss: 0.3909 - recall_11: 0.1664 - val_loss: 0.3729 - val_recall_11: 0.1000\n",
      "Epoch 36/100\n",
      "34489/34489 [==============================] - 2s 69us/sample - loss: 0.3924 - recall_11: 0.1892 - val_loss: 0.3645 - val_recall_11: 0.1044\n",
      "Epoch 37/100\n",
      "34489/34489 [==============================] - 2s 60us/sample - loss: 0.3946 - recall_11: 0.1754 - val_loss: 0.3718 - val_recall_11: 0.0756\n",
      "Epoch 38/100\n",
      "34489/34489 [==============================] - 2s 66us/sample - loss: 0.3942 - recall_11: 0.1786 - val_loss: 0.3655 - val_recall_11: 0.1937\n",
      "Epoch 39/100\n",
      "34489/34489 [==============================] - 2s 69us/sample - loss: 0.3862 - recall_11: 0.1838 - val_loss: 0.3622 - val_recall_11: 0.2375\n",
      "Epoch 40/100\n",
      "34489/34489 [==============================] - 2s 60us/sample - loss: 0.3881 - recall_11: 0.1921 - val_loss: 0.3577 - val_recall_11: 0.1513\n",
      "Epoch 41/100\n",
      "34489/34489 [==============================] - 2s 62us/sample - loss: 0.3945 - recall_11: 0.1897 - val_loss: 0.3551 - val_recall_11: 0.1762\n",
      "Epoch 42/100\n",
      "34489/34489 [==============================] - 2s 59us/sample - loss: 0.3821 - recall_11: 0.2071 - val_loss: 0.3589 - val_recall_11: 0.1900\n",
      "Epoch 43/100\n",
      "34489/34489 [==============================] - 3s 74us/sample - loss: 0.3842 - recall_11: 0.1911 - val_loss: 0.3622 - val_recall_11: 0.1175\n",
      "Epoch 44/100\n",
      "34489/34489 [==============================] - 2s 61us/sample - loss: 0.3839 - recall_11: 0.1911 - val_loss: 0.3514 - val_recall_11: 0.1200\n",
      "Epoch 45/100\n",
      "34489/34489 [==============================] - 2s 65us/sample - loss: 0.3844 - recall_11: 0.1992 - val_loss: 0.3471 - val_recall_11: 0.1175 0s - loss: 0.3864 - recall_\n",
      "Epoch 46/100\n",
      "34489/34489 [==============================] - 2s 67us/sample - loss: 0.3893 - recall_11: 0.1845 - val_loss: 0.3645 - val_recall_11: 0.2862\n",
      "Epoch 47/100\n",
      "34489/34489 [==============================] - 2s 62us/sample - loss: 0.3922 - recall_11: 0.1864 - val_loss: 0.3573 - val_recall_11: 0.1175\n",
      "Epoch 48/100\n",
      "34489/34489 [==============================] - 2s 59us/sample - loss: 0.3788 - recall_11: 0.2044 - val_loss: 0.3570 - val_recall_11: 0.1456\n",
      "Epoch 49/100\n",
      "34489/34489 [==============================] - 2s 65us/sample - loss: 0.3825 - recall_11: 0.2048 - val_loss: 0.3476 - val_recall_11: 0.2144\n",
      "Epoch 50/100\n",
      "34489/34489 [==============================] - 2s 56us/sample - loss: 0.3831 - recall_11: 0.2113 - val_loss: 0.3552 - val_recall_11: 0.15380s - loss: 0.3806 - recall_11: 0.2\n",
      "Epoch 51/100\n",
      "34489/34489 [==============================] - 2s 64us/sample - loss: 0.3793 - recall_11: 0.2117 - val_loss: 0.3532 - val_recall_11: 0.1675\n",
      "Epoch 52/100\n",
      "34489/34489 [==============================] - 2s 56us/sample - loss: 0.3800 - recall_11: 0.2114 - val_loss: 0.3657 - val_recall_11: 0.1388\n",
      "Epoch 53/100\n",
      "34489/34489 [==============================] - 2s 60us/sample - loss: 0.3845 - recall_11: 0.2130 - val_loss: 0.3459 - val_recall_11: 0.1838\n",
      "Epoch 54/100\n",
      "34489/34489 [==============================] - 3s 74us/sample - loss: 0.3841 - recall_11: 0.1997 - val_loss: 0.3512 - val_recall_11: 0.2125\n",
      "Epoch 55/100\n",
      "34489/34489 [==============================] - 3s 76us/sample - loss: 0.3855 - recall_11: 0.1910 - val_loss: 0.3450 - val_recall_11: 0.2044\n",
      "Epoch 56/100\n",
      "34489/34489 [==============================] - 3s 73us/sample - loss: 0.3848 - recall_11: 0.1921 - val_loss: 0.3487 - val_recall_11: 0.1825\n",
      "Epoch 57/100\n",
      "34489/34489 [==============================] - 2s 70us/sample - loss: 0.3879 - recall_11: 0.2222 - val_loss: 0.3619 - val_recall_11: 0.1450\n",
      "Epoch 58/100\n",
      "34489/34489 [==============================] - 3s 75us/sample - loss: 0.3831 - recall_11: 0.1919 - val_loss: 0.3480 - val_recall_11: 0.1800\n",
      "Epoch 59/100\n",
      "34489/34489 [==============================] - 2s 72us/sample - loss: 0.3871 - recall_11: 0.1884 - val_loss: 0.3610 - val_recall_11: 0.1025\n",
      "Epoch 60/100\n",
      "34489/34489 [==============================] - 2s 69us/sample - loss: 0.3814 - recall_11: 0.1948 - val_loss: 0.3789 - val_recall_11: 0.1425oss: 0.3810 - recall_11: 0.\n",
      "Epoch 61/100\n",
      "34489/34489 [==============================] - 2s 58us/sample - loss: 0.3812 - recall_11: 0.2049 - val_loss: 0.3504 - val_recall_11: 0.2056\n",
      "Epoch 62/100\n",
      "34489/34489 [==============================] - 2s 60us/sample - loss: 0.3847 - recall_11: 0.1937 - val_loss: 0.3617 - val_recall_11: 0.1744\n",
      "Epoch 63/100\n",
      "34489/34489 [==============================] - 2s 68us/sample - loss: 0.3836 - recall_11: 0.2016 - val_loss: 0.3477 - val_recall_11: 0.2144\n",
      "Epoch 64/100\n",
      "34489/34489 [==============================] - 3s 78us/sample - loss: 0.3789 - recall_11: 0.2171 - val_loss: 0.3752 - val_recall_11: 0.1713\n",
      "Epoch 65/100\n",
      "34489/34489 [==============================] - 3s 76us/sample - loss: 0.3817 - recall_11: 0.2205 - val_loss: 0.3343 - val_recall_11: 0.2706\n",
      "Epoch 66/100\n",
      "34489/34489 [==============================] - 2s 63us/sample - loss: 0.3833 - recall_11: 0.2287 - val_loss: 0.3514 - val_recall_11: 0.1275\n",
      "Epoch 67/100\n",
      "34489/34489 [==============================] - 2s 72us/sample - loss: 0.3819 - recall_11: 0.2187 - val_loss: 0.3383 - val_recall_11: 0.2006\n",
      "Epoch 68/100\n",
      "34489/34489 [==============================] - 2s 70us/sample - loss: 0.3814 - recall_11: 0.2408 - val_loss: 0.3839 - val_recall_11: 0.0806\n",
      "Epoch 69/100\n",
      "34489/34489 [==============================] - 3s 78us/sample - loss: 0.3833 - recall_11: 0.2006 - val_loss: 0.3595 - val_recall_11: 0.1338\n",
      "Epoch 70/100\n",
      "34489/34489 [==============================] - 3s 78us/sample - loss: 0.3823 - recall_11: 0.2098 - val_loss: 0.3490 - val_recall_11: 0.1713\n",
      "Epoch 71/100\n",
      "34489/34489 [==============================] - 3s 81us/sample - loss: 0.3830 - recall_11: 0.2144 - val_loss: 0.3434 - val_recall_11: 0.2425\n",
      "Epoch 72/100\n",
      "34489/34489 [==============================] - 3s 84us/sample - loss: 0.3800 - recall_11: 0.2390 - val_loss: 0.3680 - val_recall_11: 0.1144\n",
      "Epoch 73/100\n",
      "34489/34489 [==============================] - 3s 80us/sample - loss: 0.3807 - recall_11: 0.2127 - val_loss: 0.3727 - val_recall_11: 0.1331\n",
      "Epoch 74/100\n",
      "34489/34489 [==============================] - 3s 82us/sample - loss: 0.3838 - recall_11: 0.2078 - val_loss: 0.3463 - val_recall_11: 0.1338\n",
      "Epoch 75/100\n",
      "34489/34489 [==============================] - 3s 79us/sample - loss: 0.3839 - recall_11: 0.2035 - val_loss: 0.3824 - val_recall_11: 0.2381\n",
      "Epoch 76/100\n",
      "34489/34489 [==============================] - 3s 76us/sample - loss: 0.3804 - recall_11: 0.2111 - val_loss: 0.3437 - val_recall_11: 0.1250\n",
      "Epoch 77/100\n",
      "34489/34489 [==============================] - 3s 79us/sample - loss: 0.3765 - recall_11: 0.2285 - val_loss: 0.3547 - val_recall_11: 0.1287\n",
      "Epoch 78/100\n",
      "34489/34489 [==============================] - 3s 79us/sample - loss: 0.3792 - recall_11: 0.2316 - val_loss: 0.3652 - val_recall_11: 0.1469\n",
      "Epoch 79/100\n",
      "34489/34489 [==============================] - 3s 81us/sample - loss: 0.3713 - recall_11: 0.2419 - val_loss: 0.3308 - val_recall_11: 0.1594\n",
      "Epoch 80/100\n",
      "34489/34489 [==============================] - 3s 86us/sample - loss: 0.3739 - recall_11: 0.2254 - val_loss: 0.3330 - val_recall_11: 0.2862\n",
      "Epoch 81/100\n",
      "34489/34489 [==============================] - 3s 78us/sample - loss: 0.3789 - recall_11: 0.2252 - val_loss: 0.3368 - val_recall_11: 0.2600\n",
      "Epoch 82/100\n",
      "34489/34489 [==============================] - 3s 79us/sample - loss: 0.3714 - recall_11: 0.2504 - val_loss: 0.3340 - val_recall_11: 0.2344\n",
      "Epoch 83/100\n",
      "34489/34489 [==============================] - 3s 83us/sample - loss: 0.3758 - recall_11: 0.2460 - val_loss: 0.3386 - val_recall_11: 0.2013\n",
      "Epoch 84/100\n",
      "34489/34489 [==============================] - 3s 76us/sample - loss: 0.3793 - recall_11: 0.2208 - val_loss: 0.3659 - val_recall_11: 0.1338\n",
      "Epoch 85/100\n",
      "34489/34489 [==============================] - 2s 61us/sample - loss: 0.3728 - recall_11: 0.2198 - val_loss: 0.3424 - val_recall_11: 0.2387\n",
      "Epoch 86/100\n",
      "34489/34489 [==============================] - 3s 78us/sample - loss: 0.3673 - recall_11: 0.2515 - val_loss: 0.3470 - val_recall_11: 0.1700\n",
      "Epoch 87/100\n",
      "34489/34489 [==============================] - 2s 65us/sample - loss: 0.3773 - recall_11: 0.2374 - val_loss: 0.3441 - val_recall_11: 0.1169\n",
      "Epoch 88/100\n",
      "34489/34489 [==============================] - 2s 55us/sample - loss: 0.3821 - recall_11: 0.2300 - val_loss: 0.3421 - val_recall_11: 0.1956 loss: 0.3767 - recall_11: 0. - ETA: 0s - loss: 0.3758 - recall_11\n",
      "Epoch 89/100\n",
      "34489/34489 [==============================] - 3s 78us/sample - loss: 0.3711 - recall_11: 0.2454 - val_loss: 0.3311 - val_recall_11: 0.2381\n",
      "Epoch 90/100\n",
      "34489/34489 [==============================] - 2s 63us/sample - loss: 0.3752 - recall_11: 0.2463 - val_loss: 0.3324 - val_recall_11: 0.2369\n",
      "Epoch 91/100\n",
      "34489/34489 [==============================] - 3s 80us/sample - loss: 0.3779 - recall_11: 0.2259 - val_loss: 0.3410 - val_recall_11: 0.1725\n",
      "Epoch 92/100\n",
      "34489/34489 [==============================] - 2s 72us/sample - loss: 0.3846 - recall_11: 0.1944 - val_loss: 0.3488 - val_recall_11: 0.2194\n",
      "Epoch 93/100\n",
      "34489/34489 [==============================] - 2s 62us/sample - loss: 0.3754 - recall_11: 0.2105 - val_loss: 0.3564 - val_recall_11: 0.2150\n",
      "Epoch 94/100\n",
      "34489/34489 [==============================] - 3s 76us/sample - loss: 0.3743 - recall_11: 0.2436 - val_loss: 0.3473 - val_recall_11: 0.1813\n",
      "Epoch 95/100\n",
      "34489/34489 [==============================] - 3s 87us/sample - loss: 0.3736 - recall_11: 0.2425 - val_loss: 0.3494 - val_recall_11: 0.1787\n",
      "Epoch 96/100\n",
      "34489/34489 [==============================] - 2s 71us/sample - loss: 0.3795 - recall_11: 0.2358 - val_loss: 0.3573 - val_recall_11: 0.1363s - loss: 0.3749 - recall_1\n",
      "Epoch 97/100\n",
      "34489/34489 [==============================] - 3s 84us/sample - loss: 0.3737 - recall_11: 0.2305 - val_loss: 0.3331 - val_recall_11: 0.2544\n",
      "Epoch 98/100\n",
      "34489/34489 [==============================] - 3s 91us/sample - loss: 0.3819 - recall_11: 0.2309 - val_loss: 0.3249 - val_recall_11: 0.3100\n",
      "Epoch 99/100\n",
      "34489/34489 [==============================] - 3s 89us/sample - loss: 0.3723 - recall_11: 0.2411 - val_loss: 0.3318 - val_recall_11: 0.3088\n",
      "Epoch 100/100\n",
      "34489/34489 [==============================] - 3s 95us/sample - loss: 0.3736 - recall_11: 0.2427 - val_loss: 0.3400 - val_recall_11: 0.1813\n",
      "CPU times: user 5min 40s, sys: 36 s, total: 6min 16s\n",
      "Wall time: 4min 1s\n"
     ]
    }
   ],
   "source": [
    "%%time\n",
    "bst_l2_model_history = bst_l2_model.fit(X_train_proc_arr, \n",
    "                                        y_train, \n",
    "                                        epochs=100,\n",
    "                                        batch_size=best_params['best_batch_size'], \n",
    "                                        validation_split=0.2, \n",
    "                                        shuffle=True)"
   ]
  },
  {
   "cell_type": "markdown",
   "metadata": {},
   "source": [
    "#### Predictions"
   ]
  },
  {
   "cell_type": "code",
   "execution_count": 184,
   "metadata": {},
   "outputs": [],
   "source": [
    "train_bst_l2_model_pred = bst_l2_model.predict_classes(X_train_proc_arr)\n",
    "val_bst_l2_model_pred = bst_l2_model.predict_classes(X_val_proc_arr)"
   ]
  },
  {
   "cell_type": "markdown",
   "metadata": {},
   "source": [
    "#### Getting evaluation metrics and evaluating model performance"
   ]
  },
  {
   "cell_type": "code",
   "execution_count": 185,
   "metadata": {},
   "outputs": [
    {
     "name": "stdout",
     "output_type": "stream",
     "text": [
      "Train Accuracy:  0.8444516607904992\n",
      "Train Recall:  0.19468690702087288\n",
      "Train Precision:  0.8190526875997871\n",
      "-----------------------\n",
      "Val Accuracy:  0.8422904151106781\n",
      "Val Recall:  0.18742621015348288\n",
      "Val Precision:  0.7977386934673367\n"
     ]
    }
   ],
   "source": [
    "### Calculate Accuracy, True Positive Rate and True Negative Rates\n",
    "\n",
    "accuracy_score_train = accuracy_score(y_train, train_bst_l2_model_pred)\n",
    "accuracy_score_val = accuracy_score(y_val, val_bst_l2_model_pred)\n",
    "\n",
    "recall_score_train = recall_score(y_train, train_bst_l2_model_pred)\n",
    "recall_score_val = recall_score(y_val, val_bst_l2_model_pred)\n",
    "\n",
    "precision_score_train = precision_score(y_train, train_bst_l2_model_pred)\n",
    "precision_score_val = precision_score(y_val, val_bst_l2_model_pred)\n",
    "\n",
    "\n",
    "print(\"Train Accuracy: \",accuracy_score_train)\n",
    "print(\"Train Recall: \",recall_score_train)\n",
    "print(\"Train Precision: \",precision_score_train)\n",
    "\n",
    "print(\"-----------------------\")\n",
    "\n",
    "print(\"Val Accuracy: \",accuracy_score_val)\n",
    "print(\"Val Recall: \",recall_score_val)\n",
    "print(\"Val Precision: \",precision_score_val)"
   ]
  },
  {
   "cell_type": "markdown",
   "metadata": {},
   "source": [
    "**Best Parameters**"
   ]
  },
  {
   "cell_type": "code",
   "execution_count": 186,
   "metadata": {},
   "outputs": [
    {
     "data": {
      "text/plain": [
       "{'best_learning_rate': 0.1987,\n",
       " 'best_batch_size': 32,\n",
       " 'best_h_activation': 'relu',\n",
       " 'best_kernel_init': 'glorot_normal',\n",
       " 'best_optimizer': 'adam',\n",
       " 'best_l2_value': 1e-06}"
      ]
     },
     "execution_count": 186,
     "metadata": {},
     "output_type": "execute_result"
    }
   ],
   "source": [
    "best_params"
   ]
  },
  {
   "cell_type": "markdown",
   "metadata": {
    "collapsed": true
   },
   "source": [
    "### Reference Links:\n",
    "\n",
    "https://machinelearningmastery.com/adam-optimization-algorithm-for-deep-learning/\n",
    "\n",
    "https://keras.io/"
   ]
  }
 ],
 "metadata": {
  "kernelspec": {
   "display_name": "Python 3",
   "language": "python",
   "name": "python3"
  },
  "language_info": {
   "codemirror_mode": {
    "name": "ipython",
    "version": 3
   },
   "file_extension": ".py",
   "mimetype": "text/x-python",
   "name": "python",
   "nbconvert_exporter": "python",
   "pygments_lexer": "ipython3",
   "version": "3.6.5"
  },
  "toc": {
   "base_numbering": 1,
   "nav_menu": {},
   "number_sections": true,
   "sideBar": true,
   "skip_h1_title": false,
   "title_cell": "Table of Contents",
   "title_sidebar": "Contents",
   "toc_cell": false,
   "toc_position": {},
   "toc_section_display": true,
   "toc_window_display": false
  }
 },
 "nbformat": 4,
 "nbformat_minor": 2
}
