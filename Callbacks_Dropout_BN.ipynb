{
 "cells": [
  {
   "cell_type": "markdown",
   "metadata": {},
   "source": [
    "#### Import the required modules"
   ]
  },
  {
   "cell_type": "code",
   "execution_count": 1,
   "metadata": {},
   "outputs": [],
   "source": [
    "import warnings\n",
    "warnings.filterwarnings(\"ignore\")"
   ]
  },
  {
   "cell_type": "code",
   "execution_count": 2,
   "metadata": {},
   "outputs": [],
   "source": [
    "import pandas as pd\n",
    "import numpy as np\n",
    "import tensorflow as tf\n",
    "from tensorflow.keras.models import Sequential\n",
    "from tensorflow.keras.layers import Dense\n",
    "from sklearn.model_selection import train_test_split\n",
    "from sklearn.metrics import confusion_matrix, roc_curve, auc,recall_score\n"
   ]
  },
  {
   "cell_type": "markdown",
   "metadata": {},
   "source": [
    "#### Load the data"
   ]
  },
  {
   "cell_type": "code",
   "execution_count": 3,
   "metadata": {},
   "outputs": [
    {
     "data": {
      "text/html": [
       "<div>\n",
       "<style scoped>\n",
       "    .dataframe tbody tr th:only-of-type {\n",
       "        vertical-align: middle;\n",
       "    }\n",
       "\n",
       "    .dataframe tbody tr th {\n",
       "        vertical-align: top;\n",
       "    }\n",
       "\n",
       "    .dataframe thead th {\n",
       "        text-align: right;\n",
       "    }\n",
       "</style>\n",
       "<table border=\"1\" class=\"dataframe\">\n",
       "  <thead>\n",
       "    <tr style=\"text-align: right;\">\n",
       "      <th></th>\n",
       "      <th>sku</th>\n",
       "      <th>national_inv</th>\n",
       "      <th>lead_time</th>\n",
       "      <th>in_transit_qty</th>\n",
       "      <th>forecast_3_month</th>\n",
       "      <th>forecast_6_month</th>\n",
       "      <th>forecast_9_month</th>\n",
       "      <th>sales_1_month</th>\n",
       "      <th>sales_3_month</th>\n",
       "      <th>sales_6_month</th>\n",
       "      <th>...</th>\n",
       "      <th>pieces_past_due</th>\n",
       "      <th>perf_6_month_avg</th>\n",
       "      <th>perf_12_month_avg</th>\n",
       "      <th>local_bo_qty</th>\n",
       "      <th>deck_risk</th>\n",
       "      <th>oe_constraint</th>\n",
       "      <th>ppap_risk</th>\n",
       "      <th>stop_auto_buy</th>\n",
       "      <th>rev_stop</th>\n",
       "      <th>went_on_backorder</th>\n",
       "    </tr>\n",
       "  </thead>\n",
       "  <tbody>\n",
       "    <tr>\n",
       "      <th>0</th>\n",
       "      <td>1888279</td>\n",
       "      <td>117</td>\n",
       "      <td>NaN</td>\n",
       "      <td>0</td>\n",
       "      <td>0</td>\n",
       "      <td>0</td>\n",
       "      <td>0</td>\n",
       "      <td>0</td>\n",
       "      <td>0</td>\n",
       "      <td>15</td>\n",
       "      <td>...</td>\n",
       "      <td>0</td>\n",
       "      <td>-99.00</td>\n",
       "      <td>-99.00</td>\n",
       "      <td>0</td>\n",
       "      <td>No</td>\n",
       "      <td>No</td>\n",
       "      <td>Yes</td>\n",
       "      <td>Yes</td>\n",
       "      <td>No</td>\n",
       "      <td>No</td>\n",
       "    </tr>\n",
       "    <tr>\n",
       "      <th>1</th>\n",
       "      <td>1870557</td>\n",
       "      <td>7</td>\n",
       "      <td>2.0</td>\n",
       "      <td>0</td>\n",
       "      <td>0</td>\n",
       "      <td>0</td>\n",
       "      <td>0</td>\n",
       "      <td>0</td>\n",
       "      <td>0</td>\n",
       "      <td>0</td>\n",
       "      <td>...</td>\n",
       "      <td>0</td>\n",
       "      <td>0.50</td>\n",
       "      <td>0.28</td>\n",
       "      <td>0</td>\n",
       "      <td>Yes</td>\n",
       "      <td>No</td>\n",
       "      <td>No</td>\n",
       "      <td>Yes</td>\n",
       "      <td>No</td>\n",
       "      <td>No</td>\n",
       "    </tr>\n",
       "    <tr>\n",
       "      <th>2</th>\n",
       "      <td>1475481</td>\n",
       "      <td>258</td>\n",
       "      <td>15.0</td>\n",
       "      <td>10</td>\n",
       "      <td>10</td>\n",
       "      <td>77</td>\n",
       "      <td>184</td>\n",
       "      <td>46</td>\n",
       "      <td>132</td>\n",
       "      <td>256</td>\n",
       "      <td>...</td>\n",
       "      <td>0</td>\n",
       "      <td>0.54</td>\n",
       "      <td>0.70</td>\n",
       "      <td>0</td>\n",
       "      <td>No</td>\n",
       "      <td>No</td>\n",
       "      <td>No</td>\n",
       "      <td>Yes</td>\n",
       "      <td>No</td>\n",
       "      <td>No</td>\n",
       "    </tr>\n",
       "  </tbody>\n",
       "</table>\n",
       "<p>3 rows × 23 columns</p>\n",
       "</div>"
      ],
      "text/plain": [
       "       sku  national_inv  lead_time  in_transit_qty  forecast_3_month  \\\n",
       "0  1888279           117        NaN               0                 0   \n",
       "1  1870557             7        2.0               0                 0   \n",
       "2  1475481           258       15.0              10                10   \n",
       "\n",
       "   forecast_6_month  forecast_9_month  sales_1_month  sales_3_month  \\\n",
       "0                 0                 0              0              0   \n",
       "1                 0                 0              0              0   \n",
       "2                77               184             46            132   \n",
       "\n",
       "   sales_6_month  ...  pieces_past_due  perf_6_month_avg perf_12_month_avg  \\\n",
       "0             15  ...                0            -99.00            -99.00   \n",
       "1              0  ...                0              0.50              0.28   \n",
       "2            256  ...                0              0.54              0.70   \n",
       "\n",
       "   local_bo_qty  deck_risk  oe_constraint  ppap_risk stop_auto_buy rev_stop  \\\n",
       "0             0         No             No        Yes           Yes       No   \n",
       "1             0        Yes             No         No           Yes       No   \n",
       "2             0         No             No         No           Yes       No   \n",
       "\n",
       "  went_on_backorder  \n",
       "0                No  \n",
       "1                No  \n",
       "2                No  \n",
       "\n",
       "[3 rows x 23 columns]"
      ]
     },
     "execution_count": 3,
     "metadata": {},
     "output_type": "execute_result"
    }
   ],
   "source": [
    "PATH='/home/datasets/lab/CSE7221o/Data_AE/'\n",
    "data1=pd.read_csv(PATH+\"BackOrders.csv\")\n",
    "data1.head(3)"
   ]
  },
  {
   "cell_type": "code",
   "execution_count": 4,
   "metadata": {},
   "outputs": [
    {
     "data": {
      "text/plain": [
       "sku                    int64\n",
       "national_inv           int64\n",
       "lead_time            float64\n",
       "in_transit_qty         int64\n",
       "forecast_3_month       int64\n",
       "forecast_6_month       int64\n",
       "forecast_9_month       int64\n",
       "sales_1_month          int64\n",
       "sales_3_month          int64\n",
       "sales_6_month          int64\n",
       "sales_9_month          int64\n",
       "min_bank               int64\n",
       "potential_issue       object\n",
       "pieces_past_due        int64\n",
       "perf_6_month_avg     float64\n",
       "perf_12_month_avg    float64\n",
       "local_bo_qty           int64\n",
       "deck_risk             object\n",
       "oe_constraint         object\n",
       "ppap_risk             object\n",
       "stop_auto_buy         object\n",
       "rev_stop              object\n",
       "went_on_backorder     object\n",
       "dtype: object"
      ]
     },
     "execution_count": 4,
     "metadata": {},
     "output_type": "execute_result"
    }
   ],
   "source": [
    "# Check data type of each attribute\n",
    "data1.dtypes"
   ]
  },
  {
   "cell_type": "markdown",
   "metadata": {},
   "source": [
    "#### Convert all the attributes to appropriate type"
   ]
  },
  {
   "cell_type": "markdown",
   "metadata": {},
   "source": [
    "Data type conversion\n",
    "\n",
    "    Using astype('category') to convert potential_issue, deck_risk, oe_constraint, ppap_risk, stop_auto_buy, rev_stop, and went_on_backorder attributes to categorical attributes.\n"
   ]
  },
  {
   "cell_type": "code",
   "execution_count": 5,
   "metadata": {},
   "outputs": [],
   "source": [
    "for col in ['potential_issue', 'deck_risk', 'oe_constraint', 'ppap_risk', 'stop_auto_buy', 'rev_stop', 'went_on_backorder']:\n",
    "    data1[col] = data1[col].astype('category')"
   ]
  },
  {
   "cell_type": "markdown",
   "metadata": {},
   "source": [
    "##### Display data type of each variable"
   ]
  },
  {
   "cell_type": "code",
   "execution_count": 6,
   "metadata": {},
   "outputs": [
    {
     "data": {
      "text/plain": [
       "sku                     int64\n",
       "national_inv            int64\n",
       "lead_time             float64\n",
       "in_transit_qty          int64\n",
       "forecast_3_month        int64\n",
       "forecast_6_month        int64\n",
       "forecast_9_month        int64\n",
       "sales_1_month           int64\n",
       "sales_3_month           int64\n",
       "sales_6_month           int64\n",
       "sales_9_month           int64\n",
       "min_bank                int64\n",
       "potential_issue      category\n",
       "pieces_past_due         int64\n",
       "perf_6_month_avg      float64\n",
       "perf_12_month_avg     float64\n",
       "local_bo_qty            int64\n",
       "deck_risk            category\n",
       "oe_constraint        category\n",
       "ppap_risk            category\n",
       "stop_auto_buy        category\n",
       "rev_stop             category\n",
       "went_on_backorder    category\n",
       "dtype: object"
      ]
     },
     "execution_count": 6,
     "metadata": {},
     "output_type": "execute_result"
    }
   ],
   "source": [
    "#Display data type of each variable\n",
    "data1.dtypes"
   ]
  },
  {
   "cell_type": "code",
   "execution_count": 7,
   "metadata": {},
   "outputs": [
    {
     "data": {
      "text/plain": [
       "61589"
      ]
     },
     "execution_count": 7,
     "metadata": {},
     "output_type": "execute_result"
    }
   ],
   "source": [
    "#### Delete sku attribute\n",
    "np.size(np.unique(data1.sku, return_counts=True)[0])"
   ]
  },
  {
   "cell_type": "code",
   "execution_count": 8,
   "metadata": {},
   "outputs": [],
   "source": [
    "data1.drop('sku', axis=1, inplace=True)"
   ]
  },
  {
   "cell_type": "code",
   "execution_count": 9,
   "metadata": {},
   "outputs": [
    {
     "data": {
      "text/plain": [
       "national_inv            0\n",
       "lead_time            3403\n",
       "in_transit_qty          0\n",
       "forecast_3_month        0\n",
       "forecast_6_month        0\n",
       "forecast_9_month        0\n",
       "sales_1_month           0\n",
       "sales_3_month           0\n",
       "sales_6_month           0\n",
       "sales_9_month           0\n",
       "min_bank                0\n",
       "potential_issue         0\n",
       "pieces_past_due         0\n",
       "perf_6_month_avg        0\n",
       "perf_12_month_avg       0\n",
       "local_bo_qty            0\n",
       "deck_risk               0\n",
       "oe_constraint           0\n",
       "ppap_risk               0\n",
       "stop_auto_buy           0\n",
       "rev_stop                0\n",
       "went_on_backorder       0\n",
       "dtype: int64"
      ]
     },
     "execution_count": 9,
     "metadata": {},
     "output_type": "execute_result"
    }
   ],
   "source": [
    "#### Missing value analysis and dropping the records with missing values\n",
    "data1.isnull().sum()"
   ]
  },
  {
   "cell_type": "code",
   "execution_count": 10,
   "metadata": {},
   "outputs": [],
   "source": [
    "#Since the number of missing values is about 5%. For initial analysis we ignore all these records\n",
    "data1 = data1.dropna(axis=0)"
   ]
  },
  {
   "cell_type": "markdown",
   "metadata": {},
   "source": [
    "#### For neural networks we require the data to be in numeric form"
   ]
  },
  {
   "cell_type": "code",
   "execution_count": 11,
   "metadata": {},
   "outputs": [
    {
     "name": "stdout",
     "output_type": "stream",
     "text": [
      "Index(['forecast_3_month', 'forecast_6_month', 'forecast_9_month',\n",
      "       'in_transit_qty', 'lead_time', 'local_bo_qty', 'min_bank',\n",
      "       'national_inv', 'perf_12_month_avg', 'perf_6_month_avg',\n",
      "       'pieces_past_due', 'sales_1_month', 'sales_3_month', 'sales_6_month',\n",
      "       'sales_9_month'],\n",
      "      dtype='object')\n",
      "\n",
      "\n",
      "['potential_issue', 'deck_risk', 'oe_constraint', 'ppap_risk', 'stop_auto_buy', 'rev_stop']\n"
     ]
    }
   ],
   "source": [
    "cat_attr= ['potential_issue', 'deck_risk', 'oe_constraint',\n",
    "           'ppap_risk', 'stop_auto_buy', 'rev_stop', 'went_on_backorder']\n",
    "num_attr=data1.columns.difference(cat_attr)\n",
    "cat_attr.pop()\n",
    "\n",
    "print(num_attr)\n",
    "\n",
    "print(\"\\n\")\n",
    "print(cat_attr)"
   ]
  },
  {
   "cell_type": "markdown",
   "metadata": {},
   "source": [
    "#### Data preprocessing for numeric and categorical using pipelines"
   ]
  },
  {
   "cell_type": "raw",
   "metadata": {},
   "source": [
    "\n",
    "from sklearn.preprocessing import StandardScaler, OneHotEncoder\n",
    "from sklearn.pipeline import Pipeline\n",
    "from sklearn.compose import ColumnTransformer\n",
    "numeric_transformer = Pipeline(steps=[\n",
    "                                      ('scale',StandardScaler()) ])\n",
    "\n",
    "categorical_transformer = Pipeline(steps=[\n",
    "                                         ('ohe',OneHotEncoder(handle_unknown='ignore'))])\n",
    "\n",
    "preprocessor = ColumnTransformer(transformers=[('num',numeric_transformer,num_attr) ,\n",
    "                                              ('cat',categorical_transformer,cat_attr)])"
   ]
  },
  {
   "cell_type": "code",
   "execution_count": 12,
   "metadata": {},
   "outputs": [],
   "source": [
    "#Performing train test split on the data\n",
    "X, y = data1.loc[:,data1.columns!='went_on_backorder'], data1.loc[:,'went_on_backorder']\n",
    "\n",
    "X_train, X_test, y_train, y_test = train_test_split(X, y, test_size=0.3, random_state=123)\n"
   ]
  },
  {
   "cell_type": "code",
   "execution_count": 13,
   "metadata": {},
   "outputs": [],
   "source": [
    "y_test=y_test.replace({'Yes':1,'No':0})\n",
    "y_train=y_train.replace({'Yes':1,'No':0})"
   ]
  },
  {
   "cell_type": "code",
   "execution_count": 14,
   "metadata": {},
   "outputs": [
    {
     "name": "stdout",
     "output_type": "stream",
     "text": [
      "0    33067\n",
      "1     7663\n",
      "Name: went_on_backorder, dtype: int64\n",
      "0    14150\n",
      "1     3306\n",
      "Name: went_on_backorder, dtype: int64\n"
     ]
    }
   ],
   "source": [
    "for col in cat_attr:\n",
    "    X_train[col]=X_train[col].replace({'Yes':1,'No':0})\n",
    "    X_test[col]=X_test[col].replace({'Yes':1,'No':0})\n",
    "    \n",
    "\n",
    "print(pd.value_counts(y_train))\n",
    "print(pd.value_counts(y_test))"
   ]
  },
  {
   "cell_type": "code",
   "execution_count": 15,
   "metadata": {},
   "outputs": [],
   "source": [
    "X_train.to_pickle('x_train')\n",
    "X_test.to_pickle('x_test')\n",
    "y_train.to_pickle('y_train')\n",
    "y_test.to_pickle('y_test')"
   ]
  },
  {
   "cell_type": "code",
   "execution_count": 16,
   "metadata": {},
   "outputs": [
    {
     "data": {
      "text/html": [
       "<div>\n",
       "<style scoped>\n",
       "    .dataframe tbody tr th:only-of-type {\n",
       "        vertical-align: middle;\n",
       "    }\n",
       "\n",
       "    .dataframe tbody tr th {\n",
       "        vertical-align: top;\n",
       "    }\n",
       "\n",
       "    .dataframe thead th {\n",
       "        text-align: right;\n",
       "    }\n",
       "</style>\n",
       "<table border=\"1\" class=\"dataframe\">\n",
       "  <thead>\n",
       "    <tr style=\"text-align: right;\">\n",
       "      <th></th>\n",
       "      <th>national_inv</th>\n",
       "      <th>lead_time</th>\n",
       "      <th>in_transit_qty</th>\n",
       "      <th>forecast_3_month</th>\n",
       "      <th>forecast_6_month</th>\n",
       "      <th>forecast_9_month</th>\n",
       "      <th>sales_1_month</th>\n",
       "      <th>sales_3_month</th>\n",
       "      <th>sales_6_month</th>\n",
       "      <th>sales_9_month</th>\n",
       "      <th>...</th>\n",
       "      <th>potential_issue</th>\n",
       "      <th>pieces_past_due</th>\n",
       "      <th>perf_6_month_avg</th>\n",
       "      <th>perf_12_month_avg</th>\n",
       "      <th>local_bo_qty</th>\n",
       "      <th>deck_risk</th>\n",
       "      <th>oe_constraint</th>\n",
       "      <th>ppap_risk</th>\n",
       "      <th>stop_auto_buy</th>\n",
       "      <th>rev_stop</th>\n",
       "    </tr>\n",
       "  </thead>\n",
       "  <tbody>\n",
       "    <tr>\n",
       "      <th>24039</th>\n",
       "      <td>479</td>\n",
       "      <td>8.0</td>\n",
       "      <td>0</td>\n",
       "      <td>0</td>\n",
       "      <td>0</td>\n",
       "      <td>0</td>\n",
       "      <td>0</td>\n",
       "      <td>0</td>\n",
       "      <td>0</td>\n",
       "      <td>0</td>\n",
       "      <td>...</td>\n",
       "      <td>0</td>\n",
       "      <td>0</td>\n",
       "      <td>0.83</td>\n",
       "      <td>0.91</td>\n",
       "      <td>0</td>\n",
       "      <td>0</td>\n",
       "      <td>0</td>\n",
       "      <td>1</td>\n",
       "      <td>1</td>\n",
       "      <td>0</td>\n",
       "    </tr>\n",
       "    <tr>\n",
       "      <th>12800</th>\n",
       "      <td>3</td>\n",
       "      <td>12.0</td>\n",
       "      <td>0</td>\n",
       "      <td>36</td>\n",
       "      <td>46</td>\n",
       "      <td>56</td>\n",
       "      <td>12</td>\n",
       "      <td>23</td>\n",
       "      <td>39</td>\n",
       "      <td>56</td>\n",
       "      <td>...</td>\n",
       "      <td>0</td>\n",
       "      <td>0</td>\n",
       "      <td>0.82</td>\n",
       "      <td>0.79</td>\n",
       "      <td>0</td>\n",
       "      <td>0</td>\n",
       "      <td>0</td>\n",
       "      <td>1</td>\n",
       "      <td>1</td>\n",
       "      <td>0</td>\n",
       "    </tr>\n",
       "    <tr>\n",
       "      <th>59501</th>\n",
       "      <td>1</td>\n",
       "      <td>5.0</td>\n",
       "      <td>0</td>\n",
       "      <td>2</td>\n",
       "      <td>3</td>\n",
       "      <td>5</td>\n",
       "      <td>2</td>\n",
       "      <td>2</td>\n",
       "      <td>4</td>\n",
       "      <td>6</td>\n",
       "      <td>...</td>\n",
       "      <td>0</td>\n",
       "      <td>0</td>\n",
       "      <td>0.99</td>\n",
       "      <td>0.97</td>\n",
       "      <td>0</td>\n",
       "      <td>0</td>\n",
       "      <td>0</td>\n",
       "      <td>0</td>\n",
       "      <td>1</td>\n",
       "      <td>0</td>\n",
       "    </tr>\n",
       "  </tbody>\n",
       "</table>\n",
       "<p>3 rows × 21 columns</p>\n",
       "</div>"
      ],
      "text/plain": [
       "       national_inv  lead_time  in_transit_qty  forecast_3_month  \\\n",
       "24039           479        8.0               0                 0   \n",
       "12800             3       12.0               0                36   \n",
       "59501             1        5.0               0                 2   \n",
       "\n",
       "       forecast_6_month  forecast_9_month  sales_1_month  sales_3_month  \\\n",
       "24039                 0                 0              0              0   \n",
       "12800                46                56             12             23   \n",
       "59501                 3                 5              2              2   \n",
       "\n",
       "       sales_6_month  sales_9_month  ...  potential_issue  pieces_past_due  \\\n",
       "24039              0              0  ...                0                0   \n",
       "12800             39             56  ...                0                0   \n",
       "59501              4              6  ...                0                0   \n",
       "\n",
       "       perf_6_month_avg  perf_12_month_avg  local_bo_qty  deck_risk  \\\n",
       "24039              0.83               0.91             0          0   \n",
       "12800              0.82               0.79             0          0   \n",
       "59501              0.99               0.97             0          0   \n",
       "\n",
       "       oe_constraint  ppap_risk  stop_auto_buy  rev_stop  \n",
       "24039              0          1              1         0  \n",
       "12800              0          1              1         0  \n",
       "59501              0          0              1         0  \n",
       "\n",
       "[3 rows x 21 columns]"
      ]
     },
     "execution_count": 16,
     "metadata": {},
     "output_type": "execute_result"
    }
   ],
   "source": [
    "sample=pd.read_pickle('x_train')\n",
    "sample.head(3)"
   ]
  },
  {
   "cell_type": "code",
   "execution_count": 17,
   "metadata": {},
   "outputs": [],
   "source": [
    "import os"
   ]
  },
  {
   "cell_type": "code",
   "execution_count": 18,
   "metadata": {},
   "outputs": [],
   "source": [
    "## Convert to numeric\n",
    "y_train=y_train.values\n",
    "y_test=y_test.values"
   ]
  },
  {
   "cell_type": "code",
   "execution_count": 19,
   "metadata": {},
   "outputs": [],
   "source": [
    "train=X_train.values\n",
    "test=X_test.values"
   ]
  },
  {
   "cell_type": "code",
   "execution_count": 20,
   "metadata": {},
   "outputs": [
    {
     "name": "stdout",
     "output_type": "stream",
     "text": [
      "(40730, 21)\n",
      "(17456, 21)\n"
     ]
    }
   ],
   "source": [
    "print(train.shape)\n",
    "\n",
    "print(test.shape)\n"
   ]
  },
  {
   "cell_type": "code",
   "execution_count": 21,
   "metadata": {},
   "outputs": [],
   "source": [
    "mlp_model = Sequential()\n",
    "\n",
    "mlp_model.add(Dense(16, input_dim=21, activation='tanh'))\n",
    "mlp_model.add(Dense(1, activation='sigmoid'))"
   ]
  },
  {
   "cell_type": "code",
   "execution_count": 22,
   "metadata": {
    "collapsed": true
   },
   "outputs": [
    {
     "name": "stdout",
     "output_type": "stream",
     "text": [
      "Epoch 1/50\n",
      "1019/1019 [==============================] - 3s 2ms/step - loss: 0.5046 - accuracy: 0.7277 - val_loss: 0.2888 - val_accuracy: 0.8758\n",
      "Epoch 2/50\n",
      "1019/1019 [==============================] - 2s 2ms/step - loss: 0.2719 - accuracy: 0.8806 - val_loss: 0.2656 - val_accuracy: 0.8899\n",
      "Epoch 3/50\n",
      "1019/1019 [==============================] - 2s 1ms/step - loss: 0.2616 - accuracy: 0.8886 - val_loss: 0.2605 - val_accuracy: 0.8904\n",
      "Epoch 4/50\n",
      "1019/1019 [==============================] - 2s 2ms/step - loss: 0.2543 - accuracy: 0.8949 - val_loss: 0.2572 - val_accuracy: 0.8904\n",
      "Epoch 5/50\n",
      "1019/1019 [==============================] - 1s 1ms/step - loss: 0.2569 - accuracy: 0.8915 - val_loss: 0.2543 - val_accuracy: 0.8957\n",
      "Epoch 6/50\n",
      "1019/1019 [==============================] - 2s 1ms/step - loss: 0.2500 - accuracy: 0.8939 - val_loss: 0.2603 - val_accuracy: 0.8895\n",
      "Epoch 7/50\n",
      "1019/1019 [==============================] - 1s 1ms/step - loss: 0.2457 - accuracy: 0.8964 - val_loss: 0.2490 - val_accuracy: 0.8963\n",
      "Epoch 8/50\n",
      "1019/1019 [==============================] - 1s 1ms/step - loss: 0.2406 - accuracy: 0.8990 - val_loss: 0.2531 - val_accuracy: 0.8926\n",
      "Epoch 9/50\n",
      "1019/1019 [==============================] - 1s 1ms/step - loss: 0.2394 - accuracy: 0.8993 - val_loss: 0.2474 - val_accuracy: 0.8958\n",
      "Epoch 10/50\n",
      "1019/1019 [==============================] - 1s 1ms/step - loss: 0.2395 - accuracy: 0.8996 - val_loss: 0.2496 - val_accuracy: 0.8973\n",
      "Epoch 11/50\n",
      "1019/1019 [==============================] - 1s 1ms/step - loss: 0.2424 - accuracy: 0.8972 - val_loss: 0.2475 - val_accuracy: 0.8984\n",
      "Epoch 12/50\n",
      "1019/1019 [==============================] - 2s 2ms/step - loss: 0.2389 - accuracy: 0.8991 - val_loss: 0.2476 - val_accuracy: 0.8982\n",
      "Epoch 13/50\n",
      "1019/1019 [==============================] - 2s 1ms/step - loss: 0.2359 - accuracy: 0.9006 - val_loss: 0.2487 - val_accuracy: 0.8968\n",
      "Epoch 14/50\n",
      "1019/1019 [==============================] - 1s 1ms/step - loss: 0.2320 - accuracy: 0.9050 - val_loss: 0.2500 - val_accuracy: 0.8979\n",
      "Epoch 15/50\n",
      "1019/1019 [==============================] - 2s 2ms/step - loss: 0.2401 - accuracy: 0.9006 - val_loss: 0.2448 - val_accuracy: 0.8977\n",
      "Epoch 16/50\n",
      "1019/1019 [==============================] - 2s 2ms/step - loss: 0.2345 - accuracy: 0.9030 - val_loss: 0.2480 - val_accuracy: 0.8982\n",
      "Epoch 17/50\n",
      "1019/1019 [==============================] - 2s 2ms/step - loss: 0.2381 - accuracy: 0.9002 - val_loss: 0.2464 - val_accuracy: 0.8944\n",
      "Epoch 18/50\n",
      "1019/1019 [==============================] - 2s 2ms/step - loss: 0.2375 - accuracy: 0.9008 - val_loss: 0.2459 - val_accuracy: 0.8990\n",
      "Epoch 19/50\n",
      "1019/1019 [==============================] - 2s 2ms/step - loss: 0.2429 - accuracy: 0.9015 - val_loss: 0.2475 - val_accuracy: 0.8941\n",
      "Epoch 20/50\n",
      "1019/1019 [==============================] - 2s 2ms/step - loss: 0.2434 - accuracy: 0.8965 - val_loss: 0.2491 - val_accuracy: 0.8981\n",
      "Epoch 21/50\n",
      "1019/1019 [==============================] - 1s 1ms/step - loss: 0.2348 - accuracy: 0.9033 - val_loss: 0.2416 - val_accuracy: 0.9003\n",
      "Epoch 22/50\n",
      "1019/1019 [==============================] - 1s 1ms/step - loss: 0.2356 - accuracy: 0.9023 - val_loss: 0.2472 - val_accuracy: 0.8995\n",
      "Epoch 23/50\n",
      "1019/1019 [==============================] - 1s 1ms/step - loss: 0.2352 - accuracy: 0.9058 - val_loss: 0.2460 - val_accuracy: 0.9001\n",
      "Epoch 24/50\n",
      "1019/1019 [==============================] - 1s 1ms/step - loss: 0.2366 - accuracy: 0.9010 - val_loss: 0.2421 - val_accuracy: 0.8984\n",
      "Epoch 25/50\n",
      "1019/1019 [==============================] - 1s 1ms/step - loss: 0.2362 - accuracy: 0.9006 - val_loss: 0.2430 - val_accuracy: 0.9006\n",
      "Epoch 26/50\n",
      "1019/1019 [==============================] - 1s 1ms/step - loss: 0.2348 - accuracy: 0.9023 - val_loss: 0.2396 - val_accuracy: 0.9030\n",
      "Epoch 27/50\n",
      "1019/1019 [==============================] - 1s 1ms/step - loss: 0.2338 - accuracy: 0.9037 - val_loss: 0.2407 - val_accuracy: 0.9015\n",
      "Epoch 28/50\n",
      "1019/1019 [==============================] - 2s 2ms/step - loss: 0.2333 - accuracy: 0.9029 - val_loss: 0.2429 - val_accuracy: 0.8987\n",
      "Epoch 29/50\n",
      "1019/1019 [==============================] - 2s 2ms/step - loss: 0.2285 - accuracy: 0.9047 - val_loss: 0.2441 - val_accuracy: 0.9008\n",
      "Epoch 30/50\n",
      "1019/1019 [==============================] - 2s 2ms/step - loss: 0.2367 - accuracy: 0.9024 - val_loss: 0.2418 - val_accuracy: 0.8991\n",
      "Epoch 31/50\n",
      "1019/1019 [==============================] - 1s 1ms/step - loss: 0.2306 - accuracy: 0.9046 - val_loss: 0.2400 - val_accuracy: 0.9027\n",
      "Epoch 32/50\n",
      "1019/1019 [==============================] - 1s 1ms/step - loss: 0.2326 - accuracy: 0.9039 - val_loss: 0.2431 - val_accuracy: 0.9012\n",
      "Epoch 33/50\n",
      "1019/1019 [==============================] - 1s 1ms/step - loss: 0.2285 - accuracy: 0.9053 - val_loss: 0.2399 - val_accuracy: 0.9015\n",
      "Epoch 34/50\n",
      "1019/1019 [==============================] - 1s 1ms/step - loss: 0.2328 - accuracy: 0.9008 - val_loss: 0.2397 - val_accuracy: 0.9038\n",
      "Epoch 35/50\n",
      "1019/1019 [==============================] - 1s 1ms/step - loss: 0.2328 - accuracy: 0.9050 - val_loss: 0.2409 - val_accuracy: 0.9029\n",
      "Epoch 36/50\n",
      "1019/1019 [==============================] - 1s 1ms/step - loss: 0.2298 - accuracy: 0.9044 - val_loss: 0.2443 - val_accuracy: 0.8993\n",
      "Epoch 37/50\n",
      "1019/1019 [==============================] - 2s 2ms/step - loss: 0.2346 - accuracy: 0.9028 - val_loss: 0.2402 - val_accuracy: 0.9049\n",
      "Epoch 38/50\n",
      "1019/1019 [==============================] - 2s 2ms/step - loss: 0.2344 - accuracy: 0.9037 - val_loss: 0.2386 - val_accuracy: 0.9045\n",
      "Epoch 39/50\n",
      "1019/1019 [==============================] - 1s 1ms/step - loss: 0.2309 - accuracy: 0.9056 - val_loss: 0.2397 - val_accuracy: 0.9004\n",
      "Epoch 40/50\n",
      "1019/1019 [==============================] - 1s 1ms/step - loss: 0.2317 - accuracy: 0.9055 - val_loss: 0.2394 - val_accuracy: 0.9011\n",
      "Epoch 41/50\n",
      "1019/1019 [==============================] - 2s 2ms/step - loss: 0.2265 - accuracy: 0.9065 - val_loss: 0.2390 - val_accuracy: 0.9030\n",
      "Epoch 42/50\n",
      "1019/1019 [==============================] - 2s 1ms/step - loss: 0.2330 - accuracy: 0.9045 - val_loss: 0.2352 - val_accuracy: 0.9056\n",
      "Epoch 43/50\n",
      "1019/1019 [==============================] - 2s 2ms/step - loss: 0.2279 - accuracy: 0.9081 - val_loss: 0.2424 - val_accuracy: 0.8990\n",
      "Epoch 44/50\n",
      "1019/1019 [==============================] - 2s 2ms/step - loss: 0.2318 - accuracy: 0.9053 - val_loss: 0.2405 - val_accuracy: 0.9008\n",
      "Epoch 45/50\n",
      "1019/1019 [==============================] - 1s 1ms/step - loss: 0.2267 - accuracy: 0.9078 - val_loss: 0.2407 - val_accuracy: 0.8992\n",
      "Epoch 46/50\n",
      "1019/1019 [==============================] - 2s 2ms/step - loss: 0.2364 - accuracy: 0.9001 - val_loss: 0.2408 - val_accuracy: 0.9052\n",
      "Epoch 47/50\n",
      "1019/1019 [==============================] - 1s 1ms/step - loss: 0.2279 - accuracy: 0.9058 - val_loss: 0.2392 - val_accuracy: 0.9034\n",
      "Epoch 48/50\n",
      "1019/1019 [==============================] - 2s 2ms/step - loss: 0.2262 - accuracy: 0.9076 - val_loss: 0.2380 - val_accuracy: 0.9030\n",
      "Epoch 49/50\n",
      "1019/1019 [==============================] - 1s 1ms/step - loss: 0.2297 - accuracy: 0.9052 - val_loss: 0.2395 - val_accuracy: 0.9028\n",
      "Epoch 50/50\n",
      "1019/1019 [==============================] - 1s 1ms/step - loss: 0.2283 - accuracy: 0.9068 - val_loss: 0.2443 - val_accuracy: 0.9015\n"
     ]
    }
   ],
   "source": [
    "mlp_model.compile(loss='binary_crossentropy', optimizer='Adam', metrics=['accuracy'])\n",
    "x=mlp_model.fit(train, y_train, epochs=50, batch_size=32,validation_split=0.2)"
   ]
  },
  {
   "cell_type": "code",
   "execution_count": 23,
   "metadata": {},
   "outputs": [
    {
     "data": {
      "text/plain": [
       "dict_keys(['loss', 'accuracy', 'val_loss', 'val_accuracy'])"
      ]
     },
     "execution_count": 23,
     "metadata": {},
     "output_type": "execute_result"
    }
   ],
   "source": [
    "x.history.keys()"
   ]
  },
  {
   "cell_type": "code",
   "execution_count": 24,
   "metadata": {},
   "outputs": [
    {
     "data": {
      "image/png": "[encoded data removed]",
      "text/plain": [
       "<Figure size 432x288 with 1 Axes>"
      ]
     },
     "metadata": {
      "needs_background": "light"
     },
     "output_type": "display_data"
    }
   ],
   "source": [
    "import matplotlib.pyplot as plt\n",
    "plt.plot(x.history['accuracy'])\n",
    "plt.plot(x.history['val_accuracy'])\n",
    "plt.title('Accuracy Plot')\n",
    "plt.ylabel('Accuracy')\n",
    "plt.xlabel('Epoch')\n",
    "plt.legend(['Train', 'Validation'])\n",
    "plt.show()"
   ]
  },
  {
   "cell_type": "code",
   "execution_count": 25,
   "metadata": {},
   "outputs": [
    {
     "data": {
      "image/png": "[encoded data removed]",
      "text/plain": [
       "<Figure size 432x288 with 1 Axes>"
      ]
     },
     "metadata": {
      "needs_background": "light"
     },
     "output_type": "display_data"
    }
   ],
   "source": [
    "import matplotlib.pyplot as plt\n",
    "plt.plot(x.history['loss'])\n",
    "plt.plot(x.history['val_loss'])\n",
    "#plt.title('Accuracy Plot')\n",
    "#plt.ylabel('Accuracy')\n",
    "plt.xlabel('Epoch')\n",
    "plt.legend(['Train', 'Validation'])\n",
    "plt.show()"
   ]
  },
  {
   "cell_type": "code",
   "execution_count": 26,
   "metadata": {},
   "outputs": [
    {
     "data": {
      "text/plain": [
       "array([[0.01766703],\n",
       "       [0.01766703],\n",
       "       [0.00297815],\n",
       "       ...,\n",
       "       [0.01113436],\n",
       "       [0.05869928],\n",
       "       [0.00296283]], dtype=float32)"
      ]
     },
     "execution_count": 26,
     "metadata": {},
     "output_type": "execute_result"
    }
   ],
   "source": [
    "mlp_model.predict(test)"
   ]
  },
  {
   "cell_type": "markdown",
   "metadata": {},
   "source": [
    "#### Predictions"
   ]
  },
  {
   "cell_type": "code",
   "execution_count": 27,
   "metadata": {},
   "outputs": [],
   "source": [
    "test_pred=mlp_model.predict(test)>0.5\n",
    "train_pred=mlp_model.predict(train)>0.5"
   ]
  },
  {
   "cell_type": "code",
   "execution_count": 28,
   "metadata": {},
   "outputs": [
    {
     "data": {
      "text/plain": [
       "array([[31635,  1432],\n",
       "       [ 2425,  5238]])"
      ]
     },
     "execution_count": 28,
     "metadata": {},
     "output_type": "execute_result"
    }
   ],
   "source": [
    "confusion_matrix(y_train, train_pred)"
   ]
  },
  {
   "cell_type": "code",
   "execution_count": 29,
   "metadata": {},
   "outputs": [
    {
     "data": {
      "text/plain": [
       "array([[13529,   621],\n",
       "       [ 1034,  2272]])"
      ]
     },
     "execution_count": 29,
     "metadata": {},
     "output_type": "execute_result"
    }
   ],
   "source": [
    "confusion_matrix(y_test, test_pred)"
   ]
  },
  {
   "cell_type": "code",
   "execution_count": 30,
   "metadata": {},
   "outputs": [
    {
     "name": "stdout",
     "output_type": "stream",
     "text": [
      "Train accuracy 0.9053032163024798\n",
      "Test accuracy 0.9051901924839597\n"
     ]
    }
   ],
   "source": [
    "from sklearn.metrics import accuracy_score,recall_score\n",
    "print(\"Train accuracy\",accuracy_score(y_train,train_pred))\n",
    "      \n",
    "print(\"Test accuracy\",accuracy_score(y_test,test_pred))"
   ]
  },
  {
   "cell_type": "code",
   "execution_count": 31,
   "metadata": {},
   "outputs": [
    {
     "name": "stdout",
     "output_type": "stream",
     "text": [
      " Train Recall 0.6835443037974683\n",
      "Test Recall 0.6872353297035693\n"
     ]
    }
   ],
   "source": [
    "print(\" Train Recall\",recall_score(y_train,train_pred))\n",
    "      \n",
    "print(\"Test Recall\",recall_score(y_test,test_pred))"
   ]
  },
  {
   "cell_type": "code",
   "execution_count": 32,
   "metadata": {},
   "outputs": [
    {
     "name": "stdout",
     "output_type": "stream",
     "text": [
      "0    0.811859\n",
      "1    0.188141\n",
      "dtype: float64\n",
      "0    0.81061\n",
      "1    0.18939\n",
      "dtype: float64\n"
     ]
    }
   ],
   "source": [
    "print(pd.value_counts(y_train,normalize=True))\n",
    "print(pd.value_counts(y_test,normalize=True))"
   ]
  },
  {
   "cell_type": "code",
   "execution_count": 33,
   "metadata": {},
   "outputs": [],
   "source": [
    "### Continue with Experimets - MLP"
   ]
  },
  {
   "cell_type": "code",
   "execution_count": 34,
   "metadata": {},
   "outputs": [
    {
     "name": "stdout",
     "output_type": "stream",
     "text": [
      "Model: \"model\"\n",
      "_________________________________________________________________\n",
      "Layer (type)                 Output Shape              Param #   \n",
      "=================================================================\n",
      "input_1 (InputLayer)         [(None, 21)]              0         \n",
      "_________________________________________________________________\n",
      "dense_2 (Dense)              (None, 16)                352       \n",
      "_________________________________________________________________\n",
      "dense_3 (Dense)              (None, 16)                272       \n",
      "_________________________________________________________________\n",
      "dense_4 (Dense)              (None, 1)                 17        \n",
      "=================================================================\n",
      "Total params: 641\n",
      "Trainable params: 641\n",
      "Non-trainable params: 0\n",
      "_________________________________________________________________\n"
     ]
    }
   ],
   "source": [
    "import keras\n",
    "from keras.layers import Input\n",
    "from keras.models import Model\n",
    "\n",
    "ip=Input(shape=(21,))\n",
    "\n",
    "x=Dense(16,activation='relu')(ip)\n",
    "x=Dense(16,activation='relu')(x)\n",
    "output=Dense(1,activation='sigmoid')(x)\n",
    "\n",
    "mlp2=Model(ip,output)\n",
    "mlp2.summary()"
   ]
  },
  {
   "cell_type": "code",
   "execution_count": 35,
   "metadata": {
    "collapsed": true
   },
   "outputs": [
    {
     "name": "stdout",
     "output_type": "stream",
     "text": [
      "Epoch 1/50\n",
      "1019/1019 [==============================] - 2s 2ms/step - loss: 4.5352 - accuracy: 0.8195 - val_loss: 6.1143 - val_accuracy: 0.8653\n",
      "Epoch 2/50\n",
      "1019/1019 [==============================] - 2s 2ms/step - loss: 1.5280 - accuracy: 0.8664 - val_loss: 1.5429 - val_accuracy: 0.8766\n",
      "Epoch 3/50\n",
      "1019/1019 [==============================] - 2s 2ms/step - loss: 0.5450 - accuracy: 0.8779 - val_loss: 1.7921 - val_accuracy: 0.8727\n",
      "Epoch 4/50\n",
      "1019/1019 [==============================] - 2s 2ms/step - loss: 1.2360 - accuracy: 0.8659 - val_loss: 1.2273 - val_accuracy: 0.8510\n",
      "Epoch 5/50\n",
      "1019/1019 [==============================] - 2s 2ms/step - loss: 0.7776 - accuracy: 0.8625 - val_loss: 1.6836 - val_accuracy: 0.8825\n",
      "Epoch 6/50\n",
      "1019/1019 [==============================] - 2s 2ms/step - loss: 0.9340 - accuracy: 0.8796 - val_loss: 0.8419 - val_accuracy: 0.8799\n",
      "Epoch 7/50\n",
      "1019/1019 [==============================] - 2s 2ms/step - loss: 0.8623 - accuracy: 0.8735 - val_loss: 0.6158 - val_accuracy: 0.8839\n",
      "Epoch 8/50\n",
      "1019/1019 [==============================] - 2s 2ms/step - loss: 0.6785 - accuracy: 0.8807 - val_loss: 0.4296 - val_accuracy: 0.8858\n",
      "Epoch 9/50\n",
      "1019/1019 [==============================] - 2s 2ms/step - loss: 0.4264 - accuracy: 0.8876 - val_loss: 0.5096 - val_accuracy: 0.8926\n",
      "Epoch 10/50\n",
      "1019/1019 [==============================] - 2s 2ms/step - loss: 0.4989 - accuracy: 0.8859 - val_loss: 2.4172 - val_accuracy: 0.8850\n",
      "Epoch 11/50\n",
      "1019/1019 [==============================] - 2s 2ms/step - loss: 0.6522 - accuracy: 0.8880 - val_loss: 0.9770 - val_accuracy: 0.8947\n",
      "Epoch 12/50\n",
      "1019/1019 [==============================] - 2s 2ms/step - loss: 0.8750 - accuracy: 0.8816 - val_loss: 0.4105 - val_accuracy: 0.8879\n",
      "Epoch 13/50\n",
      "1019/1019 [==============================] - 2s 2ms/step - loss: 0.4184 - accuracy: 0.8888 - val_loss: 0.5193 - val_accuracy: 0.8947\n",
      "Epoch 14/50\n",
      "1019/1019 [==============================] - 2s 2ms/step - loss: 0.3171 - accuracy: 0.8925 - val_loss: 0.4960 - val_accuracy: 0.8785\n",
      "Epoch 15/50\n",
      "1019/1019 [==============================] - 2s 2ms/step - loss: 0.3934 - accuracy: 0.8788 - val_loss: 0.9908 - val_accuracy: 0.8772\n",
      "Epoch 16/50\n",
      "1019/1019 [==============================] - 2s 2ms/step - loss: 0.7168 - accuracy: 0.8833 - val_loss: 0.8022 - val_accuracy: 0.8801\n",
      "Epoch 17/50\n",
      "1019/1019 [==============================] - 2s 2ms/step - loss: 0.3656 - accuracy: 0.8899 - val_loss: 0.3003 - val_accuracy: 0.8959\n",
      "Epoch 18/50\n",
      "1019/1019 [==============================] - 2s 2ms/step - loss: 0.3066 - accuracy: 0.8938 - val_loss: 0.2823 - val_accuracy: 0.8858\n",
      "Epoch 19/50\n",
      "1019/1019 [==============================] - 2s 2ms/step - loss: 0.2812 - accuracy: 0.8914 - val_loss: 0.3048 - val_accuracy: 0.8905\n",
      "Epoch 20/50\n",
      "1019/1019 [==============================] - 2s 2ms/step - loss: 0.2737 - accuracy: 0.8960 - val_loss: 0.3395 - val_accuracy: 0.8945\n",
      "Epoch 21/50\n",
      "1019/1019 [==============================] - 2s 2ms/step - loss: 0.2985 - accuracy: 0.8934 - val_loss: 0.3009 - val_accuracy: 0.8979\n",
      "Epoch 22/50\n",
      "1019/1019 [==============================] - 2s 2ms/step - loss: 0.2749 - accuracy: 0.8962 - val_loss: 0.2948 - val_accuracy: 0.8945\n",
      "Epoch 23/50\n",
      "1019/1019 [==============================] - 2s 2ms/step - loss: 0.2906 - accuracy: 0.8966 - val_loss: 0.3259 - val_accuracy: 0.8725\n",
      "Epoch 24/50\n",
      "1019/1019 [==============================] - 2s 2ms/step - loss: 0.2990 - accuracy: 0.8850 - val_loss: 0.2970 - val_accuracy: 0.8939\n",
      "Epoch 25/50\n",
      "1019/1019 [==============================] - 2s 2ms/step - loss: 0.2853 - accuracy: 0.8925 - val_loss: 0.2809 - val_accuracy: 0.8952\n",
      "Epoch 26/50\n",
      "1019/1019 [==============================] - 2s 2ms/step - loss: 0.2764 - accuracy: 0.8926 - val_loss: 0.2992 - val_accuracy: 0.8900\n",
      "Epoch 27/50\n",
      "1019/1019 [==============================] - 1s 1ms/step - loss: 0.2708 - accuracy: 0.8944 - val_loss: 0.2689 - val_accuracy: 0.8971\n",
      "Epoch 28/50\n",
      "1019/1019 [==============================] - 2s 2ms/step - loss: 0.2650 - accuracy: 0.8971 - val_loss: 0.2775 - val_accuracy: 0.8937\n",
      "Epoch 29/50\n",
      "1019/1019 [==============================] - 2s 2ms/step - loss: 0.2592 - accuracy: 0.8980 - val_loss: 0.2767 - val_accuracy: 0.9000\n",
      "Epoch 30/50\n",
      "1019/1019 [==============================] - 2s 2ms/step - loss: 0.2806 - accuracy: 0.9008 - val_loss: 0.2980 - val_accuracy: 0.8894\n",
      "Epoch 31/50\n",
      "1019/1019 [==============================] - 2s 2ms/step - loss: 0.2777 - accuracy: 0.8935 - val_loss: 0.2674 - val_accuracy: 0.9007\n",
      "Epoch 32/50\n",
      "1019/1019 [==============================] - 2s 2ms/step - loss: 0.2771 - accuracy: 0.9000 - val_loss: 0.2729 - val_accuracy: 0.8955\n",
      "Epoch 33/50\n",
      "1019/1019 [==============================] - 2s 2ms/step - loss: 0.2601 - accuracy: 0.8988 - val_loss: 0.2788 - val_accuracy: 0.8996\n",
      "Epoch 34/50\n",
      "1019/1019 [==============================] - 2s 2ms/step - loss: 0.2581 - accuracy: 0.9003 - val_loss: 0.2872 - val_accuracy: 0.8944\n",
      "Epoch 35/50\n",
      "1019/1019 [==============================] - 2s 2ms/step - loss: 0.2615 - accuracy: 0.8975 - val_loss: 0.3033 - val_accuracy: 0.9012\n",
      "Epoch 36/50\n",
      "1019/1019 [==============================] - 2s 2ms/step - loss: 0.3319 - accuracy: 0.8933 - val_loss: 0.3306 - val_accuracy: 0.8876\n",
      "Epoch 37/50\n",
      "1019/1019 [==============================] - 1s 1ms/step - loss: 0.4236 - accuracy: 0.8842 - val_loss: 0.2938 - val_accuracy: 0.8937\n",
      "Epoch 38/50\n",
      "1019/1019 [==============================] - 1s 1ms/step - loss: 0.3973 - accuracy: 0.8933 - val_loss: 0.6703 - val_accuracy: 0.8766\n",
      "Epoch 39/50\n",
      "1019/1019 [==============================] - 2s 2ms/step - loss: 0.4750 - accuracy: 0.8819 - val_loss: 0.2878 - val_accuracy: 0.8885\n",
      "Epoch 40/50\n",
      "1019/1019 [==============================] - 1s 1ms/step - loss: 0.2617 - accuracy: 0.8941 - val_loss: 0.2862 - val_accuracy: 0.8986\n",
      "Epoch 41/50\n",
      "1019/1019 [==============================] - 2s 2ms/step - loss: 0.2531 - accuracy: 0.9007 - val_loss: 0.3000 - val_accuracy: 0.8847\n",
      "Epoch 42/50\n",
      "1019/1019 [==============================] - 2s 2ms/step - loss: 0.2850 - accuracy: 0.8939 - val_loss: 0.2643 - val_accuracy: 0.8981\n",
      "Epoch 43/50\n",
      "1019/1019 [==============================] - 2s 2ms/step - loss: 0.2525 - accuracy: 0.8999 - val_loss: 0.2662 - val_accuracy: 0.8974\n",
      "Epoch 44/50\n",
      "1019/1019 [==============================] - 2s 2ms/step - loss: 0.2432 - accuracy: 0.9048 - val_loss: 0.2604 - val_accuracy: 0.8984\n",
      "Epoch 45/50\n",
      "1019/1019 [==============================] - 2s 2ms/step - loss: 0.2567 - accuracy: 0.8979 - val_loss: 0.2620 - val_accuracy: 0.8979\n",
      "Epoch 46/50\n",
      "1019/1019 [==============================] - 2s 2ms/step - loss: 0.2537 - accuracy: 0.9008 - val_loss: 0.2658 - val_accuracy: 0.8947\n",
      "Epoch 47/50\n",
      "1019/1019 [==============================] - 2s 2ms/step - loss: 0.2519 - accuracy: 0.9014 - val_loss: 0.2728 - val_accuracy: 0.8936\n",
      "Epoch 48/50\n",
      "1019/1019 [==============================] - 2s 2ms/step - loss: 0.2699 - accuracy: 0.8940 - val_loss: 0.2691 - val_accuracy: 0.8964\n",
      "Epoch 49/50\n",
      "1019/1019 [==============================] - 2s 2ms/step - loss: 0.2583 - accuracy: 0.8985 - val_loss: 0.2584 - val_accuracy: 0.8980\n",
      "Epoch 50/50\n",
      "1019/1019 [==============================] - 2s 2ms/step - loss: 0.2447 - accuracy: 0.8986 - val_loss: 0.3605 - val_accuracy: 0.8986\n"
     ]
    }
   ],
   "source": [
    "mlp2.compile(loss='binary_crossentropy', optimizer='Adam', metrics='accuracy') #[keras.metrics.Recall()]\n",
    "x=mlp2.fit(train, y_train, epochs=50, batch_size=32,validation_split=0.2)\n"
   ]
  },
  {
   "cell_type": "code",
   "execution_count": 36,
   "metadata": {},
   "outputs": [
    {
     "data": {
      "image/png": "[encoded data removed]",
      "text/plain": [
       "<Figure size 432x288 with 1 Axes>"
      ]
     },
     "metadata": {
      "needs_background": "light"
     },
     "output_type": "display_data"
    }
   ],
   "source": [
    "import matplotlib.pyplot as plt\n",
    "plt.plot(x.history['accuracy'])\n",
    "plt.plot(x.history['val_accuracy'])\n",
    "plt.title('Accuracy Plot')\n",
    "plt.ylabel('Accuracy')\n",
    "plt.xlabel('Epoch')\n",
    "plt.legend(['Train', 'Validation'])\n",
    "plt.show()"
   ]
  },
  {
   "cell_type": "code",
   "execution_count": 37,
   "metadata": {},
   "outputs": [
    {
     "name": "stdout",
     "output_type": "stream",
     "text": [
      "Mlp with 2 layers and Ada\n",
      "Train accuracy 0.9018413945494721\n",
      "Test accuracy 0.9027841429880843\n",
      " Train Recall 0.7460524598721128\n",
      "Test Recall 0.7525710828796128\n"
     ]
    }
   ],
   "source": [
    "test_pred=mlp2.predict(test)>0.5\n",
    "train_pred=mlp2.predict(train)>0.5\n",
    "print(\"Mlp with 2 layers and Ada\")\n",
    "print(\"Train accuracy\",accuracy_score(y_train,train_pred))\n",
    "print(\"Test accuracy\",accuracy_score(y_test,test_pred))\n",
    "\n",
    "print(\" Train Recall\",recall_score(y_train,train_pred))      \n",
    "print(\"Test Recall\",recall_score(y_test,test_pred))"
   ]
  },
  {
   "cell_type": "markdown",
   "metadata": {},
   "source": [
    "#### With another activation 'swish'\n",
    "* ref: https://www.tensorflow.org/api_docs/python/tf/keras/activations/swish"
   ]
  },
  {
   "cell_type": "code",
   "execution_count": 38,
   "metadata": {},
   "outputs": [
    {
     "name": "stdout",
     "output_type": "stream",
     "text": [
      "Model: \"model_1\"\n",
      "_________________________________________________________________\n",
      "Layer (type)                 Output Shape              Param #   \n",
      "=================================================================\n",
      "input_2 (InputLayer)         [(None, 21)]              0         \n",
      "_________________________________________________________________\n",
      "dense_5 (Dense)              (None, 8)                 176       \n",
      "_________________________________________________________________\n",
      "dense_6 (Dense)              (None, 8)                 72        \n",
      "_________________________________________________________________\n",
      "dense_7 (Dense)              (None, 1)                 9         \n",
      "=================================================================\n",
      "Total params: 257\n",
      "Trainable params: 257\n",
      "Non-trainable params: 0\n",
      "_________________________________________________________________\n"
     ]
    }
   ],
   "source": [
    "import keras\n",
    "from keras.layers import Input\n",
    "from keras.models import Model\n",
    "\n",
    "ip=Input(shape=(21,))\n",
    "\n",
    "x=Dense(8,activation='swish')(ip)\n",
    "x=Dense(8,activation='swish')(x)\n",
    "output=Dense(1,activation='sigmoid')(x)\n",
    "\n",
    "mlp3=Model(ip,output)\n",
    "mlp3.summary()"
   ]
  },
  {
   "cell_type": "code",
   "execution_count": 39,
   "metadata": {
    "collapsed": true
   },
   "outputs": [
    {
     "name": "stdout",
     "output_type": "stream",
     "text": [
      "Epoch 1/50\n",
      "1019/1019 [==============================] - 2s 2ms/step - loss: 4.1337 - accuracy: 0.8103 - val_loss: 13.8829 - val_accuracy: 0.8583\n",
      "Epoch 2/50\n",
      "1019/1019 [==============================] - 1s 1ms/step - loss: 3.4830 - accuracy: 0.8671 - val_loss: 3.5080 - val_accuracy: 0.8581\n",
      "Epoch 3/50\n",
      "1019/1019 [==============================] - 2s 2ms/step - loss: 1.9443 - accuracy: 0.8671 - val_loss: 9.7757 - val_accuracy: 0.8597\n",
      "Epoch 4/50\n",
      "1019/1019 [==============================] - 2s 2ms/step - loss: 1.4159 - accuracy: 0.8705 - val_loss: 0.9124 - val_accuracy: 0.8700\n",
      "Epoch 5/50\n",
      "1019/1019 [==============================] - 2s 2ms/step - loss: 1.3784 - accuracy: 0.8647 - val_loss: 8.4256 - val_accuracy: 0.8620\n",
      "Epoch 6/50\n",
      "1019/1019 [==============================] - 2s 2ms/step - loss: 0.9241 - accuracy: 0.8656 - val_loss: 2.5648 - val_accuracy: 0.8378\n",
      "Epoch 7/50\n",
      "1019/1019 [==============================] - 2s 2ms/step - loss: 1.6368 - accuracy: 0.8673 - val_loss: 2.6841 - val_accuracy: 0.8659\n",
      "Epoch 8/50\n",
      "1019/1019 [==============================] - 2s 2ms/step - loss: 1.3689 - accuracy: 0.8655 - val_loss: 1.7037 - val_accuracy: 0.8763\n",
      "Epoch 9/50\n",
      "1019/1019 [==============================] - 2s 2ms/step - loss: 1.8954 - accuracy: 0.8603 - val_loss: 1.1907 - val_accuracy: 0.8644\n",
      "Epoch 10/50\n",
      "1019/1019 [==============================] - 1s 1ms/step - loss: 1.6372 - accuracy: 0.8560 - val_loss: 0.8081 - val_accuracy: 0.8740\n",
      "Epoch 11/50\n",
      "1019/1019 [==============================] - 2s 1ms/step - loss: 0.6956 - accuracy: 0.8741 - val_loss: 0.5491 - val_accuracy: 0.8616\n",
      "Epoch 12/50\n",
      "1019/1019 [==============================] - 2s 2ms/step - loss: 0.6962 - accuracy: 0.8673 - val_loss: 0.5533 - val_accuracy: 0.8776\n",
      "Epoch 13/50\n",
      "1019/1019 [==============================] - 2s 2ms/step - loss: 0.5379 - accuracy: 0.8756 - val_loss: 1.9053 - val_accuracy: 0.8410\n",
      "Epoch 14/50\n",
      "1019/1019 [==============================] - 1s 1ms/step - loss: 1.8839 - accuracy: 0.8582 - val_loss: 1.6187 - val_accuracy: 0.8825\n",
      "Epoch 15/50\n",
      "1019/1019 [==============================] - 1s 1ms/step - loss: 1.5093 - accuracy: 0.8612 - val_loss: 0.5025 - val_accuracy: 0.8828\n",
      "Epoch 16/50\n",
      "1019/1019 [==============================] - 1s 1ms/step - loss: 0.6683 - accuracy: 0.8780 - val_loss: 0.5082 - val_accuracy: 0.8645\n",
      "Epoch 17/50\n",
      "1019/1019 [==============================] - 2s 1ms/step - loss: 0.6621 - accuracy: 0.8679 - val_loss: 0.4010 - val_accuracy: 0.8739\n",
      "Epoch 18/50\n",
      "1019/1019 [==============================] - 2s 2ms/step - loss: 1.3154 - accuracy: 0.8639 - val_loss: 0.8829 - val_accuracy: 0.8839: 0s\n",
      "Epoch 19/50\n",
      "1019/1019 [==============================] - 1s 1ms/step - loss: 0.6142 - accuracy: 0.8771 - val_loss: 2.0898 - val_accuracy: 0.8512\n",
      "Epoch 20/50\n",
      "1019/1019 [==============================] - 2s 2ms/step - loss: 1.0550 - accuracy: 0.8687 - val_loss: 0.3872 - val_accuracy: 0.8758\n",
      "Epoch 21/50\n",
      "1019/1019 [==============================] - 2s 2ms/step - loss: 0.5783 - accuracy: 0.8754 - val_loss: 0.6598 - val_accuracy: 0.8804\n",
      "Epoch 22/50\n",
      "1019/1019 [==============================] - 2s 2ms/step - loss: 0.8910 - accuracy: 0.8740 - val_loss: 0.5316 - val_accuracy: 0.8734\n",
      "Epoch 23/50\n",
      "1019/1019 [==============================] - 2s 1ms/step - loss: 0.6278 - accuracy: 0.8783 - val_loss: 0.5550 - val_accuracy: 0.8753\n",
      "Epoch 24/50\n",
      "1019/1019 [==============================] - 2s 2ms/step - loss: 0.4919 - accuracy: 0.8767 - val_loss: 0.3691 - val_accuracy: 0.8808\n",
      "Epoch 25/50\n",
      "1019/1019 [==============================] - 2s 1ms/step - loss: 0.3805 - accuracy: 0.8804 - val_loss: 0.3804 - val_accuracy: 0.8740\n",
      "Epoch 26/50\n",
      "1019/1019 [==============================] - 2s 2ms/step - loss: 0.4635 - accuracy: 0.8772 - val_loss: 0.4104 - val_accuracy: 0.8866\n",
      "Epoch 27/50\n",
      "1019/1019 [==============================] - 1s 1ms/step - loss: 0.7121 - accuracy: 0.8716 - val_loss: 1.1283 - val_accuracy: 0.8790\n",
      "Epoch 28/50\n",
      "1019/1019 [==============================] - 1s 1ms/step - loss: 0.5004 - accuracy: 0.8805 - val_loss: 0.4360 - val_accuracy: 0.8808\n",
      "Epoch 29/50\n",
      "1019/1019 [==============================] - 2s 2ms/step - loss: 0.5235 - accuracy: 0.8800 - val_loss: 0.4475 - val_accuracy: 0.8831\n",
      "Epoch 30/50\n",
      "1019/1019 [==============================] - 2s 2ms/step - loss: 0.4032 - accuracy: 0.8838 - val_loss: 0.3846 - val_accuracy: 0.8835\n",
      "Epoch 31/50\n",
      "1019/1019 [==============================] - 2s 2ms/step - loss: 0.4697 - accuracy: 0.8852 - val_loss: 0.4060 - val_accuracy: 0.8764\n",
      "Epoch 32/50\n",
      "1019/1019 [==============================] - 1s 1ms/step - loss: 0.7073 - accuracy: 0.8768 - val_loss: 0.4245 - val_accuracy: 0.8833\n",
      "Epoch 33/50\n",
      "1019/1019 [==============================] - 1s 1ms/step - loss: 0.7451 - accuracy: 0.8800 - val_loss: 0.3565 - val_accuracy: 0.8839\n",
      "Epoch 34/50\n",
      "1019/1019 [==============================] - 1s 1ms/step - loss: 0.3983 - accuracy: 0.8809 - val_loss: 1.6853 - val_accuracy: 0.8429\n",
      "Epoch 35/50\n",
      "1019/1019 [==============================] - 2s 1ms/step - loss: 1.3105 - accuracy: 0.8630 - val_loss: 0.4109 - val_accuracy: 0.8790\n",
      "Epoch 36/50\n",
      "1019/1019 [==============================] - 2s 2ms/step - loss: 0.3881 - accuracy: 0.8815 - val_loss: 0.4092 - val_accuracy: 0.8879\n",
      "Epoch 37/50\n",
      "1019/1019 [==============================] - 2s 2ms/step - loss: 0.3946 - accuracy: 0.8857 - val_loss: 0.3370 - val_accuracy: 0.8871\n",
      "Epoch 38/50\n",
      "1019/1019 [==============================] - 2s 2ms/step - loss: 0.4854 - accuracy: 0.8803 - val_loss: 0.8919 - val_accuracy: 0.8851\n",
      "Epoch 39/50\n",
      "1019/1019 [==============================] - 2s 2ms/step - loss: 1.0668 - accuracy: 0.8760 - val_loss: 0.4432 - val_accuracy: 0.8787370 - accuracy - ETA: 0s - loss: 1.0865 - accuracy: 0.\n",
      "Epoch 40/50\n",
      "1019/1019 [==============================] - 2s 2ms/step - loss: 0.4453 - accuracy: 0.8827 - val_loss: 0.3973 - val_accuracy: 0.8872\n",
      "Epoch 41/50\n",
      "1019/1019 [==============================] - 1s 1ms/step - loss: 0.4976 - accuracy: 0.8822 - val_loss: 0.2947 - val_accuracy: 0.8878\n",
      "Epoch 42/50\n",
      "1019/1019 [==============================] - 2s 2ms/step - loss: 0.3430 - accuracy: 0.8888 - val_loss: 1.2795 - val_accuracy: 0.8787\n",
      "Epoch 43/50\n",
      "1019/1019 [==============================] - 2s 2ms/step - loss: 0.3474 - accuracy: 0.8825 - val_loss: 0.7630 - val_accuracy: 0.8820\n",
      "Epoch 44/50\n",
      "1019/1019 [==============================] - 2s 2ms/step - loss: 0.3207 - accuracy: 0.8874 - val_loss: 0.4772 - val_accuracy: 0.8837\n",
      "Epoch 45/50\n",
      "1019/1019 [==============================] - 2s 2ms/step - loss: 0.5303 - accuracy: 0.8772 - val_loss: 0.9474 - val_accuracy: 0.8823\n",
      "Epoch 46/50\n",
      "1019/1019 [==============================] - 1s 1ms/step - loss: 0.3539 - accuracy: 0.8796 - val_loss: 0.3962 - val_accuracy: 0.8464\n",
      "Epoch 47/50\n",
      "1019/1019 [==============================] - 2s 2ms/step - loss: 0.3892 - accuracy: 0.8553 - val_loss: 0.3763 - val_accuracy: 0.8799\n",
      "Epoch 48/50\n",
      "1019/1019 [==============================] - 2s 2ms/step - loss: 0.3926 - accuracy: 0.8720 - val_loss: 0.2825 - val_accuracy: 0.8819\n",
      "Epoch 49/50\n",
      "1019/1019 [==============================] - 1s 1ms/step - loss: 0.3051 - accuracy: 0.8814 - val_loss: 0.3085 - val_accuracy: 0.8898\n",
      "Epoch 50/50\n",
      "1019/1019 [==============================] - 2s 1ms/step - loss: 0.4484 - accuracy: 0.8873 - val_loss: 0.2631 - val_accuracy: 0.8889\n"
     ]
    },
    {
     "data": {
      "text/plain": [
       "<tensorflow.python.keras.callbacks.History at 0x7fc5c92f1290>"
      ]
     },
     "execution_count": 39,
     "metadata": {},
     "output_type": "execute_result"
    }
   ],
   "source": [
    "mlp3.compile(loss='binary_crossentropy', optimizer='Adam', metrics='accuracy') #[keras.metrics.Recall()]\n",
    "history1=mlp3.fit(train, y_train, epochs=50, batch_size=32,validation_split=0.2)\n",
    "history1"
   ]
  },
  {
   "cell_type": "code",
   "execution_count": 40,
   "metadata": {},
   "outputs": [
    {
     "data": {
      "image/png": "[encoded data removed]",
      "text/plain": [
       "<Figure size 432x288 with 1 Axes>"
      ]
     },
     "metadata": {
      "needs_background": "light"
     },
     "output_type": "display_data"
    }
   ],
   "source": [
    "plt.plot(history1.history['accuracy'])\n",
    "plt.plot(history1.history['val_accuracy'])\n",
    "plt.title('Accuracy Plot')\n",
    "plt.ylabel('Accuracy')\n",
    "plt.xlabel('Epoch')\n",
    "plt.legend(['Train', 'Validation'])\n",
    "plt.show()"
   ]
  },
  {
   "cell_type": "code",
   "execution_count": 41,
   "metadata": {
    "scrolled": true
   },
   "outputs": [
    {
     "name": "stdout",
     "output_type": "stream",
     "text": [
      "Train accuracy 0.8894917751043457\n",
      "Test accuracy 0.8897800183318056\n",
      " Train Recall 0.6759754665274696\n",
      "Test Recall 0.690260133091349\n"
     ]
    }
   ],
   "source": [
    "test_pred=mlp3.predict(test)>0.5\n",
    "train_pred=mlp3.predict(train)>0.5\n",
    "#print(\"Mlp with 2 layers and swish\")\n",
    "print(\"Train accuracy\",accuracy_score(y_train,train_pred))\n",
    "print(\"Test accuracy\",accuracy_score(y_test,test_pred))\n",
    "\n",
    "print(\" Train Recall\",recall_score(y_train,train_pred))      \n",
    "print(\"Test Recall\",recall_score(y_test,test_pred))"
   ]
  },
  {
   "cell_type": "markdown",
   "metadata": {},
   "source": [
    "### Increase the depth of the model\n",
    "* No of layers-5 layers with 8,8,16,32 neurons respectively \n",
    "* Hidden activation 'relu' and output activation 'sigmoid\n",
    "* optimizer ; Adam,swish"
   ]
  },
  {
   "cell_type": "code",
   "execution_count": 42,
   "metadata": {},
   "outputs": [
    {
     "name": "stdout",
     "output_type": "stream",
     "text": [
      "Model: \"model_2\"\n",
      "_________________________________________________________________\n",
      "Layer (type)                 Output Shape              Param #   \n",
      "=================================================================\n",
      "input_3 (InputLayer)         [(None, 21)]              0         \n",
      "_________________________________________________________________\n",
      "dense_8 (Dense)              (None, 8)                 176       \n",
      "_________________________________________________________________\n",
      "dense_9 (Dense)              (None, 8)                 72        \n",
      "_________________________________________________________________\n",
      "dense_10 (Dense)             (None, 16)                144       \n",
      "_________________________________________________________________\n",
      "dense_11 (Dense)             (None, 32)                544       \n",
      "_________________________________________________________________\n",
      "dense_12 (Dense)             (None, 1)                 33        \n",
      "=================================================================\n",
      "Total params: 969\n",
      "Trainable params: 969\n",
      "Non-trainable params: 0\n",
      "_________________________________________________________________\n"
     ]
    }
   ],
   "source": [
    "\n",
    "ip=Input(shape=(21,))\n",
    "x=Dense(8,activation='relu')(ip)\n",
    "x=Dense(8,activation='relu')(x)\n",
    "x=Dense(16,activation='relu')(x)\n",
    "x=Dense(32,activation='relu')(x)\n",
    "output=Dense(1,activation='sigmoid')(x)\n",
    "\n",
    "mlp4=Model(ip,output)\n",
    "mlp4.summary()"
   ]
  },
  {
   "cell_type": "code",
   "execution_count": 43,
   "metadata": {
    "collapsed": true
   },
   "outputs": [
    {
     "name": "stdout",
     "output_type": "stream",
     "text": [
      "Epoch 1/50\n",
      "1019/1019 [==============================] - 3s 2ms/step - loss: 1.5073 - accuracy: 0.8325 - val_loss: 3.1217 - val_accuracy: 0.8262\n",
      "Epoch 2/50\n",
      "1019/1019 [==============================] - 2s 2ms/step - loss: 1.8439 - accuracy: 0.8469 - val_loss: 0.4994 - val_accuracy: 0.8377\n",
      "Epoch 3/50\n",
      "1019/1019 [==============================] - 2s 2ms/step - loss: 0.6050 - accuracy: 0.8380 - val_loss: 0.7044 - val_accuracy: 0.8722\n",
      "Epoch 4/50\n",
      "1019/1019 [==============================] - 2s 2ms/step - loss: 0.4420 - accuracy: 0.8644 - val_loss: 0.5884 - val_accuracy: 0.8623\n",
      "Epoch 5/50\n",
      "1019/1019 [==============================] - 2s 2ms/step - loss: 0.5817 - accuracy: 0.8714 - val_loss: 0.4507 - val_accuracy: 0.8747\n",
      "Epoch 6/50\n",
      "1019/1019 [==============================] - 2s 2ms/step - loss: 0.3942 - accuracy: 0.8799 - val_loss: 0.4016 - val_accuracy: 0.8840\n",
      "Epoch 7/50\n",
      "1019/1019 [==============================] - 2s 2ms/step - loss: 0.4861 - accuracy: 0.8762 - val_loss: 0.2912 - val_accuracy: 0.8824\n",
      "Epoch 8/50\n",
      "1019/1019 [==============================] - 2s 2ms/step - loss: 0.3528 - accuracy: 0.8823 - val_loss: 0.4098 - val_accuracy: 0.8840\n",
      "Epoch 9/50\n",
      "1019/1019 [==============================] - 2s 2ms/step - loss: 0.3358 - accuracy: 0.8772 - val_loss: 0.4243 - val_accuracy: 0.8812\n",
      "Epoch 10/50\n",
      "1019/1019 [==============================] - 2s 2ms/step - loss: 0.3292 - accuracy: 0.8834 - val_loss: 0.3277 - val_accuracy: 0.8860\n",
      "Epoch 11/50\n",
      "1019/1019 [==============================] - 2s 2ms/step - loss: 0.3677 - accuracy: 0.8822 - val_loss: 0.3760 - val_accuracy: 0.8769\n",
      "Epoch 12/50\n",
      "1019/1019 [==============================] - 2s 2ms/step - loss: 0.3068 - accuracy: 0.8868 - val_loss: 0.2609 - val_accuracy: 0.8918\n",
      "Epoch 13/50\n",
      "1019/1019 [==============================] - 2s 2ms/step - loss: 0.2753 - accuracy: 0.8902 - val_loss: 0.2711 - val_accuracy: 0.8907\n",
      "Epoch 14/50\n",
      "1019/1019 [==============================] - 2s 2ms/step - loss: 0.2618 - accuracy: 0.8911 - val_loss: 0.2663 - val_accuracy: 0.8914\n",
      "Epoch 15/50\n",
      "1019/1019 [==============================] - 2s 2ms/step - loss: 0.2896 - accuracy: 0.8878 - val_loss: 0.2640 - val_accuracy: 0.8891\n",
      "Epoch 16/50\n",
      "1019/1019 [==============================] - 2s 2ms/step - loss: 0.2605 - accuracy: 0.8943 - val_loss: 0.2604 - val_accuracy: 0.8909\n",
      "Epoch 17/50\n",
      "1019/1019 [==============================] - 2s 2ms/step - loss: 0.2641 - accuracy: 0.8954 - val_loss: 0.2534 - val_accuracy: 0.8939\n",
      "Epoch 18/50\n",
      "1019/1019 [==============================] - 2s 2ms/step - loss: 0.2617 - accuracy: 0.8952 - val_loss: 0.2831 - val_accuracy: 0.8664\n",
      "Epoch 19/50\n",
      "1019/1019 [==============================] - 3s 3ms/step - loss: 0.2724 - accuracy: 0.8895 - val_loss: 0.2567 - val_accuracy: 0.8965\n",
      "Epoch 20/50\n",
      "1019/1019 [==============================] - 2s 2ms/step - loss: 0.2484 - accuracy: 0.9016 - val_loss: 0.2495 - val_accuracy: 0.8980\n",
      "Epoch 21/50\n",
      "1019/1019 [==============================] - 2s 2ms/step - loss: 0.2537 - accuracy: 0.8984 - val_loss: 0.2755 - val_accuracy: 0.8767\n",
      "Epoch 22/50\n",
      "1019/1019 [==============================] - 2s 2ms/step - loss: 0.2694 - accuracy: 0.8890 - val_loss: 0.2475 - val_accuracy: 0.8949\n",
      "Epoch 23/50\n",
      "1019/1019 [==============================] - 2s 2ms/step - loss: 0.2509 - accuracy: 0.8963 - val_loss: 0.2947 - val_accuracy: 0.8674\n",
      "Epoch 24/50\n",
      "1019/1019 [==============================] - 2s 2ms/step - loss: 0.2698 - accuracy: 0.8873 - val_loss: 0.2552 - val_accuracy: 0.8873\n",
      "Epoch 25/50\n",
      "1019/1019 [==============================] - 1s 1ms/step - loss: 0.2419 - accuracy: 0.8997 - val_loss: 0.2842 - val_accuracy: 0.8931\n",
      "Epoch 26/50\n",
      "1019/1019 [==============================] - 1s 1ms/step - loss: 0.2471 - accuracy: 0.9000 - val_loss: 0.2463 - val_accuracy: 0.8961\n",
      "Epoch 27/50\n",
      "1019/1019 [==============================] - 2s 2ms/step - loss: 0.2455 - accuracy: 0.8995 - val_loss: 0.4539 - val_accuracy: 0.8995\n",
      "Epoch 28/50\n",
      "1019/1019 [==============================] - 2s 2ms/step - loss: 0.2426 - accuracy: 0.9004 - val_loss: 0.2827 - val_accuracy: 0.8903\n",
      "Epoch 29/50\n",
      "1019/1019 [==============================] - 2s 2ms/step - loss: 0.2582 - accuracy: 0.8983 - val_loss: 0.2442 - val_accuracy: 0.9002\n",
      "Epoch 30/50\n",
      "1019/1019 [==============================] - 2s 2ms/step - loss: 0.2532 - accuracy: 0.8962 - val_loss: 0.2574 - val_accuracy: 0.8953\n",
      "Epoch 31/50\n",
      "1019/1019 [==============================] - 2s 2ms/step - loss: 0.2468 - accuracy: 0.8991 - val_loss: 0.2656 - val_accuracy: 0.8899\n",
      "Epoch 32/50\n",
      "1019/1019 [==============================] - 2s 2ms/step - loss: 0.2505 - accuracy: 0.9009 - val_loss: 0.2457 - val_accuracy: 0.8991\n",
      "Epoch 33/50\n",
      "1019/1019 [==============================] - 2s 2ms/step - loss: 0.2386 - accuracy: 0.9049 - val_loss: 0.2414 - val_accuracy: 0.9004\n",
      "Epoch 34/50\n",
      "1019/1019 [==============================] - 2s 2ms/step - loss: 0.2468 - accuracy: 0.9021 - val_loss: 0.2440 - val_accuracy: 0.8990\n",
      "Epoch 35/50\n",
      "1019/1019 [==============================] - 2s 2ms/step - loss: 0.2540 - accuracy: 0.8980 - val_loss: 0.2479 - val_accuracy: 0.8986\n",
      "Epoch 36/50\n",
      "1019/1019 [==============================] - 2s 2ms/step - loss: 0.2454 - accuracy: 0.8994 - val_loss: 0.2464 - val_accuracy: 0.8987\n",
      "Epoch 37/50\n",
      "1019/1019 [==============================] - 2s 2ms/step - loss: 0.2530 - accuracy: 0.8996 - val_loss: 0.2481 - val_accuracy: 0.8954\n",
      "Epoch 38/50\n",
      "1019/1019 [==============================] - 2s 2ms/step - loss: 0.2336 - accuracy: 0.9019 - val_loss: 0.3280 - val_accuracy: 0.8630\n",
      "Epoch 39/50\n",
      "1019/1019 [==============================] - 2s 2ms/step - loss: 0.2406 - accuracy: 0.9015 - val_loss: 0.2417 - val_accuracy: 0.8971\n",
      "Epoch 40/50\n",
      "1019/1019 [==============================] - 2s 2ms/step - loss: 0.2479 - accuracy: 0.8991 - val_loss: 0.2443 - val_accuracy: 0.8966\n",
      "Epoch 41/50\n",
      "1019/1019 [==============================] - 2s 2ms/step - loss: 0.2396 - accuracy: 0.8989 - val_loss: 0.2418 - val_accuracy: 0.9002\n",
      "Epoch 42/50\n",
      "1019/1019 [==============================] - 2s 2ms/step - loss: 0.2405 - accuracy: 0.8994 - val_loss: 0.2430 - val_accuracy: 0.8960\n",
      "Epoch 43/50\n",
      "1019/1019 [==============================] - 2s 2ms/step - loss: 0.2393 - accuracy: 0.9012 - val_loss: 0.2505 - val_accuracy: 0.8890\n",
      "Epoch 44/50\n",
      "1019/1019 [==============================] - 2s 2ms/step - loss: 0.2377 - accuracy: 0.8991 - val_loss: 0.2559 - val_accuracy: 0.8979\n",
      "Epoch 45/50\n",
      "1019/1019 [==============================] - 2s 2ms/step - loss: 0.2440 - accuracy: 0.9001 - val_loss: 0.2545 - val_accuracy: 0.8912\n",
      "Epoch 46/50\n",
      "1019/1019 [==============================] - 2s 2ms/step - loss: 0.2424 - accuracy: 0.8995 - val_loss: 0.2514 - val_accuracy: 0.8939\n",
      "Epoch 47/50\n",
      "1019/1019 [==============================] - 2s 2ms/step - loss: 0.2451 - accuracy: 0.8982 - val_loss: 0.2507 - val_accuracy: 0.8971\n",
      "Epoch 48/50\n",
      "1019/1019 [==============================] - 2s 2ms/step - loss: 0.2410 - accuracy: 0.8983 - val_loss: 0.2442 - val_accuracy: 0.8960\n",
      "Epoch 49/50\n",
      "1019/1019 [==============================] - 2s 2ms/step - loss: 0.2358 - accuracy: 0.9023 - val_loss: 0.2407 - val_accuracy: 0.8976\n",
      "Epoch 50/50\n",
      "1019/1019 [==============================] - 2s 2ms/step - loss: 0.2311 - accuracy: 0.9036 - val_loss: 0.2466 - val_accuracy: 0.8970\n"
     ]
    }
   ],
   "source": [
    "mlp4.compile(loss='binary_crossentropy', optimizer='Adam', metrics='accuracy') #[keras.metrics.Recall()]\n",
    "history1=mlp4.fit(train, y_train, epochs=50, batch_size=32,validation_split=0.2)\n"
   ]
  },
  {
   "cell_type": "code",
   "execution_count": 44,
   "metadata": {},
   "outputs": [
    {
     "data": {
      "image/png": "[encoded data removed]",
      "text/plain": [
       "<Figure size 432x288 with 1 Axes>"
      ]
     },
     "metadata": {
      "needs_background": "light"
     },
     "output_type": "display_data"
    }
   ],
   "source": [
    "plt.plot(history1.history['accuracy'])\n",
    "plt.plot(history1.history['val_accuracy'])\n",
    "plt.title('Accuracy Plot')\n",
    "plt.ylabel('Accuracy')\n",
    "plt.xlabel('Epoch')\n",
    "plt.legend(['Train', 'Validation'])\n",
    "plt.show()"
   ]
  },
  {
   "cell_type": "code",
   "execution_count": 45,
   "metadata": {},
   "outputs": [
    {
     "name": "stdout",
     "output_type": "stream",
     "text": [
      "Train accuracy 0.9019641541861037\n",
      "Test accuracy 0.9013519706691109\n",
      " Train Recall 0.7940754273783114\n",
      "Test Recall 0.7894736842105263\n"
     ]
    }
   ],
   "source": [
    "test_pred=mlp4.predict(test)>0.5\n",
    "train_pred=mlp4.predict(train)>0.5\n",
    "\n",
    "print(\"Train accuracy\",accuracy_score(y_train,train_pred))\n",
    "print(\"Test accuracy\",accuracy_score(y_test,test_pred))\n",
    "\n",
    "print(\" Train Recall\",recall_score(y_train,train_pred))      \n",
    "print(\"Test Recall\",recall_score(y_test,test_pred))"
   ]
  },
  {
   "cell_type": "code",
   "execution_count": 46,
   "metadata": {},
   "outputs": [
    {
     "name": "stdout",
     "output_type": "stream",
     "text": [
      "Epoch 1/50\n",
      "1019/1019 [==============================] - 3s 2ms/step - loss: 9.2750 - accuracy: 0.6924 - val_loss: 0.7510 - val_accuracy: 0.8187\n",
      "Epoch 2/50\n",
      "1019/1019 [==============================] - 2s 2ms/step - loss: 0.9464 - accuracy: 0.8287 - val_loss: 0.4948 - val_accuracy: 0.8448\n",
      "Epoch 3/50\n",
      "1019/1019 [==============================] - 2s 2ms/step - loss: 0.4381 - accuracy: 0.8588 - val_loss: 0.7100 - val_accuracy: 0.8429\n",
      "Epoch 4/50\n",
      "1019/1019 [==============================] - 2s 2ms/step - loss: 0.5415 - accuracy: 0.8328 - val_loss: 0.5980 - val_accuracy: 0.8386\n",
      "Epoch 5/50\n",
      "1019/1019 [==============================] - 2s 2ms/step - loss: 0.3880 - accuracy: 0.8585 - val_loss: 0.3444 - val_accuracy: 0.8671\n",
      "Epoch 6/50\n",
      "1019/1019 [==============================] - 2s 2ms/step - loss: 0.4258 - accuracy: 0.8647 - val_loss: 0.4285 - val_accuracy: 0.8629\n",
      "Epoch 7/50\n",
      "1019/1019 [==============================] - 2s 2ms/step - loss: 0.3415 - accuracy: 0.8729 - val_loss: 0.3368 - val_accuracy: 0.8678\n",
      "Epoch 8/50\n",
      "1019/1019 [==============================] - 2s 2ms/step - loss: 0.3103 - accuracy: 0.8809 - val_loss: 0.3426 - val_accuracy: 0.8812\n",
      "Epoch 9/50\n",
      "1019/1019 [==============================] - 2s 2ms/step - loss: 0.3215 - accuracy: 0.8758 - val_loss: 0.4092 - val_accuracy: 0.8529\n",
      "Epoch 10/50\n",
      "1019/1019 [==============================] - 2s 2ms/step - loss: 0.3282 - accuracy: 0.8774 - val_loss: 0.2883 - val_accuracy: 0.8887\n",
      "Epoch 11/50\n",
      "1019/1019 [==============================] - 2s 1ms/step - loss: 0.3420 - accuracy: 0.8855 - val_loss: 0.3820 - val_accuracy: 0.8740\n",
      "Epoch 12/50\n",
      "1019/1019 [==============================] - 2s 2ms/step - loss: 0.3565 - accuracy: 0.8830 - val_loss: 0.2692 - val_accuracy: 0.8915\n",
      "Epoch 13/50\n",
      "1019/1019 [==============================] - 2s 2ms/step - loss: 0.2838 - accuracy: 0.8812 - val_loss: 0.3598 - val_accuracy: 0.8646\n",
      "Epoch 14/50\n",
      "1019/1019 [==============================] - 2s 2ms/step - loss: 0.3215 - accuracy: 0.8768 - val_loss: 0.2988 - val_accuracy: 0.8820\n",
      "Epoch 15/50\n",
      "1019/1019 [==============================] - 2s 2ms/step - loss: 0.2869 - accuracy: 0.8881 - val_loss: 0.3305 - val_accuracy: 0.8900\n",
      "Epoch 16/50\n",
      "1019/1019 [==============================] - 2s 2ms/step - loss: 0.2739 - accuracy: 0.8925 - val_loss: 0.3163 - val_accuracy: 0.8938\n",
      "Epoch 17/50\n",
      "1019/1019 [==============================] - 1s 1ms/step - loss: 0.2866 - accuracy: 0.8820 - val_loss: 0.2703 - val_accuracy: 0.8939\n",
      "Epoch 18/50\n",
      "1019/1019 [==============================] - 2s 2ms/step - loss: 0.2724 - accuracy: 0.8883 - val_loss: 0.2675 - val_accuracy: 0.8947\n",
      "Epoch 19/50\n",
      "1019/1019 [==============================] - 2s 2ms/step - loss: 0.2918 - accuracy: 0.8916 - val_loss: 0.3525 - val_accuracy: 0.8798\n",
      "Epoch 20/50\n",
      "1019/1019 [==============================] - 1s 1ms/step - loss: 0.3073 - accuracy: 0.8863 - val_loss: 0.2978 - val_accuracy: 0.8948\n",
      "Epoch 21/50\n",
      "1019/1019 [==============================] - 2s 2ms/step - loss: 0.2684 - accuracy: 0.8954 - val_loss: 0.2611 - val_accuracy: 0.8894\n",
      "Epoch 22/50\n",
      "1019/1019 [==============================] - 2s 2ms/step - loss: 0.2503 - accuracy: 0.8990 - val_loss: 0.2572 - val_accuracy: 0.8955\n",
      "Epoch 23/50\n",
      "1019/1019 [==============================] - 2s 2ms/step - loss: 0.2521 - accuracy: 0.8981 - val_loss: 0.2562 - val_accuracy: 0.8933\n",
      "Epoch 24/50\n",
      "1019/1019 [==============================] - 2s 2ms/step - loss: 0.2561 - accuracy: 0.9000 - val_loss: 0.2705 - val_accuracy: 0.8826\n",
      "Epoch 25/50\n",
      "1019/1019 [==============================] - 2s 2ms/step - loss: 0.2656 - accuracy: 0.8967 - val_loss: 0.2513 - val_accuracy: 0.8963\n",
      "Epoch 26/50\n",
      "1019/1019 [==============================] - 2s 2ms/step - loss: 0.2632 - accuracy: 0.8938 - val_loss: 0.2643 - val_accuracy: 0.8955\n",
      "Epoch 27/50\n",
      "1019/1019 [==============================] - 2s 2ms/step - loss: 0.2597 - accuracy: 0.8962 - val_loss: 0.7057 - val_accuracy: 0.9001\n",
      "Epoch 28/50\n",
      "1019/1019 [==============================] - 1s 1ms/step - loss: 0.2528 - accuracy: 0.8986 - val_loss: 0.2524 - val_accuracy: 0.9006\n",
      "Epoch 29/50\n",
      "1019/1019 [==============================] - 1s 1ms/step - loss: 0.2414 - accuracy: 0.9022 - val_loss: 0.2502 - val_accuracy: 0.8970\n",
      "Epoch 30/50\n",
      "1019/1019 [==============================] - 2s 2ms/step - loss: 0.2432 - accuracy: 0.8998 - val_loss: 0.2515 - val_accuracy: 0.8974\n",
      "Epoch 31/50\n",
      "1019/1019 [==============================] - 2s 2ms/step - loss: 0.2491 - accuracy: 0.8978 - val_loss: 0.3598 - val_accuracy: 0.8942\n",
      "Epoch 32/50\n",
      "1019/1019 [==============================] - 2s 2ms/step - loss: 0.2368 - accuracy: 0.8998 - val_loss: 0.3275 - val_accuracy: 0.9012\n",
      "Epoch 33/50\n",
      "1019/1019 [==============================] - 2s 2ms/step - loss: 0.2388 - accuracy: 0.9015 - val_loss: 0.2446 - val_accuracy: 0.9007\n",
      "Epoch 34/50\n",
      "1019/1019 [==============================] - 2s 2ms/step - loss: 0.2397 - accuracy: 0.9023 - val_loss: 0.2446 - val_accuracy: 0.8993\n",
      "Epoch 35/50\n",
      "1019/1019 [==============================] - 2s 2ms/step - loss: 0.2482 - accuracy: 0.8961 - val_loss: 0.2485 - val_accuracy: 0.9000\n",
      "Epoch 36/50\n",
      "1019/1019 [==============================] - 2s 2ms/step - loss: 0.2471 - accuracy: 0.8995 - val_loss: 0.2435 - val_accuracy: 0.9001\n",
      "Epoch 37/50\n",
      "1019/1019 [==============================] - 2s 2ms/step - loss: 0.2345 - accuracy: 0.9041 - val_loss: 0.2478 - val_accuracy: 0.9014\n",
      "Epoch 38/50\n",
      "1019/1019 [==============================] - 2s 2ms/step - loss: 0.2391 - accuracy: 0.9046 - val_loss: 0.2446 - val_accuracy: 0.9013\n",
      "Epoch 39/50\n",
      "1019/1019 [==============================] - 2s 1ms/step - loss: 0.2427 - accuracy: 0.9019 - val_loss: 0.2423 - val_accuracy: 0.9030\n",
      "Epoch 40/50\n",
      "1019/1019 [==============================] - 2s 2ms/step - loss: 0.2391 - accuracy: 0.9020 - val_loss: 0.2436 - val_accuracy: 0.9000\n",
      "Epoch 41/50\n",
      "1019/1019 [==============================] - 2s 2ms/step - loss: 0.2339 - accuracy: 0.9029 - val_loss: 0.2408 - val_accuracy: 0.9004\n",
      "Epoch 42/50\n",
      "1019/1019 [==============================] - 2s 2ms/step - loss: 0.2338 - accuracy: 0.9042 - val_loss: 0.2432 - val_accuracy: 0.8990\n",
      "Epoch 43/50\n",
      "1019/1019 [==============================] - 2s 2ms/step - loss: 0.2457 - accuracy: 0.9009 - val_loss: 0.2429 - val_accuracy: 0.8993\n",
      "Epoch 44/50\n",
      "1019/1019 [==============================] - 2s 2ms/step - loss: 0.2511 - accuracy: 0.9022 - val_loss: 0.2425 - val_accuracy: 0.9014\n",
      "Epoch 45/50\n",
      "1019/1019 [==============================] - 2s 2ms/step - loss: 0.2341 - accuracy: 0.9030 - val_loss: 0.2421 - val_accuracy: 0.8985\n",
      "Epoch 46/50\n",
      "1019/1019 [==============================] - 2s 2ms/step - loss: 0.2317 - accuracy: 0.9058 - val_loss: 0.2419 - val_accuracy: 0.8997\n",
      "Epoch 47/50\n",
      "1019/1019 [==============================] - 2s 2ms/step - loss: 0.2308 - accuracy: 0.9073 - val_loss: 0.2425 - val_accuracy: 0.9015\n",
      "Epoch 48/50\n",
      "1019/1019 [==============================] - 2s 2ms/step - loss: 0.2476 - accuracy: 0.9017 - val_loss: 0.2442 - val_accuracy: 0.9000\n",
      "Epoch 49/50\n",
      "1019/1019 [==============================] - 2s 2ms/step - loss: 0.2365 - accuracy: 0.9020 - val_loss: 0.5207 - val_accuracy: 0.8991\n",
      "Epoch 50/50\n",
      "1019/1019 [==============================] - 2s 2ms/step - loss: 0.2380 - accuracy: 0.9014 - val_loss: 0.2407 - val_accuracy: 0.9007\n"
     ]
    }
   ],
   "source": [
    "# Change the kernel initializer- Xavier initialization\n",
    "ip=Input(shape=(21,))\n",
    "x=Dense(8,activation='relu',kernel_initializer='glorot_normal')(ip)\n",
    "x=Dense(8,activation='relu')(x)\n",
    "x=Dense(16,activation='relu')(x)\n",
    "x=Dense(32,activation='relu')(x)\n",
    "output=Dense(1,activation='sigmoid')(x)\n",
    "\n",
    "mlp5=Model(ip,output)\n",
    "\n",
    "mlp5.compile(loss='binary_crossentropy', optimizer='Adam', metrics='accuracy') #[keras.metrics.Recall()]\n",
    "history1=mlp5.fit(train, y_train, epochs=50, batch_size=32,validation_split=0.2)\n"
   ]
  },
  {
   "cell_type": "code",
   "execution_count": 47,
   "metadata": {},
   "outputs": [
    {
     "data": {
      "image/png": "[encoded data removed]",
      "text/plain": [
       "<Figure size 432x288 with 1 Axes>"
      ]
     },
     "metadata": {
      "needs_background": "light"
     },
     "output_type": "display_data"
    }
   ],
   "source": [
    "plt.plot(history1.history['accuracy'])\n",
    "plt.plot(history1.history['val_accuracy'])\n",
    "plt.title('Accuracy Plot')\n",
    "plt.ylabel('Accuracy')\n",
    "plt.xlabel('Epoch')\n",
    "plt.legend(['Train', 'Validation'])\n",
    "plt.show()\n"
   ]
  },
  {
   "cell_type": "code",
   "execution_count": 48,
   "metadata": {},
   "outputs": [
    {
     "name": "stdout",
     "output_type": "stream",
     "text": [
      "Train accuracy 0.9037809968082494\n",
      "Test accuracy 0.9035288725939505\n",
      " Train Recall 0.7206055069815999\n",
      "Test Recall 0.7171808832425892\n"
     ]
    }
   ],
   "source": [
    "test_pred=mlp5.predict(test)>0.5\n",
    "train_pred=mlp5.predict(train)>0.5\n",
    "\n",
    "\n",
    "print(\"Train accuracy\",accuracy_score(y_train,train_pred))\n",
    "print(\"Test accuracy\",accuracy_score(y_test,test_pred))\n",
    "\n",
    "print(\" Train Recall\",recall_score(y_train,train_pred))      \n",
    "print(\"Test Recall\",recall_score(y_test,test_pred))"
   ]
  },
  {
   "cell_type": "markdown",
   "metadata": {},
   "source": [
    "#### Try variety of activations in the hidden layers"
   ]
  },
  {
   "cell_type": "code",
   "execution_count": 49,
   "metadata": {},
   "outputs": [
    {
     "name": "stdout",
     "output_type": "stream",
     "text": [
      "Epoch 1/50\n",
      "1019/1019 [==============================] - 3s 2ms/step - loss: 0.3386 - accuracy: 0.8419 - val_loss: 0.2937 - val_accuracy: 0.8608\n",
      "Epoch 2/50\n",
      "1019/1019 [==============================] - 2s 2ms/step - loss: 0.2644 - accuracy: 0.8814 - val_loss: 0.2708 - val_accuracy: 0.8829\n",
      "Epoch 3/50\n",
      "1019/1019 [==============================] - 2s 2ms/step - loss: 0.2532 - accuracy: 0.8910 - val_loss: 0.2537 - val_accuracy: 0.8928\n",
      "Epoch 4/50\n",
      "1019/1019 [==============================] - 2s 2ms/step - loss: 0.2453 - accuracy: 0.8964 - val_loss: 0.2526 - val_accuracy: 0.8955\n",
      "Epoch 5/50\n",
      "1019/1019 [==============================] - 2s 2ms/step - loss: 0.2440 - accuracy: 0.8973 - val_loss: 0.2579 - val_accuracy: 0.8904\n",
      "Epoch 6/50\n",
      "1019/1019 [==============================] - 2s 2ms/step - loss: 0.2384 - accuracy: 0.8979 - val_loss: 0.2463 - val_accuracy: 0.8987\n",
      "Epoch 7/50\n",
      "1019/1019 [==============================] - 2s 2ms/step - loss: 0.2396 - accuracy: 0.8992 - val_loss: 0.2471 - val_accuracy: 0.8990\n",
      "Epoch 8/50\n",
      "1019/1019 [==============================] - 2s 2ms/step - loss: 0.2414 - accuracy: 0.8985 - val_loss: 0.2503 - val_accuracy: 0.8928\n",
      "Epoch 9/50\n",
      "1019/1019 [==============================] - 2s 2ms/step - loss: 0.2448 - accuracy: 0.8929 - val_loss: 0.2478 - val_accuracy: 0.8947\n",
      "Epoch 10/50\n",
      "1019/1019 [==============================] - 2s 2ms/step - loss: 0.2388 - accuracy: 0.8985 - val_loss: 0.2411 - val_accuracy: 0.9018\n",
      "Epoch 11/50\n",
      "1019/1019 [==============================] - 2s 2ms/step - loss: 0.2335 - accuracy: 0.9042 - val_loss: 0.2419 - val_accuracy: 0.9013\n",
      "Epoch 12/50\n",
      "1019/1019 [==============================] - 2s 2ms/step - loss: 0.2341 - accuracy: 0.9033 - val_loss: 0.2440 - val_accuracy: 0.8991\n",
      "Epoch 13/50\n",
      "1019/1019 [==============================] - 2s 2ms/step - loss: 0.2318 - accuracy: 0.9048 - val_loss: 0.2407 - val_accuracy: 0.8975\n",
      "Epoch 14/50\n",
      "1019/1019 [==============================] - 2s 2ms/step - loss: 0.2328 - accuracy: 0.9034 - val_loss: 0.2420 - val_accuracy: 0.8984\n",
      "Epoch 15/50\n",
      "1019/1019 [==============================] - 2s 2ms/step - loss: 0.2357 - accuracy: 0.9006 - val_loss: 0.2397 - val_accuracy: 0.9013\n",
      "Epoch 16/50\n",
      "1019/1019 [==============================] - 2s 2ms/step - loss: 0.2287 - accuracy: 0.9046 - val_loss: 0.2431 - val_accuracy: 0.8985\n",
      "Epoch 17/50\n",
      "1019/1019 [==============================] - 3s 3ms/step - loss: 0.2335 - accuracy: 0.9015 - val_loss: 0.2439 - val_accuracy: 0.8987\n",
      "Epoch 18/50\n",
      "1019/1019 [==============================] - 2s 2ms/step - loss: 0.2346 - accuracy: 0.9037 - val_loss: 0.2415 - val_accuracy: 0.8990\n",
      "Epoch 19/50\n",
      "1019/1019 [==============================] - 2s 2ms/step - loss: 0.2324 - accuracy: 0.9025 - val_loss: 0.2407 - val_accuracy: 0.9024\n",
      "Epoch 20/50\n",
      "1019/1019 [==============================] - 2s 2ms/step - loss: 0.2301 - accuracy: 0.9038 - val_loss: 0.2408 - val_accuracy: 0.8980\n",
      "Epoch 21/50\n",
      "1019/1019 [==============================] - 2s 2ms/step - loss: 0.2340 - accuracy: 0.9007 - val_loss: 0.2408 - val_accuracy: 0.8992\n",
      "Epoch 22/50\n",
      "1019/1019 [==============================] - 2s 2ms/step - loss: 0.2294 - accuracy: 0.9035 - val_loss: 0.2381 - val_accuracy: 0.9003\n",
      "Epoch 23/50\n",
      "1019/1019 [==============================] - 2s 2ms/step - loss: 0.2282 - accuracy: 0.9040 - val_loss: 0.2446 - val_accuracy: 0.8984\n",
      "Epoch 24/50\n",
      "1019/1019 [==============================] - 2s 2ms/step - loss: 0.2317 - accuracy: 0.9035 - val_loss: 0.2397 - val_accuracy: 0.8977\n",
      "Epoch 25/50\n",
      "1019/1019 [==============================] - 2s 2ms/step - loss: 0.2256 - accuracy: 0.9054 - val_loss: 0.2378 - val_accuracy: 0.9012\n",
      "Epoch 26/50\n",
      "1019/1019 [==============================] - 2s 2ms/step - loss: 0.2338 - accuracy: 0.9006 - val_loss: 0.2476 - val_accuracy: 0.8954\n",
      "Epoch 27/50\n",
      "1019/1019 [==============================] - 2s 2ms/step - loss: 0.2208 - accuracy: 0.9059 - val_loss: 0.2395 - val_accuracy: 0.9014\n",
      "Epoch 28/50\n",
      "1019/1019 [==============================] - 2s 2ms/step - loss: 0.2222 - accuracy: 0.9068 - val_loss: 0.2413 - val_accuracy: 0.9017\n",
      "Epoch 29/50\n",
      "1019/1019 [==============================] - 2s 2ms/step - loss: 0.2234 - accuracy: 0.9075 - val_loss: 0.2422 - val_accuracy: 0.8986\n",
      "Epoch 30/50\n",
      "1019/1019 [==============================] - 2s 2ms/step - loss: 0.2237 - accuracy: 0.9060 - val_loss: 0.2439 - val_accuracy: 0.8986\n",
      "Epoch 31/50\n",
      "1019/1019 [==============================] - 2s 2ms/step - loss: 0.2341 - accuracy: 0.9012 - val_loss: 0.2377 - val_accuracy: 0.9017\n",
      "Epoch 32/50\n",
      "1019/1019 [==============================] - 2s 2ms/step - loss: 0.2296 - accuracy: 0.9034 - val_loss: 0.2351 - val_accuracy: 0.9012\n",
      "Epoch 33/50\n",
      "1019/1019 [==============================] - 2s 2ms/step - loss: 0.2268 - accuracy: 0.9062 - val_loss: 0.2414 - val_accuracy: 0.8996\n",
      "Epoch 34/50\n",
      "1019/1019 [==============================] - 2s 2ms/step - loss: 0.2313 - accuracy: 0.9040 - val_loss: 0.2400 - val_accuracy: 0.9000\n",
      "Epoch 35/50\n",
      "1019/1019 [==============================] - 2s 2ms/step - loss: 0.2257 - accuracy: 0.9062 - val_loss: 0.2383 - val_accuracy: 0.8993\n",
      "Epoch 36/50\n",
      "1019/1019 [==============================] - 2s 2ms/step - loss: 0.2280 - accuracy: 0.9032 - val_loss: 0.2391 - val_accuracy: 0.9014\n",
      "Epoch 37/50\n",
      "1019/1019 [==============================] - 2s 2ms/step - loss: 0.2263 - accuracy: 0.9062 - val_loss: 0.2369 - val_accuracy: 0.9006\n",
      "Epoch 38/50\n",
      "1019/1019 [==============================] - 2s 2ms/step - loss: 0.2236 - accuracy: 0.9070 - val_loss: 0.2379 - val_accuracy: 0.9042\n",
      "Epoch 39/50\n",
      "1019/1019 [==============================] - 2s 2ms/step - loss: 0.2284 - accuracy: 0.9049 - val_loss: 0.2393 - val_accuracy: 0.8996\n",
      "Epoch 40/50\n",
      "1019/1019 [==============================] - 2s 2ms/step - loss: 0.2259 - accuracy: 0.9061 - val_loss: 0.2387 - val_accuracy: 0.8995\n",
      "Epoch 41/50\n",
      "1019/1019 [==============================] - 2s 2ms/step - loss: 0.2271 - accuracy: 0.9050 - val_loss: 0.2379 - val_accuracy: 0.9022\n",
      "Epoch 42/50\n",
      "1019/1019 [==============================] - 2s 2ms/step - loss: 0.2295 - accuracy: 0.9054 - val_loss: 0.2482 - val_accuracy: 0.8948\n",
      "Epoch 43/50\n",
      "1019/1019 [==============================] - 2s 2ms/step - loss: 0.2216 - accuracy: 0.9063 - val_loss: 0.2401 - val_accuracy: 0.8998\n",
      "Epoch 44/50\n",
      "1019/1019 [==============================] - 2s 2ms/step - loss: 0.2244 - accuracy: 0.9067 - val_loss: 0.2385 - val_accuracy: 0.9028\n",
      "Epoch 45/50\n",
      "1019/1019 [==============================] - 2s 2ms/step - loss: 0.2233 - accuracy: 0.9049 - val_loss: 0.2397 - val_accuracy: 0.9014\n",
      "Epoch 46/50\n",
      "1019/1019 [==============================] - 2s 2ms/step - loss: 0.2242 - accuracy: 0.9077 - val_loss: 0.2406 - val_accuracy: 0.9013\n",
      "Epoch 47/50\n",
      "1019/1019 [==============================] - 2s 2ms/step - loss: 0.2219 - accuracy: 0.9083 - val_loss: 0.2397 - val_accuracy: 0.8987\n",
      "Epoch 48/50\n",
      "1019/1019 [==============================] - 2s 2ms/step - loss: 0.2257 - accuracy: 0.9081 - val_loss: 0.2396 - val_accuracy: 0.8984\n",
      "Epoch 49/50\n",
      "1019/1019 [==============================] - 2s 2ms/step - loss: 0.2255 - accuracy: 0.9054 - val_loss: 0.2375 - val_accuracy: 0.8996\n",
      "Epoch 50/50\n",
      "1019/1019 [==============================] - 2s 2ms/step - loss: 0.2240 - accuracy: 0.9080 - val_loss: 0.2375 - val_accuracy: 0.9017\n"
     ]
    }
   ],
   "source": [
    "\n",
    "ip=Input(shape=(21,))\n",
    "x=Dense(16,activation='tanh',kernel_initializer='glorot_normal')(ip)\n",
    "x=Dense(16,activation='tanh')(x)\n",
    "x=Dense(32,activation='relu')(x)\n",
    "x=Dense(32,activation='relu')(x)\n",
    "x=Dense(64,activation='relu')(x)\n",
    "output=Dense(1,activation='sigmoid')(x)\n",
    "\n",
    "mlp7=Model(ip,output)\n",
    "\n",
    "mlp7.compile(loss='binary_crossentropy', optimizer='Adam', metrics='accuracy') #[keras.metrics.Recall()]\n",
    "history1=mlp7.fit(train, y_train, epochs=50, batch_size=32,validation_split=0.2)\n"
   ]
  },
  {
   "cell_type": "code",
   "execution_count": 50,
   "metadata": {},
   "outputs": [
    {
     "data": {
      "image/png": "[encoded data removed]",
      "text/plain": [
       "<Figure size 432x288 with 1 Axes>"
      ]
     },
     "metadata": {
      "needs_background": "light"
     },
     "output_type": "display_data"
    }
   ],
   "source": [
    "plt.plot(history1.history['accuracy'])\n",
    "plt.plot(history1.history['val_accuracy'])\n",
    "plt.title('Accuracy Plot')\n",
    "plt.ylabel('Accuracy')\n",
    "plt.xlabel('Epoch')\n",
    "plt.legend(['Train', 'Validation'])\n",
    "plt.show()"
   ]
  },
  {
   "cell_type": "code",
   "execution_count": 51,
   "metadata": {},
   "outputs": [
    {
     "name": "stdout",
     "output_type": "stream",
     "text": [
      "Train accuracy 0.9079548244537197\n",
      "Test accuracy 0.9055912007332723\n",
      " Train Recall 0.708077776327809\n",
      "Test Recall 0.7032667876588021\n"
     ]
    }
   ],
   "source": [
    "test_pred=mlp7.predict(test)>0.5\n",
    "train_pred=mlp7.predict(train)>0.5\n",
    "\n",
    "\n",
    "print(\"Train accuracy\",accuracy_score(y_train,train_pred))\n",
    "print(\"Test accuracy\",accuracy_score(y_test,test_pred))\n",
    "\n",
    "print(\" Train Recall\",recall_score(y_train,train_pred))      \n",
    "print(\"Test Recall\",recall_score(y_test,test_pred))"
   ]
  },
  {
   "cell_type": "code",
   "execution_count": null,
   "metadata": {},
   "outputs": [],
   "source": []
  },
  {
   "cell_type": "code",
   "execution_count": null,
   "metadata": {},
   "outputs": [],
   "source": []
  },
  {
   "cell_type": "code",
   "execution_count": null,
   "metadata": {},
   "outputs": [],
   "source": []
  },
  {
   "cell_type": "markdown",
   "metadata": {},
   "source": [
    "# How to save model -\n",
    "Save Model Weights and Architecture Together\n",
    "Keras also supports a simpler interface to save both the model weights and model architecture together into a single H5 file.\n",
    "\n",
    "Saving the model in this way includes everything we need to know about the model, including:\n",
    "\n",
    "    * Model weights.\n",
    "    * Model architecture.\n",
    "    * Model compilation details (loss and metrics).\n",
    "    * Model optimizer state.\n",
    "This means that we can load and use the model directly, without having to re-compile."
   ]
  },
  {
   "cell_type": "code",
   "execution_count": 52,
   "metadata": {},
   "outputs": [],
   "source": [
    "mlp2.save(\"./Backorder.h5\")"
   ]
  },
  {
   "cell_type": "markdown",
   "metadata": {},
   "source": [
    "# Load the model\n",
    "* By calling the load_model() function and passing the filename. The function returns the model with the same architecture and weights."
   ]
  },
  {
   "cell_type": "code",
   "execution_count": 53,
   "metadata": {
    "scrolled": true
   },
   "outputs": [
    {
     "name": "stdout",
     "output_type": "stream",
     "text": [
      "Model: \"model\"\n",
      "_________________________________________________________________\n",
      "Layer (type)                 Output Shape              Param #   \n",
      "=================================================================\n",
      "input_1 (InputLayer)         [(None, 21)]              0         \n",
      "_________________________________________________________________\n",
      "dense_2 (Dense)              (None, 16)                352       \n",
      "_________________________________________________________________\n",
      "dense_3 (Dense)              (None, 16)                272       \n",
      "_________________________________________________________________\n",
      "dense_4 (Dense)              (None, 1)                 17        \n",
      "=================================================================\n",
      "Total params: 641\n",
      "Trainable params: 641\n",
      "Non-trainable params: 0\n",
      "_________________________________________________________________\n"
     ]
    }
   ],
   "source": [
    "from keras.models import load_model\n",
    "saved_best_model = load_model('Backorder.h5')\n",
    "# summarize model.\n",
    "saved_best_model.summary() \n"
   ]
  },
  {
   "cell_type": "code",
   "execution_count": 54,
   "metadata": {},
   "outputs": [
    {
     "data": {
      "text/plain": [
       "array([[0.1607539 ],\n",
       "       [0.1607539 ],\n",
       "       [0.0026814 ],\n",
       "       [0.08486387],\n",
       "       [0.81314534]], dtype=float32)"
      ]
     },
     "execution_count": 54,
     "metadata": {},
     "output_type": "execute_result"
    }
   ],
   "source": [
    "saved_best_model.predict(X_test)[0:5]"
   ]
  },
  {
   "cell_type": "markdown",
   "metadata": {},
   "source": [
    "### Can we save the model during training"
   ]
  },
  {
   "cell_type": "markdown",
   "metadata": {},
   "source": [
    "### Yes - use Model Checkpoint from Callbacks api\n",
    "* What if we want to save the best model during training at certain epoch\n",
    "    * save_best_only=True\n",
    "* You can save the model at every epoch \n",
    "    * name of the file in the format 'model.{epoch:02d'}.h5'\n",
    "    * save_freq = 'epoch' default\n",
    "* You can save the best model \n",
    "    * name of the file in the format 'model_name.h5'\n",
    "    * save_best=True\n",
    "* You can save the model at every batch\n",
    "    * save_freq= integer #  the callback saves the model at end of this many batches"
   ]
  },
  {
   "cell_type": "code",
   "execution_count": 55,
   "metadata": {},
   "outputs": [],
   "source": [
    "from keras.callbacks import ModelCheckpoint"
   ]
  },
  {
   "cell_type": "code",
   "execution_count": 56,
   "metadata": {},
   "outputs": [],
   "source": [
    "# Create a SavedModels_Backorders folder in the current directory and continue with loaded model for further training-experimentation\n",
    "temp='./SavedModels_Backorders/'\n",
    "model_checkpoint = ModelCheckpoint(filepath=temp+'back.{epoch:02d}.h5',verbose=1) # 'model.{epoch:02d}-{val_loss:.2f}.h5'\n"
   ]
  },
  {
   "cell_type": "code",
   "execution_count": 57,
   "metadata": {},
   "outputs": [
    {
     "name": "stdout",
     "output_type": "stream",
     "text": [
      "Epoch 1/2\n",
      "1019/1019 [==============================] - 2s 1ms/step - loss: 0.2554 - accuracy: 0.8987 - val_loss: 0.3414 - val_accuracy: 0.8987\n",
      "\n",
      "Epoch 00001: saving model to ./SavedModels_Backorders/back.01.h5\n",
      "Epoch 2/2\n",
      "1019/1019 [==============================] - 1s 1ms/step - loss: 0.2417 - accuracy: 0.9027 - val_loss: 0.2576 - val_accuracy: 0.9000\n",
      "\n",
      "Epoch 00002: saving model to ./SavedModels_Backorders/back.02.h5\n"
     ]
    },
    {
     "data": {
      "text/plain": [
       "<tensorflow.python.keras.callbacks.History at 0x7fc5c82fef10>"
      ]
     },
     "execution_count": 57,
     "metadata": {},
     "output_type": "execute_result"
    }
   ],
   "source": [
    "callback = [model_checkpoint]\n",
    "saved_best_model.fit(train,y_train,callbacks=callback,epochs=2,validation_split=0.2)\n",
    "# Check the temp path you might see two saved models."
   ]
  },
  {
   "cell_type": "markdown",
   "metadata": {},
   "source": [
    "## Can we stop the training when there is no improvement after few epochs\n",
    "### Early Stopping\n",
    "    * patience -Number of epochs with no improvement after which training will be stopped.\n"
   ]
  },
  {
   "cell_type": "code",
   "execution_count": 58,
   "metadata": {},
   "outputs": [],
   "source": [
    "from keras.callbacks import EarlyStopping\n",
    "model_checkpoint = ModelCheckpoint(filepath=temp+'back_best.h5',save_best_only=True,verbose=1) # 'model.{epoch:02d}-{val_loss:.2f}.h5'\n",
    "early_stopping = EarlyStopping(patience=5,verbose=1)#min_delta=0.001"
   ]
  },
  {
   "cell_type": "code",
   "execution_count": 59,
   "metadata": {
    "scrolled": true
   },
   "outputs": [
    {
     "name": "stdout",
     "output_type": "stream",
     "text": [
      "Epoch 1/100\n",
      "1019/1019 [==============================] - 1s 1ms/step - loss: 0.2568 - accuracy: 0.9042 - val_loss: 0.2583 - val_accuracy: 0.8979\n",
      "\n",
      "Epoch 00001: val_loss improved from inf to 0.25829, saving model to ./SavedModels_Backorders/back_best.h5\n",
      "Epoch 2/100\n",
      "1019/1019 [==============================] - 2s 2ms/step - loss: 0.2577 - accuracy: 0.9008 - val_loss: 0.2542 - val_accuracy: 0.8980\n",
      "\n",
      "Epoch 00002: val_loss improved from 0.25829 to 0.25417, saving model to ./SavedModels_Backorders/back_best.h5\n",
      "Epoch 3/100\n",
      "1019/1019 [==============================] - 2s 2ms/step - loss: 0.2420 - accuracy: 0.9042 - val_loss: 0.2945 - val_accuracy: 0.8974\n",
      "\n",
      "Epoch 00003: val_loss did not improve from 0.25417\n",
      "Epoch 4/100\n",
      "1019/1019 [==============================] - 1s 1ms/step - loss: 0.2566 - accuracy: 0.8984 - val_loss: 0.5756 - val_accuracy: 0.8973\n",
      "\n",
      "Epoch 00004: val_loss did not improve from 0.25417\n",
      "Epoch 5/100\n",
      "1019/1019 [==============================] - 1s 1ms/step - loss: 0.2984 - accuracy: 0.9011 - val_loss: 0.2542 - val_accuracy: 0.9031\n",
      "\n",
      "Epoch 00005: val_loss did not improve from 0.25417\n",
      "Epoch 6/100\n",
      "1019/1019 [==============================] - 1s 1ms/step - loss: 0.2421 - accuracy: 0.9042 - val_loss: 0.2855 - val_accuracy: 0.9027\n",
      "\n",
      "Epoch 00006: val_loss did not improve from 0.25417\n",
      "Epoch 7/100\n",
      "1019/1019 [==============================] - 1s 1ms/step - loss: 0.2432 - accuracy: 0.9048 - val_loss: 0.2589 - val_accuracy: 0.8996\n",
      "\n",
      "Epoch 00007: val_loss did not improve from 0.25417\n",
      "Epoch 00007: early stopping\n"
     ]
    }
   ],
   "source": [
    "callback = [model_checkpoint,early_stopping]\n",
    "history1=saved_best_model.fit(train,y_train,callbacks=callback,epochs=100,validation_split=0.2)\n"
   ]
  },
  {
   "cell_type": "code",
   "execution_count": 60,
   "metadata": {},
   "outputs": [
    {
     "data": {
      "text/plain": [
       "dict_keys(['loss', 'accuracy', 'val_loss', 'val_accuracy'])"
      ]
     },
     "execution_count": 60,
     "metadata": {},
     "output_type": "execute_result"
    }
   ],
   "source": [
    "history1.history.keys()"
   ]
  },
  {
   "cell_type": "code",
   "execution_count": 61,
   "metadata": {},
   "outputs": [
    {
     "data": {
      "image/png": "[encoded data removed]",
      "text/plain": [
       "<Figure size 432x288 with 1 Axes>"
      ]
     },
     "metadata": {
      "needs_background": "light"
     },
     "output_type": "display_data"
    }
   ],
   "source": [
    "plt.plot(history1.history['accuracy'])\n",
    "plt.plot(history1.history['val_accuracy'])\n",
    "plt.title('Accuracy Plot')\n",
    "plt.ylabel('Accuracy')\n",
    "plt.xlabel('Epoch')\n",
    "plt.legend(['Train', 'Validation'])\n",
    "\n",
    "plt.show()"
   ]
  },
  {
   "cell_type": "markdown",
   "metadata": {},
   "source": [
    "## Can we Reduce Learning Rate when the metric has stopped improving\n",
    "###  ReduceLROnPlateau \n",
    "    * Reduce learning rate when a metric has stopped improving.\n",
    "    * Models often benefit from reducing the learning rate by a factor of 2-10 once learning stagnates. \n",
    "    * This callback monitors a quantity and if no improvement is seen for 'patience' number of epochs,the learning rate is reduced.\n"
   ]
  },
  {
   "cell_type": "code",
   "execution_count": 62,
   "metadata": {},
   "outputs": [
    {
     "name": "stdout",
     "output_type": "stream",
     "text": [
      "Epoch 1/100\n",
      "1019/1019 [==============================] - 1s 1ms/step - loss: 0.2397 - accuracy: 0.9043 - val_loss: 0.3232 - val_accuracy: 0.8990\n",
      "\n",
      "Epoch 00001: val_loss did not improve from 0.25417\n",
      "Epoch 2/100\n",
      "1019/1019 [==============================] - 2s 2ms/step - loss: 0.2454 - accuracy: 0.9042 - val_loss: 0.2511 - val_accuracy: 0.9024\n",
      "\n",
      "Epoch 00002: val_loss improved from 0.25417 to 0.25107, saving model to ./SavedModels_Backorders/back_best.h5\n",
      "Epoch 3/100\n",
      "1019/1019 [==============================] - 1s 1ms/step - loss: 0.2397 - accuracy: 0.9046 - val_loss: 0.3047 - val_accuracy: 0.9012\n",
      "\n",
      "Epoch 00003: val_loss did not improve from 0.25107\n",
      "Epoch 4/100\n",
      "1019/1019 [==============================] - 2s 2ms/step - loss: 0.2614 - accuracy: 0.9025 - val_loss: 0.2525 - val_accuracy: 0.9012\n",
      "\n",
      "Epoch 00004: val_loss did not improve from 0.25107\n",
      "Epoch 5/100\n",
      "1019/1019 [==============================] - 2s 2ms/step - loss: 0.2504 - accuracy: 0.9038 - val_loss: 0.2562 - val_accuracy: 0.9034\n",
      "\n",
      "Epoch 00005: val_loss did not improve from 0.25107\n",
      "Epoch 6/100\n",
      "1019/1019 [==============================] - 1s 1ms/step - loss: 0.2387 - accuracy: 0.9050 - val_loss: 0.2472 - val_accuracy: 0.9040\n",
      "\n",
      "Epoch 00006: val_loss improved from 0.25107 to 0.24721, saving model to ./SavedModels_Backorders/back_best.h5\n",
      "Epoch 7/100\n",
      "1019/1019 [==============================] - 1s 1ms/step - loss: 0.2391 - accuracy: 0.9048 - val_loss: 0.2431 - val_accuracy: 0.9069\n",
      "\n",
      "Epoch 00007: val_loss improved from 0.24721 to 0.24312, saving model to ./SavedModels_Backorders/back_best.h5\n",
      "Epoch 8/100\n",
      "1019/1019 [==============================] - 2s 2ms/step - loss: 0.2419 - accuracy: 0.9031 - val_loss: 0.2533 - val_accuracy: 0.9029\n",
      "\n",
      "Epoch 00008: val_loss did not improve from 0.24312\n",
      "Epoch 9/100\n",
      "1019/1019 [==============================] - 2s 2ms/step - loss: 0.2674 - accuracy: 0.9019 - val_loss: 0.2857 - val_accuracy: 0.8938\n",
      "\n",
      "Epoch 00009: val_loss did not improve from 0.24312\n",
      "Epoch 10/100\n",
      "1019/1019 [==============================] - 1s 1ms/step - loss: 0.2435 - accuracy: 0.9032 - val_loss: 0.2483 - val_accuracy: 0.9040\n",
      "\n",
      "Epoch 00010: val_loss did not improve from 0.24312\n",
      "Epoch 11/100\n",
      "1019/1019 [==============================] - 1s 1ms/step - loss: 0.2410 - accuracy: 0.9045 - val_loss: 0.2504 - val_accuracy: 0.9038\n",
      "\n",
      "Epoch 00011: val_loss did not improve from 0.24312\n",
      "Epoch 12/100\n",
      "1019/1019 [==============================] - 2s 2ms/step - loss: 0.2383 - accuracy: 0.9038 - val_loss: 0.2508 - val_accuracy: 0.9036\n",
      "\n",
      "Epoch 00012: val_loss did not improve from 0.24312\n",
      "Epoch 00012: early stopping\n"
     ]
    }
   ],
   "source": [
    "from keras.callbacks import ReduceLROnPlateau\n",
    "reduce_lr = ReduceLROnPlateau(monitor='val_loss', factor=0.02, patience=5, min_lr=0.0001)\n",
    "callback = [model_checkpoint,early_stopping,reduce_lr]\n",
    "history1=saved_best_model.fit(train,y_train,callbacks=callback,epochs=100,validation_split=0.2)"
   ]
  },
  {
   "cell_type": "code",
   "execution_count": 63,
   "metadata": {},
   "outputs": [
    {
     "data": {
      "image/png": "[encoded data removed]",
      "text/plain": [
       "<Figure size 432x288 with 1 Axes>"
      ]
     },
     "metadata": {
      "needs_background": "light"
     },
     "output_type": "display_data"
    }
   ],
   "source": [
    "plt.plot(history1.history['accuracy'])\n",
    "plt.plot(history1.history['val_accuracy'])\n",
    "plt.title('Accuracy Plot')\n",
    "plt.ylabel('Accuracy')\n",
    "plt.xlabel('Epoch')\n",
    "plt.legend(['Train', 'Validation'])\n",
    "plt.show()"
   ]
  },
  {
   "cell_type": "code",
   "execution_count": null,
   "metadata": {},
   "outputs": [],
   "source": []
  },
  {
   "cell_type": "markdown",
   "metadata": {},
   "source": [
    "### How to reduce Overfitting\n",
    "     * Drop out\n",
    "     * Batch Normaliztion"
   ]
  },
  {
   "cell_type": "code",
   "execution_count": 64,
   "metadata": {},
   "outputs": [],
   "source": [
    "ip=Input(shape=(21,))\n",
    "x=Dense(64,activation='relu')(ip)\n",
    "\n",
    "x=Dense(64,activation='relu')(x)\n",
    "x=Dense(32,activation='relu')(x)\n",
    "output=Dense(1,activation='sigmoid')(x)\n",
    "\n",
    "mlp_dropout = Model(ip,output)"
   ]
  },
  {
   "cell_type": "code",
   "execution_count": 65,
   "metadata": {},
   "outputs": [
    {
     "name": "stdout",
     "output_type": "stream",
     "text": [
      "Epoch 1/100\n",
      "1019/1019 [==============================] - 3s 2ms/step - loss: 4.4608 - accuracy: 0.8381 - val_loss: 3.2013 - val_accuracy: 0.8723\n",
      "\n",
      "Epoch 00001: saving model to ./Droput_expback_best.h5\n",
      "Epoch 2/100\n",
      "1019/1019 [==============================] - 2s 2ms/step - loss: 3.0445 - accuracy: 0.8688 - val_loss: 0.4551 - val_accuracy: 0.8845\n",
      "\n",
      "Epoch 00002: saving model to ./Droput_expback_best.h5\n",
      "Epoch 3/100\n",
      "1019/1019 [==============================] - 2s 2ms/step - loss: 1.5808 - accuracy: 0.8770 - val_loss: 0.4254 - val_accuracy: 0.8868\n",
      "\n",
      "Epoch 00003: saving model to ./Droput_expback_best.h5\n",
      "Epoch 4/100\n",
      "1019/1019 [==============================] - 2s 2ms/step - loss: 1.2434 - accuracy: 0.8680 - val_loss: 3.1135 - val_accuracy: 0.7963\n",
      "\n",
      "Epoch 00004: saving model to ./Droput_expback_best.h5\n",
      "Epoch 5/100\n",
      "1019/1019 [==============================] - 2s 2ms/step - loss: 1.1611 - accuracy: 0.8707 - val_loss: 0.5008 - val_accuracy: 0.8920\n",
      "\n",
      "Epoch 00005: saving model to ./Droput_expback_best.h5\n",
      "Epoch 6/100\n",
      "1019/1019 [==============================] - 2s 2ms/step - loss: 2.7247 - accuracy: 0.8717 - val_loss: 1.9684 - val_accuracy: 0.8740\n",
      "\n",
      "Epoch 00006: saving model to ./Droput_expback_best.h5\n",
      "Epoch 7/100\n",
      "1019/1019 [==============================] - 2s 2ms/step - loss: 0.6543 - accuracy: 0.8881 - val_loss: 0.7785 - val_accuracy: 0.8796\n",
      "\n",
      "Epoch 00007: saving model to ./Droput_expback_best.h5\n",
      "Epoch 8/100\n",
      "1019/1019 [==============================] - 2s 2ms/step - loss: 0.9783 - accuracy: 0.8862 - val_loss: 0.5622 - val_accuracy: 0.8354\n",
      "\n",
      "Epoch 00008: saving model to ./Droput_expback_best.h5\n",
      "Epoch 00008: early stopping\n"
     ]
    }
   ],
   "source": [
    "temp='./Droput_exp'\n",
    "model_checkpoint = ModelCheckpoint(filepath=temp+'back_best.h5',verbose=1) # 'model.{epoch:02d}-{val_loss:.2f}.h5'\n",
    "early_stopping = EarlyStopping(patience=5,verbose=1)\n",
    "callback = [model_checkpoint,early_stopping]\n",
    "mlp_dropout.compile(optimizer='Adam',loss=keras.losses.binary_crossentropy,metrics='accuracy')\n",
    "history1=mlp_dropout.fit(train,y_train,batch_size=32,callbacks=callback,validation_split=0.2,epochs=100)"
   ]
  },
  {
   "cell_type": "code",
   "execution_count": 66,
   "metadata": {},
   "outputs": [
    {
     "data": {
      "image/png": "[encoded data removed]",
      "text/plain": [
       "<Figure size 432x288 with 1 Axes>"
      ]
     },
     "metadata": {
      "needs_background": "light"
     },
     "output_type": "display_data"
    }
   ],
   "source": [
    "plt.plot(history1.history['accuracy'])\n",
    "plt.plot(history1.history['val_accuracy'])\n",
    "plt.title('Accuracy Plot')\n",
    "plt.ylabel('Accuracy')\n",
    "plt.xlabel('Epoch')\n",
    "plt.legend(['Train', 'Validation'])\n",
    "\n",
    "plt.show()"
   ]
  },
  {
   "cell_type": "code",
   "execution_count": 67,
   "metadata": {},
   "outputs": [],
   "source": [
    "from keras.layers import Dropout\n",
    "ip=Input(shape=(21,))\n",
    "x=Dense(64,activation='relu')(ip)\n",
    "x=Dropout(0.1)(x)\n",
    "x=Dense(64,activation='relu')(x)\n",
    "x=Dropout(0.1)(x)\n",
    "x=Dense(32,activation='relu')(x)\n",
    "output=Dense(1,activation='sigmoid')(x)\n",
    "\n",
    "mlp_dropout = Model(ip,output)"
   ]
  },
  {
   "cell_type": "code",
   "execution_count": 68,
   "metadata": {},
   "outputs": [
    {
     "name": "stdout",
     "output_type": "stream",
     "text": [
      "Epoch 1/100\n",
      "1019/1019 [==============================] - 3s 2ms/step - loss: 5.2306 - accuracy: 0.8241 - val_loss: 5.7998 - val_accuracy: 0.8545\n",
      "\n",
      "Epoch 00001: saving model to ./Droput_expback_best.h5\n",
      "Epoch 2/100\n",
      "1019/1019 [==============================] - 2s 2ms/step - loss: 3.1433 - accuracy: 0.8522 - val_loss: 1.9576 - val_accuracy: 0.8705\n",
      "\n",
      "Epoch 00002: saving model to ./Droput_expback_best.h5\n",
      "Epoch 3/100\n",
      "1019/1019 [==============================] - 2s 2ms/step - loss: 1.5727 - accuracy: 0.8473 - val_loss: 1.6819 - val_accuracy: 0.8810\n",
      "\n",
      "Epoch 00003: saving model to ./Droput_expback_best.h5\n",
      "Epoch 4/100\n",
      "1019/1019 [==============================] - 2s 2ms/step - loss: 1.9597 - accuracy: 0.8625 - val_loss: 1.6964 - val_accuracy: 0.8864\n",
      "\n",
      "Epoch 00004: saving model to ./Droput_expback_best.h5\n",
      "Epoch 5/100\n",
      "1019/1019 [==============================] - 2s 2ms/step - loss: 0.6205 - accuracy: 0.8668 - val_loss: 1.3493 - val_accuracy: 0.8826\n",
      "\n",
      "Epoch 00005: saving model to ./Droput_expback_best.h5\n",
      "Epoch 6/100\n",
      "1019/1019 [==============================] - 2s 2ms/step - loss: 0.9889 - accuracy: 0.8681 - val_loss: 0.6476 - val_accuracy: 0.8863\n",
      "\n",
      "Epoch 00006: saving model to ./Droput_expback_best.h5\n",
      "Epoch 7/100\n",
      "1019/1019 [==============================] - 2s 1ms/step - loss: 0.6366 - accuracy: 0.8730 - val_loss: 0.3250 - val_accuracy: 0.8791\n",
      "\n",
      "Epoch 00007: saving model to ./Droput_expback_best.h5\n",
      "Epoch 8/100\n",
      "1019/1019 [==============================] - 2s 1ms/step - loss: 0.7709 - accuracy: 0.8779 - val_loss: 0.5892 - val_accuracy: 0.8855\n",
      "\n",
      "Epoch 00008: saving model to ./Droput_expback_best.h5\n",
      "Epoch 9/100\n",
      "1019/1019 [==============================] - 1s 1ms/step - loss: 0.3893 - accuracy: 0.8843 - val_loss: 0.5709 - val_accuracy: 0.8826\n",
      "\n",
      "Epoch 00009: saving model to ./Droput_expback_best.h5\n",
      "Epoch 10/100\n",
      "1019/1019 [==============================] - 2s 2ms/step - loss: 0.6934 - accuracy: 0.8779 - val_loss: 0.3325 - val_accuracy: 0.8862\n",
      "\n",
      "Epoch 00010: saving model to ./Droput_expback_best.h5\n",
      "Epoch 11/100\n",
      "1019/1019 [==============================] - 1s 1ms/step - loss: 0.8954 - accuracy: 0.8842 - val_loss: 0.3127 - val_accuracy: 0.8894\n",
      "\n",
      "Epoch 00011: saving model to ./Droput_expback_best.h5\n",
      "Epoch 12/100\n",
      "1019/1019 [==============================] - 1s 1ms/step - loss: 0.3315 - accuracy: 0.8836 - val_loss: 0.3171 - val_accuracy: 0.8891\n",
      "\n",
      "Epoch 00012: saving model to ./Droput_expback_best.h5\n",
      "Epoch 13/100\n",
      "1019/1019 [==============================] - 2s 2ms/step - loss: 0.4976 - accuracy: 0.8838 - val_loss: 0.3176 - val_accuracy: 0.8930\n",
      "\n",
      "Epoch 00013: saving model to ./Droput_expback_best.h5\n",
      "Epoch 14/100\n",
      "1019/1019 [==============================] - 2s 2ms/step - loss: 0.3332 - accuracy: 0.8879 - val_loss: 0.3302 - val_accuracy: 0.8976\n",
      "\n",
      "Epoch 00014: saving model to ./Droput_expback_best.h5\n",
      "Epoch 15/100\n",
      "1019/1019 [==============================] - 2s 2ms/step - loss: 0.3409 - accuracy: 0.8925 - val_loss: 0.2978 - val_accuracy: 0.9000\n",
      "\n",
      "Epoch 00015: saving model to ./Droput_expback_best.h5\n",
      "Epoch 16/100\n",
      "1019/1019 [==============================] - 2s 1ms/step - loss: 0.2808 - accuracy: 0.8969 - val_loss: 0.2623 - val_accuracy: 0.8926\n",
      "\n",
      "Epoch 00016: saving model to ./Droput_expback_best.h5\n",
      "Epoch 17/100\n",
      "1019/1019 [==============================] - 2s 1ms/step - loss: 0.2908 - accuracy: 0.8935 - val_loss: 0.2737 - val_accuracy: 0.8968\n",
      "\n",
      "Epoch 00017: saving model to ./Droput_expback_best.h5\n",
      "Epoch 18/100\n",
      "1019/1019 [==============================] - 1s 1ms/step - loss: 0.2780 - accuracy: 0.8912 - val_loss: 0.2585 - val_accuracy: 0.8904\n",
      "\n",
      "Epoch 00018: saving model to ./Droput_expback_best.h5\n",
      "Epoch 19/100\n",
      "1019/1019 [==============================] - 2s 2ms/step - loss: 0.3164 - accuracy: 0.8868 - val_loss: 0.2583 - val_accuracy: 0.9000\n",
      "\n",
      "Epoch 00019: saving model to ./Droput_expback_best.h5\n",
      "Epoch 20/100\n",
      "1019/1019 [==============================] - 2s 2ms/step - loss: 0.2568 - accuracy: 0.8931 - val_loss: 0.2549 - val_accuracy: 0.8949\n",
      "\n",
      "Epoch 00020: saving model to ./Droput_expback_best.h5\n",
      "Epoch 21/100\n",
      "1019/1019 [==============================] - 2s 2ms/step - loss: 0.2729 - accuracy: 0.8952 - val_loss: 0.2530 - val_accuracy: 0.9014\n",
      "\n",
      "Epoch 00021: saving model to ./Droput_expback_best.h5\n",
      "Epoch 22/100\n",
      "1019/1019 [==============================] - 2s 2ms/step - loss: 0.2791 - accuracy: 0.8952 - val_loss: 0.2513 - val_accuracy: 0.9023\n",
      "\n",
      "Epoch 00022: saving model to ./Droput_expback_best.h5\n",
      "Epoch 23/100\n",
      "1019/1019 [==============================] - 2s 2ms/step - loss: 0.2654 - accuracy: 0.8960 - val_loss: 0.2803 - val_accuracy: 0.8852\n",
      "\n",
      "Epoch 00023: saving model to ./Droput_expback_best.h5\n",
      "Epoch 24/100\n",
      "1019/1019 [==============================] - 2s 2ms/step - loss: 0.2543 - accuracy: 0.8940 - val_loss: 0.2536 - val_accuracy: 0.8862\n",
      "\n",
      "Epoch 00024: saving model to ./Droput_expback_best.h5\n",
      "Epoch 25/100\n",
      "1019/1019 [==============================] - 2s 2ms/step - loss: 0.2475 - accuracy: 0.8924 - val_loss: 0.2483 - val_accuracy: 0.8907\n",
      "\n",
      "Epoch 00025: saving model to ./Droput_expback_best.h5\n",
      "Epoch 26/100\n",
      "1019/1019 [==============================] - 2s 2ms/step - loss: 0.2548 - accuracy: 0.8912 - val_loss: 0.2541 - val_accuracy: 0.8872\n",
      "\n",
      "Epoch 00026: saving model to ./Droput_expback_best.h5\n",
      "Epoch 27/100\n",
      "1019/1019 [==============================] - 2s 2ms/step - loss: 0.2474 - accuracy: 0.8932 - val_loss: 0.2760 - val_accuracy: 0.8885\n",
      "\n",
      "Epoch 00027: saving model to ./Droput_expback_best.h5\n",
      "Epoch 28/100\n",
      "1019/1019 [==============================] - 2s 2ms/step - loss: 0.2978 - accuracy: 0.8943 - val_loss: 0.2485 - val_accuracy: 0.8926\n",
      "\n",
      "Epoch 00028: saving model to ./Droput_expback_best.h5\n",
      "Epoch 29/100\n",
      "1019/1019 [==============================] - 2s 2ms/step - loss: 0.2817 - accuracy: 0.8906 - val_loss: 0.2737 - val_accuracy: 0.8895\n",
      "\n",
      "Epoch 00029: saving model to ./Droput_expback_best.h5\n",
      "Epoch 30/100\n",
      "1019/1019 [==============================] - 2s 2ms/step - loss: 0.2558 - accuracy: 0.8950 - val_loss: 0.2559 - val_accuracy: 0.8930\n",
      "\n",
      "Epoch 00030: saving model to ./Droput_expback_best.h5\n",
      "Epoch 00030: early stopping\n"
     ]
    }
   ],
   "source": [
    "temp='./Droput_exp'\n",
    "model_checkpoint = ModelCheckpoint(filepath=temp+'back_best.h5',verbose=1) # 'model.{epoch:02d}-{val_loss:.2f}.h5'\n",
    "early_stopping = EarlyStopping(patience=5,verbose=1)\n",
    "callback = [model_checkpoint,early_stopping]\n",
    "mlp_dropout.compile(optimizer='Adam',loss=keras.losses.binary_crossentropy,metrics='accuracy')\n",
    "history1=mlp_dropout.fit(train,y_train,batch_size=32,callbacks=callback,validation_split=0.2,epochs=100)"
   ]
  },
  {
   "cell_type": "code",
   "execution_count": 69,
   "metadata": {},
   "outputs": [
    {
     "data": {
      "image/png": "[encoded data removed]",
      "text/plain": [
       "<Figure size 432x288 with 1 Axes>"
      ]
     },
     "metadata": {
      "needs_background": "light"
     },
     "output_type": "display_data"
    }
   ],
   "source": [
    "plt.plot(history1.history['accuracy'])\n",
    "plt.plot(history1.history['val_accuracy'])\n",
    "plt.title('Accuracy Plot')\n",
    "plt.ylabel('Accuracy')\n",
    "plt.xlabel('Epoch')\n",
    "plt.legend(['Train', 'Validation'])\n",
    "\n",
    "plt.show()"
   ]
  },
  {
   "cell_type": "code",
   "execution_count": 70,
   "metadata": {},
   "outputs": [],
   "source": [
    "from keras.layers import Dropout,BatchNormalization,Activation\n",
    "ip=Input(shape=(21,))\n",
    "x=Dense(64)(ip)\n",
    "x=BatchNormalization()(x)\n",
    "x=Activation(activation='relu')(x)\n",
    "#x=Dropout(0.1)(x)\n",
    "x=Dense(64)(x)\n",
    "x=BatchNormalization()(x)\n",
    "x=Activation(activation='relu')(x)\n",
    "#x=Dropout(0.1)(x)\n",
    "x=Dense(32,activation='relu')(x)\n",
    "output=Dense(1,activation='sigmoid')(x)\n",
    "\n",
    "mlp_dropout_bn = Model(ip,output)"
   ]
  },
  {
   "cell_type": "code",
   "execution_count": 71,
   "metadata": {},
   "outputs": [
    {
     "name": "stdout",
     "output_type": "stream",
     "text": [
      "Epoch 1/100\n",
      "1019/1019 [==============================] - 4s 3ms/step - loss: 0.4197 - accuracy: 0.8156 - val_loss: 0.6254 - val_accuracy: 0.8117\n",
      "\n",
      "Epoch 00001: saving model to ./Droput_exp_bnback_best.h5\n",
      "Epoch 2/100\n",
      "1019/1019 [==============================] - 2s 2ms/step - loss: 0.3479 - accuracy: 0.8515 - val_loss: 0.6854 - val_accuracy: 0.8118\n",
      "\n",
      "Epoch 00002: saving model to ./Droput_exp_bnback_best.h5\n",
      "Epoch 3/100\n",
      "1019/1019 [==============================] - 2s 2ms/step - loss: 0.3380 - accuracy: 0.8529 - val_loss: 0.7945 - val_accuracy: 0.8111\n",
      "\n",
      "Epoch 00003: saving model to ./Droput_exp_bnback_best.h5\n",
      "Epoch 4/100\n",
      "1019/1019 [==============================] - 3s 3ms/step - loss: 0.3398 - accuracy: 0.8519 - val_loss: 0.9822 - val_accuracy: 0.8117\n",
      "\n",
      "Epoch 00004: saving model to ./Droput_exp_bnback_best.h5\n",
      "Epoch 5/100\n",
      "1019/1019 [==============================] - 2s 2ms/step - loss: 0.3227 - accuracy: 0.8592 - val_loss: 0.8301 - val_accuracy: 0.8112\n",
      "\n",
      "Epoch 00005: saving model to ./Droput_exp_bnback_best.h5\n",
      "Epoch 6/100\n",
      "1019/1019 [==============================] - 2s 2ms/step - loss: 0.3199 - accuracy: 0.8614 - val_loss: 0.7931 - val_accuracy: 0.8116\n",
      "\n",
      "Epoch 00006: saving model to ./Droput_exp_bnback_best.h5\n",
      "Epoch 00006: early stopping\n"
     ]
    }
   ],
   "source": [
    "temp='./Droput_exp_bn'\n",
    "model_checkpoint = ModelCheckpoint(filepath=temp+'back_best.h5',verbose=1) # 'model.{epoch:02d}-{val_loss:.2f}.h5'\n",
    "early_stopping = EarlyStopping(patience=5,verbose=1)\n",
    "callback = [model_checkpoint,early_stopping]\n",
    "mlp_dropout_bn.compile(optimizer='Adam',loss=keras.losses.binary_crossentropy,metrics='accuracy')\n",
    "history1=mlp_dropout_bn.fit(train,y_train,batch_size=32,callbacks=callback,validation_split=0.2,epochs=100)"
   ]
  },
  {
   "cell_type": "code",
   "execution_count": 72,
   "metadata": {},
   "outputs": [
    {
     "data": {
      "image/png": "[encoded data removed]",
      "text/plain": [
       "<Figure size 432x288 with 1 Axes>"
      ]
     },
     "metadata": {
      "needs_background": "light"
     },
     "output_type": "display_data"
    }
   ],
   "source": [
    "plt.plot(history1.history['accuracy'])\n",
    "plt.plot(history1.history['val_accuracy'])\n",
    "plt.title('Accuracy Plot')\n",
    "plt.ylabel('Accuracy')\n",
    "plt.xlabel('Epoch')\n",
    "plt.legend(['Train', 'Validation'])\n",
    "\n",
    "plt.show()"
   ]
  },
  {
   "cell_type": "code",
   "execution_count": 73,
   "metadata": {},
   "outputs": [],
   "source": [
    "from keras.layers import Dropout,BatchNormalization,Activation\n",
    "ip=Input(shape=(21,))\n",
    "x=Dense(64)(ip)\n",
    "x=BatchNormalization()(x)\n",
    "x=Activation(activation='relu')(x)\n",
    "#x=Dropout(0.1)(x)\n",
    "x=Dense(128)(x)\n",
    "x=BatchNormalization()(x)\n",
    "x=Activation(activation='relu')(x)\n",
    "x=Dropout(0.5)(x)\n",
    "x=Dense(64,activation='relu')(x)\n",
    "output=Dense(1,activation='sigmoid')(x)\n",
    "\n",
    "mlp_dropout_bn = Model(ip,output)"
   ]
  },
  {
   "cell_type": "code",
   "execution_count": 74,
   "metadata": {},
   "outputs": [
    {
     "name": "stdout",
     "output_type": "stream",
     "text": [
      "Epoch 1/100\n",
      "1019/1019 [==============================] - 4s 3ms/step - loss: 0.4287 - accuracy: 0.8186 - val_loss: 0.6004 - val_accuracy: 0.8124\n",
      "\n",
      "Epoch 00001: saving model to ./Droput_exp_bnback_best.h5\n",
      "Epoch 2/100\n",
      "1019/1019 [==============================] - 2s 2ms/step - loss: 0.3649 - accuracy: 0.8381 - val_loss: 0.7290 - val_accuracy: 0.8121\n",
      "\n",
      "Epoch 00002: saving model to ./Droput_exp_bnback_best.h5\n",
      "Epoch 3/100\n",
      "1019/1019 [==============================] - 3s 3ms/step - loss: 0.3515 - accuracy: 0.8495 - val_loss: 0.7928 - val_accuracy: 0.8117\n",
      "\n",
      "Epoch 00003: saving model to ./Droput_exp_bnback_best.h5\n",
      "Epoch 4/100\n",
      "1019/1019 [==============================] - 3s 3ms/step - loss: 0.3467 - accuracy: 0.8472 - val_loss: 0.8028 - val_accuracy: 0.8117\n",
      "\n",
      "Epoch 00004: saving model to ./Droput_exp_bnback_best.h5\n",
      "Epoch 5/100\n",
      "1019/1019 [==============================] - 3s 3ms/step - loss: 0.3333 - accuracy: 0.8530 - val_loss: 0.6715 - val_accuracy: 0.8124\n",
      "\n",
      "Epoch 00005: saving model to ./Droput_exp_bnback_best.h5\n",
      "Epoch 6/100\n",
      "1019/1019 [==============================] - 3s 3ms/step - loss: 0.3342 - accuracy: 0.8556 - val_loss: 0.7518 - val_accuracy: 0.8118\n",
      "\n",
      "Epoch 00006: saving model to ./Droput_exp_bnback_best.h5\n",
      "Epoch 00006: early stopping\n"
     ]
    }
   ],
   "source": [
    "temp='./Droput_exp_bn'\n",
    "model_checkpoint = ModelCheckpoint(filepath=temp+'back_best.h5',verbose=1) # 'model.{epoch:02d}-{val_loss:.2f}.h5'\n",
    "early_stopping = EarlyStopping(patience=5,verbose=1)\n",
    "callback = [model_checkpoint,early_stopping]\n",
    "mlp_dropout_bn.compile(optimizer='Adam',loss=keras.losses.binary_crossentropy,metrics='accuracy')\n",
    "history1=mlp_dropout_bn.fit(train,y_train,batch_size=32,callbacks=callback,validation_split=0.2,epochs=100)"
   ]
  },
  {
   "cell_type": "code",
   "execution_count": 75,
   "metadata": {},
   "outputs": [
    {
     "name": "stdout",
     "output_type": "stream",
     "text": [
      "Train accuracy 0.8958261723545299\n",
      "Test accuracy 0.8949931255728689\n",
      " Train Recall 0.6590108312671278\n",
      "Test Recall 0.6581972171808832\n"
     ]
    }
   ],
   "source": [
    "test_pred=mlp_dropout.predict(test)>0.5\n",
    "train_pred=mlp_dropout.predict(train)>0.5\n",
    "\n",
    "\n",
    "print(\"Train accuracy\",accuracy_score(y_train,train_pred))\n",
    "print(\"Test accuracy\",accuracy_score(y_test,test_pred))\n",
    "\n",
    "print(\" Train Recall\",recall_score(y_train,train_pred))      \n",
    "print(\"Test Recall\",recall_score(y_test,test_pred))"
   ]
  },
  {
   "cell_type": "code",
   "execution_count": 76,
   "metadata": {},
   "outputs": [
    {
     "name": "stdout",
     "output_type": "stream",
     "text": [
      "Train accuracy 0.8125951387183894\n",
      "Test accuracy 0.8109532538955087\n",
      " Train Recall 0.0054808821610335375\n",
      "Test Recall 0.003629764065335753\n"
     ]
    }
   ],
   "source": [
    "# Note that the the input data is already standardized,we are Applying BatchNorm on standardized data.\n",
    "# Instead we can proceed to batch norm without standardization. \n",
    "test_pred=mlp_dropout_bn.predict(test)>0.5\n",
    "train_pred=mlp_dropout_bn.predict(train)>0.5\n",
    "\n",
    "\n",
    "print(\"Train accuracy\",accuracy_score(y_train,train_pred))\n",
    "print(\"Test accuracy\",accuracy_score(y_test,test_pred))\n",
    "\n",
    "print(\" Train Recall\",recall_score(y_train,train_pred))      \n",
    "print(\"Test Recall\",recall_score(y_test,test_pred))"
   ]
  },
  {
   "cell_type": "code",
   "execution_count": null,
   "metadata": {},
   "outputs": [],
   "source": []
  }
 ],
 "metadata": {
  "kernelspec": {
   "display_name": "Python 3",
   "language": "python",
   "name": "python3"
  },
  "language_info": {
   "codemirror_mode": {
    "name": "ipython",
    "version": 3
   },
   "file_extension": ".py",
   "mimetype": "text/x-python",
   "name": "python",
   "nbconvert_exporter": "python",
   "pygments_lexer": "ipython3",
   "version": "3.6.5"
  }
 },
 "nbformat": 4,
 "nbformat_minor": 2
}
